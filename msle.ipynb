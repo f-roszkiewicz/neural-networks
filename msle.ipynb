{
  "nbformat": 4,
  "nbformat_minor": 0,
  "metadata": {
    "kernelspec": {
      "name": "python3",
      "display_name": "Python 3"
    },
    "colab": {
      "provenance": []
    }
  },
  "cells": [
    {
      "cell_type": "markdown",
      "source": [
        "<center><img src='https://drive.google.com/uc?id=1_utx_ZGclmCwNttSe40kYA6VHzNocdET' height=\"60\"></center>\n",
        "\n",
        "AI TECH - Akademia Innowacyjnych Zastosowań Technologii Cyfrowych. Program Operacyjny Polska Cyfrowa na lata 2014-2020\n",
        "<hr>\n",
        "\n",
        "<center><img src='https://drive.google.com/uc?id=1BXZ0u3562N_MqCLcekI-Ens77Kk4LpPm'></center>\n",
        "\n",
        "<center>\n",
        "Projekt współfinansowany ze środków Unii Europejskiej w ramach Europejskiego Funduszu Rozwoju Regionalnego\n",
        "Program Operacyjny Polska Cyfrowa na lata 2014-2020,\n",
        "Oś Priorytetowa nr 3 \"Cyfrowe kompetencje społeczeństwa\" Działanie  nr 3.2 \"Innowacyjne rozwiązania na rzecz aktywizacji cyfrowej\"\n",
        "Tytuł projektu:  „Akademia Innowacyjnych Zastosowań Technologii Cyfrowych (AI Tech)”\n",
        "    </center>"
      ],
      "metadata": {
        "id": "op6nRS5M-oXX"
      }
    },
    {
      "cell_type": "markdown",
      "metadata": {
        "id": "VqdiMxZx-EoD"
      },
      "source": [
        "# Linear regression\n",
        "\n",
        "In this exercise you will use linear regression to predict flat prices. Training will be handled via gradient descent and we will:\n",
        "* have multiple features (i.e. variables used to make the prediction),\n",
        "* employ some basic feature engineering,\n",
        "* work with a non-standard loss function.\n",
        "\n",
        "Let's start with getting the data."
      ]
    },
    {
      "cell_type": "code",
      "metadata": {
        "id": "heeKjQ2r-EoH",
        "colab": {
          "base_uri": "https://localhost:8080/"
        },
        "outputId": "b9975226-f56a-46c7-dbca-34bad974f3fb"
      },
      "source": [
        "%matplotlib inline\n",
        "\n",
        "!wget -O mieszkania.csv https://www.dropbox.com/s/zey0gx91pna8irj/mieszkania.csv?dl=1\n",
        "!wget -O mieszkania_test.csv https://www.dropbox.com/s/dbrj6sbxb4ayqjz/mieszkania_test.csv?dl=1"
      ],
      "execution_count": null,
      "outputs": [
        {
          "output_type": "stream",
          "name": "stdout",
          "text": [
            "--2024-11-03 22:33:26--  https://www.dropbox.com/s/zey0gx91pna8irj/mieszkania.csv?dl=1\n",
            "Resolving www.dropbox.com (www.dropbox.com)... 162.125.65.18, 2620:100:6021:18::a27d:4112\n",
            "Connecting to www.dropbox.com (www.dropbox.com)|162.125.65.18|:443... connected.\n",
            "HTTP request sent, awaiting response... 302 Found\n",
            "Location: https://www.dropbox.com/scl/fi/3x5umw93vtxvmp037wczv/mieszkania.csv?rlkey=dmvzaueu361g7s2w6ui6m9ryb&dl=1 [following]\n",
            "--2024-11-03 22:33:27--  https://www.dropbox.com/scl/fi/3x5umw93vtxvmp037wczv/mieszkania.csv?rlkey=dmvzaueu361g7s2w6ui6m9ryb&dl=1\n",
            "Reusing existing connection to www.dropbox.com:443.\n",
            "HTTP request sent, awaiting response... 302 Found\n",
            "Location: https://uc0f03e8841f78a438913441e6f4.dl.dropboxusercontent.com/cd/0/inline/Cdt60tSXEYvwu_Z3rp_QKmdTBS_RLBvSgenKGLXHo5iDRgqc7CkbSWVpRDMPDtlCsNSC4_vnVSCLF1sMUvgQjqHQAbRMNeokIcRl8AnK4CgLprg3WExzBFhBHjpFK_Sn79M/file?dl=1# [following]\n",
            "--2024-11-03 22:33:28--  https://uc0f03e8841f78a438913441e6f4.dl.dropboxusercontent.com/cd/0/inline/Cdt60tSXEYvwu_Z3rp_QKmdTBS_RLBvSgenKGLXHo5iDRgqc7CkbSWVpRDMPDtlCsNSC4_vnVSCLF1sMUvgQjqHQAbRMNeokIcRl8AnK4CgLprg3WExzBFhBHjpFK_Sn79M/file?dl=1\n",
            "Resolving uc0f03e8841f78a438913441e6f4.dl.dropboxusercontent.com (uc0f03e8841f78a438913441e6f4.dl.dropboxusercontent.com)... 162.125.65.15, 2620:100:6021:15::a27d:410f\n",
            "Connecting to uc0f03e8841f78a438913441e6f4.dl.dropboxusercontent.com (uc0f03e8841f78a438913441e6f4.dl.dropboxusercontent.com)|162.125.65.15|:443... connected.\n",
            "HTTP request sent, awaiting response... 200 OK\n",
            "Length: 6211 (6.1K) [application/binary]\n",
            "Saving to: ‘mieszkania.csv’\n",
            "\n",
            "mieszkania.csv      100%[===================>]   6.07K  --.-KB/s    in 0s      \n",
            "\n",
            "2024-11-03 22:33:29 (1.19 GB/s) - ‘mieszkania.csv’ saved [6211/6211]\n",
            "\n",
            "--2024-11-03 22:33:29--  https://www.dropbox.com/s/dbrj6sbxb4ayqjz/mieszkania_test.csv?dl=1\n",
            "Resolving www.dropbox.com (www.dropbox.com)... 162.125.65.18, 2620:100:6021:18::a27d:4112\n",
            "Connecting to www.dropbox.com (www.dropbox.com)|162.125.65.18|:443... connected.\n",
            "HTTP request sent, awaiting response... 302 Found\n",
            "Location: https://www.dropbox.com/scl/fi/s7lkqoxzh65w72xl7gh7g/mieszkania_test.csv?rlkey=xn2h80n4zabryg5zfn4si52gf&dl=1 [following]\n",
            "--2024-11-03 22:33:30--  https://www.dropbox.com/scl/fi/s7lkqoxzh65w72xl7gh7g/mieszkania_test.csv?rlkey=xn2h80n4zabryg5zfn4si52gf&dl=1\n",
            "Reusing existing connection to www.dropbox.com:443.\n",
            "HTTP request sent, awaiting response... 302 Found\n",
            "Location: https://uc308d21c56b1eccd39f86cc1f38.dl.dropboxusercontent.com/cd/0/inline/CdsXySznzZvngBv59JHgnxNEx_qmhIzVpjMRFOaNGda0p4-X7Z3QKwitZ65V94ejaQl_b6XrBrdlCjyJb1O7r8YFYlf2JrrsT5zonP1ht1lrOfTrlX8wcGoDjBWhWHDdDYQ/file?dl=1# [following]\n",
            "--2024-11-03 22:33:30--  https://uc308d21c56b1eccd39f86cc1f38.dl.dropboxusercontent.com/cd/0/inline/CdsXySznzZvngBv59JHgnxNEx_qmhIzVpjMRFOaNGda0p4-X7Z3QKwitZ65V94ejaQl_b6XrBrdlCjyJb1O7r8YFYlf2JrrsT5zonP1ht1lrOfTrlX8wcGoDjBWhWHDdDYQ/file?dl=1\n",
            "Resolving uc308d21c56b1eccd39f86cc1f38.dl.dropboxusercontent.com (uc308d21c56b1eccd39f86cc1f38.dl.dropboxusercontent.com)... 162.125.65.15, 2620:100:6017:15::a27d:20f\n",
            "Connecting to uc308d21c56b1eccd39f86cc1f38.dl.dropboxusercontent.com (uc308d21c56b1eccd39f86cc1f38.dl.dropboxusercontent.com)|162.125.65.15|:443... connected.\n",
            "HTTP request sent, awaiting response... 200 OK\n",
            "Length: 6247 (6.1K) [application/binary]\n",
            "Saving to: ‘mieszkania_test.csv’\n",
            "\n",
            "mieszkania_test.csv 100%[===================>]   6.10K  --.-KB/s    in 0s      \n",
            "\n",
            "2024-11-03 22:33:31 (1.92 GB/s) - ‘mieszkania_test.csv’ saved [6247/6247]\n",
            "\n"
          ]
        }
      ]
    },
    {
      "cell_type": "code",
      "metadata": {
        "id": "yI9wFXv5-EoP",
        "colab": {
          "base_uri": "https://localhost:8080/"
        },
        "outputId": "b4188504-b1a1-4bac-df10-6a056da2c1a9"
      },
      "source": [
        "!head mieszkania.csv mieszkania_test.csv"
      ],
      "execution_count": null,
      "outputs": [
        {
          "output_type": "stream",
          "name": "stdout",
          "text": [
            "==> mieszkania.csv <==\n",
            "m2,dzielnica,ilość_sypialni,ilość_łazienek,rok_budowy,parking_podziemny,cena\n",
            "104,mokotowo,2,2,1940,1,780094\n",
            "43,ochotowo,1,1,1970,1,346912\n",
            "128,grodziskowo,3,2,1916,1,523466\n",
            "112,mokotowo,3,2,1920,1,830965\n",
            "149,mokotowo,3,3,1977,0,1090479\n",
            "80,ochotowo,2,2,1937,0,599060\n",
            "58,ochotowo,2,1,1922,0,463639\n",
            "23,ochotowo,1,1,1929,0,166785\n",
            "40,mokotowo,1,1,1973,0,318849\n",
            "\n",
            "==> mieszkania_test.csv <==\n",
            "m2,dzielnica,ilość_sypialni,ilość_łazienek,rok_budowy,parking_podziemny,cena\n",
            "71,wolowo,2,2,1912,1,322227\n",
            "45,mokotowo,1,1,1938,0,295878\n",
            "38,mokotowo,1,1,1999,1,306530\n",
            "70,ochotowo,2,2,1980,1,553641\n",
            "136,mokotowo,3,2,1939,1,985348\n",
            "128,wolowo,3,2,1983,1,695726\n",
            "23,grodziskowo,1,1,1975,0,99751\n",
            "117,mokotowo,3,2,1942,0,891261\n",
            "65,ochotowo,2,1,2002,1,536499\n"
          ]
        }
      ]
    },
    {
      "cell_type": "markdown",
      "metadata": {
        "id": "iH8Ut02G-EoU"
      },
      "source": [
        "Each row in the data represents a separate property. Our goal is to use the data from `mieszkania.csv` to create a model that can predict a property's price (i.e. `cena`) given its features (i.e. `m2,dzielnica,ilosc_sypialni,ilosc_lazienek,rok_budowy,parking_podziemny`).\n",
        "\n",
        "From now on, we should interfere only with `mieszkania.csv` (dubbed the training dataset) to make our decisions and create the model. The (only) purpose of `mieszkania_test.csv` is to test our model on **unseen** data.\n",
        "\n",
        "Our predictions should minimize the so-called mean squared logarithmic error:\n",
        "$$\n",
        "MSLE = \\frac{1}{n} \\sum_{i=1}^n (\\log(1+y_i) - \\log(1+p_i))^2,\n",
        "$$\n",
        "where $y_i$ is the ground truth, and $p_i$ is our prediction."
      ]
    },
    {
      "cell_type": "markdown",
      "metadata": {
        "id": "y8QX6Ncr-EoW"
      },
      "source": [
        "Let's start with implementing the loss function."
      ]
    },
    {
      "cell_type": "code",
      "metadata": {
        "id": "JAiB8S9A-EoX"
      },
      "source": [
        "import numpy as np\n",
        "\n",
        "def msle(ys, ps):\n",
        "    assert len(ys) == len(ps)\n",
        "\n",
        "    np_ys = np.array(ys)\n",
        "    np_ps = np.array(ps)\n",
        "\n",
        "    return np.mean((np.log(1 + np_ys) - np.log(1 + np_ps))**2)"
      ],
      "execution_count": null,
      "outputs": []
    },
    {
      "cell_type": "markdown",
      "metadata": {
        "id": "zAmd2qLR-Eob"
      },
      "source": [
        "The simplest model is predicting the same constant for each instance. Test your implementation of msle against outputing the mean price."
      ]
    },
    {
      "cell_type": "code",
      "metadata": {
        "id": "b0RT7VW7-Eoc",
        "colab": {
          "base_uri": "https://localhost:8080/"
        },
        "outputId": "ce1af17f-66bc-4955-c270-c60ef0906e27"
      },
      "source": [
        "training_data = np.genfromtxt('mieszkania.csv', dtype=None, delimiter=',', skip_header=1, encoding=None)\n",
        "\n",
        "ys = np.array([elem[6] for elem in training_data])\n",
        "ms = np.array([np.mean(ys) for elem in training_data])\n",
        "\n",
        "print(msle(ys, ms))"
      ],
      "execution_count": null,
      "outputs": [
        {
          "output_type": "stream",
          "name": "stdout",
          "text": [
            "0.3915253538257009\n"
          ]
        }
      ]
    },
    {
      "cell_type": "markdown",
      "metadata": {
        "id": "a0zMmTiv-Eof"
      },
      "source": [
        "Recall that outputing the mean minimzes $MSE$. However, we're now dealing with $MSLE$.\n",
        "\n",
        "Think of a constant that should result in the lowest $MSLE$."
      ]
    },
    {
      "cell_type": "code",
      "metadata": {
        "id": "Q0Z4drNd-Eog",
        "colab": {
          "base_uri": "https://localhost:8080/"
        },
        "outputId": "c3c926e6-918b-461d-cc5d-0b64c19e92b2"
      },
      "source": [
        "c = 0.84942\n",
        "print(msle(ys, c*ms))"
      ],
      "execution_count": null,
      "outputs": [
        {
          "output_type": "stream",
          "name": "stdout",
          "text": [
            "0.36488961222515215\n"
          ]
        }
      ]
    },
    {
      "cell_type": "markdown",
      "metadata": {
        "id": "2RdHlBw8-Eoi"
      },
      "source": [
        "Now, let's implement a standard linear regression model."
      ]
    },
    {
      "cell_type": "code",
      "metadata": {
        "id": "Vn97D3vd-Eoj",
        "colab": {
          "base_uri": "https://localhost:8080/",
          "height": 485
        },
        "outputId": "f23d78a2-57f1-4d92-fd6f-c1a9c0b0d8c8"
      },
      "source": [
        "import matplotlib.pyplot as plt\n",
        "\n",
        "xs = np.stack([[elem[0] for elem in training_data],\n",
        "               [elem[1] == 'grodziskowo' for elem in training_data],\n",
        "               [elem[1] == 'mokotowo' for elem in training_data],\n",
        "               [elem[1] == 'ochotowo' for elem in training_data],\n",
        "               [elem[1] == 'wolowo' for elem in training_data],\n",
        "               [elem[2] for elem in training_data],\n",
        "               [elem[3] for elem in training_data],\n",
        "               [elem[4] for elem in training_data],\n",
        "               [elem[5] for elem in training_data],\n",
        "               [1 for elem in training_data]], axis=1)\n",
        "\n",
        "test_data = np.genfromtxt('mieszkania_test.csv', dtype=None, delimiter=',', skip_header=1, encoding=None)\n",
        "\n",
        "test_ys = np.array([elem[6] for elem in test_data])\n",
        "test_xs = np.stack([[elem[0] for elem in test_data],\n",
        "                    [elem[1] == 'grodziskowo' for elem in test_data],\n",
        "                    [elem[1] == 'mokotowo' for elem in test_data],\n",
        "                    [elem[1] == 'ochotowo' for elem in test_data],\n",
        "                    [elem[1] == 'wolowo' for elem in test_data],\n",
        "                    [elem[2] for elem in test_data],\n",
        "                    [elem[3] for elem in test_data],\n",
        "                    [elem[4] for elem in test_data],\n",
        "                    [elem[5] for elem in test_data],\n",
        "                    [1 for elem in test_data]], axis=1)\n",
        "\n",
        "weights = np.ones(10)\n",
        "lr = 10\n",
        "n_epochs = 1000\n",
        "\n",
        "def predict(ws, xs=xs):\n",
        "    return xs @ ws\n",
        "\n",
        "def gradient(ps, xs=xs, ys=ys):\n",
        "    return ((2 * (np.log(1 + ps) - np.log(1 + ys)) / (1 + ps)) @ xs) / np.size(ps)\n",
        "\n",
        "def evaluate(ws, xs=test_xs, ys=test_ys):\n",
        "    return msle(ys, predict(ws, xs))\n",
        "\n",
        "def linear_regression(ws, lr, epochs, xs=xs, ys=ys):\n",
        "    losses = []\n",
        "\n",
        "    for i in range(epochs):\n",
        "        ws = ws - lr * gradient(predict(ws, xs), xs, ys)\n",
        "        losses.append(evaluate(ws, xs, ys))\n",
        "\n",
        "    return ws, losses\n",
        "\n",
        "trained_weights, losses = linear_regression(weights, lr, n_epochs)\n",
        "print(evaluate(trained_weights))\n",
        "plt.plot(losses)"
      ],
      "execution_count": null,
      "outputs": [
        {
          "output_type": "stream",
          "name": "stdout",
          "text": [
            "0.5431837381095762\n"
          ]
        },
        {
          "output_type": "execute_result",
          "data": {
            "text/plain": [
              "[<matplotlib.lines.Line2D at 0x7c1174c98dc0>]"
            ]
          },
          "metadata": {},
          "execution_count": 9
        },
        {
          "output_type": "display_data",
          "data": {
            "text/plain": [
              "<Figure size 640x480 with 1 Axes>"
            ],
            "image/png": "[encoded data removed]"
          },
          "metadata": {}
        }
      ]
    },
    {
      "cell_type": "markdown",
      "metadata": {
        "id": "nzrrOte5-Eol"
      },
      "source": [
        "Note that the loss function that the algorithms optimizes (i.e $MSE$) differs from $MSLE$. We've already seen that this may result in a suboptimal solution.\n",
        "\n",
        "How can you change the setting so that we optimze $MSLE$ instead?"
      ]
    },
    {
      "cell_type": "markdown",
      "metadata": {
        "id": "qVD8kWEJ-Eom"
      },
      "source": [
        "Hint:\n",
        "<sub><sup><sub><sup><sub><sup>\n",
        "Be lazy. We don't want to change the algorithm.\n",
        "</sup></sub></sup></sub></sup></sub>"
      ]
    },
    {
      "cell_type": "code",
      "metadata": {
        "id": "MniIPMg8-Eom",
        "colab": {
          "base_uri": "https://localhost:8080/",
          "height": 485
        },
        "outputId": "480ad41f-0b1c-4762-adce-ef12c7b9144b"
      },
      "source": [
        "weights = np.random.rand(10)*5000\n",
        "lr = 30000\n",
        "n_epochs = 1000\n",
        "\n",
        "trained_weights, losses = linear_regression(weights, lr, n_epochs)\n",
        "print(evaluate(trained_weights))\n",
        "plt.plot(losses)"
      ],
      "execution_count": null,
      "outputs": [
        {
          "output_type": "stream",
          "name": "stdout",
          "text": [
            "0.09778370867841918\n"
          ]
        },
        {
          "output_type": "execute_result",
          "data": {
            "text/plain": [
              "[<matplotlib.lines.Line2D at 0x7c1174bc4340>]"
            ]
          },
          "metadata": {},
          "execution_count": 13
        },
        {
          "output_type": "display_data",
          "data": {
            "text/plain": [
              "<Figure size 640x480 with 1 Axes>"
            ],
            "image/png": "[encoded data removed]"
          },
          "metadata": {}
        }
      ]
    },
    {
      "cell_type": "markdown",
      "metadata": {
        "id": "OvWrBkLu-Eoo"
      },
      "source": [
        "Without any feature engineering our model approximates the price as a linear combination of original features:\n",
        "$$\n",
        "\\text{price} \\approx w_1 \\cdot \\text{area} + w_2 \\cdot \\text{district} + \\dots.\n",
        "$$\n",
        "Let's now introduce some interactions between the variables. For instance, let's consider a following formula:\n",
        "$$\n",
        "\\text{price} \\approx w_1 \\cdot \\text{area} \\cdot \\text{avg. price in the district per sq. meter} + w_2 \\cdot \\dots + \\dots.\n",
        "$$\n",
        "Here, we model the price with far greater granularity, and we may expect to see more acurate results."
      ]
    },
    {
      "cell_type": "markdown",
      "metadata": {
        "id": "zBM60E7t-Eop"
      },
      "source": [
        "Add some feature engineering to your model. Be sure to play with the data and not with the algorithm's code.\n",
        "\n",
        "Think how to make sure that your model is capable of capturing the $w_1 \\cdot \\text{area} \\cdot \\text{avg. price...}$ part, without actually computing the averages."
      ]
    },
    {
      "cell_type": "markdown",
      "metadata": {
        "id": "XT5DziNC-Eoq"
      },
      "source": [
        "Hint:\n",
        "<sub><sup><sub><sup><sub><sup>\n",
        "Is having a binary encoding for each district and multiplying it by area enough?\n",
        "</sup></sub></sup></sub></sup></sub>"
      ]
    },
    {
      "cell_type": "markdown",
      "metadata": {
        "id": "PKOVCHNz-Eor"
      },
      "source": [
        "Hint 2:\n",
        "<sub><sup><sub><sup><sub><sup>\n",
        "Why not multiply everything together? I.e. (A,B,C) -> (AB,AC,BC).\n",
        "</sup></sub></sup></sub></sup></sub>"
      ]
    },
    {
      "cell_type": "code",
      "metadata": {
        "id": "DPviz09O-Eor"
      },
      "source": [
        "def get_features(dataset):\n",
        "    columns = []\n",
        "\n",
        "    for i in range(9):\n",
        "        for j in range(i, 9):\n",
        "            if i >= 1 and i <= 4 and j >= 1 and j <= 4 and i != j:\n",
        "                continue\n",
        "\n",
        "            if i != j:\n",
        "                columns.append([elem[i] * elem[j] for elem in dataset])\n",
        "\n",
        "    columns.append([1 for elem in dataset])\n",
        "\n",
        "    return np.stack(columns, axis=1)\n",
        "\n",
        "new_xs = get_features(xs)\n",
        "new_test_xs = get_features(test_xs)"
      ],
      "execution_count": null,
      "outputs": []
    },
    {
      "cell_type": "code",
      "metadata": {
        "id": "v2Lj1TPr-Eot",
        "colab": {
          "base_uri": "https://localhost:8080/",
          "height": 606
        },
        "outputId": "21c79a4d-42e4-47f0-dd69-aac874712645"
      },
      "source": [
        "weights = np.ones(31)\n",
        "lr = 10\n",
        "n_epochs = 1000\n",
        "\n",
        "trained_weights, losses = linear_regression(weights, lr, n_epochs, new_xs)\n",
        "print(trained_weights)\n",
        "print(evaluate(trained_weights, new_xs, ys))\n",
        "print(evaluate(trained_weights, new_test_xs))\n",
        "plt.plot(losses)"
      ],
      "execution_count": null,
      "outputs": [
        {
          "output_type": "stream",
          "name": "stdout",
          "text": [
            "[ 0.7736467   1.1361794   1.15746527  0.93287114  0.99639444  0.99455688\n",
            "  2.98983074  1.03023808  0.99424625  0.99512327 -6.02485901  0.99806122\n",
            "  1.00368867  1.00303891  5.297656    1.00118541  1.0041148   1.00348161\n",
            "  5.8841782   1.00135033  0.99872134  0.99909394  0.49569627  1.00022473\n",
            "  1.00070813  2.54785672  1.00125285  2.47569241  1.00090828  2.61068562\n",
            "  1.00083814]\n",
            "0.04278171300157606\n",
            "0.06704612494553472\n"
          ]
        },
        {
          "output_type": "execute_result",
          "data": {
            "text/plain": [
              "[<matplotlib.lines.Line2D at 0x7c113ee55840>]"
            ]
          },
          "metadata": {},
          "execution_count": 91
        },
        {
          "output_type": "display_data",
          "data": {
            "text/plain": [
              "<Figure size 640x480 with 1 Axes>"
            ],
            "image/png": "[encoded data removed]"
          },
          "metadata": {}
        }
      ]
    }
  ]
}