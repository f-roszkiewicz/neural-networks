{
  "cells": [
    {
      "cell_type": "markdown",
      "metadata": {
        "jukit_cell_id": "KE8mdQxOzy",
        "id": "sO5lfhqRGO4v"
      },
      "source": [
        "<center><img src='https://drive.google.com/uc?id=1_utx_ZGclmCwNttSe40kYA6VHzNocdET' height=\"60\"></center>\n",
        "\n",
        "AI TECH - Akademia Innowacyjnych Zastosowań Technologii Cyfrowych. Program Operacyjny Polska Cyfrowa na lata 2014-2020\n",
        "<hr>\n",
        "\n",
        "<center><img src='https://drive.google.com/uc?id=1BXZ0u3562N_MqCLcekI-Ens77Kk4LpPm'></center>\n",
        "\n",
        "<center>\n",
        "Projekt współfinansowany ze środków Unii Europejskiej w ramach Europejskiego Funduszu Rozwoju Regionalnego\n",
        "Program Operacyjny Polska Cyfrowa na lata 2014-2020,\n",
        "Oś Priorytetowa nr 3 \"Cyfrowe kompetencje społeczeństwa\" Działanie  nr 3.2 \"Innowacyjne rozwiązania na rzecz aktywizacji cyfrowej\"\n",
        "Tytuł projektu:  „Akademia Innowacyjnych Zastosowań Technologii Cyfrowych (AI Tech)”\n",
        "    </center>"
      ]
    },
    {
      "cell_type": "markdown",
      "metadata": {
        "jukit_cell_id": "oJh0BINGcc",
        "id": "c6kaMcKEGO4z"
      },
      "source": [
        "# TL;DR\n",
        "\n",
        "1. In this lab scenario you will have a chance to compare performance of the classic RNN and LSTM on a toy example.\n",
        "2. This toy example will show that maintaining memory over even 20 steps is non-trivial.\n",
        "3. Finally, you will see how curriculum learning may allow to train a model on larger sequences.\n",
        "\n",
        "# Problem definition\n",
        "\n",
        "Here we consider a toy example, where the goal is to discriminate between two types of binary sequences:\n",
        "* [Type 0] a sequence with exactly one zero (remaining entries are equal to one).\n",
        "* [Type 1] a sequence full of ones,\n",
        "\n",
        "We are especially interested in the performance of the trained models on discriminating between a sequence full of ones versus a sequence with leading zero followed by ones. Note that in this case the goal of the model is to output the first element of the sequence, as the label (sequence type) is fully determined by the first element of the sequence."
      ]
    },
    {
      "cell_type": "markdown",
      "metadata": {
        "jukit_cell_id": "wtfph2WpCZ",
        "id": "wRP1JGt5GO4z"
      },
      "source": [
        "#Implementation"
      ]
    },
    {
      "cell_type": "markdown",
      "metadata": {
        "jukit_cell_id": "cx7ozEWkZg",
        "id": "oz-GGDcJGO40"
      },
      "source": [
        "## Importing torch\n",
        "\n",
        "Install `torch` and `torchvision`"
      ]
    },
    {
      "cell_type": "code",
      "metadata": {
        "jukit_cell_id": "CQdcvU4fiD",
        "id": "MoGhz5OwGO40",
        "colab": {
          "base_uri": "https://localhost:8080/"
        },
        "outputId": "ee9e0869-a02d-4f1a-cb22-5d64647f2525"
      },
      "source": [
        "!pip3 install torch torchvision"
      ],
      "outputs": [
        {
          "output_type": "stream",
          "name": "stdout",
          "text": [
            "Requirement already satisfied: torch in /usr/local/lib/python3.10/dist-packages (2.5.1+cu121)\n",
            "Requirement already satisfied: torchvision in /usr/local/lib/python3.10/dist-packages (0.20.1+cu121)\n",
            "Requirement already satisfied: filelock in /usr/local/lib/python3.10/dist-packages (from torch) (3.16.1)\n",
            "Requirement already satisfied: typing-extensions>=4.8.0 in /usr/local/lib/python3.10/dist-packages (from torch) (4.12.2)\n",
            "Requirement already satisfied: networkx in /usr/local/lib/python3.10/dist-packages (from torch) (3.4.2)\n",
            "Requirement already satisfied: jinja2 in /usr/local/lib/python3.10/dist-packages (from torch) (3.1.4)\n",
            "Requirement already satisfied: fsspec in /usr/local/lib/python3.10/dist-packages (from torch) (2024.10.0)\n",
            "Requirement already satisfied: sympy==1.13.1 in /usr/local/lib/python3.10/dist-packages (from torch) (1.13.1)\n",
            "Requirement already satisfied: mpmath<1.4,>=1.1.0 in /usr/local/lib/python3.10/dist-packages (from sympy==1.13.1->torch) (1.3.0)\n",
            "Requirement already satisfied: numpy in /usr/local/lib/python3.10/dist-packages (from torchvision) (1.26.4)\n",
            "Requirement already satisfied: pillow!=8.3.*,>=5.3.0 in /usr/local/lib/python3.10/dist-packages (from torchvision) (11.0.0)\n",
            "Requirement already satisfied: MarkupSafe>=2.0 in /usr/local/lib/python3.10/dist-packages (from jinja2->torch) (3.0.2)\n"
          ]
        }
      ],
      "execution_count": null
    },
    {
      "cell_type": "code",
      "metadata": {
        "jukit_cell_id": "qQCiUqSXtp",
        "id": "0Te5hWznGO41",
        "outputId": "b076da6e-7086-4c03-e91a-bbe1d57c47da",
        "colab": {
          "base_uri": "https://localhost:8080/"
        }
      },
      "source": [
        "import torch\n",
        "import torch.nn as nn\n",
        "import torch.optim as optim\n",
        "import torch.nn.functional as F\n",
        "from typing import List\n",
        "from tqdm import tqdm\n",
        "\n",
        "torch.manual_seed(1)"
      ],
      "outputs": [
        {
          "output_type": "execute_result",
          "data": {
            "text/plain": [
              "<torch._C.Generator at 0x7c149c1566f0>"
            ]
          },
          "metadata": {},
          "execution_count": 5
        }
      ],
      "execution_count": null
    },
    {
      "cell_type": "markdown",
      "metadata": {
        "jukit_cell_id": "IhLStTGQkn",
        "id": "imfwF-LtGO42"
      },
      "source": [
        "## Understand dimensionality\n",
        "\n",
        "Check the input and output specification [LSTM](https://pytorch.org/docs/stable/generated/torch.nn.LSTM.html) and [RNN](https://pytorch.org/docs/stable/generated/torch.nn.RNN.html). The following snippet shows how we can process\n",
        "a sequence by LSTM and output a vector of size `hidden_dim` after reading\n",
        "each token of the sequence."
      ]
    },
    {
      "cell_type": "code",
      "metadata": {
        "jukit_cell_id": "bnw9OesZOX",
        "id": "pxQ_pazHGO42",
        "outputId": "d8e931e3-3819-4106-c19a-ee0e7dd01556",
        "colab": {
          "base_uri": "https://localhost:8080/"
        }
      },
      "source": [
        "hidden_dim = 5\n",
        "lstm = nn.LSTM(1, hidden_dim)  # Input sequence contains elements - vectors of size 1\n",
        "\n",
        "# create a random sequence\n",
        "sequence = [torch.randn(1) for _ in range(10)]\n",
        "\n",
        "# initialize the hidden state (including cell state)\n",
        "hidden = (torch.zeros(1, 1, 5),\n",
        "          torch.zeros(1, 1, 5))\n",
        "\n",
        "for i, elem in enumerate(sequence):\n",
        "    # we are processing only a single element of the sequence, and there\n",
        "    # is only one sample (sequence) in the batch, the third one\n",
        "    # corresponds to the fact that our sequence contains elemenents,\n",
        "    # which can be treated as vectors of size 1\n",
        "    out, hidden = lstm(elem.view(1, 1, 1), hidden)\n",
        "    print(f'i={i} out={out.detach()}')\n",
        "print(f'Final hidden state={hidden[0].detach()} cell state={hidden[1].detach()}')"
      ],
      "outputs": [
        {
          "output_type": "stream",
          "name": "stdout",
          "text": [
            "i=0 out=tensor([[[-0.0675,  0.1179,  0.1081,  0.0414, -0.0341]]])\n",
            "i=1 out=tensor([[[-0.1067,  0.1726,  0.1400,  0.0902, -0.0596]]])\n",
            "i=2 out=tensor([[[-0.1148,  0.1885,  0.1956,  0.0974, -0.0840]]])\n",
            "i=3 out=tensor([[[-0.1270,  0.2031,  0.1495,  0.1249, -0.0860]]])\n",
            "i=4 out=tensor([[[-0.1281,  0.2019,  0.1810,  0.1475, -0.1027]]])\n",
            "i=5 out=tensor([[[-0.1274,  0.2060,  0.0798,  0.1330, -0.0860]]])\n",
            "i=6 out=tensor([[[-0.1318,  0.2039,  0.0997,  0.1772, -0.1011]]])\n",
            "i=7 out=tensor([[[-0.1145,  0.2008, -0.0431,  0.1051, -0.0717]]])\n",
            "i=8 out=tensor([[[-0.1289,  0.1989,  0.0515,  0.1944, -0.1030]]])\n",
            "i=9 out=tensor([[[-0.1329,  0.1920,  0.0686,  0.1772, -0.0988]]])\n",
            "Final hidden state=tensor([[[-0.1329,  0.1920,  0.0686,  0.1772, -0.0988]]]) cell state=tensor([[[-0.2590,  0.4080,  0.1307,  0.4329, -0.2895]]])\n"
          ]
        }
      ],
      "execution_count": null
    },
    {
      "cell_type": "markdown",
      "metadata": {
        "jukit_cell_id": "PRbz6shJ8T",
        "id": "64CHNYr1GO43"
      },
      "source": [
        "## To implement\n",
        "\n",
        "Process the whole sequence all at once by calling `lstm` only once and check that the output is exactly the same as above (remember to initialize the hidden state the same way)."
      ]
    },
    {
      "cell_type": "code",
      "metadata": {
        "jukit_cell_id": "TfIHNzHo3z",
        "id": "5dRXv_m6GO43",
        "colab": {
          "base_uri": "https://localhost:8080/"
        },
        "outputId": "28457acb-ab7d-4ae7-d93a-9f6be7693d15"
      },
      "source": [
        "input = torch.cat(sequence)\n",
        "\n",
        "hidden = (torch.zeros(1, 1, 5),\n",
        "          torch.zeros(1, 1, 5))\n",
        "\n",
        "out, hidden = lstm(input.view(-1, 1, 1), hidden)\n",
        "print(out.detach())"
      ],
      "outputs": [
        {
          "output_type": "stream",
          "name": "stdout",
          "text": [
            "tensor([[[-0.0675,  0.1179,  0.1081,  0.0414, -0.0341]],\n",
            "\n",
            "        [[-0.1067,  0.1726,  0.1400,  0.0902, -0.0596]],\n",
            "\n",
            "        [[-0.1148,  0.1885,  0.1956,  0.0974, -0.0840]],\n",
            "\n",
            "        [[-0.1270,  0.2031,  0.1495,  0.1249, -0.0860]],\n",
            "\n",
            "        [[-0.1281,  0.2019,  0.1810,  0.1475, -0.1027]],\n",
            "\n",
            "        [[-0.1274,  0.2060,  0.0798,  0.1330, -0.0860]],\n",
            "\n",
            "        [[-0.1318,  0.2039,  0.0997,  0.1772, -0.1011]],\n",
            "\n",
            "        [[-0.1145,  0.2008, -0.0431,  0.1051, -0.0717]],\n",
            "\n",
            "        [[-0.1289,  0.1989,  0.0515,  0.1944, -0.1030]],\n",
            "\n",
            "        [[-0.1329,  0.1920,  0.0686,  0.1772, -0.0988]]])\n"
          ]
        }
      ],
      "execution_count": null
    },
    {
      "cell_type": "markdown",
      "metadata": {
        "jukit_cell_id": "cRU2lN74fU",
        "id": "jxLGMavAGO43"
      },
      "source": [
        "## Training a model\n",
        "\n",
        "Below we define a very simple model, which is a single layer of LSTM, where the output in each time step is processed by relu followed by a single fully connected layer, the output of which is a single number. We are going\n",
        "to use the number generated after reading the last element of the sequence,\n",
        "which will serve as the logit for our classification problem."
      ]
    },
    {
      "cell_type": "code",
      "metadata": {
        "jukit_cell_id": "eBgIwv79EA",
        "id": "p7IoNn5DGO43"
      },
      "source": [
        "class Model(nn.Module):\n",
        "    def __init__(self, hidden_dim: int):\n",
        "        super(Model, self).__init__()\n",
        "        self.hidden_dim = hidden_dim\n",
        "        self.lstm = nn.LSTM(1, self.hidden_dim)\n",
        "        self.hidden2label = nn.Linear(hidden_dim, 1)\n",
        "\n",
        "    def forward(self, x: torch.Tensor) -> torch.Tensor:\n",
        "        out, _ = self.lstm(x)\n",
        "        sequence_len = x.shape[0]\n",
        "        logits = self.hidden2label(F.relu(out[-1].view(-1)))\n",
        "        return logits"
      ],
      "outputs": [],
      "execution_count": null
    },
    {
      "cell_type": "markdown",
      "metadata": {
        "jukit_cell_id": "JgMaOabC4s",
        "id": "Ds-VnBSwGO44"
      },
      "source": [
        "Below is a training loop, where we only train on the two hardest examples."
      ]
    },
    {
      "cell_type": "code",
      "metadata": {
        "jukit_cell_id": "H2wpWYlQ1Q",
        "id": "SbCEllSrGO44"
      },
      "source": [
        "SEQUENCE_LEN = 10\n",
        "\n",
        "# Pairs of (sequence, label)\n",
        "HARD_EXAMPLES = [([0.]+(SEQUENCE_LEN-1)*[1.], 0),\n",
        "                 (SEQUENCE_LEN*[1.], 1)]\n",
        "\n",
        "\n",
        "def eval_on_hard_examples(model: nn.Module) -> List[float]:\n",
        "    with torch.no_grad():\n",
        "        logits = []\n",
        "        for sequence in HARD_EXAMPLES:\n",
        "            input = torch.tensor(sequence[0]).view(-1, 1, 1)\n",
        "            logit = model(input)\n",
        "            logits.append(logit.detach())\n",
        "        print(f'Logits for hard examples={logits}')\n",
        "        return logits\n",
        "\n",
        "\n",
        "def train_model(hidden_dim: int, lr: float, num_steps: int = 10000):\n",
        "    model = Model(hidden_dim=hidden_dim)\n",
        "    loss_function = nn.BCEWithLogitsLoss()\n",
        "    optimizer = optim.SGD(model.parameters(), lr=lr, momentum=0.99)\n",
        "\n",
        "    pbar = tqdm(range(num_steps))\n",
        "    for step in pbar:\n",
        "        if step % 100 == 0:\n",
        "            logits = eval_on_hard_examples(model)\n",
        "            pbar.set_postfix(logits=logits)\n",
        "\n",
        "        for sequence, label in HARD_EXAMPLES:\n",
        "            model.zero_grad()\n",
        "            logit = model(torch.tensor(sequence).view(-1, 1, 1))\n",
        "\n",
        "            loss = loss_function(logit.view(-1), torch.tensor([label], dtype=torch.float32))\n",
        "            loss.backward()\n",
        "\n",
        "            optimizer.step()"
      ],
      "outputs": [],
      "execution_count": null
    },
    {
      "cell_type": "code",
      "metadata": {
        "jukit_cell_id": "jRW2K012Zt",
        "id": "8r2OK-Q2GO44",
        "outputId": "7b9ae39d-f09a-447b-fe5d-aecdd4a228a6",
        "colab": {
          "base_uri": "https://localhost:8080/"
        }
      },
      "source": [
        "train_model(hidden_dim=20, lr=0.01, num_steps=10000)"
      ],
      "outputs": [
        {
          "output_type": "stream",
          "name": "stderr",
          "text": [
            "  0%|          | 29/10000 [00:00<01:06, 150.43it/s, logits=[tensor([0.0646]), tensor([0.0645])]]"
          ]
        },
        {
          "output_type": "stream",
          "name": "stdout",
          "text": [
            "Logits for hard examples=[tensor([0.0646]), tensor([0.0645])]\n"
          ]
        },
        {
          "output_type": "stream",
          "name": "stderr",
          "text": [
            "  1%|          | 122/10000 [00:00<00:57, 171.28it/s, logits=[tensor([0.0233]), tensor([0.0233])]]"
          ]
        },
        {
          "output_type": "stream",
          "name": "stdout",
          "text": [
            "Logits for hard examples=[tensor([0.0233]), tensor([0.0233])]\n"
          ]
        },
        {
          "output_type": "stream",
          "name": "stderr",
          "text": [
            "  2%|▏         | 241/10000 [00:01<00:50, 194.94it/s, logits=[tensor([-0.0064]), tensor([-0.0064])]]"
          ]
        },
        {
          "output_type": "stream",
          "name": "stdout",
          "text": [
            "Logits for hard examples=[tensor([-0.0064]), tensor([-0.0064])]\n"
          ]
        },
        {
          "output_type": "stream",
          "name": "stderr",
          "text": [
            "  3%|▎         | 337/10000 [00:01<00:40, 239.42it/s, logits=[tensor([0.0003]), tensor([0.0003])]]"
          ]
        },
        {
          "output_type": "stream",
          "name": "stdout",
          "text": [
            "Logits for hard examples=[tensor([0.0003]), tensor([0.0003])]\n"
          ]
        },
        {
          "output_type": "stream",
          "name": "stderr",
          "text": [
            "  5%|▍         | 455/10000 [00:02<00:34, 280.32it/s, logits=[tensor([0.0027]), tensor([0.0029])]]"
          ]
        },
        {
          "output_type": "stream",
          "name": "stdout",
          "text": [
            "Logits for hard examples=[tensor([0.0027]), tensor([0.0029])]\n"
          ]
        },
        {
          "output_type": "stream",
          "name": "stderr",
          "text": [
            "  5%|▌         | 546/10000 [00:02<00:32, 288.12it/s, logits=[tensor([0.0013]), tensor([0.0014])]]"
          ]
        },
        {
          "output_type": "stream",
          "name": "stdout",
          "text": [
            "Logits for hard examples=[tensor([0.0013]), tensor([0.0014])]\n"
          ]
        },
        {
          "output_type": "stream",
          "name": "stderr",
          "text": [
            "  6%|▋         | 637/10000 [00:02<00:33, 277.30it/s, logits=[tensor([0.0026]), tensor([0.0028])]]"
          ]
        },
        {
          "output_type": "stream",
          "name": "stdout",
          "text": [
            "Logits for hard examples=[tensor([0.0026]), tensor([0.0028])]\n"
          ]
        },
        {
          "output_type": "stream",
          "name": "stderr",
          "text": [
            "  8%|▊         | 754/10000 [00:03<00:32, 284.57it/s, logits=[tensor([0.0013]), tensor([0.0017])]]"
          ]
        },
        {
          "output_type": "stream",
          "name": "stdout",
          "text": [
            "Logits for hard examples=[tensor([0.0013]), tensor([0.0017])]\n"
          ]
        },
        {
          "output_type": "stream",
          "name": "stderr",
          "text": [
            "  8%|▊         | 844/10000 [00:03<00:31, 291.30it/s, logits=[tensor([0.0010]), tensor([0.0020])]]"
          ]
        },
        {
          "output_type": "stream",
          "name": "stdout",
          "text": [
            "Logits for hard examples=[tensor([0.0010]), tensor([0.0020])]\n"
          ]
        },
        {
          "output_type": "stream",
          "name": "stderr",
          "text": [
            "  9%|▉         | 935/10000 [00:03<00:31, 291.76it/s, logits=[tensor([0.0114]), tensor([0.0213])]]"
          ]
        },
        {
          "output_type": "stream",
          "name": "stdout",
          "text": [
            "Logits for hard examples=[tensor([0.0114]), tensor([0.0213])]\n"
          ]
        },
        {
          "output_type": "stream",
          "name": "stderr",
          "text": [
            " 11%|█         | 1056/10000 [00:04<00:30, 294.74it/s, logits=[tensor([0.1065]), tensor([0.1075])]]"
          ]
        },
        {
          "output_type": "stream",
          "name": "stdout",
          "text": [
            "Logits for hard examples=[tensor([0.1065]), tensor([0.1075])]\n"
          ]
        },
        {
          "output_type": "stream",
          "name": "stderr",
          "text": [
            " 11%|█▏        | 1145/10000 [00:04<00:30, 290.18it/s, logits=[tensor([0.0178]), tensor([0.0203])]]"
          ]
        },
        {
          "output_type": "stream",
          "name": "stdout",
          "text": [
            "Logits for hard examples=[tensor([0.0178]), tensor([0.0203])]\n"
          ]
        },
        {
          "output_type": "stream",
          "name": "stderr",
          "text": [
            " 12%|█▏        | 1236/10000 [00:04<00:30, 289.83it/s, logits=[tensor([-0.6713]), tensor([0.9813])]]"
          ]
        },
        {
          "output_type": "stream",
          "name": "stdout",
          "text": [
            "Logits for hard examples=[tensor([-0.6713]), tensor([0.9813])]\n"
          ]
        },
        {
          "output_type": "stream",
          "name": "stderr",
          "text": [
            " 14%|█▎        | 1359/10000 [00:05<00:28, 299.64it/s, logits=[tensor([0.3477]), tensor([0.3477])]]"
          ]
        },
        {
          "output_type": "stream",
          "name": "stdout",
          "text": [
            "Logits for hard examples=[tensor([0.3477]), tensor([0.3477])]\n"
          ]
        },
        {
          "output_type": "stream",
          "name": "stderr",
          "text": [
            " 14%|█▍        | 1448/10000 [00:05<00:30, 280.86it/s, logits=[tensor([0.1361]), tensor([0.1361])]]"
          ]
        },
        {
          "output_type": "stream",
          "name": "stdout",
          "text": [
            "Logits for hard examples=[tensor([0.1361]), tensor([0.1361])]\n"
          ]
        },
        {
          "output_type": "stream",
          "name": "stderr",
          "text": [
            " 15%|█▌        | 1532/10000 [00:05<00:31, 265.60it/s, logits=[tensor([-0.0100]), tensor([-0.0100])]]"
          ]
        },
        {
          "output_type": "stream",
          "name": "stdout",
          "text": [
            "Logits for hard examples=[tensor([-0.0100]), tensor([-0.0100])]\n"
          ]
        },
        {
          "output_type": "stream",
          "name": "stderr",
          "text": [
            " 17%|█▋        | 1652/10000 [00:06<00:28, 287.91it/s, logits=[tensor([-0.0186]), tensor([-0.0186])]]"
          ]
        },
        {
          "output_type": "stream",
          "name": "stdout",
          "text": [
            "Logits for hard examples=[tensor([-0.0186]), tensor([-0.0186])]\n"
          ]
        },
        {
          "output_type": "stream",
          "name": "stderr",
          "text": [
            " 17%|█▋        | 1737/10000 [00:06<00:32, 257.26it/s, logits=[tensor([-0.0017]), tensor([-0.0017])]]"
          ]
        },
        {
          "output_type": "stream",
          "name": "stdout",
          "text": [
            "Logits for hard examples=[tensor([-0.0017]), tensor([-0.0017])]\n"
          ]
        },
        {
          "output_type": "stream",
          "name": "stderr",
          "text": [
            " 19%|█▊        | 1859/10000 [00:07<00:28, 284.81it/s, logits=[tensor([0.0041]), tensor([0.0041])]]"
          ]
        },
        {
          "output_type": "stream",
          "name": "stdout",
          "text": [
            "Logits for hard examples=[tensor([0.0041]), tensor([0.0041])]\n"
          ]
        },
        {
          "output_type": "stream",
          "name": "stderr",
          "text": [
            " 20%|█▉        | 1951/10000 [00:07<00:27, 295.90it/s, logits=[tensor([0.0036]), tensor([0.0036])]]"
          ]
        },
        {
          "output_type": "stream",
          "name": "stdout",
          "text": [
            "Logits for hard examples=[tensor([0.0036]), tensor([0.0036])]\n"
          ]
        },
        {
          "output_type": "stream",
          "name": "stderr",
          "text": [
            " 20%|██        | 2042/10000 [00:07<00:27, 286.14it/s, logits=[tensor([0.0026]), tensor([0.0026])]]"
          ]
        },
        {
          "output_type": "stream",
          "name": "stdout",
          "text": [
            "Logits for hard examples=[tensor([0.0026]), tensor([0.0026])]\n"
          ]
        },
        {
          "output_type": "stream",
          "name": "stderr",
          "text": [
            " 21%|██▏       | 2132/10000 [00:08<00:27, 287.46it/s, logits=[tensor([0.0024]), tensor([0.0024])]]"
          ]
        },
        {
          "output_type": "stream",
          "name": "stdout",
          "text": [
            "Logits for hard examples=[tensor([0.0024]), tensor([0.0024])]\n"
          ]
        },
        {
          "output_type": "stream",
          "name": "stderr",
          "text": [
            " 22%|██▏       | 2248/10000 [00:08<00:27, 277.39it/s, logits=[tensor([0.0025]), tensor([0.0025])]]"
          ]
        },
        {
          "output_type": "stream",
          "name": "stdout",
          "text": [
            "Logits for hard examples=[tensor([0.0025]), tensor([0.0025])]\n"
          ]
        },
        {
          "output_type": "stream",
          "name": "stderr",
          "text": [
            " 23%|██▎       | 2340/10000 [00:08<00:26, 285.94it/s, logits=[tensor([0.0025]), tensor([0.0025])]]"
          ]
        },
        {
          "output_type": "stream",
          "name": "stdout",
          "text": [
            "Logits for hard examples=[tensor([0.0025]), tensor([0.0025])]\n"
          ]
        },
        {
          "output_type": "stream",
          "name": "stderr",
          "text": [
            " 24%|██▍       | 2433/10000 [00:09<00:26, 288.87it/s, logits=[tensor([0.0025]), tensor([0.0026])]]"
          ]
        },
        {
          "output_type": "stream",
          "name": "stdout",
          "text": [
            "Logits for hard examples=[tensor([0.0025]), tensor([0.0026])]\n"
          ]
        },
        {
          "output_type": "stream",
          "name": "stderr",
          "text": [
            " 26%|██▌       | 2552/10000 [00:09<00:26, 284.21it/s, logits=[tensor([0.0025]), tensor([0.0026])]]"
          ]
        },
        {
          "output_type": "stream",
          "name": "stdout",
          "text": [
            "Logits for hard examples=[tensor([0.0025]), tensor([0.0026])]\n"
          ]
        },
        {
          "output_type": "stream",
          "name": "stderr",
          "text": [
            " 26%|██▋       | 2640/10000 [00:09<00:25, 283.88it/s, logits=[tensor([0.0025]), tensor([0.0026])]]"
          ]
        },
        {
          "output_type": "stream",
          "name": "stdout",
          "text": [
            "Logits for hard examples=[tensor([0.0025]), tensor([0.0026])]\n"
          ]
        },
        {
          "output_type": "stream",
          "name": "stderr",
          "text": [
            " 27%|██▋       | 2730/10000 [00:10<00:25, 287.20it/s, logits=[tensor([0.0025]), tensor([0.0026])]]"
          ]
        },
        {
          "output_type": "stream",
          "name": "stdout",
          "text": [
            "Logits for hard examples=[tensor([0.0025]), tensor([0.0026])]\n"
          ]
        },
        {
          "output_type": "stream",
          "name": "stderr",
          "text": [
            " 29%|██▊       | 2855/10000 [00:10<00:24, 291.19it/s, logits=[tensor([0.0025]), tensor([0.0026])]]"
          ]
        },
        {
          "output_type": "stream",
          "name": "stdout",
          "text": [
            "Logits for hard examples=[tensor([0.0025]), tensor([0.0026])]\n"
          ]
        },
        {
          "output_type": "stream",
          "name": "stderr",
          "text": [
            " 29%|██▉       | 2944/10000 [00:10<00:25, 272.53it/s, logits=[tensor([0.0025]), tensor([0.0026])]]"
          ]
        },
        {
          "output_type": "stream",
          "name": "stdout",
          "text": [
            "Logits for hard examples=[tensor([0.0025]), tensor([0.0026])]\n"
          ]
        },
        {
          "output_type": "stream",
          "name": "stderr",
          "text": [
            " 30%|███       | 3035/10000 [00:11<00:24, 287.13it/s, logits=[tensor([0.0025]), tensor([0.0026])]]"
          ]
        },
        {
          "output_type": "stream",
          "name": "stdout",
          "text": [
            "Logits for hard examples=[tensor([0.0025]), tensor([0.0026])]\n"
          ]
        },
        {
          "output_type": "stream",
          "name": "stderr",
          "text": [
            " 31%|███▏      | 3127/10000 [00:11<00:23, 287.30it/s, logits=[tensor([0.0025]), tensor([0.0026])]]"
          ]
        },
        {
          "output_type": "stream",
          "name": "stdout",
          "text": [
            "Logits for hard examples=[tensor([0.0025]), tensor([0.0026])]\n"
          ]
        },
        {
          "output_type": "stream",
          "name": "stderr",
          "text": [
            " 32%|███▏      | 3229/10000 [00:12<00:30, 218.48it/s, logits=[tensor([0.0025]), tensor([0.0026])]]"
          ]
        },
        {
          "output_type": "stream",
          "name": "stdout",
          "text": [
            "Logits for hard examples=[tensor([0.0025]), tensor([0.0026])]\n"
          ]
        },
        {
          "output_type": "stream",
          "name": "stderr",
          "text": [
            " 33%|███▎      | 3322/10000 [00:12<00:31, 214.18it/s, logits=[tensor([0.0025]), tensor([0.0026])]]"
          ]
        },
        {
          "output_type": "stream",
          "name": "stdout",
          "text": [
            "Logits for hard examples=[tensor([0.0025]), tensor([0.0026])]\n"
          ]
        },
        {
          "output_type": "stream",
          "name": "stderr",
          "text": [
            " 34%|███▍      | 3427/10000 [00:13<00:33, 193.69it/s, logits=[tensor([0.0025]), tensor([0.0026])]]"
          ]
        },
        {
          "output_type": "stream",
          "name": "stdout",
          "text": [
            "Logits for hard examples=[tensor([0.0025]), tensor([0.0026])]\n"
          ]
        },
        {
          "output_type": "stream",
          "name": "stderr",
          "text": [
            " 35%|███▌      | 3523/10000 [00:13<00:30, 212.32it/s, logits=[tensor([0.0025]), tensor([0.0026])]]"
          ]
        },
        {
          "output_type": "stream",
          "name": "stdout",
          "text": [
            "Logits for hard examples=[tensor([0.0025]), tensor([0.0026])]\n"
          ]
        },
        {
          "output_type": "stream",
          "name": "stderr",
          "text": [
            " 36%|███▋      | 3633/10000 [00:14<00:30, 208.92it/s, logits=[tensor([0.0025]), tensor([0.0026])]]"
          ]
        },
        {
          "output_type": "stream",
          "name": "stdout",
          "text": [
            "Logits for hard examples=[tensor([0.0025]), tensor([0.0026])]\n"
          ]
        },
        {
          "output_type": "stream",
          "name": "stderr",
          "text": [
            " 37%|███▋      | 3740/10000 [00:14<00:30, 207.94it/s, logits=[tensor([0.0025]), tensor([0.0026])]]"
          ]
        },
        {
          "output_type": "stream",
          "name": "stdout",
          "text": [
            "Logits for hard examples=[tensor([0.0025]), tensor([0.0026])]\n"
          ]
        },
        {
          "output_type": "stream",
          "name": "stderr",
          "text": [
            " 38%|███▊      | 3833/10000 [00:15<00:27, 222.97it/s, logits=[tensor([0.0024]), tensor([0.0027])]]"
          ]
        },
        {
          "output_type": "stream",
          "name": "stdout",
          "text": [
            "Logits for hard examples=[tensor([0.0024]), tensor([0.0027])]\n"
          ]
        },
        {
          "output_type": "stream",
          "name": "stderr",
          "text": [
            " 40%|███▉      | 3951/10000 [00:15<00:21, 275.43it/s, logits=[tensor([0.0024]), tensor([0.0027])]]"
          ]
        },
        {
          "output_type": "stream",
          "name": "stdout",
          "text": [
            "Logits for hard examples=[tensor([0.0024]), tensor([0.0027])]\n"
          ]
        },
        {
          "output_type": "stream",
          "name": "stderr",
          "text": [
            " 40%|████      | 4037/10000 [00:15<00:21, 272.82it/s, logits=[tensor([0.0023]), tensor([0.0027])]]"
          ]
        },
        {
          "output_type": "stream",
          "name": "stdout",
          "text": [
            "Logits for hard examples=[tensor([0.0023]), tensor([0.0027])]\n"
          ]
        },
        {
          "output_type": "stream",
          "name": "stderr",
          "text": [
            " 42%|████▏     | 4157/10000 [00:16<00:20, 289.95it/s, logits=[tensor([0.0021]), tensor([0.0028])]]"
          ]
        },
        {
          "output_type": "stream",
          "name": "stdout",
          "text": [
            "Logits for hard examples=[tensor([0.0021]), tensor([0.0028])]\n"
          ]
        },
        {
          "output_type": "stream",
          "name": "stderr",
          "text": [
            " 42%|████▏     | 4248/10000 [00:16<00:19, 291.71it/s, logits=[tensor([0.0006]), tensor([0.0033])]]"
          ]
        },
        {
          "output_type": "stream",
          "name": "stdout",
          "text": [
            "Logits for hard examples=[tensor([0.0006]), tensor([0.0033])]\n"
          ]
        },
        {
          "output_type": "stream",
          "name": "stderr",
          "text": [
            " 43%|████▎     | 4337/10000 [00:16<00:20, 281.66it/s, logits=[tensor([0.0643]), tensor([0.0650])]]"
          ]
        },
        {
          "output_type": "stream",
          "name": "stdout",
          "text": [
            "Logits for hard examples=[tensor([0.0643]), tensor([0.0650])]\n"
          ]
        },
        {
          "output_type": "stream",
          "name": "stderr",
          "text": [
            " 45%|████▍     | 4455/10000 [00:17<00:19, 284.98it/s, logits=[tensor([0.0398]), tensor([0.0407])]]"
          ]
        },
        {
          "output_type": "stream",
          "name": "stdout",
          "text": [
            "Logits for hard examples=[tensor([0.0398]), tensor([0.0407])]\n"
          ]
        },
        {
          "output_type": "stream",
          "name": "stderr",
          "text": [
            " 45%|████▌     | 4546/10000 [00:17<00:18, 294.14it/s, logits=[tensor([0.0153]), tensor([0.0167])]]"
          ]
        },
        {
          "output_type": "stream",
          "name": "stdout",
          "text": [
            "Logits for hard examples=[tensor([0.0153]), tensor([0.0167])]\n"
          ]
        },
        {
          "output_type": "stream",
          "name": "stderr",
          "text": [
            " 46%|████▋     | 4635/10000 [00:17<00:18, 284.41it/s, logits=[tensor([0.0047]), tensor([0.0076])]]"
          ]
        },
        {
          "output_type": "stream",
          "name": "stdout",
          "text": [
            "Logits for hard examples=[tensor([0.0047]), tensor([0.0076])]\n"
          ]
        },
        {
          "output_type": "stream",
          "name": "stderr",
          "text": [
            " 48%|████▊     | 4755/10000 [00:18<00:17, 291.69it/s, logits=[tensor([-0.0069]), tensor([0.0041])]]"
          ]
        },
        {
          "output_type": "stream",
          "name": "stdout",
          "text": [
            "Logits for hard examples=[tensor([-0.0069]), tensor([0.0041])]\n"
          ]
        },
        {
          "output_type": "stream",
          "name": "stderr",
          "text": [
            " 48%|████▊     | 4845/10000 [00:18<00:17, 291.96it/s, logits=[tensor([-0.1076]), tensor([0.0559])]]"
          ]
        },
        {
          "output_type": "stream",
          "name": "stdout",
          "text": [
            "Logits for hard examples=[tensor([-0.1076]), tensor([0.0559])]\n"
          ]
        },
        {
          "output_type": "stream",
          "name": "stderr",
          "text": [
            " 49%|████▉     | 4934/10000 [00:18<00:17, 285.41it/s, logits=[tensor([-3.8807]), tensor([3.2049])]]"
          ]
        },
        {
          "output_type": "stream",
          "name": "stdout",
          "text": [
            "Logits for hard examples=[tensor([-3.8807]), tensor([3.2049])]\n"
          ]
        },
        {
          "output_type": "stream",
          "name": "stderr",
          "text": [
            " 51%|█████     | 5056/10000 [00:19<00:16, 294.93it/s, logits=[tensor([-5.9003]), tensor([5.3005])]]"
          ]
        },
        {
          "output_type": "stream",
          "name": "stdout",
          "text": [
            "Logits for hard examples=[tensor([-5.9003]), tensor([5.3005])]\n"
          ]
        },
        {
          "output_type": "stream",
          "name": "stderr",
          "text": [
            " 51%|█████▏    | 5147/10000 [00:19<00:16, 296.64it/s, logits=[tensor([-6.3952]), tensor([5.9112])]]"
          ]
        },
        {
          "output_type": "stream",
          "name": "stdout",
          "text": [
            "Logits for hard examples=[tensor([-6.3952]), tensor([5.9112])]\n"
          ]
        },
        {
          "output_type": "stream",
          "name": "stderr",
          "text": [
            " 52%|█████▏    | 5237/10000 [00:19<00:16, 288.56it/s, logits=[tensor([-6.6132]), tensor([6.2001])]]"
          ]
        },
        {
          "output_type": "stream",
          "name": "stdout",
          "text": [
            "Logits for hard examples=[tensor([-6.6132]), tensor([6.2001])]\n"
          ]
        },
        {
          "output_type": "stream",
          "name": "stderr",
          "text": [
            " 54%|█████▎    | 5353/10000 [00:20<00:16, 276.21it/s, logits=[tensor([-6.7769]), tensor([6.3999])]]"
          ]
        },
        {
          "output_type": "stream",
          "name": "stdout",
          "text": [
            "Logits for hard examples=[tensor([-6.7769]), tensor([6.3999])]\n"
          ]
        },
        {
          "output_type": "stream",
          "name": "stderr",
          "text": [
            " 54%|█████▍    | 5442/10000 [00:20<00:16, 276.06it/s, logits=[tensor([-6.9193]), tensor([6.5630])]]"
          ]
        },
        {
          "output_type": "stream",
          "name": "stdout",
          "text": [
            "Logits for hard examples=[tensor([-6.9193]), tensor([6.5630])]\n"
          ]
        },
        {
          "output_type": "stream",
          "name": "stderr",
          "text": [
            " 55%|█████▌    | 5532/10000 [00:21<00:15, 286.46it/s, logits=[tensor([-7.0474]), tensor([6.7024])]]"
          ]
        },
        {
          "output_type": "stream",
          "name": "stdout",
          "text": [
            "Logits for hard examples=[tensor([-7.0474]), tensor([6.7024])]\n"
          ]
        },
        {
          "output_type": "stream",
          "name": "stderr",
          "text": [
            " 57%|█████▋    | 5652/10000 [00:21<00:15, 289.87it/s, logits=[tensor([-7.1640]), tensor([6.8238])]]"
          ]
        },
        {
          "output_type": "stream",
          "name": "stdout",
          "text": [
            "Logits for hard examples=[tensor([-7.1640]), tensor([6.8238])]\n"
          ]
        },
        {
          "output_type": "stream",
          "name": "stderr",
          "text": [
            " 57%|█████▋    | 5742/10000 [00:21<00:15, 280.83it/s, logits=[tensor([-7.2709]), tensor([6.9317])]]"
          ]
        },
        {
          "output_type": "stream",
          "name": "stdout",
          "text": [
            "Logits for hard examples=[tensor([-7.2709]), tensor([6.9317])]\n"
          ]
        },
        {
          "output_type": "stream",
          "name": "stderr",
          "text": [
            " 58%|█████▊    | 5833/10000 [00:22<00:14, 290.31it/s, logits=[tensor([-7.3694]), tensor([7.0288])]]"
          ]
        },
        {
          "output_type": "stream",
          "name": "stdout",
          "text": [
            "Logits for hard examples=[tensor([-7.3694]), tensor([7.0288])]\n"
          ]
        },
        {
          "output_type": "stream",
          "name": "stderr",
          "text": [
            " 60%|█████▉    | 5954/10000 [00:22<00:13, 292.10it/s, logits=[tensor([-7.4604]), tensor([7.1175])]]"
          ]
        },
        {
          "output_type": "stream",
          "name": "stdout",
          "text": [
            "Logits for hard examples=[tensor([-7.4604]), tensor([7.1175])]\n"
          ]
        },
        {
          "output_type": "stream",
          "name": "stderr",
          "text": [
            " 60%|██████    | 6046/10000 [00:22<00:13, 288.79it/s, logits=[tensor([-7.5450]), tensor([7.1991])]]"
          ]
        },
        {
          "output_type": "stream",
          "name": "stdout",
          "text": [
            "Logits for hard examples=[tensor([-7.5450]), tensor([7.1991])]\n"
          ]
        },
        {
          "output_type": "stream",
          "name": "stderr",
          "text": [
            " 61%|██████▏   | 6137/10000 [00:23<00:13, 289.21it/s, logits=[tensor([-7.6238]), tensor([7.2750])]]"
          ]
        },
        {
          "output_type": "stream",
          "name": "stdout",
          "text": [
            "Logits for hard examples=[tensor([-7.6238]), tensor([7.2750])]\n"
          ]
        },
        {
          "output_type": "stream",
          "name": "stderr",
          "text": [
            " 63%|██████▎   | 6258/10000 [00:23<00:12, 290.94it/s, logits=[tensor([-7.6976]), tensor([7.3459])]]"
          ]
        },
        {
          "output_type": "stream",
          "name": "stdout",
          "text": [
            "Logits for hard examples=[tensor([-7.6976]), tensor([7.3459])]\n"
          ]
        },
        {
          "output_type": "stream",
          "name": "stderr",
          "text": [
            " 63%|██████▎   | 6348/10000 [00:23<00:12, 281.47it/s, logits=[tensor([-7.7669]), tensor([7.4124])]]"
          ]
        },
        {
          "output_type": "stream",
          "name": "stdout",
          "text": [
            "Logits for hard examples=[tensor([-7.7669]), tensor([7.4124])]\n"
          ]
        },
        {
          "output_type": "stream",
          "name": "stderr",
          "text": [
            " 64%|██████▍   | 6435/10000 [00:24<00:13, 272.27it/s, logits=[tensor([-7.8321]), tensor([7.4752])]]"
          ]
        },
        {
          "output_type": "stream",
          "name": "stdout",
          "text": [
            "Logits for hard examples=[tensor([-7.8321]), tensor([7.4752])]\n"
          ]
        },
        {
          "output_type": "stream",
          "name": "stderr",
          "text": [
            " 66%|██████▌   | 6556/10000 [00:24<00:11, 289.89it/s, logits=[tensor([-7.8938]), tensor([7.5346])]]"
          ]
        },
        {
          "output_type": "stream",
          "name": "stdout",
          "text": [
            "Logits for hard examples=[tensor([-7.8938]), tensor([7.5346])]\n"
          ]
        },
        {
          "output_type": "stream",
          "name": "stderr",
          "text": [
            " 66%|██████▋   | 6643/10000 [00:24<00:12, 274.78it/s, logits=[tensor([-7.9521]), tensor([7.5910])]]"
          ]
        },
        {
          "output_type": "stream",
          "name": "stdout",
          "text": [
            "Logits for hard examples=[tensor([-7.9521]), tensor([7.5910])]\n"
          ]
        },
        {
          "output_type": "stream",
          "name": "stderr",
          "text": [
            " 67%|██████▋   | 6722/10000 [00:25<00:14, 219.23it/s, logits=[tensor([-8.0076]), tensor([7.6447])]]"
          ]
        },
        {
          "output_type": "stream",
          "name": "stdout",
          "text": [
            "Logits for hard examples=[tensor([-8.0076]), tensor([7.6447])]\n"
          ]
        },
        {
          "output_type": "stream",
          "name": "stderr",
          "text": [
            " 68%|██████▊   | 6837/10000 [00:25<00:15, 210.38it/s, logits=[tensor([-8.0603]), tensor([7.6959])]]"
          ]
        },
        {
          "output_type": "stream",
          "name": "stdout",
          "text": [
            "Logits for hard examples=[tensor([-8.0603]), tensor([7.6959])]\n"
          ]
        },
        {
          "output_type": "stream",
          "name": "stderr",
          "text": [
            " 69%|██████▉   | 6924/10000 [00:26<00:14, 209.37it/s, logits=[tensor([-8.1106]), tensor([7.7448])]]"
          ]
        },
        {
          "output_type": "stream",
          "name": "stdout",
          "text": [
            "Logits for hard examples=[tensor([-8.1106]), tensor([7.7448])]\n"
          ]
        },
        {
          "output_type": "stream",
          "name": "stderr",
          "text": [
            " 70%|███████   | 7042/10000 [00:26<00:13, 214.77it/s, logits=[tensor([-8.1586]), tensor([7.7917])]]"
          ]
        },
        {
          "output_type": "stream",
          "name": "stdout",
          "text": [
            "Logits for hard examples=[tensor([-8.1586]), tensor([7.7917])]\n"
          ]
        },
        {
          "output_type": "stream",
          "name": "stderr",
          "text": [
            " 71%|███████▏  | 7127/10000 [00:27<00:14, 197.02it/s, logits=[tensor([-8.2046]), tensor([7.8367])]]"
          ]
        },
        {
          "output_type": "stream",
          "name": "stdout",
          "text": [
            "Logits for hard examples=[tensor([-8.2046]), tensor([7.8367])]\n"
          ]
        },
        {
          "output_type": "stream",
          "name": "stderr",
          "text": [
            " 72%|███████▏  | 7230/10000 [00:27<00:14, 191.62it/s, logits=[tensor([-8.2487]), tensor([7.8800])]]"
          ]
        },
        {
          "output_type": "stream",
          "name": "stdout",
          "text": [
            "Logits for hard examples=[tensor([-8.2487]), tensor([7.8800])]\n"
          ]
        },
        {
          "output_type": "stream",
          "name": "stderr",
          "text": [
            " 74%|███████▎  | 7351/10000 [00:28<00:10, 245.74it/s, logits=[tensor([-8.2910]), tensor([7.9216])]]"
          ]
        },
        {
          "output_type": "stream",
          "name": "stdout",
          "text": [
            "Logits for hard examples=[tensor([-8.2910]), tensor([7.9216])]\n"
          ]
        },
        {
          "output_type": "stream",
          "name": "stderr",
          "text": [
            " 74%|███████▍  | 7438/10000 [00:28<00:09, 271.27it/s, logits=[tensor([-8.3316]), tensor([7.9617])]]"
          ]
        },
        {
          "output_type": "stream",
          "name": "stdout",
          "text": [
            "Logits for hard examples=[tensor([-8.3316]), tensor([7.9617])]\n"
          ]
        },
        {
          "output_type": "stream",
          "name": "stderr",
          "text": [
            " 76%|███████▌  | 7552/10000 [00:29<00:08, 277.20it/s, logits=[tensor([-8.3708]), tensor([8.0004])]]"
          ]
        },
        {
          "output_type": "stream",
          "name": "stdout",
          "text": [
            "Logits for hard examples=[tensor([-8.3708]), tensor([8.0004])]\n"
          ]
        },
        {
          "output_type": "stream",
          "name": "stderr",
          "text": [
            " 76%|███████▋  | 7643/10000 [00:29<00:08, 294.50it/s, logits=[tensor([-8.4086]), tensor([8.0378])]]"
          ]
        },
        {
          "output_type": "stream",
          "name": "stdout",
          "text": [
            "Logits for hard examples=[tensor([-8.4086]), tensor([8.0378])]\n"
          ]
        },
        {
          "output_type": "stream",
          "name": "stderr",
          "text": [
            " 77%|███████▋  | 7731/10000 [00:29<00:08, 270.26it/s, logits=[tensor([-8.4450]), tensor([8.0739])]]"
          ]
        },
        {
          "output_type": "stream",
          "name": "stdout",
          "text": [
            "Logits for hard examples=[tensor([-8.4450]), tensor([8.0739])]\n"
          ]
        },
        {
          "output_type": "stream",
          "name": "stderr",
          "text": [
            " 78%|███████▊  | 7844/10000 [00:30<00:08, 268.11it/s, logits=[tensor([-8.4802]), tensor([8.1089])]]"
          ]
        },
        {
          "output_type": "stream",
          "name": "stdout",
          "text": [
            "Logits for hard examples=[tensor([-8.4802]), tensor([8.1089])]\n"
          ]
        },
        {
          "output_type": "stream",
          "name": "stderr",
          "text": [
            " 79%|███████▉  | 7934/10000 [00:30<00:07, 284.23it/s, logits=[tensor([-8.5143]), tensor([8.1428])]]"
          ]
        },
        {
          "output_type": "stream",
          "name": "stdout",
          "text": [
            "Logits for hard examples=[tensor([-8.5143]), tensor([8.1428])]\n"
          ]
        },
        {
          "output_type": "stream",
          "name": "stderr",
          "text": [
            " 80%|████████  | 8050/10000 [00:30<00:07, 277.33it/s, logits=[tensor([-8.5473]), tensor([8.1757])]]"
          ]
        },
        {
          "output_type": "stream",
          "name": "stdout",
          "text": [
            "Logits for hard examples=[tensor([-8.5473]), tensor([8.1757])]\n"
          ]
        },
        {
          "output_type": "stream",
          "name": "stderr",
          "text": [
            " 81%|████████▏ | 8142/10000 [00:31<00:06, 293.88it/s, logits=[tensor([-8.5792]), tensor([8.2076])]]"
          ]
        },
        {
          "output_type": "stream",
          "name": "stdout",
          "text": [
            "Logits for hard examples=[tensor([-8.5792]), tensor([8.2076])]\n"
          ]
        },
        {
          "output_type": "stream",
          "name": "stderr",
          "text": [
            " 82%|████████▏ | 8235/10000 [00:31<00:05, 303.39it/s, logits=[tensor([-8.6102]), tensor([8.2386])]]"
          ]
        },
        {
          "output_type": "stream",
          "name": "stdout",
          "text": [
            "Logits for hard examples=[tensor([-8.6102]), tensor([8.2386])]\n"
          ]
        },
        {
          "output_type": "stream",
          "name": "stderr",
          "text": [
            " 84%|████████▎ | 8355/10000 [00:31<00:05, 287.95it/s, logits=[tensor([-8.6403]), tensor([8.2688])]]"
          ]
        },
        {
          "output_type": "stream",
          "name": "stdout",
          "text": [
            "Logits for hard examples=[tensor([-8.6403]), tensor([8.2688])]\n"
          ]
        },
        {
          "output_type": "stream",
          "name": "stderr",
          "text": [
            " 84%|████████▍ | 8445/10000 [00:32<00:05, 287.20it/s, logits=[tensor([-8.6696]), tensor([8.2981])]]"
          ]
        },
        {
          "output_type": "stream",
          "name": "stdout",
          "text": [
            "Logits for hard examples=[tensor([-8.6696]), tensor([8.2981])]\n"
          ]
        },
        {
          "output_type": "stream",
          "name": "stderr",
          "text": [
            " 85%|████████▌ | 8536/10000 [00:32<00:05, 290.71it/s, logits=[tensor([-8.6980]), tensor([8.3267])]]"
          ]
        },
        {
          "output_type": "stream",
          "name": "stdout",
          "text": [
            "Logits for hard examples=[tensor([-8.6980]), tensor([8.3267])]\n"
          ]
        },
        {
          "output_type": "stream",
          "name": "stderr",
          "text": [
            " 87%|████████▋ | 8654/10000 [00:32<00:04, 284.32it/s, logits=[tensor([-8.7257]), tensor([8.3545])]]"
          ]
        },
        {
          "output_type": "stream",
          "name": "stdout",
          "text": [
            "Logits for hard examples=[tensor([-8.7257]), tensor([8.3545])]\n"
          ]
        },
        {
          "output_type": "stream",
          "name": "stderr",
          "text": [
            " 87%|████████▋ | 8743/10000 [00:33<00:04, 287.79it/s, logits=[tensor([-8.7526]), tensor([8.3816])]]"
          ]
        },
        {
          "output_type": "stream",
          "name": "stdout",
          "text": [
            "Logits for hard examples=[tensor([-8.7526]), tensor([8.3816])]\n"
          ]
        },
        {
          "output_type": "stream",
          "name": "stderr",
          "text": [
            " 88%|████████▊ | 8829/10000 [00:33<00:04, 278.22it/s, logits=[tensor([-8.7789]), tensor([8.4080])]]"
          ]
        },
        {
          "output_type": "stream",
          "name": "stdout",
          "text": [
            "Logits for hard examples=[tensor([-8.7789]), tensor([8.4080])]\n"
          ]
        },
        {
          "output_type": "stream",
          "name": "stderr",
          "text": [
            " 89%|████████▉ | 8949/10000 [00:33<00:03, 289.93it/s, logits=[tensor([-8.8044]), tensor([8.4338])]]"
          ]
        },
        {
          "output_type": "stream",
          "name": "stdout",
          "text": [
            "Logits for hard examples=[tensor([-8.8044]), tensor([8.4338])]\n"
          ]
        },
        {
          "output_type": "stream",
          "name": "stderr",
          "text": [
            " 90%|█████████ | 9041/10000 [00:34<00:03, 292.81it/s, logits=[tensor([-8.8294]), tensor([8.4590])]]"
          ]
        },
        {
          "output_type": "stream",
          "name": "stdout",
          "text": [
            "Logits for hard examples=[tensor([-8.8294]), tensor([8.4590])]\n"
          ]
        },
        {
          "output_type": "stream",
          "name": "stderr",
          "text": [
            " 91%|█████████▏| 9131/10000 [00:34<00:03, 286.07it/s, logits=[tensor([-8.8538]), tensor([8.4836])]]"
          ]
        },
        {
          "output_type": "stream",
          "name": "stdout",
          "text": [
            "Logits for hard examples=[tensor([-8.8538]), tensor([8.4836])]\n"
          ]
        },
        {
          "output_type": "stream",
          "name": "stderr",
          "text": [
            " 92%|█████████▏| 9240/10000 [00:35<00:03, 252.44it/s, logits=[tensor([-8.8776]), tensor([8.5076])]]"
          ]
        },
        {
          "output_type": "stream",
          "name": "stdout",
          "text": [
            "Logits for hard examples=[tensor([-8.8776]), tensor([8.5076])]\n"
          ]
        },
        {
          "output_type": "stream",
          "name": "stderr",
          "text": [
            " 94%|█████████▎| 9360/10000 [00:35<00:02, 285.18it/s, logits=[tensor([-8.9009]), tensor([8.5312])]]"
          ]
        },
        {
          "output_type": "stream",
          "name": "stdout",
          "text": [
            "Logits for hard examples=[tensor([-8.9009]), tensor([8.5312])]\n"
          ]
        },
        {
          "output_type": "stream",
          "name": "stderr",
          "text": [
            " 94%|█████████▍| 9449/10000 [00:35<00:02, 273.08it/s, logits=[tensor([-8.9236]), tensor([8.5542])]]"
          ]
        },
        {
          "output_type": "stream",
          "name": "stdout",
          "text": [
            "Logits for hard examples=[tensor([-8.9236]), tensor([8.5542])]\n"
          ]
        },
        {
          "output_type": "stream",
          "name": "stderr",
          "text": [
            " 95%|█████████▌| 9537/10000 [00:36<00:01, 283.39it/s, logits=[tensor([-8.9458]), tensor([8.5767])]]"
          ]
        },
        {
          "output_type": "stream",
          "name": "stdout",
          "text": [
            "Logits for hard examples=[tensor([-8.9458]), tensor([8.5767])]\n"
          ]
        },
        {
          "output_type": "stream",
          "name": "stderr",
          "text": [
            " 97%|█████████▋| 9658/10000 [00:36<00:01, 292.41it/s, logits=[tensor([-8.9676]), tensor([8.5987])]]"
          ]
        },
        {
          "output_type": "stream",
          "name": "stdout",
          "text": [
            "Logits for hard examples=[tensor([-8.9676]), tensor([8.5987])]\n"
          ]
        },
        {
          "output_type": "stream",
          "name": "stderr",
          "text": [
            " 97%|█████████▋| 9745/10000 [00:36<00:00, 268.98it/s, logits=[tensor([-8.9889]), tensor([8.6203])]]"
          ]
        },
        {
          "output_type": "stream",
          "name": "stdout",
          "text": [
            "Logits for hard examples=[tensor([-8.9889]), tensor([8.6203])]\n"
          ]
        },
        {
          "output_type": "stream",
          "name": "stderr",
          "text": [
            " 98%|█████████▊| 9834/10000 [00:37<00:00, 281.63it/s, logits=[tensor([-9.0098]), tensor([8.6415])]]"
          ]
        },
        {
          "output_type": "stream",
          "name": "stdout",
          "text": [
            "Logits for hard examples=[tensor([-9.0098]), tensor([8.6415])]\n"
          ]
        },
        {
          "output_type": "stream",
          "name": "stderr",
          "text": [
            "100%|█████████▉| 9953/10000 [00:37<00:00, 292.37it/s, logits=[tensor([-9.0302]), tensor([8.6623])]]"
          ]
        },
        {
          "output_type": "stream",
          "name": "stdout",
          "text": [
            "Logits for hard examples=[tensor([-9.0302]), tensor([8.6623])]\n"
          ]
        },
        {
          "output_type": "stream",
          "name": "stderr",
          "text": [
            "100%|██████████| 10000/10000 [00:37<00:00, 264.67it/s, logits=[tensor([-9.0302]), tensor([8.6623])]]\n"
          ]
        }
      ],
      "execution_count": null
    },
    {
      "cell_type": "markdown",
      "metadata": {
        "jukit_cell_id": "18VLypK3Ez",
        "id": "EUlrnpyAGO44"
      },
      "source": [
        "## To implement\n",
        "\n",
        "1. Check for what values of `SEQUENCE_LEN` the model is able to discriminate betweeh the two hard examples (after training).\n",
        "2. Instead of training on `HARD_EXAMPLES` only, modify the training loop to train on sequences where zero may be in any position of the sequence (so any valid sequence of `Type 0`, not just the hardest one). After modifying the training loop check for what values of `SEQUENCE_LEN` you can train the model successfully.\n",
        "3. Replace LSTM by a classic RNN and check for what values of `SEQUENCE_LEN` you can train the model successfully.\n",
        "4. Write a proper curricullum learning loop, where in a loop you consider longer and longer sequences, where expansion of the sequence length happens only after the model is trained successfully on the current length.\n",
        "\n",
        "Note that for steps 2-4 you may need to change the value of `num_steps`."
      ]
    },
    {
      "cell_type": "code",
      "source": [
        "SEQUENCE_LEN = 20\n",
        "HARD_EXAMPLES = [([0.]+(SEQUENCE_LEN-1)*[1.], 0),\n",
        "                 (SEQUENCE_LEN*[1.], 1)]\n",
        "train_model(hidden_dim=20, lr=0.01, num_steps=10000)"
      ],
      "metadata": {
        "colab": {
          "base_uri": "https://localhost:8080/"
        },
        "id": "6RequKCznG7Y",
        "outputId": "0e166509-094b-4f56-f432-adc50891e14a"
      },
      "execution_count": null,
      "outputs": [
        {
          "output_type": "stream",
          "name": "stderr",
          "text": [
            "  1%|          | 58/10000 [00:00<00:34, 286.21it/s, logits=[tensor([-0.0578]), tensor([-0.0578])]]"
          ]
        },
        {
          "output_type": "stream",
          "name": "stdout",
          "text": [
            "Logits for hard examples=[tensor([-0.0578]), tensor([-0.0578])]\n"
          ]
        },
        {
          "output_type": "stream",
          "name": "stderr",
          "text": [
            "  1%|▏         | 146/10000 [00:00<00:34, 285.25it/s, logits=[tensor([0.0005]), tensor([0.0005])]]"
          ]
        },
        {
          "output_type": "stream",
          "name": "stdout",
          "text": [
            "Logits for hard examples=[tensor([0.0005]), tensor([0.0005])]\n"
          ]
        },
        {
          "output_type": "stream",
          "name": "stderr",
          "text": [
            "  2%|▏         | 234/10000 [00:00<00:36, 265.32it/s, logits=[tensor([0.0115]), tensor([0.0115])]]"
          ]
        },
        {
          "output_type": "stream",
          "name": "stdout",
          "text": [
            "Logits for hard examples=[tensor([0.0115]), tensor([0.0115])]\n"
          ]
        },
        {
          "output_type": "stream",
          "name": "stderr",
          "text": [
            "  3%|▎         | 344/10000 [00:01<00:35, 268.91it/s, logits=[tensor([0.0045]), tensor([0.0045])]]"
          ]
        },
        {
          "output_type": "stream",
          "name": "stdout",
          "text": [
            "Logits for hard examples=[tensor([0.0045]), tensor([0.0045])]\n"
          ]
        },
        {
          "output_type": "stream",
          "name": "stderr",
          "text": [
            "  4%|▍         | 432/10000 [00:01<00:34, 280.45it/s, logits=[tensor([0.0005]), tensor([0.0005])]]"
          ]
        },
        {
          "output_type": "stream",
          "name": "stdout",
          "text": [
            "Logits for hard examples=[tensor([0.0005]), tensor([0.0005])]\n"
          ]
        },
        {
          "output_type": "stream",
          "name": "stderr",
          "text": [
            "  5%|▌         | 549/10000 [00:02<00:35, 265.43it/s, logits=[tensor([0.0012]), tensor([0.0012])]]"
          ]
        },
        {
          "output_type": "stream",
          "name": "stdout",
          "text": [
            "Logits for hard examples=[tensor([0.0012]), tensor([0.0012])]\n"
          ]
        },
        {
          "output_type": "stream",
          "name": "stderr",
          "text": [
            "  6%|▋         | 638/10000 [00:02<00:33, 282.61it/s, logits=[tensor([0.0017]), tensor([0.0017])]]"
          ]
        },
        {
          "output_type": "stream",
          "name": "stdout",
          "text": [
            "Logits for hard examples=[tensor([0.0017]), tensor([0.0017])]\n"
          ]
        },
        {
          "output_type": "stream",
          "name": "stderr",
          "text": [
            "  8%|▊         | 756/10000 [00:02<00:32, 284.82it/s, logits=[tensor([0.0014]), tensor([0.0014])]]"
          ]
        },
        {
          "output_type": "stream",
          "name": "stdout",
          "text": [
            "Logits for hard examples=[tensor([0.0014]), tensor([0.0014])]\n"
          ]
        },
        {
          "output_type": "stream",
          "name": "stderr",
          "text": [
            "  8%|▊         | 841/10000 [00:03<00:35, 257.60it/s, logits=[tensor([0.0014]), tensor([0.0014])]]"
          ]
        },
        {
          "output_type": "stream",
          "name": "stdout",
          "text": [
            "Logits for hard examples=[tensor([0.0014]), tensor([0.0014])]\n"
          ]
        },
        {
          "output_type": "stream",
          "name": "stderr",
          "text": [
            "  9%|▉         | 931/10000 [00:03<00:32, 277.61it/s, logits=[tensor([0.0014]), tensor([0.0014])]]"
          ]
        },
        {
          "output_type": "stream",
          "name": "stdout",
          "text": [
            "Logits for hard examples=[tensor([0.0014]), tensor([0.0014])]\n"
          ]
        },
        {
          "output_type": "stream",
          "name": "stderr",
          "text": [
            " 10%|█         | 1016/10000 [00:03<00:38, 233.44it/s, logits=[tensor([0.0014]), tensor([0.0014])]]"
          ]
        },
        {
          "output_type": "stream",
          "name": "stdout",
          "text": [
            "Logits for hard examples=[tensor([0.0014]), tensor([0.0014])]\n"
          ]
        },
        {
          "output_type": "stream",
          "name": "stderr",
          "text": [
            " 11%|█▏        | 1130/10000 [00:04<00:43, 204.26it/s, logits=[tensor([0.0013]), tensor([0.0013])]]"
          ]
        },
        {
          "output_type": "stream",
          "name": "stdout",
          "text": [
            "Logits for hard examples=[tensor([0.0013]), tensor([0.0013])]\n"
          ]
        },
        {
          "output_type": "stream",
          "name": "stderr",
          "text": [
            " 12%|█▏        | 1196/10000 [00:04<00:54, 162.72it/s, logits=[tensor([0.0013]), tensor([0.0013])]]"
          ]
        },
        {
          "output_type": "stream",
          "name": "stdout",
          "text": [
            "Logits for hard examples=[tensor([0.0013]), tensor([0.0013])]\n"
          ]
        },
        {
          "output_type": "stream",
          "name": "stderr",
          "text": [
            " 13%|█▎        | 1331/10000 [00:05<00:48, 180.02it/s, logits=[tensor([0.0013]), tensor([0.0013])]]"
          ]
        },
        {
          "output_type": "stream",
          "name": "stdout",
          "text": [
            "Logits for hard examples=[tensor([0.0013]), tensor([0.0013])]\n"
          ]
        },
        {
          "output_type": "stream",
          "name": "stderr",
          "text": [
            " 14%|█▍        | 1410/10000 [00:06<01:02, 137.61it/s, logits=[tensor([0.0013]), tensor([0.0013])]]"
          ]
        },
        {
          "output_type": "stream",
          "name": "stdout",
          "text": [
            "Logits for hard examples=[tensor([0.0013]), tensor([0.0013])]\n"
          ]
        },
        {
          "output_type": "stream",
          "name": "stderr",
          "text": [
            " 15%|█▌        | 1513/10000 [00:07<01:14, 113.21it/s, logits=[tensor([0.0013]), tensor([0.0013])]]"
          ]
        },
        {
          "output_type": "stream",
          "name": "stdout",
          "text": [
            "Logits for hard examples=[tensor([0.0013]), tensor([0.0013])]\n"
          ]
        },
        {
          "output_type": "stream",
          "name": "stderr",
          "text": [
            " 16%|█▋        | 1640/10000 [00:08<00:56, 149.27it/s, logits=[tensor([0.0013]), tensor([0.0013])]]"
          ]
        },
        {
          "output_type": "stream",
          "name": "stdout",
          "text": [
            "Logits for hard examples=[tensor([0.0013]), tensor([0.0013])]\n"
          ]
        },
        {
          "output_type": "stream",
          "name": "stderr",
          "text": [
            " 17%|█▋        | 1739/10000 [00:08<00:40, 205.47it/s, logits=[tensor([0.0013]), tensor([0.0013])]]"
          ]
        },
        {
          "output_type": "stream",
          "name": "stdout",
          "text": [
            "Logits for hard examples=[tensor([0.0013]), tensor([0.0013])]\n"
          ]
        },
        {
          "output_type": "stream",
          "name": "stderr",
          "text": [
            " 18%|█▊        | 1826/10000 [00:09<00:48, 167.82it/s, logits=[tensor([0.0013]), tensor([0.0013])]]"
          ]
        },
        {
          "output_type": "stream",
          "name": "stdout",
          "text": [
            "Logits for hard examples=[tensor([0.0013]), tensor([0.0013])]\n"
          ]
        },
        {
          "output_type": "stream",
          "name": "stderr",
          "text": [
            " 19%|█▉        | 1932/10000 [00:09<00:34, 232.17it/s, logits=[tensor([0.0013]), tensor([0.0013])]]"
          ]
        },
        {
          "output_type": "stream",
          "name": "stdout",
          "text": [
            "Logits for hard examples=[tensor([0.0013]), tensor([0.0013])]\n"
          ]
        },
        {
          "output_type": "stream",
          "name": "stderr",
          "text": [
            " 20%|█▉        | 1988/10000 [00:09<00:31, 253.60it/s, logits=[tensor([0.0013]), tensor([0.0013])]]"
          ]
        },
        {
          "output_type": "stream",
          "name": "stdout",
          "text": [
            "Logits for hard examples=[tensor([0.0013]), tensor([0.0013])]\n"
          ]
        },
        {
          "output_type": "stream",
          "name": "stderr",
          "text": [
            " 21%|██▏       | 2148/10000 [00:10<00:32, 242.69it/s, logits=[tensor([0.0013]), tensor([0.0013])]]"
          ]
        },
        {
          "output_type": "stream",
          "name": "stdout",
          "text": [
            "Logits for hard examples=[tensor([0.0013]), tensor([0.0013])]\n"
          ]
        },
        {
          "output_type": "stream",
          "name": "stderr",
          "text": [
            " 22%|██▏       | 2238/10000 [00:10<00:28, 275.71it/s, logits=[tensor([0.0013]), tensor([0.0013])]]"
          ]
        },
        {
          "output_type": "stream",
          "name": "stdout",
          "text": [
            "Logits for hard examples=[tensor([0.0013]), tensor([0.0013])]\n"
          ]
        },
        {
          "output_type": "stream",
          "name": "stderr",
          "text": [
            " 24%|██▎       | 2355/10000 [00:11<00:27, 281.26it/s, logits=[tensor([0.0013]), tensor([0.0013])]]"
          ]
        },
        {
          "output_type": "stream",
          "name": "stdout",
          "text": [
            "Logits for hard examples=[tensor([0.0013]), tensor([0.0013])]\n"
          ]
        },
        {
          "output_type": "stream",
          "name": "stderr",
          "text": [
            " 24%|██▍       | 2443/10000 [00:11<00:26, 283.07it/s, logits=[tensor([0.0013]), tensor([0.0013])]]"
          ]
        },
        {
          "output_type": "stream",
          "name": "stdout",
          "text": [
            "Logits for hard examples=[tensor([0.0013]), tensor([0.0013])]\n"
          ]
        },
        {
          "output_type": "stream",
          "name": "stderr",
          "text": [
            " 25%|██▌       | 2532/10000 [00:11<00:26, 283.02it/s, logits=[tensor([0.0013]), tensor([0.0013])]]"
          ]
        },
        {
          "output_type": "stream",
          "name": "stdout",
          "text": [
            "Logits for hard examples=[tensor([0.0013]), tensor([0.0013])]\n"
          ]
        },
        {
          "output_type": "stream",
          "name": "stderr",
          "text": [
            " 26%|██▋       | 2649/10000 [00:12<00:25, 283.37it/s, logits=[tensor([0.0013]), tensor([0.0013])]]"
          ]
        },
        {
          "output_type": "stream",
          "name": "stdout",
          "text": [
            "Logits for hard examples=[tensor([0.0013]), tensor([0.0013])]\n"
          ]
        },
        {
          "output_type": "stream",
          "name": "stderr",
          "text": [
            " 27%|██▋       | 2737/10000 [00:12<00:25, 283.95it/s, logits=[tensor([0.0013]), tensor([0.0013])]]"
          ]
        },
        {
          "output_type": "stream",
          "name": "stdout",
          "text": [
            "Logits for hard examples=[tensor([0.0013]), tensor([0.0013])]\n"
          ]
        },
        {
          "output_type": "stream",
          "name": "stderr",
          "text": [
            " 28%|██▊       | 2827/10000 [00:12<00:25, 286.49it/s, logits=[tensor([0.0013]), tensor([0.0013])]]"
          ]
        },
        {
          "output_type": "stream",
          "name": "stdout",
          "text": [
            "Logits for hard examples=[tensor([0.0013]), tensor([0.0013])]\n"
          ]
        },
        {
          "output_type": "stream",
          "name": "stderr",
          "text": [
            " 29%|██▉       | 2939/10000 [00:13<00:26, 265.75it/s, logits=[tensor([0.0013]), tensor([0.0013])]]"
          ]
        },
        {
          "output_type": "stream",
          "name": "stdout",
          "text": [
            "Logits for hard examples=[tensor([0.0013]), tensor([0.0013])]\n"
          ]
        },
        {
          "output_type": "stream",
          "name": "stderr",
          "text": [
            " 31%|███       | 3054/10000 [00:13<00:25, 276.26it/s, logits=[tensor([0.0013]), tensor([0.0013])]]"
          ]
        },
        {
          "output_type": "stream",
          "name": "stdout",
          "text": [
            "Logits for hard examples=[tensor([0.0013]), tensor([0.0013])]\n"
          ]
        },
        {
          "output_type": "stream",
          "name": "stderr",
          "text": [
            " 31%|███▏      | 3138/10000 [00:14<00:26, 263.32it/s, logits=[tensor([0.0013]), tensor([0.0013])]]"
          ]
        },
        {
          "output_type": "stream",
          "name": "stdout",
          "text": [
            "Logits for hard examples=[tensor([0.0013]), tensor([0.0013])]\n"
          ]
        },
        {
          "output_type": "stream",
          "name": "stderr",
          "text": [
            " 32%|███▏      | 3223/10000 [00:14<00:26, 253.43it/s, logits=[tensor([0.0013]), tensor([0.0013])]]"
          ]
        },
        {
          "output_type": "stream",
          "name": "stdout",
          "text": [
            "Logits for hard examples=[tensor([0.0013]), tensor([0.0013])]\n"
          ]
        },
        {
          "output_type": "stream",
          "name": "stderr",
          "text": [
            " 33%|███▎      | 3341/10000 [00:14<00:24, 274.35it/s, logits=[tensor([0.0013]), tensor([0.0013])]]"
          ]
        },
        {
          "output_type": "stream",
          "name": "stdout",
          "text": [
            "Logits for hard examples=[tensor([0.0013]), tensor([0.0013])]\n"
          ]
        },
        {
          "output_type": "stream",
          "name": "stderr",
          "text": [
            " 34%|███▍      | 3424/10000 [00:15<00:25, 262.03it/s, logits=[tensor([0.0013]), tensor([0.0013])]]"
          ]
        },
        {
          "output_type": "stream",
          "name": "stdout",
          "text": [
            "Logits for hard examples=[tensor([0.0013]), tensor([0.0013])]\n"
          ]
        },
        {
          "output_type": "stream",
          "name": "stderr",
          "text": [
            " 35%|███▌      | 3525/10000 [00:15<00:31, 205.66it/s, logits=[tensor([0.0013]), tensor([0.0013])]]"
          ]
        },
        {
          "output_type": "stream",
          "name": "stdout",
          "text": [
            "Logits for hard examples=[tensor([0.0013]), tensor([0.0013])]\n"
          ]
        },
        {
          "output_type": "stream",
          "name": "stderr",
          "text": [
            " 36%|███▋      | 3637/10000 [00:16<00:25, 249.58it/s, logits=[tensor([0.0013]), tensor([0.0013])]]"
          ]
        },
        {
          "output_type": "stream",
          "name": "stdout",
          "text": [
            "Logits for hard examples=[tensor([0.0013]), tensor([0.0013])]\n"
          ]
        },
        {
          "output_type": "stream",
          "name": "stderr",
          "text": [
            " 37%|███▋      | 3725/10000 [00:16<00:23, 271.61it/s, logits=[tensor([0.0013]), tensor([0.0013])]]"
          ]
        },
        {
          "output_type": "stream",
          "name": "stdout",
          "text": [
            "Logits for hard examples=[tensor([0.0013]), tensor([0.0013])]\n"
          ]
        },
        {
          "output_type": "stream",
          "name": "stderr",
          "text": [
            " 38%|███▊      | 3823/10000 [00:16<00:31, 198.55it/s, logits=[tensor([0.0013]), tensor([0.0013])]]"
          ]
        },
        {
          "output_type": "stream",
          "name": "stdout",
          "text": [
            "Logits for hard examples=[tensor([0.0013]), tensor([0.0013])]\n"
          ]
        },
        {
          "output_type": "stream",
          "name": "stderr",
          "text": [
            " 39%|███▉      | 3924/10000 [00:17<00:37, 160.60it/s, logits=[tensor([0.0013]), tensor([0.0013])]]"
          ]
        },
        {
          "output_type": "stream",
          "name": "stdout",
          "text": [
            "Logits for hard examples=[tensor([0.0013]), tensor([0.0013])]\n"
          ]
        },
        {
          "output_type": "stream",
          "name": "stderr",
          "text": [
            " 40%|████      | 4035/10000 [00:18<00:28, 205.92it/s, logits=[tensor([0.0013]), tensor([0.0013])]]"
          ]
        },
        {
          "output_type": "stream",
          "name": "stdout",
          "text": [
            "Logits for hard examples=[tensor([0.0013]), tensor([0.0013])]\n"
          ]
        },
        {
          "output_type": "stream",
          "name": "stderr",
          "text": [
            " 41%|████      | 4124/10000 [00:18<00:27, 211.35it/s, logits=[tensor([0.0013]), tensor([0.0013])]]"
          ]
        },
        {
          "output_type": "stream",
          "name": "stdout",
          "text": [
            "Logits for hard examples=[tensor([0.0013]), tensor([0.0013])]\n"
          ]
        },
        {
          "output_type": "stream",
          "name": "stderr",
          "text": [
            " 42%|████▏     | 4210/10000 [00:19<00:38, 149.05it/s, logits=[tensor([0.0013]), tensor([0.0013])]]"
          ]
        },
        {
          "output_type": "stream",
          "name": "stdout",
          "text": [
            "Logits for hard examples=[tensor([0.0013]), tensor([0.0013])]\n"
          ]
        },
        {
          "output_type": "stream",
          "name": "stderr",
          "text": [
            " 43%|████▎     | 4324/10000 [00:19<00:33, 169.43it/s, logits=[tensor([0.0013]), tensor([0.0013])]]"
          ]
        },
        {
          "output_type": "stream",
          "name": "stdout",
          "text": [
            "Logits for hard examples=[tensor([0.0013]), tensor([0.0013])]\n"
          ]
        },
        {
          "output_type": "stream",
          "name": "stderr",
          "text": [
            " 44%|████▍     | 4438/10000 [00:20<00:31, 179.09it/s, logits=[tensor([0.0013]), tensor([0.0013])]]"
          ]
        },
        {
          "output_type": "stream",
          "name": "stdout",
          "text": [
            "Logits for hard examples=[tensor([0.0013]), tensor([0.0013])]\n"
          ]
        },
        {
          "output_type": "stream",
          "name": "stderr",
          "text": [
            " 45%|████▌     | 4522/10000 [00:20<00:22, 238.26it/s, logits=[tensor([0.0013]), tensor([0.0013])]]"
          ]
        },
        {
          "output_type": "stream",
          "name": "stdout",
          "text": [
            "Logits for hard examples=[tensor([0.0013]), tensor([0.0013])]\n"
          ]
        },
        {
          "output_type": "stream",
          "name": "stderr",
          "text": [
            " 46%|████▋     | 4627/10000 [00:21<00:25, 213.12it/s, logits=[tensor([0.0013]), tensor([0.0013])]]"
          ]
        },
        {
          "output_type": "stream",
          "name": "stdout",
          "text": [
            "Logits for hard examples=[tensor([0.0013]), tensor([0.0013])]\n"
          ]
        },
        {
          "output_type": "stream",
          "name": "stderr",
          "text": [
            " 47%|████▋     | 4732/10000 [00:21<00:22, 232.76it/s, logits=[tensor([0.0013]), tensor([0.0013])]]"
          ]
        },
        {
          "output_type": "stream",
          "name": "stdout",
          "text": [
            "Logits for hard examples=[tensor([0.0013]), tensor([0.0013])]\n"
          ]
        },
        {
          "output_type": "stream",
          "name": "stderr",
          "text": [
            " 48%|████▊     | 4846/10000 [00:22<00:18, 273.53it/s, logits=[tensor([0.0013]), tensor([0.0013])]]"
          ]
        },
        {
          "output_type": "stream",
          "name": "stdout",
          "text": [
            "Logits for hard examples=[tensor([0.0013]), tensor([0.0013])]\n"
          ]
        },
        {
          "output_type": "stream",
          "name": "stderr",
          "text": [
            " 49%|████▉     | 4936/10000 [00:22<00:17, 285.00it/s, logits=[tensor([0.0013]), tensor([0.0013])]]"
          ]
        },
        {
          "output_type": "stream",
          "name": "stdout",
          "text": [
            "Logits for hard examples=[tensor([0.0013]), tensor([0.0013])]\n"
          ]
        },
        {
          "output_type": "stream",
          "name": "stderr",
          "text": [
            " 50%|█████     | 5049/10000 [00:23<00:18, 265.79it/s, logits=[tensor([0.0013]), tensor([0.0013])]]"
          ]
        },
        {
          "output_type": "stream",
          "name": "stdout",
          "text": [
            "Logits for hard examples=[tensor([0.0013]), tensor([0.0013])]\n"
          ]
        },
        {
          "output_type": "stream",
          "name": "stderr",
          "text": [
            " 51%|█████▏    | 5134/10000 [00:23<00:17, 270.38it/s, logits=[tensor([0.0013]), tensor([0.0013])]]"
          ]
        },
        {
          "output_type": "stream",
          "name": "stdout",
          "text": [
            "Logits for hard examples=[tensor([0.0013]), tensor([0.0013])]\n"
          ]
        },
        {
          "output_type": "stream",
          "name": "stderr",
          "text": [
            " 52%|█████▏    | 5222/10000 [00:23<00:19, 245.32it/s, logits=[tensor([0.0013]), tensor([0.0013])]]"
          ]
        },
        {
          "output_type": "stream",
          "name": "stdout",
          "text": [
            "Logits for hard examples=[tensor([0.0013]), tensor([0.0013])]\n"
          ]
        },
        {
          "output_type": "stream",
          "name": "stderr",
          "text": [
            " 53%|█████▎    | 5329/10000 [00:24<00:19, 233.68it/s, logits=[tensor([0.0013]), tensor([0.0013])]]"
          ]
        },
        {
          "output_type": "stream",
          "name": "stdout",
          "text": [
            "Logits for hard examples=[tensor([0.0013]), tensor([0.0013])]\n"
          ]
        },
        {
          "output_type": "stream",
          "name": "stderr",
          "text": [
            " 54%|█████▍    | 5439/10000 [00:24<00:20, 218.38it/s, logits=[tensor([0.0013]), tensor([0.0013])]]"
          ]
        },
        {
          "output_type": "stream",
          "name": "stdout",
          "text": [
            "Logits for hard examples=[tensor([0.0013]), tensor([0.0013])]\n"
          ]
        },
        {
          "output_type": "stream",
          "name": "stderr",
          "text": [
            " 56%|█████▌    | 5552/10000 [00:25<00:16, 265.20it/s, logits=[tensor([0.0013]), tensor([0.0013])]]"
          ]
        },
        {
          "output_type": "stream",
          "name": "stdout",
          "text": [
            "Logits for hard examples=[tensor([0.0013]), tensor([0.0013])]\n"
          ]
        },
        {
          "output_type": "stream",
          "name": "stderr",
          "text": [
            " 56%|█████▋    | 5642/10000 [00:25<00:15, 280.67it/s, logits=[tensor([0.0013]), tensor([0.0013])]]"
          ]
        },
        {
          "output_type": "stream",
          "name": "stdout",
          "text": [
            "Logits for hard examples=[tensor([0.0013]), tensor([0.0013])]\n"
          ]
        },
        {
          "output_type": "stream",
          "name": "stderr",
          "text": [
            " 57%|█████▋    | 5730/10000 [00:25<00:15, 279.90it/s, logits=[tensor([0.0013]), tensor([0.0013])]]"
          ]
        },
        {
          "output_type": "stream",
          "name": "stdout",
          "text": [
            "Logits for hard examples=[tensor([0.0013]), tensor([0.0013])]\n"
          ]
        },
        {
          "output_type": "stream",
          "name": "stderr",
          "text": [
            " 58%|█████▊    | 5847/10000 [00:26<00:14, 281.36it/s, logits=[tensor([0.0013]), tensor([0.0013])]]"
          ]
        },
        {
          "output_type": "stream",
          "name": "stdout",
          "text": [
            "Logits for hard examples=[tensor([0.0013]), tensor([0.0013])]\n"
          ]
        },
        {
          "output_type": "stream",
          "name": "stderr",
          "text": [
            " 59%|█████▉    | 5934/10000 [00:26<00:14, 282.60it/s, logits=[tensor([0.0013]), tensor([0.0013])]]"
          ]
        },
        {
          "output_type": "stream",
          "name": "stdout",
          "text": [
            "Logits for hard examples=[tensor([0.0013]), tensor([0.0013])]\n"
          ]
        },
        {
          "output_type": "stream",
          "name": "stderr",
          "text": [
            " 60%|██████    | 6025/10000 [00:26<00:14, 281.99it/s, logits=[tensor([0.0013]), tensor([0.0013])]]"
          ]
        },
        {
          "output_type": "stream",
          "name": "stdout",
          "text": [
            "Logits for hard examples=[tensor([0.0013]), tensor([0.0013])]\n"
          ]
        },
        {
          "output_type": "stream",
          "name": "stderr",
          "text": [
            " 61%|██████▏   | 6138/10000 [00:27<00:14, 266.00it/s, logits=[tensor([0.0013]), tensor([0.0013])]]"
          ]
        },
        {
          "output_type": "stream",
          "name": "stdout",
          "text": [
            "Logits for hard examples=[tensor([0.0013]), tensor([0.0013])]\n"
          ]
        },
        {
          "output_type": "stream",
          "name": "stderr",
          "text": [
            " 63%|██████▎   | 6253/10000 [00:27<00:13, 282.34it/s, logits=[tensor([0.0013]), tensor([0.0013])]]"
          ]
        },
        {
          "output_type": "stream",
          "name": "stdout",
          "text": [
            "Logits for hard examples=[tensor([0.0013]), tensor([0.0013])]\n"
          ]
        },
        {
          "output_type": "stream",
          "name": "stderr",
          "text": [
            " 63%|██████▎   | 6339/10000 [00:28<00:13, 263.85it/s, logits=[tensor([0.0013]), tensor([0.0013])]]"
          ]
        },
        {
          "output_type": "stream",
          "name": "stdout",
          "text": [
            "Logits for hard examples=[tensor([0.0013]), tensor([0.0013])]\n"
          ]
        },
        {
          "output_type": "stream",
          "name": "stderr",
          "text": [
            " 65%|██████▍   | 6456/10000 [00:28<00:12, 278.89it/s, logits=[tensor([0.0013]), tensor([0.0013])]]"
          ]
        },
        {
          "output_type": "stream",
          "name": "stdout",
          "text": [
            "Logits for hard examples=[tensor([0.0013]), tensor([0.0013])]\n"
          ]
        },
        {
          "output_type": "stream",
          "name": "stderr",
          "text": [
            " 65%|██████▌   | 6542/10000 [00:28<00:12, 282.37it/s, logits=[tensor([0.0013]), tensor([0.0013])]]"
          ]
        },
        {
          "output_type": "stream",
          "name": "stdout",
          "text": [
            "Logits for hard examples=[tensor([0.0013]), tensor([0.0013])]\n"
          ]
        },
        {
          "output_type": "stream",
          "name": "stderr",
          "text": [
            " 67%|██████▋   | 6656/10000 [00:29<00:12, 272.48it/s, logits=[tensor([0.0013]), tensor([0.0013])]]"
          ]
        },
        {
          "output_type": "stream",
          "name": "stdout",
          "text": [
            "Logits for hard examples=[tensor([0.0013]), tensor([0.0013])]\n"
          ]
        },
        {
          "output_type": "stream",
          "name": "stderr",
          "text": [
            " 67%|██████▋   | 6740/10000 [00:29<00:11, 272.28it/s, logits=[tensor([0.0013]), tensor([0.0013])]]"
          ]
        },
        {
          "output_type": "stream",
          "name": "stdout",
          "text": [
            "Logits for hard examples=[tensor([0.0013]), tensor([0.0013])]\n"
          ]
        },
        {
          "output_type": "stream",
          "name": "stderr",
          "text": [
            " 68%|██████▊   | 6829/10000 [00:29<00:11, 281.09it/s, logits=[tensor([0.0013]), tensor([0.0013])]]"
          ]
        },
        {
          "output_type": "stream",
          "name": "stdout",
          "text": [
            "Logits for hard examples=[tensor([0.0013]), tensor([0.0013])]\n"
          ]
        },
        {
          "output_type": "stream",
          "name": "stderr",
          "text": [
            " 69%|██████▉   | 6948/10000 [00:30<00:11, 276.00it/s, logits=[tensor([0.0013]), tensor([0.0013])]]"
          ]
        },
        {
          "output_type": "stream",
          "name": "stdout",
          "text": [
            "Logits for hard examples=[tensor([0.0013]), tensor([0.0013])]\n"
          ]
        },
        {
          "output_type": "stream",
          "name": "stderr",
          "text": [
            " 70%|███████   | 7032/10000 [00:30<00:10, 276.51it/s, logits=[tensor([0.0013]), tensor([0.0013])]]"
          ]
        },
        {
          "output_type": "stream",
          "name": "stdout",
          "text": [
            "Logits for hard examples=[tensor([0.0013]), tensor([0.0013])]\n"
          ]
        },
        {
          "output_type": "stream",
          "name": "stderr",
          "text": [
            " 71%|███████   | 7111/10000 [00:30<00:14, 197.30it/s, logits=[tensor([0.0013]), tensor([0.0013])]]"
          ]
        },
        {
          "output_type": "stream",
          "name": "stdout",
          "text": [
            "Logits for hard examples=[tensor([0.0013]), tensor([0.0013])]\n"
          ]
        },
        {
          "output_type": "stream",
          "name": "stderr",
          "text": [
            " 72%|███████▏  | 7222/10000 [00:31<00:13, 198.54it/s, logits=[tensor([0.0013]), tensor([0.0013])]]"
          ]
        },
        {
          "output_type": "stream",
          "name": "stdout",
          "text": [
            "Logits for hard examples=[tensor([0.0013]), tensor([0.0013])]\n"
          ]
        },
        {
          "output_type": "stream",
          "name": "stderr",
          "text": [
            " 73%|███████▎  | 7337/10000 [00:32<00:13, 198.61it/s, logits=[tensor([0.0013]), tensor([0.0013])]]"
          ]
        },
        {
          "output_type": "stream",
          "name": "stdout",
          "text": [
            "Logits for hard examples=[tensor([0.0013]), tensor([0.0013])]\n"
          ]
        },
        {
          "output_type": "stream",
          "name": "stderr",
          "text": [
            " 74%|███████▍  | 7428/10000 [00:32<00:12, 209.01it/s, logits=[tensor([0.0013]), tensor([0.0013])]]"
          ]
        },
        {
          "output_type": "stream",
          "name": "stdout",
          "text": [
            "Logits for hard examples=[tensor([0.0013]), tensor([0.0013])]\n"
          ]
        },
        {
          "output_type": "stream",
          "name": "stderr",
          "text": [
            " 75%|███████▌  | 7531/10000 [00:33<00:14, 176.11it/s, logits=[tensor([0.0013]), tensor([0.0013])]]"
          ]
        },
        {
          "output_type": "stream",
          "name": "stdout",
          "text": [
            "Logits for hard examples=[tensor([0.0013]), tensor([0.0013])]\n"
          ]
        },
        {
          "output_type": "stream",
          "name": "stderr",
          "text": [
            " 76%|███████▋  | 7634/10000 [00:33<00:12, 190.50it/s, logits=[tensor([0.0013]), tensor([0.0013])]]"
          ]
        },
        {
          "output_type": "stream",
          "name": "stdout",
          "text": [
            "Logits for hard examples=[tensor([0.0013]), tensor([0.0013])]\n"
          ]
        },
        {
          "output_type": "stream",
          "name": "stderr",
          "text": [
            " 78%|███████▊  | 7751/10000 [00:34<00:09, 230.83it/s, logits=[tensor([0.0013]), tensor([0.0013])]]"
          ]
        },
        {
          "output_type": "stream",
          "name": "stdout",
          "text": [
            "Logits for hard examples=[tensor([0.0013]), tensor([0.0013])]\n"
          ]
        },
        {
          "output_type": "stream",
          "name": "stderr",
          "text": [
            " 78%|███████▊  | 7838/10000 [00:34<00:08, 267.25it/s, logits=[tensor([0.0013]), tensor([0.0013])]]"
          ]
        },
        {
          "output_type": "stream",
          "name": "stdout",
          "text": [
            "Logits for hard examples=[tensor([0.0013]), tensor([0.0013])]\n"
          ]
        },
        {
          "output_type": "stream",
          "name": "stderr",
          "text": [
            " 80%|███████▉  | 7958/10000 [00:34<00:07, 286.75it/s, logits=[tensor([0.0013]), tensor([0.0013])]]"
          ]
        },
        {
          "output_type": "stream",
          "name": "stdout",
          "text": [
            "Logits for hard examples=[tensor([0.0013]), tensor([0.0013])]\n"
          ]
        },
        {
          "output_type": "stream",
          "name": "stderr",
          "text": [
            " 80%|████████  | 8043/10000 [00:35<00:07, 268.88it/s, logits=[tensor([0.0013]), tensor([0.0013])]]"
          ]
        },
        {
          "output_type": "stream",
          "name": "stdout",
          "text": [
            "Logits for hard examples=[tensor([0.0013]), tensor([0.0013])]\n"
          ]
        },
        {
          "output_type": "stream",
          "name": "stderr",
          "text": [
            " 81%|████████▏ | 8132/10000 [00:35<00:06, 283.56it/s, logits=[tensor([0.0013]), tensor([0.0013])]]"
          ]
        },
        {
          "output_type": "stream",
          "name": "stdout",
          "text": [
            "Logits for hard examples=[tensor([0.0013]), tensor([0.0013])]\n"
          ]
        },
        {
          "output_type": "stream",
          "name": "stderr",
          "text": [
            " 82%|████████▎ | 8250/10000 [00:36<00:06, 274.30it/s, logits=[tensor([0.0013]), tensor([0.0013])]]"
          ]
        },
        {
          "output_type": "stream",
          "name": "stdout",
          "text": [
            "Logits for hard examples=[tensor([0.0013]), tensor([0.0013])]\n"
          ]
        },
        {
          "output_type": "stream",
          "name": "stderr",
          "text": [
            " 83%|████████▎ | 8337/10000 [00:36<00:06, 270.72it/s, logits=[tensor([0.0013]), tensor([0.0013])]]"
          ]
        },
        {
          "output_type": "stream",
          "name": "stdout",
          "text": [
            "Logits for hard examples=[tensor([0.0013]), tensor([0.0013])]\n"
          ]
        },
        {
          "output_type": "stream",
          "name": "stderr",
          "text": [
            " 85%|████████▍ | 8459/10000 [00:36<00:05, 293.05it/s, logits=[tensor([0.0013]), tensor([0.0013])]]"
          ]
        },
        {
          "output_type": "stream",
          "name": "stdout",
          "text": [
            "Logits for hard examples=[tensor([0.0013]), tensor([0.0013])]\n"
          ]
        },
        {
          "output_type": "stream",
          "name": "stderr",
          "text": [
            " 86%|████████▌ | 8550/10000 [00:37<00:05, 286.48it/s, logits=[tensor([0.0013]), tensor([0.0013])]]"
          ]
        },
        {
          "output_type": "stream",
          "name": "stdout",
          "text": [
            "Logits for hard examples=[tensor([0.0013]), tensor([0.0013])]\n"
          ]
        },
        {
          "output_type": "stream",
          "name": "stderr",
          "text": [
            " 86%|████████▋ | 8637/10000 [00:37<00:05, 268.49it/s, logits=[tensor([0.0013]), tensor([0.0013])]]"
          ]
        },
        {
          "output_type": "stream",
          "name": "stdout",
          "text": [
            "Logits for hard examples=[tensor([0.0013]), tensor([0.0013])]\n"
          ]
        },
        {
          "output_type": "stream",
          "name": "stderr",
          "text": [
            " 88%|████████▊ | 8753/10000 [00:37<00:04, 282.02it/s, logits=[tensor([0.0013]), tensor([0.0013])]]"
          ]
        },
        {
          "output_type": "stream",
          "name": "stdout",
          "text": [
            "Logits for hard examples=[tensor([0.0013]), tensor([0.0013])]\n"
          ]
        },
        {
          "output_type": "stream",
          "name": "stderr",
          "text": [
            " 88%|████████▊ | 8842/10000 [00:38<00:04, 277.99it/s, logits=[tensor([0.0013]), tensor([0.0013])]]"
          ]
        },
        {
          "output_type": "stream",
          "name": "stdout",
          "text": [
            "Logits for hard examples=[tensor([0.0013]), tensor([0.0013])]\n"
          ]
        },
        {
          "output_type": "stream",
          "name": "stderr",
          "text": [
            " 89%|████████▉ | 8930/10000 [00:38<00:03, 274.21it/s, logits=[tensor([0.0013]), tensor([0.0013])]]"
          ]
        },
        {
          "output_type": "stream",
          "name": "stdout",
          "text": [
            "Logits for hard examples=[tensor([0.0013]), tensor([0.0013])]\n"
          ]
        },
        {
          "output_type": "stream",
          "name": "stderr",
          "text": [
            " 90%|█████████ | 9050/10000 [00:38<00:03, 284.69it/s, logits=[tensor([0.0013]), tensor([0.0013])]]"
          ]
        },
        {
          "output_type": "stream",
          "name": "stdout",
          "text": [
            "Logits for hard examples=[tensor([0.0013]), tensor([0.0013])]\n"
          ]
        },
        {
          "output_type": "stream",
          "name": "stderr",
          "text": [
            " 91%|█████████▏| 9139/10000 [00:39<00:03, 277.66it/s, logits=[tensor([0.0013]), tensor([0.0013])]]"
          ]
        },
        {
          "output_type": "stream",
          "name": "stdout",
          "text": [
            "Logits for hard examples=[tensor([0.0013]), tensor([0.0013])]\n"
          ]
        },
        {
          "output_type": "stream",
          "name": "stderr",
          "text": [
            " 93%|█████████▎| 9253/10000 [00:39<00:02, 276.96it/s, logits=[tensor([0.0013]), tensor([0.0013])]]"
          ]
        },
        {
          "output_type": "stream",
          "name": "stdout",
          "text": [
            "Logits for hard examples=[tensor([0.0013]), tensor([0.0013])]\n"
          ]
        },
        {
          "output_type": "stream",
          "name": "stderr",
          "text": [
            " 93%|█████████▎| 9341/10000 [00:39<00:02, 286.22it/s, logits=[tensor([0.0013]), tensor([0.0013])]]"
          ]
        },
        {
          "output_type": "stream",
          "name": "stdout",
          "text": [
            "Logits for hard examples=[tensor([0.0013]), tensor([0.0013])]\n"
          ]
        },
        {
          "output_type": "stream",
          "name": "stderr",
          "text": [
            " 94%|█████████▍| 9429/10000 [00:40<00:02, 276.09it/s, logits=[tensor([0.0013]), tensor([0.0013])]]"
          ]
        },
        {
          "output_type": "stream",
          "name": "stdout",
          "text": [
            "Logits for hard examples=[tensor([0.0013]), tensor([0.0013])]\n"
          ]
        },
        {
          "output_type": "stream",
          "name": "stderr",
          "text": [
            " 95%|█████████▌| 9543/10000 [00:40<00:01, 277.80it/s, logits=[tensor([0.0013]), tensor([0.0013])]]"
          ]
        },
        {
          "output_type": "stream",
          "name": "stdout",
          "text": [
            "Logits for hard examples=[tensor([0.0013]), tensor([0.0013])]\n"
          ]
        },
        {
          "output_type": "stream",
          "name": "stderr",
          "text": [
            " 96%|█████████▋| 9631/10000 [00:40<00:01, 280.79it/s, logits=[tensor([0.0013]), tensor([0.0013])]]"
          ]
        },
        {
          "output_type": "stream",
          "name": "stdout",
          "text": [
            "Logits for hard examples=[tensor([0.0013]), tensor([0.0013])]\n"
          ]
        },
        {
          "output_type": "stream",
          "name": "stderr",
          "text": [
            " 97%|█████████▋| 9745/10000 [00:41<00:00, 261.40it/s, logits=[tensor([0.0013]), tensor([0.0013])]]"
          ]
        },
        {
          "output_type": "stream",
          "name": "stdout",
          "text": [
            "Logits for hard examples=[tensor([0.0013]), tensor([0.0013])]\n"
          ]
        },
        {
          "output_type": "stream",
          "name": "stderr",
          "text": [
            " 99%|█████████▊| 9859/10000 [00:41<00:00, 275.66it/s, logits=[tensor([0.0013]), tensor([0.0013])]]"
          ]
        },
        {
          "output_type": "stream",
          "name": "stdout",
          "text": [
            "Logits for hard examples=[tensor([0.0013]), tensor([0.0013])]\n"
          ]
        },
        {
          "output_type": "stream",
          "name": "stderr",
          "text": [
            "100%|█████████▉| 9950/10000 [00:42<00:00, 276.58it/s, logits=[tensor([0.0013]), tensor([0.0013])]]"
          ]
        },
        {
          "output_type": "stream",
          "name": "stdout",
          "text": [
            "Logits for hard examples=[tensor([0.0013]), tensor([0.0013])]\n"
          ]
        },
        {
          "output_type": "stream",
          "name": "stderr",
          "text": [
            "100%|██████████| 10000/10000 [00:42<00:00, 236.28it/s, logits=[tensor([0.0013]), tensor([0.0013])]]\n"
          ]
        }
      ]
    },
    {
      "cell_type": "code",
      "source": [
        "SEQUENCE_LEN = 10\n",
        "HARD_EXAMPLES = [([0.]+(SEQUENCE_LEN-1)*[1.], 0),\n",
        "                 (SEQUENCE_LEN*[1.], 1)]\n",
        "EXAMPLES = [(SEQUENCE_LEN*[1.], 1)]\n",
        "for i in range(SEQUENCE_LEN):\n",
        "    EXAMPLES.append((i*[1.]+[0.]+(SEQUENCE_LEN-1-i)*[1.], 0))\n",
        "\n",
        "def train_model(hidden_dim: int, lr: float, num_steps: int = 10000):\n",
        "    model = Model(hidden_dim=hidden_dim)\n",
        "    loss_function = nn.BCEWithLogitsLoss()\n",
        "    optimizer = optim.SGD(model.parameters(), lr=lr, momentum=0.99)\n",
        "\n",
        "    pbar = tqdm(range(num_steps))\n",
        "    for step in pbar:\n",
        "        if step % 100 == 0:\n",
        "            logits = eval_on_hard_examples(model)\n",
        "            pbar.set_postfix(logits=logits)\n",
        "\n",
        "        for sequence, label in EXAMPLES:\n",
        "            model.zero_grad()\n",
        "            logit = model(torch.tensor(sequence).view(-1, 1, 1))\n",
        "\n",
        "            loss = loss_function(logit.view(-1), torch.tensor([label], dtype=torch.float32))\n",
        "            loss.backward()\n",
        "\n",
        "            optimizer.step()\n",
        "\n",
        "train_model(hidden_dim=20, lr=0.01, num_steps=1000)"
      ],
      "metadata": {
        "colab": {
          "base_uri": "https://localhost:8080/"
        },
        "id": "k31Z_re5qxJ6",
        "outputId": "1b29605a-90c7-4012-be15-e7aa348ce8a2"
      },
      "execution_count": null,
      "outputs": [
        {
          "output_type": "stream",
          "name": "stderr",
          "text": [
            "  1%|          | 6/1000 [00:00<00:18, 53.34it/s, logits=[tensor([-0.2119]), tensor([-0.2118])]]"
          ]
        },
        {
          "output_type": "stream",
          "name": "stdout",
          "text": [
            "Logits for hard examples=[tensor([-0.2119]), tensor([-0.2118])]\n"
          ]
        },
        {
          "output_type": "stream",
          "name": "stderr",
          "text": [
            " 11%|█         | 108/1000 [00:01<00:16, 54.04it/s, logits=[tensor([-2.0934]), tensor([-2.0924])]]"
          ]
        },
        {
          "output_type": "stream",
          "name": "stdout",
          "text": [
            "Logits for hard examples=[tensor([-2.0934]), tensor([-2.0924])]\n"
          ]
        },
        {
          "output_type": "stream",
          "name": "stderr",
          "text": [
            " 21%|██        | 210/1000 [00:03<00:14, 55.81it/s, logits=[tensor([-6.8077]), tensor([4.2476])]]"
          ]
        },
        {
          "output_type": "stream",
          "name": "stdout",
          "text": [
            "Logits for hard examples=[tensor([-6.8077]), tensor([4.2476])]\n"
          ]
        },
        {
          "output_type": "stream",
          "name": "stderr",
          "text": [
            " 31%|███       | 307/1000 [00:05<00:17, 40.24it/s, logits=[tensor([-8.5307]), tensor([5.8605])]]"
          ]
        },
        {
          "output_type": "stream",
          "name": "stdout",
          "text": [
            "Logits for hard examples=[tensor([-8.5307]), tensor([5.8605])]\n"
          ]
        },
        {
          "output_type": "stream",
          "name": "stderr",
          "text": [
            " 41%|████      | 409/1000 [00:08<00:11, 52.32it/s, logits=[tensor([-9.2248]), tensor([6.3836])]]"
          ]
        },
        {
          "output_type": "stream",
          "name": "stdout",
          "text": [
            "Logits for hard examples=[tensor([-9.2248]), tensor([6.3836])]\n"
          ]
        },
        {
          "output_type": "stream",
          "name": "stderr",
          "text": [
            " 51%|█████     | 511/1000 [00:10<00:08, 55.24it/s, logits=[tensor([-9.6770]), tensor([6.8006])]]"
          ]
        },
        {
          "output_type": "stream",
          "name": "stdout",
          "text": [
            "Logits for hard examples=[tensor([-9.6770]), tensor([6.8006])]\n"
          ]
        },
        {
          "output_type": "stream",
          "name": "stderr",
          "text": [
            " 61%|██████    | 607/1000 [00:11<00:07, 55.73it/s, logits=[tensor([-10.0151]), tensor([7.0775])]]"
          ]
        },
        {
          "output_type": "stream",
          "name": "stdout",
          "text": [
            "Logits for hard examples=[tensor([-10.0151]), tensor([7.0775])]\n"
          ]
        },
        {
          "output_type": "stream",
          "name": "stderr",
          "text": [
            " 71%|███████   | 709/1000 [00:13<00:05, 54.62it/s, logits=[tensor([-10.2883]), tensor([7.2413])]]"
          ]
        },
        {
          "output_type": "stream",
          "name": "stdout",
          "text": [
            "Logits for hard examples=[tensor([-10.2883]), tensor([7.2413])]\n"
          ]
        },
        {
          "output_type": "stream",
          "name": "stderr",
          "text": [
            " 81%|████████  | 811/1000 [00:15<00:03, 54.18it/s, logits=[tensor([-10.5136]), tensor([7.4703])]]"
          ]
        },
        {
          "output_type": "stream",
          "name": "stdout",
          "text": [
            "Logits for hard examples=[tensor([-10.5136]), tensor([7.4703])]\n"
          ]
        },
        {
          "output_type": "stream",
          "name": "stderr",
          "text": [
            " 91%|█████████ | 907/1000 [00:17<00:01, 54.75it/s, logits=[tensor([-10.7088]), tensor([7.5540])]]"
          ]
        },
        {
          "output_type": "stream",
          "name": "stdout",
          "text": [
            "Logits for hard examples=[tensor([-10.7088]), tensor([7.5540])]\n"
          ]
        },
        {
          "output_type": "stream",
          "name": "stderr",
          "text": [
            "100%|██████████| 1000/1000 [00:19<00:00, 50.74it/s, logits=[tensor([-10.7088]), tensor([7.5540])]]\n"
          ]
        }
      ]
    },
    {
      "cell_type": "code",
      "source": [
        "SEQUENCE_LEN = 6\n",
        "HARD_EXAMPLES = [([0.]+(SEQUENCE_LEN-1)*[1.], 0),\n",
        "                 (SEQUENCE_LEN*[1.], 1)]\n",
        "EXAMPLES = [(SEQUENCE_LEN*[1.], 1)]\n",
        "for i in range(SEQUENCE_LEN):\n",
        "    EXAMPLES.append((i*[1.]+[0.]+(SEQUENCE_LEN-1-i)*[1.], 0))\n",
        "\n",
        "class Model(nn.Module):\n",
        "    def __init__(self, hidden_dim: int):\n",
        "        super(Model, self).__init__()\n",
        "        self.hidden_dim = hidden_dim\n",
        "        self.rnn = nn.RNN(1, self.hidden_dim)\n",
        "        self.hidden2label = nn.Linear(hidden_dim, 1)\n",
        "\n",
        "    def forward(self, x: torch.Tensor) -> torch.Tensor:\n",
        "        out, _ = self.rnn(x)\n",
        "        sequence_len = x.shape[0]\n",
        "        logits = self.hidden2label(F.relu(out[-1].view(-1)))\n",
        "        return logits\n",
        "\n",
        "train_model(hidden_dim=20, lr=0.001, num_steps=2000)"
      ],
      "metadata": {
        "colab": {
          "base_uri": "https://localhost:8080/"
        },
        "id": "n8iCX9InsrhX",
        "outputId": "7b4025f5-9658-4e3b-ac19-f921a701d8ab"
      },
      "execution_count": null,
      "outputs": [
        {
          "output_type": "stream",
          "name": "stderr",
          "text": [
            "  0%|          | 7/2000 [00:00<00:31, 63.65it/s, logits=[tensor([0.0076]), tensor([0.0054])]]"
          ]
        },
        {
          "output_type": "stream",
          "name": "stdout",
          "text": [
            "Logits for hard examples=[tensor([0.0076]), tensor([0.0054])]\n"
          ]
        },
        {
          "output_type": "stream",
          "name": "stderr",
          "text": [
            "  5%|▌         | 109/2000 [00:01<00:31, 59.31it/s, logits=[tensor([-1.7686]), tensor([-1.7685])]]"
          ]
        },
        {
          "output_type": "stream",
          "name": "stdout",
          "text": [
            "Logits for hard examples=[tensor([-1.7686]), tensor([-1.7685])]\n"
          ]
        },
        {
          "output_type": "stream",
          "name": "stderr",
          "text": [
            " 10%|█         | 210/2000 [00:03<00:22, 80.16it/s, logits=[tensor([-1.7142]), tensor([-1.7130])]]"
          ]
        },
        {
          "output_type": "stream",
          "name": "stdout",
          "text": [
            "Logits for hard examples=[tensor([-1.7142]), tensor([-1.7130])]\n"
          ]
        },
        {
          "output_type": "stream",
          "name": "stderr",
          "text": [
            " 16%|█▌        | 312/2000 [00:04<00:20, 81.00it/s, logits=[tensor([-1.5709]), tensor([-1.5707])]]"
          ]
        },
        {
          "output_type": "stream",
          "name": "stdout",
          "text": [
            "Logits for hard examples=[tensor([-1.5709]), tensor([-1.5707])]\n"
          ]
        },
        {
          "output_type": "stream",
          "name": "stderr",
          "text": [
            " 21%|██        | 415/2000 [00:05<00:18, 86.67it/s, logits=[tensor([-2.5011]), tensor([-0.8184])]]"
          ]
        },
        {
          "output_type": "stream",
          "name": "stdout",
          "text": [
            "Logits for hard examples=[tensor([-2.5011]), tensor([-0.8184])]\n"
          ]
        },
        {
          "output_type": "stream",
          "name": "stderr",
          "text": [
            " 26%|██▌       | 516/2000 [00:06<00:16, 87.46it/s, logits=[tensor([-1.4687]), tensor([-1.5650])]]"
          ]
        },
        {
          "output_type": "stream",
          "name": "stdout",
          "text": [
            "Logits for hard examples=[tensor([-1.4687]), tensor([-1.5650])]\n"
          ]
        },
        {
          "output_type": "stream",
          "name": "stderr",
          "text": [
            " 31%|███       | 616/2000 [00:07<00:16, 84.01it/s, logits=[tensor([-1.6806]), tensor([-1.6586])]]"
          ]
        },
        {
          "output_type": "stream",
          "name": "stdout",
          "text": [
            "Logits for hard examples=[tensor([-1.6806]), tensor([-1.6586])]\n"
          ]
        },
        {
          "output_type": "stream",
          "name": "stderr",
          "text": [
            " 36%|███▌      | 711/2000 [00:08<00:15, 85.73it/s, logits=[tensor([-5.1315]), tensor([-0.5626])]]"
          ]
        },
        {
          "output_type": "stream",
          "name": "stdout",
          "text": [
            "Logits for hard examples=[tensor([-5.1315]), tensor([-0.5626])]\n"
          ]
        },
        {
          "output_type": "stream",
          "name": "stderr",
          "text": [
            " 41%|████      | 814/2000 [00:10<00:13, 85.94it/s, logits=[tensor([-4.5422]), tensor([1.8673])]]"
          ]
        },
        {
          "output_type": "stream",
          "name": "stdout",
          "text": [
            "Logits for hard examples=[tensor([-4.5422]), tensor([1.8673])]\n"
          ]
        },
        {
          "output_type": "stream",
          "name": "stderr",
          "text": [
            " 46%|████▌     | 915/2000 [00:11<00:12, 83.95it/s, logits=[tensor([-7.8217]), tensor([2.9070])]]"
          ]
        },
        {
          "output_type": "stream",
          "name": "stdout",
          "text": [
            "Logits for hard examples=[tensor([-7.8217]), tensor([2.9070])]\n"
          ]
        },
        {
          "output_type": "stream",
          "name": "stderr",
          "text": [
            " 50%|█████     | 1005/2000 [00:12<00:14, 70.55it/s, logits=[tensor([-8.5959]), tensor([3.4016])]]"
          ]
        },
        {
          "output_type": "stream",
          "name": "stdout",
          "text": [
            "Logits for hard examples=[tensor([-8.5959]), tensor([3.4016])]\n"
          ]
        },
        {
          "output_type": "stream",
          "name": "stderr",
          "text": [
            " 55%|█████▌    | 1106/2000 [00:14<00:14, 61.20it/s, logits=[tensor([-9.0880]), tensor([3.7487])]]"
          ]
        },
        {
          "output_type": "stream",
          "name": "stdout",
          "text": [
            "Logits for hard examples=[tensor([-9.0880]), tensor([3.7487])]\n"
          ]
        },
        {
          "output_type": "stream",
          "name": "stderr",
          "text": [
            " 60%|██████    | 1210/2000 [00:15<00:10, 74.69it/s, logits=[tensor([-9.5166]), tensor([4.0050])]]"
          ]
        },
        {
          "output_type": "stream",
          "name": "stdout",
          "text": [
            "Logits for hard examples=[tensor([-9.5166]), tensor([4.0050])]\n"
          ]
        },
        {
          "output_type": "stream",
          "name": "stderr",
          "text": [
            " 66%|██████▌   | 1311/2000 [00:16<00:07, 87.75it/s, logits=[tensor([-9.8456]), tensor([4.2067])]]"
          ]
        },
        {
          "output_type": "stream",
          "name": "stdout",
          "text": [
            "Logits for hard examples=[tensor([-9.8456]), tensor([4.2067])]\n"
          ]
        },
        {
          "output_type": "stream",
          "name": "stderr",
          "text": [
            " 71%|███████   | 1415/2000 [00:18<00:06, 86.52it/s, logits=[tensor([-10.1034]), tensor([4.3848])]]"
          ]
        },
        {
          "output_type": "stream",
          "name": "stdout",
          "text": [
            "Logits for hard examples=[tensor([-10.1034]), tensor([4.3848])]\n"
          ]
        },
        {
          "output_type": "stream",
          "name": "stderr",
          "text": [
            " 76%|███████▌  | 1517/2000 [00:19<00:05, 85.00it/s, logits=[tensor([-10.3488]), tensor([4.5285])]]"
          ]
        },
        {
          "output_type": "stream",
          "name": "stdout",
          "text": [
            "Logits for hard examples=[tensor([-10.3488]), tensor([4.5285])]\n"
          ]
        },
        {
          "output_type": "stream",
          "name": "stderr",
          "text": [
            " 81%|████████  | 1617/2000 [00:20<00:04, 87.26it/s, logits=[tensor([-10.5614]), tensor([4.6622])]]"
          ]
        },
        {
          "output_type": "stream",
          "name": "stdout",
          "text": [
            "Logits for hard examples=[tensor([-10.5614]), tensor([4.6622])]\n"
          ]
        },
        {
          "output_type": "stream",
          "name": "stderr",
          "text": [
            " 86%|████████▌ | 1711/2000 [00:21<00:03, 89.23it/s, logits=[tensor([-10.7323]), tensor([4.7776])]]"
          ]
        },
        {
          "output_type": "stream",
          "name": "stdout",
          "text": [
            "Logits for hard examples=[tensor([-10.7323]), tensor([4.7776])]\n"
          ]
        },
        {
          "output_type": "stream",
          "name": "stderr",
          "text": [
            " 91%|█████████ | 1814/2000 [00:22<00:02, 88.24it/s, logits=[tensor([-10.9042]), tensor([4.8795])]]"
          ]
        },
        {
          "output_type": "stream",
          "name": "stdout",
          "text": [
            "Logits for hard examples=[tensor([-10.9042]), tensor([4.8795])]\n"
          ]
        },
        {
          "output_type": "stream",
          "name": "stderr",
          "text": [
            " 96%|█████████▌| 1914/2000 [00:23<00:01, 81.17it/s, logits=[tensor([-11.0520]), tensor([4.9670])]]"
          ]
        },
        {
          "output_type": "stream",
          "name": "stdout",
          "text": [
            "Logits for hard examples=[tensor([-11.0520]), tensor([4.9670])]\n"
          ]
        },
        {
          "output_type": "stream",
          "name": "stderr",
          "text": [
            "100%|██████████| 2000/2000 [00:24<00:00, 80.73it/s, logits=[tensor([-11.0520]), tensor([4.9670])]]\n"
          ]
        }
      ]
    }
  ],
  "metadata": {
    "anaconda-cloud": {},
    "kernelspec": {
      "display_name": "python",
      "language": "python",
      "name": "python3"
    },
    "colab": {
      "provenance": []
    }
  },
  "nbformat": 4,
  "nbformat_minor": 0
}