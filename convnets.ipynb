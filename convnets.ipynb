{
  "cells": [
    {
      "cell_type": "markdown",
      "metadata": {
        "id": "BfdcY0Vq6e80"
      },
      "source": [
        "<center><img src='https://drive.google.com/uc?id=1_utx_ZGclmCwNttSe40kYA6VHzNocdET' height=\"60\"></center>\n",
        "\n",
        "AI TECH - Akademia Innowacyjnych Zastosowań Technologii Cyfrowych. Program Operacyjny Polska Cyfrowa na lata 2014-2020\n",
        "<hr>\n",
        "\n",
        "<center><img src='https://drive.google.com/uc?id=1BXZ0u3562N_MqCLcekI-Ens77Kk4LpPm'></center>\n",
        "\n",
        "<center>\n",
        "Projekt współfinansowany ze środków Unii Europejskiej w ramach Europejskiego Funduszu Rozwoju Regionalnego\n",
        "Program Operacyjny Polska Cyfrowa na lata 2014-2020,\n",
        "Oś Priorytetowa nr 3 \"Cyfrowe kompetencje społeczeństwa\" Działanie  nr 3.2 \"Innowacyjne rozwiązania na rzecz aktywizacji cyfrowej\"\n",
        "Tytuł projektu:  „Akademia Innowacyjnych Zastosowań Technologii Cyfrowych (AI Tech)”\n",
        "    </center>"
      ]
    },
    {
      "cell_type": "markdown",
      "metadata": {
        "id": "gcTwzhX8fBqs"
      },
      "source": [
        "Code based on https://github.com/pytorch/examples/blob/master/mnist/main.py\n",
        "\n",
        "This exercise covers two aspects:\n",
        "* In tasks 1-6 you will implement mechanisms that allow training deeper models (better initialization, batch normalization). Note that for dropout and batch norm you are expected to implement it yourself without relying on ready-made components from Pytorch. After doing each of the tasks you can look at the plots and check how your changes impact gradients of network layers.\n",
        "* In task 7 you will implement a convnet using [conv2d](https://pytorch.org/docs/stable/generated/torch.nn.Conv2d.html).\n",
        "\n",
        "\n",
        "Tasks:\n",
        "1. Check that the given implementation reaches 95% test accuracy for\n",
        "   architecture input-64-64-10 in a few thousand batches.\n",
        "2. Improve initialization and check that the network learns much faster\n",
        "   and reaches over 97% test accuracy. A good basic initialization scheme is so-called Glorot initialization. For a set of weights going from a layer with $n_{in}$ neurons to a layer with $n_{out}$ neurons, it samples each weight from normal distribution with $0$ mean and standard deviation of $\\sqrt{\\frac{2}{n_{in}+n_{out}}}$.  \n",
        "Check how better initialization changes distribution of gradients at the first epoch.\n",
        "3. Check, that with proper initialization we can train architecture\n",
        "   input-64-64-64-64-64-10, while with bad initialization it does\n",
        "   not even get off the ground.\n",
        "4. Add dropout implemented in pytorch (but without using torch.nn.Dropout)\n",
        "5. Check that with 10 hidden layers (64 units each) even with proper\n",
        "    initialization the network has a hard time to start learning.\n",
        "6. Implement batch normalization (use train mode also for testing - it should perform well enough):\n",
        "    * compute batch mean and variance\n",
        "    * add new variables beta and gamma\n",
        "    * check that the networks learns much faster for 5 layers\n",
        "    * check that the network learns even for 10 hidden layers.\n",
        "    * check how gradients change in comparison to network without batch norm.\n",
        "7. So far we worked with a fully connected network. Design and implement in pytorch (by using pytorch functions) a simple convolutional network and achieve 99% test accuracy. The architecture is up to you, but even a few convolutional layers should be enough."
      ]
    },
    {
      "cell_type": "code",
      "execution_count": null,
      "metadata": {
        "id": "IYAsziKffBFV"
      },
      "outputs": [],
      "source": [
        "import sys\n",
        "import math\n",
        "import torch\n",
        "import torch.nn as nn\n",
        "import torch.nn.functional as F\n",
        "import torch.optim as optim\n",
        "from torch.nn.parameter import Parameter\n",
        "from torch.nn import init\n",
        "import torchvision\n",
        "import torchvision.transforms as transforms\n",
        "import plotly.express as px\n",
        "import plotly.graph_objects as go\n",
        "from plotly.subplots import make_subplots\n",
        "\n",
        "if 'google.colab' in sys.modules:\n",
        "    from google.colab import output\n",
        "    output.enable_custom_widget_manager()"
      ]
    },
    {
      "cell_type": "code",
      "execution_count": null,
      "metadata": {
        "cellView": "form",
        "collapsed": true,
        "id": "D2cTAah4oMkJ"
      },
      "outputs": [],
      "source": [
        "# @title Visualize gradients\n",
        "\n",
        "class GradientVisualizer:\n",
        "    def __init__(self, net, num_epochs):\n",
        "        self.num_epochs = num_epochs\n",
        "        self.linear_layers = self.get_linear_layers(net)\n",
        "\n",
        "        self.grad_to_weight_fig = None\n",
        "        self.grads_in_layers_fig = None\n",
        "        self.grads_at_epochs_fig = None\n",
        "        self.init_figures()\n",
        "\n",
        "    def get_linear_layers(self, net):\n",
        "        linear_layers = []\n",
        "        for field in net.__dict__['_modules'].values():\n",
        "            if isinstance(field, Linear):\n",
        "                linear_layers.append(field)\n",
        "            if isinstance(field, nn.ModuleList):\n",
        "                for module in field:\n",
        "                    if isinstance(module, Linear):\n",
        "                        linear_layers.append(module)\n",
        "\n",
        "        assert linear_layers, \\\n",
        "        ('No linear layers found. Linear layers should be parameters of the network or they '\n",
        "        'should be placed in a ModuleList which is a parameter of the network.')\n",
        "        return linear_layers\n",
        "\n",
        "    def get_epochs_for_one_layer(self):\n",
        "        \"\"\"\n",
        "        We want to show gradient distributions from up to 7 selected epochs\n",
        "        for one linear layer.\n",
        "        \"\"\"\n",
        "        if self.num_epochs < 7:\n",
        "            return list(range(self.num_epochs))\n",
        "        else:\n",
        "            return torch.linspace(0, self.num_epochs - 1, 7).int().tolist()\n",
        "\n",
        "    def get_three_epochs(self):\n",
        "        \"\"\"\n",
        "        We want to show gradients distributions from all layers at each of\n",
        "        three epochs: first, middle and last.\n",
        "        \"\"\"\n",
        "        return [0, self.num_epochs // 2, self.num_epochs - 1]\n",
        "\n",
        "    def rgb_to_rgba(self, rgb_color, epoch):\n",
        "        \"\"\"\n",
        "        Value of epoch parameter determines how transparent color should be\n",
        "        in comparison to others.\n",
        "        Colors for earlier epochs should be more transparent/less visible.\n",
        "        \"\"\"\n",
        "        return f'rgba{rgb_color[3:-1]},{0.6 * (epoch + 1) / self.num_epochs + 0.15})'\n",
        "\n",
        "    def init_figures(self):\n",
        "        # Initialize figure with gradient to weight ratio plot\n",
        "        fig = go.Figure()\n",
        "        fig.update_layout(\n",
        "            title='Gradient standard deviation to weight standard deviation ratio', title_x=0.5,\n",
        "            xaxis_title='Epoch',\n",
        "            yaxis_title='Gradient to weight ratio (log scale)',\n",
        "            height=400, width=1500, margin=dict(b=10, t=60)\n",
        "        )\n",
        "        fig.update_yaxes(type='log')\n",
        "        for i in range(len(self.linear_layers)):\n",
        "            fig.add_trace(go.Scatter(\n",
        "                x=[], y=[],\n",
        "                mode='lines+markers', name=f'Linear layer {i}'\n",
        "            ))\n",
        "\n",
        "        self.grad_to_weight_fig = go.FigureWidget(fig)\n",
        "        display(self.grad_to_weight_fig)\n",
        "\n",
        "        # Initialize figure visualizing gradient distributions in layers\n",
        "        num_rows = (len(self.linear_layers) - 1) // 3 + 1\n",
        "        fig = make_subplots(\n",
        "            rows=num_rows, cols=3,\n",
        "            subplot_titles=[f'Linear layer {i}' for i in range(len(self.linear_layers))],\n",
        "            vertical_spacing=0.2 / num_rows\n",
        "        )\n",
        "        fig.update_layout(\n",
        "            title='Comparison between epochs of gradient distributions in layers', title_x=0.5,\n",
        "            height=num_rows * 400, width=1500, margin=dict(b=10, t=60)\n",
        "        )\n",
        "\n",
        "        colors, _ = px.colors.convert_colors_to_same_type(2 * px.colors.qualitative.Plotly)\n",
        "        for layer_num in range(len(self.linear_layers)):\n",
        "            row = layer_num // 3 + 1\n",
        "            col = layer_num % 3 + 1\n",
        "            fig.update_xaxes(\n",
        "                title_text='Gradient value', range=(-0.1, 0.1), row=row, col=col\n",
        "            )\n",
        "            fig.update_yaxes(\n",
        "                title_text='Density (log scale)', type='log', row=row, col=col\n",
        "            )\n",
        "\n",
        "            # Create empty traces and update them later with actual gradient distributions.\n",
        "            # Unfortunately, we cannot add new traces dynamically because Colab has problem\n",
        "            # with widgets from plotly (traces added dynamically are rendered twice).\n",
        "            for epoch in self.get_epochs_for_one_layer():\n",
        "                fig.add_trace(\n",
        "                    go.Scatter(\n",
        "                        mode='lines', name=f'Epoch {epoch + 1}',\n",
        "                        line=dict(color=self.rgb_to_rgba(colors[layer_num], epoch)),\n",
        "                        legendgroup=layer_num\n",
        "                    ),\n",
        "                    row=row, col=col\n",
        "                )\n",
        "\n",
        "        self.grads_in_layers_fig = go.FigureWidget(fig)\n",
        "        display(self.grads_in_layers_fig)\n",
        "\n",
        "        # Initialize figure comparing gradient distributions between layers at the\n",
        "        # first, middle and last epoch\n",
        "        selected_epochs_indices = self.get_three_epochs()\n",
        "        fig = make_subplots(\n",
        "            rows=1, cols=3,\n",
        "            subplot_titles=[f'Epoch {epoch + 1}' for epoch in selected_epochs_indices]\n",
        "        )\n",
        "        fig.update_layout(\n",
        "            title='Comparison between layers of gradient distributions at epochs', title_x=0.5,\n",
        "            height=400, width=1500, margin=dict(b=10, t=60)\n",
        "        )\n",
        "\n",
        "        for col, epoch in enumerate(selected_epochs_indices, 1):\n",
        "            fig.update_yaxes(title_text='Density (log scale)', type='log', row=1, col=col)\n",
        "            fig.update_xaxes(\n",
        "                title_text='Gradient value',\n",
        "                range=(-0.05, 0.05) if epoch != 0 else (-1, 1),\n",
        "                row=1, col=col\n",
        "            )\n",
        "\n",
        "            # Create empty traces and update them later with actual gradient distributions.\n",
        "            for layer_num in range(len(self.linear_layers)):\n",
        "                fig.append_trace(\n",
        "                    go.Scatter(\n",
        "                        mode='lines', name=f'Linear layer {layer_num}',\n",
        "                        line=dict(color=colors[layer_num]), showlegend=(col == 1)\n",
        "                    ),\n",
        "                    row=1, col=col\n",
        "                )\n",
        "\n",
        "        self.grads_at_epochs_fig = go.FigureWidget(fig)\n",
        "        display(self.grads_at_epochs_fig)\n",
        "\n",
        "    def visualize_gradients(self, lr, epoch, batch_idx):\n",
        "        # It is enough to use gradients calculated for the first batch.\n",
        "        if batch_idx != 0:\n",
        "            return\n",
        "\n",
        "        epoch_grads = []\n",
        "        epoch_grad_to_weight_ratios = []\n",
        "        for layer in self.linear_layers:\n",
        "            epoch_grads.append(layer.weight.grad.flatten().detach())\n",
        "            epoch_grad_to_weight_ratios.append(\n",
        "                (lr * layer.weight.grad.std() / layer.weight.std()).item()\n",
        "            )\n",
        "\n",
        "        # Update figure with gradient to weight ratio plot\n",
        "        for i, grad_to_weight_ratio in enumerate(epoch_grad_to_weight_ratios):\n",
        "            x = self.grad_to_weight_fig.data[i].x\n",
        "            next_x_val = x[-1] + 1 if x else 1\n",
        "            self.grad_to_weight_fig.data[i].x += (next_x_val, )\n",
        "            self.grad_to_weight_fig.data[i].y += (grad_to_weight_ratio, )\n",
        "\n",
        "        # Update figure visualizing gradient distributions in layers\n",
        "        selected_epochs = self.get_epochs_for_one_layer()\n",
        "        if epoch in selected_epochs:\n",
        "            epoch_idx = selected_epochs.index(epoch)\n",
        "            for layer_num, layer_grad in enumerate(epoch_grads):\n",
        "                trace_idx = layer_num * len(selected_epochs) + epoch_idx\n",
        "                hy, hx = torch.histogram(layer_grad, bins=50, density=True)\n",
        "                hy = hy / max(hy) + 0.001\n",
        "                self.grads_in_layers_fig.data[trace_idx].x = hx[:-1].tolist()\n",
        "                self.grads_in_layers_fig.data[trace_idx].y = hy.tolist()\n",
        "\n",
        "        # Update figure visualizing gradient distributions at epochs\n",
        "        selected_epochs = self.get_three_epochs()\n",
        "        if epoch in selected_epochs:\n",
        "            epoch_idx = selected_epochs.index(epoch)\n",
        "            for layer_num, layer_grad in enumerate(epoch_grads):\n",
        "                trace_idx = epoch_idx * len(self.linear_layers) + layer_num\n",
        "                hy, hx = torch.histogram(layer_grad, bins=50, density=True)\n",
        "                hy = hy / max(hy) + 0.001\n",
        "                self.grads_at_epochs_fig.data[trace_idx].x = hx[:-1].tolist()\n",
        "                self.grads_at_epochs_fig.data[trace_idx].y = hy.tolist()"
      ]
    },
    {
      "cell_type": "code",
      "execution_count": null,
      "metadata": {
        "id": "DMtap4QCfBH8"
      },
      "outputs": [],
      "source": [
        "class Linear(torch.nn.Module):\n",
        "    def __init__(self, in_features, out_features):\n",
        "        super(Linear, self).__init__()\n",
        "        # self.dropout = nn.Dropout(p=0.1)\n",
        "        self.in_features = in_features\n",
        "        self.out_features = out_features\n",
        "        self.weight = Parameter(torch.Tensor(out_features, in_features))\n",
        "        # self.bias = Parameter(torch.Tensor(out_features))\n",
        "        self.batch_norm = nn.BatchNorm1d(out_features, momentum=None)\n",
        "        self.reset_parameters()\n",
        "\n",
        "    def reset_parameters(self):\n",
        "        # self.weight.data.normal_(mean=0,std=0.25)\n",
        "        init.xavier_normal_(self.weight)\n",
        "        # init.zeros_(self.bias)\n",
        "\n",
        "    def forward(self, x):\n",
        "        # x = self.dropout(x)\n",
        "        r = x.matmul(self.weight.t())\n",
        "        # r += self.bias\n",
        "        r = self.batch_norm(r)\n",
        "        return r\n",
        "\n",
        "\n",
        "class Net(nn.Module):\n",
        "    def __init__(self):\n",
        "        super(Net, self).__init__()\n",
        "        self.fc1 = Linear(784, 64)\n",
        "        self.fc2 = Linear(64, 64)\n",
        "        self.fc3 = Linear(64, 64)\n",
        "        self.fc4 = Linear(64, 64)\n",
        "        self.fc5 = Linear(64, 64)\n",
        "        self.fc6 = Linear(64, 10)\n",
        "\n",
        "    def forward(self, x):\n",
        "        x = x.view(-1, 28 * 28)\n",
        "        x = F.relu(self.fc1(x))\n",
        "        x = F.relu(self.fc2(x))\n",
        "        x = F.relu(self.fc3(x))\n",
        "        x = F.relu(self.fc4(x))\n",
        "        x = F.relu(self.fc5(x))\n",
        "        x = self.fc6(x)\n",
        "        return x\n"
      ]
    },
    {
      "cell_type": "code",
      "execution_count": null,
      "metadata": {
        "id": "WgfUP23AfBMd"
      },
      "outputs": [],
      "source": [
        "class MnistTrainer(object):\n",
        "    def __init__(self, batch_size):\n",
        "        transform = transforms.Compose(\n",
        "                [transforms.ToTensor()])\n",
        "        self.trainset = torchvision.datasets.MNIST(\n",
        "            root='./data',\n",
        "            download=True,\n",
        "            train=True,\n",
        "            transform=transform)\n",
        "        self.trainloader = torch.utils.data.DataLoader(\n",
        "            self.trainset, batch_size=batch_size, shuffle=True, num_workers=2)\n",
        "\n",
        "        self.testset = torchvision.datasets.MNIST(\n",
        "            root='./data',\n",
        "            train=False,\n",
        "            download=True, transform=transform)\n",
        "        self.testloader = torch.utils.data.DataLoader(\n",
        "            self.testset, batch_size=batch_size, shuffle=False, num_workers=2)\n",
        "\n",
        "    def train(self, net, gradient_visualizer, epochs=20, lr=0.05, momentum=0.9):\n",
        "        criterion = nn.CrossEntropyLoss()\n",
        "        optimizer = optim.SGD(net.parameters(), lr=lr, momentum=momentum)\n",
        "\n",
        "        for epoch in range(epochs):\n",
        "            running_loss = 0.0\n",
        "            for i, data in enumerate(self.trainloader):\n",
        "                inputs, labels = data\n",
        "                optimizer.zero_grad()\n",
        "\n",
        "                outputs = net(inputs)\n",
        "                loss = criterion(outputs, labels)\n",
        "                loss.backward()\n",
        "                gradient_visualizer.visualize_gradients(lr, epoch, i)\n",
        "                optimizer.step()\n",
        "\n",
        "                running_loss += loss.item()\n",
        "                if i % 100 == 99:\n",
        "                    print('[%d, %5d] loss: %.3f' %\n",
        "                          (epoch + 1, i + 1, running_loss / 100))\n",
        "                    running_loss = 0.0\n",
        "            correct = 0\n",
        "            total = 0\n",
        "            with torch.no_grad():\n",
        "                for data in self.testloader:\n",
        "                    images, labels = data\n",
        "                    outputs = net(images)\n",
        "                    _, predicted = torch.max(outputs.data, 1)\n",
        "                    total += labels.size(0)\n",
        "                    correct += (predicted == labels).sum().item()\n",
        "\n",
        "            print('Accuracy of the network on the {} test images: {} %'.format(\n",
        "                total, 100 * correct / total))"
      ]
    },
    {
      "cell_type": "code",
      "execution_count": null,
      "metadata": {
        "colab": {
          "base_uri": "https://localhost:8080/",
          "height": 1000,
          "referenced_widgets": [
            "bb73a60b774f4758bffdc3ce7bb58432",
            "c3b240a557dc4086a178c869d7de4d10",
            "e37638a91f8d4754992d3c6015c09eaa"
          ]
        },
        "id": "wO3ooSNUHiQz",
        "outputId": "42f5da01-49f6-45a3-dbce-061e7cb4019c"
      },
      "outputs": [
        {
          "output_type": "display_data",
          "data": {
            "application/vnd.jupyter.widget-view+json": {
              "version_major": 2,
              "version_minor": 0,
              "model_id": "bb73a60b774f4758bffdc3ce7bb58432"
            },
            "text/plain": [
              "FigureWidget({\n",
              "    'data': [{'mode': 'lines+markers',\n",
              "              'name': 'Linear layer 0',\n",
              "              'type': 'scatter',\n",
              "              'uid': '3592f35f-66df-4a99-8d91-24647fe3dd20',\n",
              "              'x': [],\n",
              "              'y': []},\n",
              "             {'mode': 'lines+markers',\n",
              "              'name': 'Linear layer 1',\n",
              "              'type': 'scatter',\n",
              "              'uid': '4d63848f-cf4a-4d79-97b7-0827d50f6aa9',\n",
              "              'x': [],\n",
              "              'y': []},\n",
              "             {'mode': 'lines+markers',\n",
              "              'name': 'Linear layer 2',\n",
              "              'type': 'scatter',\n",
              "              'uid': 'edf9646c-e3a9-4031-8f2e-178a2a52f2dd',\n",
              "              'x': [],\n",
              "              'y': []},\n",
              "             {'mode': 'lines+markers',\n",
              "              'name': 'Linear layer 3',\n",
              "              'type': 'scatter',\n",
              "              'uid': 'c7537380-0e8b-47a9-b259-038c4ab306ce',\n",
              "              'x': [],\n",
              "              'y': []},\n",
              "             {'mode': 'lines+markers',\n",
              "              'name': 'Linear layer 4',\n",
              "              'type': 'scatter',\n",
              "              'uid': 'd3d77afb-3281-41e9-a943-ab5f8371a030',\n",
              "              'x': [],\n",
              "              'y': []},\n",
              "             {'mode': 'lines+markers',\n",
              "              'name': 'Linear layer 5',\n",
              "              'type': 'scatter',\n",
              "              'uid': 'a5b58ece-a951-48db-9894-439a6c69a6ee',\n",
              "              'x': [],\n",
              "              'y': []}],\n",
              "    'layout': {'height': 400,\n",
              "               'margin': {'b': 10, 't': 60},\n",
              "               'template': '...',\n",
              "               'title': {'text': 'Gradient standard deviation to weight standard deviation ratio', 'x': 0.5},\n",
              "               'width': 1500,\n",
              "               'xaxis': {'title': {'text': 'Epoch'}},\n",
              "               'yaxis': {'title': {'text': 'Gradient to weight ratio (log scale)'}, 'type': 'log'}}\n",
              "})"
            ]
          },
          "metadata": {
            "application/vnd.jupyter.widget-view+json": {
              "colab": {
                "custom_widget_manager": {
                  "url": "https://ssl.gstatic.com/colaboratory-static/widgets/colab-cdn-widget-manager/2b70e893a8ba7c0f/manager.min.js"
                }
              }
            }
          }
        },
        {
          "output_type": "display_data",
          "data": {
            "application/vnd.jupyter.widget-view+json": {
              "version_major": 2,
              "version_minor": 0,
              "model_id": "c3b240a557dc4086a178c869d7de4d10"
            },
            "text/plain": [
              "FigureWidget({\n",
              "    'data': [{'legendgroup': '0',\n",
              "              'line': {'color': 'rgba(99, 110, 250,0.18)'},\n",
              "              'mode': 'lines',\n",
              "              'name': 'Epoch 1',\n",
              "              'type': 'scatter',\n",
              "              'uid': '08436b51-75f8-46f5-bcdc-0254aad25407',\n",
              "              'xaxis': 'x',\n",
              "              'yaxis': 'y'},\n",
              "             {'legendgroup': '0',\n",
              "              'line': {'color': 'rgba(99, 110, 250,0.27)'},\n",
              "              'mode': 'lines',\n",
              "              'name': 'Epoch 4',\n",
              "              'type': 'scatter',\n",
              "              'uid': '07002b8b-0682-451a-b203-6d62f762703d',\n",
              "              'xaxis': 'x',\n",
              "              'yaxis': 'y'},\n",
              "             {'legendgroup': '0',\n",
              "              'line': {'color': 'rgba(99, 110, 250,0.36)'},\n",
              "              'mode': 'lines',\n",
              "              'name': 'Epoch 7',\n",
              "              'type': 'scatter',\n",
              "              'uid': 'dcfe53a3-bccb-4b48-8512-fdda058dd0aa',\n",
              "              'xaxis': 'x',\n",
              "              'yaxis': 'y'},\n",
              "             {'legendgroup': '0',\n",
              "              'line': {'color': 'rgba(99, 110, 250,0.44999999999999996)'},\n",
              "              'mode': 'lines',\n",
              "              'name': 'Epoch 10',\n",
              "              'type': 'scatter',\n",
              "              'uid': '49a962ee-3298-4ecd-9d36-a4fe6d0ee8f5',\n",
              "              'xaxis': 'x',\n",
              "              'yaxis': 'y'},\n",
              "             {'legendgroup': '0',\n",
              "              'line': {'color': 'rgba(99, 110, 250,0.54)'},\n",
              "              'mode': 'lines',\n",
              "              'name': 'Epoch 13',\n",
              "              'type': 'scatter',\n",
              "              'uid': '5324b73c-77c6-4769-bc1d-1b0ede9ebf33',\n",
              "              'xaxis': 'x',\n",
              "              'yaxis': 'y'},\n",
              "             {'legendgroup': '0',\n",
              "              'line': {'color': 'rgba(99, 110, 250,0.63)'},\n",
              "              'mode': 'lines',\n",
              "              'name': 'Epoch 16',\n",
              "              'type': 'scatter',\n",
              "              'uid': 'b7b6b9bf-11d1-4a04-8a91-acb71d674560',\n",
              "              'xaxis': 'x',\n",
              "              'yaxis': 'y'},\n",
              "             {'legendgroup': '0',\n",
              "              'line': {'color': 'rgba(99, 110, 250,0.75)'},\n",
              "              'mode': 'lines',\n",
              "              'name': 'Epoch 20',\n",
              "              'type': 'scatter',\n",
              "              'uid': '70183598-31a9-4e3a-8a0c-2689cca971d8',\n",
              "              'xaxis': 'x',\n",
              "              'yaxis': 'y'},\n",
              "             {'legendgroup': '1',\n",
              "              'line': {'color': 'rgba(239, 85, 59,0.18)'},\n",
              "              'mode': 'lines',\n",
              "              'name': 'Epoch 1',\n",
              "              'type': 'scatter',\n",
              "              'uid': '7923921c-5b57-44cc-a430-c3351b104e55',\n",
              "              'xaxis': 'x2',\n",
              "              'yaxis': 'y2'},\n",
              "             {'legendgroup': '1',\n",
              "              'line': {'color': 'rgba(239, 85, 59,0.27)'},\n",
              "              'mode': 'lines',\n",
              "              'name': 'Epoch 4',\n",
              "              'type': 'scatter',\n",
              "              'uid': '7f268893-91b7-45fe-956d-bfffa3709e64',\n",
              "              'xaxis': 'x2',\n",
              "              'yaxis': 'y2'},\n",
              "             {'legendgroup': '1',\n",
              "              'line': {'color': 'rgba(239, 85, 59,0.36)'},\n",
              "              'mode': 'lines',\n",
              "              'name': 'Epoch 7',\n",
              "              'type': 'scatter',\n",
              "              'uid': '26b3340d-f83a-4348-8de5-88e3013868d1',\n",
              "              'xaxis': 'x2',\n",
              "              'yaxis': 'y2'},\n",
              "             {'legendgroup': '1',\n",
              "              'line': {'color': 'rgba(239, 85, 59,0.44999999999999996)'},\n",
              "              'mode': 'lines',\n",
              "              'name': 'Epoch 10',\n",
              "              'type': 'scatter',\n",
              "              'uid': '46c4bb49-1ba5-43ce-b7c4-2eae24fc8953',\n",
              "              'xaxis': 'x2',\n",
              "              'yaxis': 'y2'},\n",
              "             {'legendgroup': '1',\n",
              "              'line': {'color': 'rgba(239, 85, 59,0.54)'},\n",
              "              'mode': 'lines',\n",
              "              'name': 'Epoch 13',\n",
              "              'type': 'scatter',\n",
              "              'uid': '9de932b3-fc33-4f23-919c-e77308296213',\n",
              "              'xaxis': 'x2',\n",
              "              'yaxis': 'y2'},\n",
              "             {'legendgroup': '1',\n",
              "              'line': {'color': 'rgba(239, 85, 59,0.63)'},\n",
              "              'mode': 'lines',\n",
              "              'name': 'Epoch 16',\n",
              "              'type': 'scatter',\n",
              "              'uid': '471627a6-07bc-4e31-bbee-b65143049357',\n",
              "              'xaxis': 'x2',\n",
              "              'yaxis': 'y2'},\n",
              "             {'legendgroup': '1',\n",
              "              'line': {'color': 'rgba(239, 85, 59,0.75)'},\n",
              "              'mode': 'lines',\n",
              "              'name': 'Epoch 20',\n",
              "              'type': 'scatter',\n",
              "              'uid': '3053b36f-5131-4771-899e-d33cd4584206',\n",
              "              'xaxis': 'x2',\n",
              "              'yaxis': 'y2'},\n",
              "             {'legendgroup': '2',\n",
              "              'line': {'color': 'rgba(0, 204, 150,0.18)'},\n",
              "              'mode': 'lines',\n",
              "              'name': 'Epoch 1',\n",
              "              'type': 'scatter',\n",
              "              'uid': '6ba80dc0-48ed-4775-9ea5-19a8fe6be616',\n",
              "              'xaxis': 'x3',\n",
              "              'yaxis': 'y3'},\n",
              "             {'legendgroup': '2',\n",
              "              'line': {'color': 'rgba(0, 204, 150,0.27)'},\n",
              "              'mode': 'lines',\n",
              "              'name': 'Epoch 4',\n",
              "              'type': 'scatter',\n",
              "              'uid': '10602652-1e15-46f0-a740-daaf3f13412a',\n",
              "              'xaxis': 'x3',\n",
              "              'yaxis': 'y3'},\n",
              "             {'legendgroup': '2',\n",
              "              'line': {'color': 'rgba(0, 204, 150,0.36)'},\n",
              "              'mode': 'lines',\n",
              "              'name': 'Epoch 7',\n",
              "              'type': 'scatter',\n",
              "              'uid': '59acb612-85df-47b5-9da6-2128db07fd51',\n",
              "              'xaxis': 'x3',\n",
              "              'yaxis': 'y3'},\n",
              "             {'legendgroup': '2',\n",
              "              'line': {'color': 'rgba(0, 204, 150,0.44999999999999996)'},\n",
              "              'mode': 'lines',\n",
              "              'name': 'Epoch 10',\n",
              "              'type': 'scatter',\n",
              "              'uid': 'b1fd6487-e578-4976-976f-5636c57c6c52',\n",
              "              'xaxis': 'x3',\n",
              "              'yaxis': 'y3'},\n",
              "             {'legendgroup': '2',\n",
              "              'line': {'color': 'rgba(0, 204, 150,0.54)'},\n",
              "              'mode': 'lines',\n",
              "              'name': 'Epoch 13',\n",
              "              'type': 'scatter',\n",
              "              'uid': '41b1d7fd-d0f0-4c19-8a7f-35d5b87349de',\n",
              "              'xaxis': 'x3',\n",
              "              'yaxis': 'y3'},\n",
              "             {'legendgroup': '2',\n",
              "              'line': {'color': 'rgba(0, 204, 150,0.63)'},\n",
              "              'mode': 'lines',\n",
              "              'name': 'Epoch 16',\n",
              "              'type': 'scatter',\n",
              "              'uid': '3722c5f1-bf47-45f4-85ce-eb007f8898b8',\n",
              "              'xaxis': 'x3',\n",
              "              'yaxis': 'y3'},\n",
              "             {'legendgroup': '2',\n",
              "              'line': {'color': 'rgba(0, 204, 150,0.75)'},\n",
              "              'mode': 'lines',\n",
              "              'name': 'Epoch 20',\n",
              "              'type': 'scatter',\n",
              "              'uid': '5dd59013-4a8d-4652-bf37-750984357120',\n",
              "              'xaxis': 'x3',\n",
              "              'yaxis': 'y3'},\n",
              "             {'legendgroup': '3',\n",
              "              'line': {'color': 'rgba(171, 99, 250,0.18)'},\n",
              "              'mode': 'lines',\n",
              "              'name': 'Epoch 1',\n",
              "              'type': 'scatter',\n",
              "              'uid': '544ff558-072e-4512-b3aa-fb7c53186358',\n",
              "              'xaxis': 'x4',\n",
              "              'yaxis': 'y4'},\n",
              "             {'legendgroup': '3',\n",
              "              'line': {'color': 'rgba(171, 99, 250,0.27)'},\n",
              "              'mode': 'lines',\n",
              "              'name': 'Epoch 4',\n",
              "              'type': 'scatter',\n",
              "              'uid': '19155e63-6323-4248-984e-ea28ebcb7f70',\n",
              "              'xaxis': 'x4',\n",
              "              'yaxis': 'y4'},\n",
              "             {'legendgroup': '3',\n",
              "              'line': {'color': 'rgba(171, 99, 250,0.36)'},\n",
              "              'mode': 'lines',\n",
              "              'name': 'Epoch 7',\n",
              "              'type': 'scatter',\n",
              "              'uid': '392a9b6b-fabd-4775-b896-ea3d6c54a978',\n",
              "              'xaxis': 'x4',\n",
              "              'yaxis': 'y4'},\n",
              "             {'legendgroup': '3',\n",
              "              'line': {'color': 'rgba(171, 99, 250,0.44999999999999996)'},\n",
              "              'mode': 'lines',\n",
              "              'name': 'Epoch 10',\n",
              "              'type': 'scatter',\n",
              "              'uid': 'a5d442c8-2f3a-4f16-b97a-cfd835f22de3',\n",
              "              'xaxis': 'x4',\n",
              "              'yaxis': 'y4'},\n",
              "             {'legendgroup': '3',\n",
              "              'line': {'color': 'rgba(171, 99, 250,0.54)'},\n",
              "              'mode': 'lines',\n",
              "              'name': 'Epoch 13',\n",
              "              'type': 'scatter',\n",
              "              'uid': 'd9c3b64e-bb01-463a-860a-8d0c12bb26ab',\n",
              "              'xaxis': 'x4',\n",
              "              'yaxis': 'y4'},\n",
              "             {'legendgroup': '3',\n",
              "              'line': {'color': 'rgba(171, 99, 250,0.63)'},\n",
              "              'mode': 'lines',\n",
              "              'name': 'Epoch 16',\n",
              "              'type': 'scatter',\n",
              "              'uid': '7b953387-050f-447d-b9aa-a5570fddac8a',\n",
              "              'xaxis': 'x4',\n",
              "              'yaxis': 'y4'},\n",
              "             {'legendgroup': '3',\n",
              "              'line': {'color': 'rgba(171, 99, 250,0.75)'},\n",
              "              'mode': 'lines',\n",
              "              'name': 'Epoch 20',\n",
              "              'type': 'scatter',\n",
              "              'uid': 'e5cf9517-4920-4bb4-b976-e26f8853d482',\n",
              "              'xaxis': 'x4',\n",
              "              'yaxis': 'y4'},\n",
              "             {'legendgroup': '4',\n",
              "              'line': {'color': 'rgba(255, 161, 90,0.18)'},\n",
              "              'mode': 'lines',\n",
              "              'name': 'Epoch 1',\n",
              "              'type': 'scatter',\n",
              "              'uid': '5e674012-4902-4a0e-8f50-61e98e3fcbb1',\n",
              "              'xaxis': 'x5',\n",
              "              'yaxis': 'y5'},\n",
              "             {'legendgroup': '4',\n",
              "              'line': {'color': 'rgba(255, 161, 90,0.27)'},\n",
              "              'mode': 'lines',\n",
              "              'name': 'Epoch 4',\n",
              "              'type': 'scatter',\n",
              "              'uid': '622d5ba5-8bfb-45eb-b0f7-596a905cb335',\n",
              "              'xaxis': 'x5',\n",
              "              'yaxis': 'y5'},\n",
              "             {'legendgroup': '4',\n",
              "              'line': {'color': 'rgba(255, 161, 90,0.36)'},\n",
              "              'mode': 'lines',\n",
              "              'name': 'Epoch 7',\n",
              "              'type': 'scatter',\n",
              "              'uid': 'b8bad435-6164-40e9-9bcc-e493f0ff2a53',\n",
              "              'xaxis': 'x5',\n",
              "              'yaxis': 'y5'},\n",
              "             {'legendgroup': '4',\n",
              "              'line': {'color': 'rgba(255, 161, 90,0.44999999999999996)'},\n",
              "              'mode': 'lines',\n",
              "              'name': 'Epoch 10',\n",
              "              'type': 'scatter',\n",
              "              'uid': 'a82730a1-ac7f-4de6-a2d7-6a99dbf6af6f',\n",
              "              'xaxis': 'x5',\n",
              "              'yaxis': 'y5'},\n",
              "             {'legendgroup': '4',\n",
              "              'line': {'color': 'rgba(255, 161, 90,0.54)'},\n",
              "              'mode': 'lines',\n",
              "              'name': 'Epoch 13',\n",
              "              'type': 'scatter',\n",
              "              'uid': '63484deb-e426-42ac-9ff4-d6e46b1cccb4',\n",
              "              'xaxis': 'x5',\n",
              "              'yaxis': 'y5'},\n",
              "             {'legendgroup': '4',\n",
              "              'line': {'color': 'rgba(255, 161, 90,0.63)'},\n",
              "              'mode': 'lines',\n",
              "              'name': 'Epoch 16',\n",
              "              'type': 'scatter',\n",
              "              'uid': 'b3fd3194-2562-4171-8f27-0a2e6224b0a1',\n",
              "              'xaxis': 'x5',\n",
              "              'yaxis': 'y5'},\n",
              "             {'legendgroup': '4',\n",
              "              'line': {'color': 'rgba(255, 161, 90,0.75)'},\n",
              "              'mode': 'lines',\n",
              "              'name': 'Epoch 20',\n",
              "              'type': 'scatter',\n",
              "              'uid': '35532ee5-3c08-4e65-8940-32d8b33ec07d',\n",
              "              'xaxis': 'x5',\n",
              "              'yaxis': 'y5'},\n",
              "             {'legendgroup': '5',\n",
              "              'line': {'color': 'rgba(25, 211, 243,0.18)'},\n",
              "              'mode': 'lines',\n",
              "              'name': 'Epoch 1',\n",
              "              'type': 'scatter',\n",
              "              'uid': '11cf5502-c000-4f4b-9fa3-31f46056a023',\n",
              "              'xaxis': 'x6',\n",
              "              'yaxis': 'y6'},\n",
              "             {'legendgroup': '5',\n",
              "              'line': {'color': 'rgba(25, 211, 243,0.27)'},\n",
              "              'mode': 'lines',\n",
              "              'name': 'Epoch 4',\n",
              "              'type': 'scatter',\n",
              "              'uid': '48657053-4eda-456d-9ce2-84618299424a',\n",
              "              'xaxis': 'x6',\n",
              "              'yaxis': 'y6'},\n",
              "             {'legendgroup': '5',\n",
              "              'line': {'color': 'rgba(25, 211, 243,0.36)'},\n",
              "              'mode': 'lines',\n",
              "              'name': 'Epoch 7',\n",
              "              'type': 'scatter',\n",
              "              'uid': 'ecfc79e4-0ca5-40d0-93ba-99adbca39d54',\n",
              "              'xaxis': 'x6',\n",
              "              'yaxis': 'y6'},\n",
              "             {'legendgroup': '5',\n",
              "              'line': {'color': 'rgba(25, 211, 243,0.44999999999999996)'},\n",
              "              'mode': 'lines',\n",
              "              'name': 'Epoch 10',\n",
              "              'type': 'scatter',\n",
              "              'uid': '2f0b0ef9-812a-460d-a215-32b38ed20ddc',\n",
              "              'xaxis': 'x6',\n",
              "              'yaxis': 'y6'},\n",
              "             {'legendgroup': '5',\n",
              "              'line': {'color': 'rgba(25, 211, 243,0.54)'},\n",
              "              'mode': 'lines',\n",
              "              'name': 'Epoch 13',\n",
              "              'type': 'scatter',\n",
              "              'uid': '50a2f8bd-b686-42ea-98ef-9c9b28b162fd',\n",
              "              'xaxis': 'x6',\n",
              "              'yaxis': 'y6'},\n",
              "             {'legendgroup': '5',\n",
              "              'line': {'color': 'rgba(25, 211, 243,0.63)'},\n",
              "              'mode': 'lines',\n",
              "              'name': 'Epoch 16',\n",
              "              'type': 'scatter',\n",
              "              'uid': '7bbfa75c-f63c-48bd-a0fc-90d7287f65a0',\n",
              "              'xaxis': 'x6',\n",
              "              'yaxis': 'y6'},\n",
              "             {'legendgroup': '5',\n",
              "              'line': {'color': 'rgba(25, 211, 243,0.75)'},\n",
              "              'mode': 'lines',\n",
              "              'name': 'Epoch 20',\n",
              "              'type': 'scatter',\n",
              "              'uid': '102c6ea3-9d76-4db7-9bc3-a47a0f9cc0b9',\n",
              "              'xaxis': 'x6',\n",
              "              'yaxis': 'y6'}],\n",
              "    'layout': {'annotations': [{'font': {'size': 16},\n",
              "                                'showarrow': False,\n",
              "                                'text': 'Linear layer 0',\n",
              "                                'x': 0.14444444444444446,\n",
              "                                'xanchor': 'center',\n",
              "                                'xref': 'paper',\n",
              "                                'y': 1.0,\n",
              "                                'yanchor': 'bottom',\n",
              "                                'yref': 'paper'},\n",
              "                               {'font': {'size': 16},\n",
              "                                'showarrow': False,\n",
              "                                'text': 'Linear layer 1',\n",
              "                                'x': 0.5,\n",
              "                                'xanchor': 'center',\n",
              "                                'xref': 'paper',\n",
              "                                'y': 1.0,\n",
              "                                'yanchor': 'bottom',\n",
              "                                'yref': 'paper'},\n",
              "                               {'font': {'size': 16},\n",
              "                                'showarrow': False,\n",
              "                                'text': 'Linear layer 2',\n",
              "                                'x': 0.8555555555555556,\n",
              "                                'xanchor': 'center',\n",
              "                                'xref': 'paper',\n",
              "                                'y': 1.0,\n",
              "                                'yanchor': 'bottom',\n",
              "                                'yref': 'paper'},\n",
              "                               {'font': {'size': 16},\n",
              "                                'showarrow': False,\n",
              "                                'text': 'Linear layer 3',\n",
              "                                'x': 0.14444444444444446,\n",
              "                                'xanchor': 'center',\n",
              "                                'xref': 'paper',\n",
              "                                'y': 0.45,\n",
              "                                'yanchor': 'bottom',\n",
              "                                'yref': 'paper'},\n",
              "                               {'font': {'size': 16},\n",
              "                                'showarrow': False,\n",
              "                                'text': 'Linear layer 4',\n",
              "                                'x': 0.5,\n",
              "                                'xanchor': 'center',\n",
              "                                'xref': 'paper',\n",
              "                                'y': 0.45,\n",
              "                                'yanchor': 'bottom',\n",
              "                                'yref': 'paper'},\n",
              "                               {'font': {'size': 16},\n",
              "                                'showarrow': False,\n",
              "                                'text': 'Linear layer 5',\n",
              "                                'x': 0.8555555555555556,\n",
              "                                'xanchor': 'center',\n",
              "                                'xref': 'paper',\n",
              "                                'y': 0.45,\n",
              "                                'yanchor': 'bottom',\n",
              "                                'yref': 'paper'}],\n",
              "               'height': 800,\n",
              "               'margin': {'b': 10, 't': 60},\n",
              "               'template': '...',\n",
              "               'title': {'text': 'Comparison between epochs of gradient distributions in layers', 'x': 0.5},\n",
              "               'width': 1500,\n",
              "               'xaxis': {'anchor': 'y',\n",
              "                         'domain': [0.0, 0.2888888888888889],\n",
              "                         'range': [-0.1, 0.1],\n",
              "                         'title': {'text': 'Gradient value'}},\n",
              "               'xaxis2': {'anchor': 'y2',\n",
              "                          'domain': [0.35555555555555557, 0.6444444444444445],\n",
              "                          'range': [-0.1, 0.1],\n",
              "                          'title': {'text': 'Gradient value'}},\n",
              "               'xaxis3': {'anchor': 'y3',\n",
              "                          'domain': [0.7111111111111111, 1.0],\n",
              "                          'range': [-0.1, 0.1],\n",
              "                          'title': {'text': 'Gradient value'}},\n",
              "               'xaxis4': {'anchor': 'y4',\n",
              "                          'domain': [0.0, 0.2888888888888889],\n",
              "                          'range': [-0.1, 0.1],\n",
              "                          'title': {'text': 'Gradient value'}},\n",
              "               'xaxis5': {'anchor': 'y5',\n",
              "                          'domain': [0.35555555555555557, 0.6444444444444445],\n",
              "                          'range': [-0.1, 0.1],\n",
              "                          'title': {'text': 'Gradient value'}},\n",
              "               'xaxis6': {'anchor': 'y6',\n",
              "                          'domain': [0.7111111111111111, 1.0],\n",
              "                          'range': [-0.1, 0.1],\n",
              "                          'title': {'text': 'Gradient value'}},\n",
              "               'yaxis': {'anchor': 'x', 'domain': [0.55, 1.0], 'title': {'text': 'Density (log scale)'}, 'type': 'log'},\n",
              "               'yaxis2': {'anchor': 'x2', 'domain': [0.55, 1.0], 'title': {'text': 'Density (log scale)'}, 'type': 'log'},\n",
              "               'yaxis3': {'anchor': 'x3', 'domain': [0.55, 1.0], 'title': {'text': 'Density (log scale)'}, 'type': 'log'},\n",
              "               'yaxis4': {'anchor': 'x4', 'domain': [0.0, 0.45], 'title': {'text': 'Density (log scale)'}, 'type': 'log'},\n",
              "               'yaxis5': {'anchor': 'x5', 'domain': [0.0, 0.45], 'title': {'text': 'Density (log scale)'}, 'type': 'log'},\n",
              "               'yaxis6': {'anchor': 'x6', 'domain': [0.0, 0.45], 'title': {'text': 'Density (log scale)'}, 'type': 'log'}}\n",
              "})"
            ]
          },
          "metadata": {
            "application/vnd.jupyter.widget-view+json": {
              "colab": {
                "custom_widget_manager": {
                  "url": "https://ssl.gstatic.com/colaboratory-static/widgets/colab-cdn-widget-manager/2b70e893a8ba7c0f/manager.min.js"
                }
              }
            }
          }
        },
        {
          "output_type": "display_data",
          "data": {
            "application/vnd.jupyter.widget-view+json": {
              "version_major": 2,
              "version_minor": 0,
              "model_id": "e37638a91f8d4754992d3c6015c09eaa"
            },
            "text/plain": [
              "FigureWidget({\n",
              "    'data': [{'line': {'color': 'rgb(99, 110, 250)'},\n",
              "              'mode': 'lines',\n",
              "              'name': 'Linear layer 0',\n",
              "              'showlegend': True,\n",
              "              'type': 'scatter',\n",
              "              'uid': 'c30dbd0d-99d9-4ee2-bd2f-67d81f26eecb',\n",
              "              'xaxis': 'x',\n",
              "              'yaxis': 'y'},\n",
              "             {'line': {'color': 'rgb(239, 85, 59)'},\n",
              "              'mode': 'lines',\n",
              "              'name': 'Linear layer 1',\n",
              "              'showlegend': True,\n",
              "              'type': 'scatter',\n",
              "              'uid': 'd666699d-1dbf-45e0-905b-fa81ddaf9c22',\n",
              "              'xaxis': 'x',\n",
              "              'yaxis': 'y'},\n",
              "             {'line': {'color': 'rgb(0, 204, 150)'},\n",
              "              'mode': 'lines',\n",
              "              'name': 'Linear layer 2',\n",
              "              'showlegend': True,\n",
              "              'type': 'scatter',\n",
              "              'uid': 'bcc4a21e-eca2-40c2-937b-cb4af26bfadd',\n",
              "              'xaxis': 'x',\n",
              "              'yaxis': 'y'},\n",
              "             {'line': {'color': 'rgb(171, 99, 250)'},\n",
              "              'mode': 'lines',\n",
              "              'name': 'Linear layer 3',\n",
              "              'showlegend': True,\n",
              "              'type': 'scatter',\n",
              "              'uid': '743b3aee-2fb1-4270-840e-3d03e895ee34',\n",
              "              'xaxis': 'x',\n",
              "              'yaxis': 'y'},\n",
              "             {'line': {'color': 'rgb(255, 161, 90)'},\n",
              "              'mode': 'lines',\n",
              "              'name': 'Linear layer 4',\n",
              "              'showlegend': True,\n",
              "              'type': 'scatter',\n",
              "              'uid': '2679b6fe-943d-400b-ac51-63b41824132a',\n",
              "              'xaxis': 'x',\n",
              "              'yaxis': 'y'},\n",
              "             {'line': {'color': 'rgb(25, 211, 243)'},\n",
              "              'mode': 'lines',\n",
              "              'name': 'Linear layer 5',\n",
              "              'showlegend': True,\n",
              "              'type': 'scatter',\n",
              "              'uid': '61e784ef-9342-44d7-9334-33ca8d87555c',\n",
              "              'xaxis': 'x',\n",
              "              'yaxis': 'y'},\n",
              "             {'line': {'color': 'rgb(99, 110, 250)'},\n",
              "              'mode': 'lines',\n",
              "              'name': 'Linear layer 0',\n",
              "              'showlegend': False,\n",
              "              'type': 'scatter',\n",
              "              'uid': 'd1a83b74-4e05-4e46-bb6e-61ed58312429',\n",
              "              'xaxis': 'x2',\n",
              "              'yaxis': 'y2'},\n",
              "             {'line': {'color': 'rgb(239, 85, 59)'},\n",
              "              'mode': 'lines',\n",
              "              'name': 'Linear layer 1',\n",
              "              'showlegend': False,\n",
              "              'type': 'scatter',\n",
              "              'uid': 'dfea586e-467e-4a22-aff3-cdc013ebb0a6',\n",
              "              'xaxis': 'x2',\n",
              "              'yaxis': 'y2'},\n",
              "             {'line': {'color': 'rgb(0, 204, 150)'},\n",
              "              'mode': 'lines',\n",
              "              'name': 'Linear layer 2',\n",
              "              'showlegend': False,\n",
              "              'type': 'scatter',\n",
              "              'uid': '69a89f42-ba21-439b-ae46-970627dcda3f',\n",
              "              'xaxis': 'x2',\n",
              "              'yaxis': 'y2'},\n",
              "             {'line': {'color': 'rgb(171, 99, 250)'},\n",
              "              'mode': 'lines',\n",
              "              'name': 'Linear layer 3',\n",
              "              'showlegend': False,\n",
              "              'type': 'scatter',\n",
              "              'uid': '14d50256-b244-4f1a-b0b3-7848030a6091',\n",
              "              'xaxis': 'x2',\n",
              "              'yaxis': 'y2'},\n",
              "             {'line': {'color': 'rgb(255, 161, 90)'},\n",
              "              'mode': 'lines',\n",
              "              'name': 'Linear layer 4',\n",
              "              'showlegend': False,\n",
              "              'type': 'scatter',\n",
              "              'uid': '3b2204e1-75a3-4412-9386-29c46b0cbc2f',\n",
              "              'xaxis': 'x2',\n",
              "              'yaxis': 'y2'},\n",
              "             {'line': {'color': 'rgb(25, 211, 243)'},\n",
              "              'mode': 'lines',\n",
              "              'name': 'Linear layer 5',\n",
              "              'showlegend': False,\n",
              "              'type': 'scatter',\n",
              "              'uid': '0cb158e6-788c-4b32-bc78-f09d06f13cf1',\n",
              "              'xaxis': 'x2',\n",
              "              'yaxis': 'y2'},\n",
              "             {'line': {'color': 'rgb(99, 110, 250)'},\n",
              "              'mode': 'lines',\n",
              "              'name': 'Linear layer 0',\n",
              "              'showlegend': False,\n",
              "              'type': 'scatter',\n",
              "              'uid': '40916a37-5e8e-419e-8ff8-7eee6450b533',\n",
              "              'xaxis': 'x3',\n",
              "              'yaxis': 'y3'},\n",
              "             {'line': {'color': 'rgb(239, 85, 59)'},\n",
              "              'mode': 'lines',\n",
              "              'name': 'Linear layer 1',\n",
              "              'showlegend': False,\n",
              "              'type': 'scatter',\n",
              "              'uid': 'c0783c5f-f18f-40b7-8776-077e0cba3c2a',\n",
              "              'xaxis': 'x3',\n",
              "              'yaxis': 'y3'},\n",
              "             {'line': {'color': 'rgb(0, 204, 150)'},\n",
              "              'mode': 'lines',\n",
              "              'name': 'Linear layer 2',\n",
              "              'showlegend': False,\n",
              "              'type': 'scatter',\n",
              "              'uid': '56d86ed4-55b3-456e-9768-924c6bafb488',\n",
              "              'xaxis': 'x3',\n",
              "              'yaxis': 'y3'},\n",
              "             {'line': {'color': 'rgb(171, 99, 250)'},\n",
              "              'mode': 'lines',\n",
              "              'name': 'Linear layer 3',\n",
              "              'showlegend': False,\n",
              "              'type': 'scatter',\n",
              "              'uid': 'c8a8a1bd-8420-4bab-b7a2-1767c877a3b0',\n",
              "              'xaxis': 'x3',\n",
              "              'yaxis': 'y3'},\n",
              "             {'line': {'color': 'rgb(255, 161, 90)'},\n",
              "              'mode': 'lines',\n",
              "              'name': 'Linear layer 4',\n",
              "              'showlegend': False,\n",
              "              'type': 'scatter',\n",
              "              'uid': '6bb1c649-36c5-480b-a611-5cb8899e67aa',\n",
              "              'xaxis': 'x3',\n",
              "              'yaxis': 'y3'},\n",
              "             {'line': {'color': 'rgb(25, 211, 243)'},\n",
              "              'mode': 'lines',\n",
              "              'name': 'Linear layer 5',\n",
              "              'showlegend': False,\n",
              "              'type': 'scatter',\n",
              "              'uid': '086a8a5b-0fd2-4beb-b877-76426b8cac91',\n",
              "              'xaxis': 'x3',\n",
              "              'yaxis': 'y3'}],\n",
              "    'layout': {'annotations': [{'font': {'size': 16},\n",
              "                                'showarrow': False,\n",
              "                                'text': 'Epoch 1',\n",
              "                                'x': 0.14444444444444446,\n",
              "                                'xanchor': 'center',\n",
              "                                'xref': 'paper',\n",
              "                                'y': 1.0,\n",
              "                                'yanchor': 'bottom',\n",
              "                                'yref': 'paper'},\n",
              "                               {'font': {'size': 16},\n",
              "                                'showarrow': False,\n",
              "                                'text': 'Epoch 11',\n",
              "                                'x': 0.5,\n",
              "                                'xanchor': 'center',\n",
              "                                'xref': 'paper',\n",
              "                                'y': 1.0,\n",
              "                                'yanchor': 'bottom',\n",
              "                                'yref': 'paper'},\n",
              "                               {'font': {'size': 16},\n",
              "                                'showarrow': False,\n",
              "                                'text': 'Epoch 20',\n",
              "                                'x': 0.8555555555555556,\n",
              "                                'xanchor': 'center',\n",
              "                                'xref': 'paper',\n",
              "                                'y': 1.0,\n",
              "                                'yanchor': 'bottom',\n",
              "                                'yref': 'paper'}],\n",
              "               'height': 400,\n",
              "               'margin': {'b': 10, 't': 60},\n",
              "               'template': '...',\n",
              "               'title': {'text': 'Comparison between layers of gradient distributions at epochs', 'x': 0.5},\n",
              "               'width': 1500,\n",
              "               'xaxis': {'anchor': 'y',\n",
              "                         'domain': [0.0, 0.2888888888888889],\n",
              "                         'range': [-1, 1],\n",
              "                         'title': {'text': 'Gradient value'}},\n",
              "               'xaxis2': {'anchor': 'y2',\n",
              "                          'domain': [0.35555555555555557, 0.6444444444444445],\n",
              "                          'range': [-0.05, 0.05],\n",
              "                          'title': {'text': 'Gradient value'}},\n",
              "               'xaxis3': {'anchor': 'y3',\n",
              "                          'domain': [0.7111111111111111, 1.0],\n",
              "                          'range': [-0.05, 0.05],\n",
              "                          'title': {'text': 'Gradient value'}},\n",
              "               'yaxis': {'anchor': 'x', 'domain': [0.0, 1.0], 'title': {'text': 'Density (log scale)'}, 'type': 'log'},\n",
              "               'yaxis2': {'anchor': 'x2', 'domain': [0.0, 1.0], 'title': {'text': 'Density (log scale)'}, 'type': 'log'},\n",
              "               'yaxis3': {'anchor': 'x3', 'domain': [0.0, 1.0], 'title': {'text': 'Density (log scale)'}, 'type': 'log'}}\n",
              "})"
            ]
          },
          "metadata": {
            "application/vnd.jupyter.widget-view+json": {
              "colab": {
                "custom_widget_manager": {
                  "url": "https://ssl.gstatic.com/colaboratory-static/widgets/colab-cdn-widget-manager/2b70e893a8ba7c0f/manager.min.js"
                }
              }
            }
          }
        }
      ],
      "source": [
        "epochs = 20\n",
        "\n",
        "net = Net()\n",
        "gradient_visualizer = GradientVisualizer(net, epochs)"
      ]
    },
    {
      "cell_type": "code",
      "execution_count": null,
      "metadata": {
        "colab": {
          "base_uri": "https://localhost:8080/",
          "height": 1000
        },
        "id": "ezvIQbgsfBRT",
        "outputId": "bbb6205c-0ec4-4c4c-ec74-f5dba72d336e"
      },
      "outputs": [
        {
          "output_type": "stream",
          "name": "stdout",
          "text": [
            "[1,   100] loss: 0.582\n",
            "[1,   200] loss: 0.235\n",
            "[1,   300] loss: 0.190\n",
            "[1,   400] loss: 0.169\n",
            "Accuracy of the network on the 10000 test images: 94.93 %\n",
            "[2,   100] loss: 0.130\n",
            "[2,   200] loss: 0.139\n",
            "[2,   300] loss: 0.129\n",
            "[2,   400] loss: 0.112\n",
            "Accuracy of the network on the 10000 test images: 95.93 %\n",
            "[3,   100] loss: 0.092\n",
            "[3,   200] loss: 0.098\n",
            "[3,   300] loss: 0.089\n",
            "[3,   400] loss: 0.093\n",
            "Accuracy of the network on the 10000 test images: 96.48 %\n",
            "[4,   100] loss: 0.070\n",
            "[4,   200] loss: 0.080\n",
            "[4,   300] loss: 0.076\n",
            "[4,   400] loss: 0.080\n",
            "Accuracy of the network on the 10000 test images: 96.66 %\n",
            "[5,   100] loss: 0.063\n",
            "[5,   200] loss: 0.068\n",
            "[5,   300] loss: 0.059\n",
            "[5,   400] loss: 0.068\n",
            "Accuracy of the network on the 10000 test images: 96.62 %\n",
            "[6,   100] loss: 0.054\n",
            "[6,   200] loss: 0.052\n",
            "[6,   300] loss: 0.058\n",
            "[6,   400] loss: 0.060\n",
            "Accuracy of the network on the 10000 test images: 96.62 %\n",
            "[7,   100] loss: 0.043\n",
            "[7,   200] loss: 0.048\n",
            "[7,   300] loss: 0.048\n",
            "[7,   400] loss: 0.054\n",
            "Accuracy of the network on the 10000 test images: 96.87 %\n",
            "[8,   100] loss: 0.043\n",
            "[8,   200] loss: 0.042\n",
            "[8,   300] loss: 0.044\n",
            "[8,   400] loss: 0.043\n",
            "Accuracy of the network on the 10000 test images: 96.81 %\n",
            "[9,   100] loss: 0.031\n",
            "[9,   200] loss: 0.036\n",
            "[9,   300] loss: 0.039\n",
            "[9,   400] loss: 0.044\n",
            "Accuracy of the network on the 10000 test images: 97.06 %\n",
            "[10,   100] loss: 0.030\n",
            "[10,   200] loss: 0.030\n",
            "[10,   300] loss: 0.037\n",
            "[10,   400] loss: 0.036\n",
            "Accuracy of the network on the 10000 test images: 96.82 %\n",
            "[11,   100] loss: 0.029\n",
            "[11,   200] loss: 0.028\n",
            "[11,   300] loss: 0.036\n",
            "[11,   400] loss: 0.034\n",
            "Accuracy of the network on the 10000 test images: 96.8 %\n",
            "[12,   100] loss: 0.024\n",
            "[12,   200] loss: 0.033\n",
            "[12,   300] loss: 0.034\n",
            "[12,   400] loss: 0.036\n",
            "Accuracy of the network on the 10000 test images: 96.84 %\n",
            "[13,   100] loss: 0.025\n",
            "[13,   200] loss: 0.022\n",
            "[13,   300] loss: 0.028\n",
            "[13,   400] loss: 0.026\n",
            "Accuracy of the network on the 10000 test images: 96.91 %\n",
            "[14,   100] loss: 0.025\n",
            "[14,   200] loss: 0.022\n",
            "[14,   300] loss: 0.021\n",
            "[14,   400] loss: 0.027\n",
            "Accuracy of the network on the 10000 test images: 96.87 %\n",
            "[15,   100] loss: 0.022\n",
            "[15,   200] loss: 0.024\n",
            "[15,   300] loss: 0.019\n",
            "[15,   400] loss: 0.021\n",
            "Accuracy of the network on the 10000 test images: 97.01 %\n",
            "[16,   100] loss: 0.022\n",
            "[16,   200] loss: 0.021\n",
            "[16,   300] loss: 0.021\n",
            "[16,   400] loss: 0.023\n",
            "Accuracy of the network on the 10000 test images: 96.8 %\n",
            "[17,   100] loss: 0.020\n",
            "[17,   200] loss: 0.024\n",
            "[17,   300] loss: 0.023\n",
            "[17,   400] loss: 0.020\n",
            "Accuracy of the network on the 10000 test images: 96.89 %\n",
            "[18,   100] loss: 0.019\n",
            "[18,   200] loss: 0.019\n",
            "[18,   300] loss: 0.019\n",
            "[18,   400] loss: 0.017\n",
            "Accuracy of the network on the 10000 test images: 97.17 %\n",
            "[19,   100] loss: 0.016\n",
            "[19,   200] loss: 0.018\n",
            "[19,   300] loss: 0.020\n",
            "[19,   400] loss: 0.019\n",
            "Accuracy of the network on the 10000 test images: 97.06 %\n",
            "[20,   100] loss: 0.019\n",
            "[20,   200] loss: 0.014\n",
            "[20,   300] loss: 0.019\n",
            "[20,   400] loss: 0.021\n",
            "Accuracy of the network on the 10000 test images: 97.13 %\n"
          ]
        }
      ],
      "source": [
        "trainer = MnistTrainer(batch_size=128)\n",
        "trainer.train(net, gradient_visualizer, epochs=epochs)"
      ]
    },
    {
      "cell_type": "code",
      "execution_count": null,
      "metadata": {
        "id": "DQMSSwuifBTo"
      },
      "outputs": [],
      "source": [
        "class ConvNet(nn.Module):\n",
        "    def __init__(self):\n",
        "        super(ConvNet, self).__init__()\n",
        "        self.conv1 = nn.Conv2d(1, 6, 5)\n",
        "        self.conv2 = nn.Conv2d(6, 16, 3)\n",
        "        self.fc1 = nn.Linear(16 * 5 * 5, 120)\n",
        "        self.fc2 = nn.Linear(120, 84)\n",
        "        self.fc3 = nn.Linear(84, 10)\n",
        "\n",
        "    def forward(self, x):\n",
        "        c1 = F.relu(self.conv1(x))\n",
        "        s2 = F.max_pool2d(c1, 2)\n",
        "        c3 = F.relu(self.conv2(s2))\n",
        "        s4 = F.max_pool2d(c3, 2)\n",
        "        s4 = torch.flatten(s4, 1)\n",
        "        f5 = F.relu(self.fc1(s4))\n",
        "        f6 = F.relu(self.fc2(f5))\n",
        "        output = self.fc3(f6)\n",
        "        return output"
      ]
    },
    {
      "cell_type": "code",
      "execution_count": null,
      "metadata": {
        "id": "JX_2rCycfBWU",
        "colab": {
          "base_uri": "https://localhost:8080/",
          "height": 1000,
          "referenced_widgets": [
            "a49b768c4c514ffaa68b95d229e049d5",
            "414a9261d1044f8ba38d54b5c731e8c5",
            "aa232a6cfb0d4a448682fca3ded60bd1"
          ]
        },
        "outputId": "013f08ec-9c9c-4acc-f628-339370818a83"
      },
      "outputs": [
        {
          "output_type": "display_data",
          "data": {
            "application/vnd.jupyter.widget-view+json": {
              "version_major": 2,
              "version_minor": 0,
              "model_id": "a49b768c4c514ffaa68b95d229e049d5"
            },
            "text/plain": [
              "FigureWidget({\n",
              "    'data': [{'mode': 'lines+markers',\n",
              "              'name': 'Linear layer 0',\n",
              "              'type': 'scatter',\n",
              "              'uid': '48ddff38-e0d8-422a-b10e-8f8c13880df1',\n",
              "              'x': [],\n",
              "              'y': []},\n",
              "             {'mode': 'lines+markers',\n",
              "              'name': 'Linear layer 1',\n",
              "              'type': 'scatter',\n",
              "              'uid': '5eda1f6d-4f5c-41b7-9673-7656750cae05',\n",
              "              'x': [],\n",
              "              'y': []},\n",
              "             {'mode': 'lines+markers',\n",
              "              'name': 'Linear layer 2',\n",
              "              'type': 'scatter',\n",
              "              'uid': 'e57943ed-3e39-42d9-bb40-8a3c695f605c',\n",
              "              'x': [],\n",
              "              'y': []},\n",
              "             {'mode': 'lines+markers',\n",
              "              'name': 'Linear layer 3',\n",
              "              'type': 'scatter',\n",
              "              'uid': '9d700a81-925e-4e4e-be72-1100b56414fb',\n",
              "              'x': [],\n",
              "              'y': []},\n",
              "             {'mode': 'lines+markers',\n",
              "              'name': 'Linear layer 4',\n",
              "              'type': 'scatter',\n",
              "              'uid': '542893a5-2c0b-4f3c-9738-2524c5ee1d8c',\n",
              "              'x': [],\n",
              "              'y': []},\n",
              "             {'mode': 'lines+markers',\n",
              "              'name': 'Linear layer 5',\n",
              "              'type': 'scatter',\n",
              "              'uid': '62e1cd50-d833-4c3f-ba94-086c8f665352',\n",
              "              'x': [],\n",
              "              'y': []}],\n",
              "    'layout': {'height': 400,\n",
              "               'margin': {'b': 10, 't': 60},\n",
              "               'template': '...',\n",
              "               'title': {'text': 'Gradient standard deviation to weight standard deviation ratio', 'x': 0.5},\n",
              "               'width': 1500,\n",
              "               'xaxis': {'title': {'text': 'Epoch'}},\n",
              "               'yaxis': {'title': {'text': 'Gradient to weight ratio (log scale)'}, 'type': 'log'}}\n",
              "})"
            ]
          },
          "metadata": {
            "application/vnd.jupyter.widget-view+json": {
              "colab": {
                "custom_widget_manager": {
                  "url": "https://ssl.gstatic.com/colaboratory-static/widgets/colab-cdn-widget-manager/2b70e893a8ba7c0f/manager.min.js"
                }
              }
            }
          }
        },
        {
          "output_type": "display_data",
          "data": {
            "application/vnd.jupyter.widget-view+json": {
              "version_major": 2,
              "version_minor": 0,
              "model_id": "414a9261d1044f8ba38d54b5c731e8c5"
            },
            "text/plain": [
              "FigureWidget({\n",
              "    'data': [{'legendgroup': '0',\n",
              "              'line': {'color': 'rgba(99, 110, 250,0.18)'},\n",
              "              'mode': 'lines',\n",
              "              'name': 'Epoch 1',\n",
              "              'type': 'scatter',\n",
              "              'uid': 'ee3a4cc1-be7c-4b98-b74f-4e951a4e9dc3',\n",
              "              'xaxis': 'x',\n",
              "              'yaxis': 'y'},\n",
              "             {'legendgroup': '0',\n",
              "              'line': {'color': 'rgba(99, 110, 250,0.27)'},\n",
              "              'mode': 'lines',\n",
              "              'name': 'Epoch 4',\n",
              "              'type': 'scatter',\n",
              "              'uid': '0b524203-5545-4e14-90e5-fc73e5f0366b',\n",
              "              'xaxis': 'x',\n",
              "              'yaxis': 'y'},\n",
              "             {'legendgroup': '0',\n",
              "              'line': {'color': 'rgba(99, 110, 250,0.36)'},\n",
              "              'mode': 'lines',\n",
              "              'name': 'Epoch 7',\n",
              "              'type': 'scatter',\n",
              "              'uid': '8655bcc4-5584-465f-8f3d-0fd403815401',\n",
              "              'xaxis': 'x',\n",
              "              'yaxis': 'y'},\n",
              "             {'legendgroup': '0',\n",
              "              'line': {'color': 'rgba(99, 110, 250,0.44999999999999996)'},\n",
              "              'mode': 'lines',\n",
              "              'name': 'Epoch 10',\n",
              "              'type': 'scatter',\n",
              "              'uid': 'b7df41f3-611b-488f-8995-afbd808bcabb',\n",
              "              'xaxis': 'x',\n",
              "              'yaxis': 'y'},\n",
              "             {'legendgroup': '0',\n",
              "              'line': {'color': 'rgba(99, 110, 250,0.54)'},\n",
              "              'mode': 'lines',\n",
              "              'name': 'Epoch 13',\n",
              "              'type': 'scatter',\n",
              "              'uid': '6e3ecada-fc91-4628-b60e-d2c9a97b6753',\n",
              "              'xaxis': 'x',\n",
              "              'yaxis': 'y'},\n",
              "             {'legendgroup': '0',\n",
              "              'line': {'color': 'rgba(99, 110, 250,0.63)'},\n",
              "              'mode': 'lines',\n",
              "              'name': 'Epoch 16',\n",
              "              'type': 'scatter',\n",
              "              'uid': 'c5fee7f3-1430-4697-a903-c82a3fa15170',\n",
              "              'xaxis': 'x',\n",
              "              'yaxis': 'y'},\n",
              "             {'legendgroup': '0',\n",
              "              'line': {'color': 'rgba(99, 110, 250,0.75)'},\n",
              "              'mode': 'lines',\n",
              "              'name': 'Epoch 20',\n",
              "              'type': 'scatter',\n",
              "              'uid': 'c63d6012-dd20-4b11-b461-f1709da63eec',\n",
              "              'xaxis': 'x',\n",
              "              'yaxis': 'y'},\n",
              "             {'legendgroup': '1',\n",
              "              'line': {'color': 'rgba(239, 85, 59,0.18)'},\n",
              "              'mode': 'lines',\n",
              "              'name': 'Epoch 1',\n",
              "              'type': 'scatter',\n",
              "              'uid': '0ec1388a-493e-42d6-8643-ea390d62e02d',\n",
              "              'xaxis': 'x2',\n",
              "              'yaxis': 'y2'},\n",
              "             {'legendgroup': '1',\n",
              "              'line': {'color': 'rgba(239, 85, 59,0.27)'},\n",
              "              'mode': 'lines',\n",
              "              'name': 'Epoch 4',\n",
              "              'type': 'scatter',\n",
              "              'uid': '879521f0-6793-4f8a-9a9e-59e4142afb7e',\n",
              "              'xaxis': 'x2',\n",
              "              'yaxis': 'y2'},\n",
              "             {'legendgroup': '1',\n",
              "              'line': {'color': 'rgba(239, 85, 59,0.36)'},\n",
              "              'mode': 'lines',\n",
              "              'name': 'Epoch 7',\n",
              "              'type': 'scatter',\n",
              "              'uid': '75b15f6d-793c-4b53-8bd8-1c54fa00efdf',\n",
              "              'xaxis': 'x2',\n",
              "              'yaxis': 'y2'},\n",
              "             {'legendgroup': '1',\n",
              "              'line': {'color': 'rgba(239, 85, 59,0.44999999999999996)'},\n",
              "              'mode': 'lines',\n",
              "              'name': 'Epoch 10',\n",
              "              'type': 'scatter',\n",
              "              'uid': '67d1a646-b5c2-4ca2-ba9c-7c879286d371',\n",
              "              'xaxis': 'x2',\n",
              "              'yaxis': 'y2'},\n",
              "             {'legendgroup': '1',\n",
              "              'line': {'color': 'rgba(239, 85, 59,0.54)'},\n",
              "              'mode': 'lines',\n",
              "              'name': 'Epoch 13',\n",
              "              'type': 'scatter',\n",
              "              'uid': '1a12ff05-d839-40b9-90a1-614a6ebb2b16',\n",
              "              'xaxis': 'x2',\n",
              "              'yaxis': 'y2'},\n",
              "             {'legendgroup': '1',\n",
              "              'line': {'color': 'rgba(239, 85, 59,0.63)'},\n",
              "              'mode': 'lines',\n",
              "              'name': 'Epoch 16',\n",
              "              'type': 'scatter',\n",
              "              'uid': '9d087c77-d8ed-4dfa-8d64-b8a2f773396b',\n",
              "              'xaxis': 'x2',\n",
              "              'yaxis': 'y2'},\n",
              "             {'legendgroup': '1',\n",
              "              'line': {'color': 'rgba(239, 85, 59,0.75)'},\n",
              "              'mode': 'lines',\n",
              "              'name': 'Epoch 20',\n",
              "              'type': 'scatter',\n",
              "              'uid': '5ba5c824-5890-4ad3-a5ae-fde619974bca',\n",
              "              'xaxis': 'x2',\n",
              "              'yaxis': 'y2'},\n",
              "             {'legendgroup': '2',\n",
              "              'line': {'color': 'rgba(0, 204, 150,0.18)'},\n",
              "              'mode': 'lines',\n",
              "              'name': 'Epoch 1',\n",
              "              'type': 'scatter',\n",
              "              'uid': 'a41bdc09-2fb3-4744-81c6-79a316a52e77',\n",
              "              'xaxis': 'x3',\n",
              "              'yaxis': 'y3'},\n",
              "             {'legendgroup': '2',\n",
              "              'line': {'color': 'rgba(0, 204, 150,0.27)'},\n",
              "              'mode': 'lines',\n",
              "              'name': 'Epoch 4',\n",
              "              'type': 'scatter',\n",
              "              'uid': '2f56b678-083c-4799-a269-2c19f4f72e94',\n",
              "              'xaxis': 'x3',\n",
              "              'yaxis': 'y3'},\n",
              "             {'legendgroup': '2',\n",
              "              'line': {'color': 'rgba(0, 204, 150,0.36)'},\n",
              "              'mode': 'lines',\n",
              "              'name': 'Epoch 7',\n",
              "              'type': 'scatter',\n",
              "              'uid': 'f7755643-c4e6-4d39-b994-ef4d59eb2a26',\n",
              "              'xaxis': 'x3',\n",
              "              'yaxis': 'y3'},\n",
              "             {'legendgroup': '2',\n",
              "              'line': {'color': 'rgba(0, 204, 150,0.44999999999999996)'},\n",
              "              'mode': 'lines',\n",
              "              'name': 'Epoch 10',\n",
              "              'type': 'scatter',\n",
              "              'uid': '775c4d1d-f5a5-43fb-975a-40d349f56133',\n",
              "              'xaxis': 'x3',\n",
              "              'yaxis': 'y3'},\n",
              "             {'legendgroup': '2',\n",
              "              'line': {'color': 'rgba(0, 204, 150,0.54)'},\n",
              "              'mode': 'lines',\n",
              "              'name': 'Epoch 13',\n",
              "              'type': 'scatter',\n",
              "              'uid': '6803ee64-1056-4030-81ba-e0202f01a05d',\n",
              "              'xaxis': 'x3',\n",
              "              'yaxis': 'y3'},\n",
              "             {'legendgroup': '2',\n",
              "              'line': {'color': 'rgba(0, 204, 150,0.63)'},\n",
              "              'mode': 'lines',\n",
              "              'name': 'Epoch 16',\n",
              "              'type': 'scatter',\n",
              "              'uid': '1ae37c91-59a9-4ddc-8615-eac41339a424',\n",
              "              'xaxis': 'x3',\n",
              "              'yaxis': 'y3'},\n",
              "             {'legendgroup': '2',\n",
              "              'line': {'color': 'rgba(0, 204, 150,0.75)'},\n",
              "              'mode': 'lines',\n",
              "              'name': 'Epoch 20',\n",
              "              'type': 'scatter',\n",
              "              'uid': 'a7e89304-85a9-425c-8be0-4ecfc02c5ead',\n",
              "              'xaxis': 'x3',\n",
              "              'yaxis': 'y3'},\n",
              "             {'legendgroup': '3',\n",
              "              'line': {'color': 'rgba(171, 99, 250,0.18)'},\n",
              "              'mode': 'lines',\n",
              "              'name': 'Epoch 1',\n",
              "              'type': 'scatter',\n",
              "              'uid': '1e4486ec-cd39-4d6f-b186-cf09ee77b6ee',\n",
              "              'xaxis': 'x4',\n",
              "              'yaxis': 'y4'},\n",
              "             {'legendgroup': '3',\n",
              "              'line': {'color': 'rgba(171, 99, 250,0.27)'},\n",
              "              'mode': 'lines',\n",
              "              'name': 'Epoch 4',\n",
              "              'type': 'scatter',\n",
              "              'uid': 'f4aa117f-3764-4902-b2f3-8f55e734fb06',\n",
              "              'xaxis': 'x4',\n",
              "              'yaxis': 'y4'},\n",
              "             {'legendgroup': '3',\n",
              "              'line': {'color': 'rgba(171, 99, 250,0.36)'},\n",
              "              'mode': 'lines',\n",
              "              'name': 'Epoch 7',\n",
              "              'type': 'scatter',\n",
              "              'uid': 'e04f1aea-990f-42f1-92c4-74a5bcf4b630',\n",
              "              'xaxis': 'x4',\n",
              "              'yaxis': 'y4'},\n",
              "             {'legendgroup': '3',\n",
              "              'line': {'color': 'rgba(171, 99, 250,0.44999999999999996)'},\n",
              "              'mode': 'lines',\n",
              "              'name': 'Epoch 10',\n",
              "              'type': 'scatter',\n",
              "              'uid': 'be7c79ad-e24b-48c2-986a-a540be001ac4',\n",
              "              'xaxis': 'x4',\n",
              "              'yaxis': 'y4'},\n",
              "             {'legendgroup': '3',\n",
              "              'line': {'color': 'rgba(171, 99, 250,0.54)'},\n",
              "              'mode': 'lines',\n",
              "              'name': 'Epoch 13',\n",
              "              'type': 'scatter',\n",
              "              'uid': '96b86a0f-8c09-49bc-ad10-2b4377adb47a',\n",
              "              'xaxis': 'x4',\n",
              "              'yaxis': 'y4'},\n",
              "             {'legendgroup': '3',\n",
              "              'line': {'color': 'rgba(171, 99, 250,0.63)'},\n",
              "              'mode': 'lines',\n",
              "              'name': 'Epoch 16',\n",
              "              'type': 'scatter',\n",
              "              'uid': 'f9fc2bf7-dbc3-4b1a-8d21-114311abd768',\n",
              "              'xaxis': 'x4',\n",
              "              'yaxis': 'y4'},\n",
              "             {'legendgroup': '3',\n",
              "              'line': {'color': 'rgba(171, 99, 250,0.75)'},\n",
              "              'mode': 'lines',\n",
              "              'name': 'Epoch 20',\n",
              "              'type': 'scatter',\n",
              "              'uid': '400dd6ed-f02d-4bea-a9aa-7e352126eaf0',\n",
              "              'xaxis': 'x4',\n",
              "              'yaxis': 'y4'},\n",
              "             {'legendgroup': '4',\n",
              "              'line': {'color': 'rgba(255, 161, 90,0.18)'},\n",
              "              'mode': 'lines',\n",
              "              'name': 'Epoch 1',\n",
              "              'type': 'scatter',\n",
              "              'uid': '78d7e32b-59a2-4105-a98f-5ffff2a518b0',\n",
              "              'xaxis': 'x5',\n",
              "              'yaxis': 'y5'},\n",
              "             {'legendgroup': '4',\n",
              "              'line': {'color': 'rgba(255, 161, 90,0.27)'},\n",
              "              'mode': 'lines',\n",
              "              'name': 'Epoch 4',\n",
              "              'type': 'scatter',\n",
              "              'uid': 'd14dbea1-7fa9-4ed1-9f2c-bf52293352ae',\n",
              "              'xaxis': 'x5',\n",
              "              'yaxis': 'y5'},\n",
              "             {'legendgroup': '4',\n",
              "              'line': {'color': 'rgba(255, 161, 90,0.36)'},\n",
              "              'mode': 'lines',\n",
              "              'name': 'Epoch 7',\n",
              "              'type': 'scatter',\n",
              "              'uid': '90fc5382-d12b-4a2b-a5f2-65aed1ffdb44',\n",
              "              'xaxis': 'x5',\n",
              "              'yaxis': 'y5'},\n",
              "             {'legendgroup': '4',\n",
              "              'line': {'color': 'rgba(255, 161, 90,0.44999999999999996)'},\n",
              "              'mode': 'lines',\n",
              "              'name': 'Epoch 10',\n",
              "              'type': 'scatter',\n",
              "              'uid': 'eba8237d-8a07-419d-851c-524b73506a8e',\n",
              "              'xaxis': 'x5',\n",
              "              'yaxis': 'y5'},\n",
              "             {'legendgroup': '4',\n",
              "              'line': {'color': 'rgba(255, 161, 90,0.54)'},\n",
              "              'mode': 'lines',\n",
              "              'name': 'Epoch 13',\n",
              "              'type': 'scatter',\n",
              "              'uid': '0b9e3291-b7d0-4cc1-963b-acc07f6fcd30',\n",
              "              'xaxis': 'x5',\n",
              "              'yaxis': 'y5'},\n",
              "             {'legendgroup': '4',\n",
              "              'line': {'color': 'rgba(255, 161, 90,0.63)'},\n",
              "              'mode': 'lines',\n",
              "              'name': 'Epoch 16',\n",
              "              'type': 'scatter',\n",
              "              'uid': 'aeda19c3-13b0-43dd-9b45-43c397f7546e',\n",
              "              'xaxis': 'x5',\n",
              "              'yaxis': 'y5'},\n",
              "             {'legendgroup': '4',\n",
              "              'line': {'color': 'rgba(255, 161, 90,0.75)'},\n",
              "              'mode': 'lines',\n",
              "              'name': 'Epoch 20',\n",
              "              'type': 'scatter',\n",
              "              'uid': '8154c500-68ab-425a-b00b-e76ccfd03f43',\n",
              "              'xaxis': 'x5',\n",
              "              'yaxis': 'y5'},\n",
              "             {'legendgroup': '5',\n",
              "              'line': {'color': 'rgba(25, 211, 243,0.18)'},\n",
              "              'mode': 'lines',\n",
              "              'name': 'Epoch 1',\n",
              "              'type': 'scatter',\n",
              "              'uid': 'e95fa705-6f75-4f3f-8211-c7984df55b67',\n",
              "              'xaxis': 'x6',\n",
              "              'yaxis': 'y6'},\n",
              "             {'legendgroup': '5',\n",
              "              'line': {'color': 'rgba(25, 211, 243,0.27)'},\n",
              "              'mode': 'lines',\n",
              "              'name': 'Epoch 4',\n",
              "              'type': 'scatter',\n",
              "              'uid': 'cb91f00b-10de-4dc8-9dc3-922c83330736',\n",
              "              'xaxis': 'x6',\n",
              "              'yaxis': 'y6'},\n",
              "             {'legendgroup': '5',\n",
              "              'line': {'color': 'rgba(25, 211, 243,0.36)'},\n",
              "              'mode': 'lines',\n",
              "              'name': 'Epoch 7',\n",
              "              'type': 'scatter',\n",
              "              'uid': '31c835e8-6978-4831-88bf-0fb28e24705d',\n",
              "              'xaxis': 'x6',\n",
              "              'yaxis': 'y6'},\n",
              "             {'legendgroup': '5',\n",
              "              'line': {'color': 'rgba(25, 211, 243,0.44999999999999996)'},\n",
              "              'mode': 'lines',\n",
              "              'name': 'Epoch 10',\n",
              "              'type': 'scatter',\n",
              "              'uid': '193909a2-4fbc-4d6a-b706-b7dfc810d906',\n",
              "              'xaxis': 'x6',\n",
              "              'yaxis': 'y6'},\n",
              "             {'legendgroup': '5',\n",
              "              'line': {'color': 'rgba(25, 211, 243,0.54)'},\n",
              "              'mode': 'lines',\n",
              "              'name': 'Epoch 13',\n",
              "              'type': 'scatter',\n",
              "              'uid': '9f9969d1-45bf-436c-9efc-d5ee5a8cb27f',\n",
              "              'xaxis': 'x6',\n",
              "              'yaxis': 'y6'},\n",
              "             {'legendgroup': '5',\n",
              "              'line': {'color': 'rgba(25, 211, 243,0.63)'},\n",
              "              'mode': 'lines',\n",
              "              'name': 'Epoch 16',\n",
              "              'type': 'scatter',\n",
              "              'uid': 'dfce3998-6d1a-489f-b7da-b840dccd6240',\n",
              "              'xaxis': 'x6',\n",
              "              'yaxis': 'y6'},\n",
              "             {'legendgroup': '5',\n",
              "              'line': {'color': 'rgba(25, 211, 243,0.75)'},\n",
              "              'mode': 'lines',\n",
              "              'name': 'Epoch 20',\n",
              "              'type': 'scatter',\n",
              "              'uid': 'e1c55eb0-b13b-484c-a592-0125d2bf78e1',\n",
              "              'xaxis': 'x6',\n",
              "              'yaxis': 'y6'}],\n",
              "    'layout': {'annotations': [{'font': {'size': 16},\n",
              "                                'showarrow': False,\n",
              "                                'text': 'Linear layer 0',\n",
              "                                'x': 0.14444444444444446,\n",
              "                                'xanchor': 'center',\n",
              "                                'xref': 'paper',\n",
              "                                'y': 1.0,\n",
              "                                'yanchor': 'bottom',\n",
              "                                'yref': 'paper'},\n",
              "                               {'font': {'size': 16},\n",
              "                                'showarrow': False,\n",
              "                                'text': 'Linear layer 1',\n",
              "                                'x': 0.5,\n",
              "                                'xanchor': 'center',\n",
              "                                'xref': 'paper',\n",
              "                                'y': 1.0,\n",
              "                                'yanchor': 'bottom',\n",
              "                                'yref': 'paper'},\n",
              "                               {'font': {'size': 16},\n",
              "                                'showarrow': False,\n",
              "                                'text': 'Linear layer 2',\n",
              "                                'x': 0.8555555555555556,\n",
              "                                'xanchor': 'center',\n",
              "                                'xref': 'paper',\n",
              "                                'y': 1.0,\n",
              "                                'yanchor': 'bottom',\n",
              "                                'yref': 'paper'},\n",
              "                               {'font': {'size': 16},\n",
              "                                'showarrow': False,\n",
              "                                'text': 'Linear layer 3',\n",
              "                                'x': 0.14444444444444446,\n",
              "                                'xanchor': 'center',\n",
              "                                'xref': 'paper',\n",
              "                                'y': 0.45,\n",
              "                                'yanchor': 'bottom',\n",
              "                                'yref': 'paper'},\n",
              "                               {'font': {'size': 16},\n",
              "                                'showarrow': False,\n",
              "                                'text': 'Linear layer 4',\n",
              "                                'x': 0.5,\n",
              "                                'xanchor': 'center',\n",
              "                                'xref': 'paper',\n",
              "                                'y': 0.45,\n",
              "                                'yanchor': 'bottom',\n",
              "                                'yref': 'paper'},\n",
              "                               {'font': {'size': 16},\n",
              "                                'showarrow': False,\n",
              "                                'text': 'Linear layer 5',\n",
              "                                'x': 0.8555555555555556,\n",
              "                                'xanchor': 'center',\n",
              "                                'xref': 'paper',\n",
              "                                'y': 0.45,\n",
              "                                'yanchor': 'bottom',\n",
              "                                'yref': 'paper'}],\n",
              "               'height': 800,\n",
              "               'margin': {'b': 10, 't': 60},\n",
              "               'template': '...',\n",
              "               'title': {'text': 'Comparison between epochs of gradient distributions in layers', 'x': 0.5},\n",
              "               'width': 1500,\n",
              "               'xaxis': {'anchor': 'y',\n",
              "                         'domain': [0.0, 0.2888888888888889],\n",
              "                         'range': [-0.1, 0.1],\n",
              "                         'title': {'text': 'Gradient value'}},\n",
              "               'xaxis2': {'anchor': 'y2',\n",
              "                          'domain': [0.35555555555555557, 0.6444444444444445],\n",
              "                          'range': [-0.1, 0.1],\n",
              "                          'title': {'text': 'Gradient value'}},\n",
              "               'xaxis3': {'anchor': 'y3',\n",
              "                          'domain': [0.7111111111111111, 1.0],\n",
              "                          'range': [-0.1, 0.1],\n",
              "                          'title': {'text': 'Gradient value'}},\n",
              "               'xaxis4': {'anchor': 'y4',\n",
              "                          'domain': [0.0, 0.2888888888888889],\n",
              "                          'range': [-0.1, 0.1],\n",
              "                          'title': {'text': 'Gradient value'}},\n",
              "               'xaxis5': {'anchor': 'y5',\n",
              "                          'domain': [0.35555555555555557, 0.6444444444444445],\n",
              "                          'range': [-0.1, 0.1],\n",
              "                          'title': {'text': 'Gradient value'}},\n",
              "               'xaxis6': {'anchor': 'y6',\n",
              "                          'domain': [0.7111111111111111, 1.0],\n",
              "                          'range': [-0.1, 0.1],\n",
              "                          'title': {'text': 'Gradient value'}},\n",
              "               'yaxis': {'anchor': 'x', 'domain': [0.55, 1.0], 'title': {'text': 'Density (log scale)'}, 'type': 'log'},\n",
              "               'yaxis2': {'anchor': 'x2', 'domain': [0.55, 1.0], 'title': {'text': 'Density (log scale)'}, 'type': 'log'},\n",
              "               'yaxis3': {'anchor': 'x3', 'domain': [0.55, 1.0], 'title': {'text': 'Density (log scale)'}, 'type': 'log'},\n",
              "               'yaxis4': {'anchor': 'x4', 'domain': [0.0, 0.45], 'title': {'text': 'Density (log scale)'}, 'type': 'log'},\n",
              "               'yaxis5': {'anchor': 'x5', 'domain': [0.0, 0.45], 'title': {'text': 'Density (log scale)'}, 'type': 'log'},\n",
              "               'yaxis6': {'anchor': 'x6', 'domain': [0.0, 0.45], 'title': {'text': 'Density (log scale)'}, 'type': 'log'}}\n",
              "})"
            ]
          },
          "metadata": {
            "application/vnd.jupyter.widget-view+json": {
              "colab": {
                "custom_widget_manager": {
                  "url": "https://ssl.gstatic.com/colaboratory-static/widgets/colab-cdn-widget-manager/2b70e893a8ba7c0f/manager.min.js"
                }
              }
            }
          }
        },
        {
          "output_type": "display_data",
          "data": {
            "application/vnd.jupyter.widget-view+json": {
              "version_major": 2,
              "version_minor": 0,
              "model_id": "aa232a6cfb0d4a448682fca3ded60bd1"
            },
            "text/plain": [
              "FigureWidget({\n",
              "    'data': [{'line': {'color': 'rgb(99, 110, 250)'},\n",
              "              'mode': 'lines',\n",
              "              'name': 'Linear layer 0',\n",
              "              'showlegend': True,\n",
              "              'type': 'scatter',\n",
              "              'uid': '53103ee9-14a3-4fff-89af-3891c1bd69f5',\n",
              "              'xaxis': 'x',\n",
              "              'yaxis': 'y'},\n",
              "             {'line': {'color': 'rgb(239, 85, 59)'},\n",
              "              'mode': 'lines',\n",
              "              'name': 'Linear layer 1',\n",
              "              'showlegend': True,\n",
              "              'type': 'scatter',\n",
              "              'uid': '295260a8-5255-40cf-991d-1efe9c790e4b',\n",
              "              'xaxis': 'x',\n",
              "              'yaxis': 'y'},\n",
              "             {'line': {'color': 'rgb(0, 204, 150)'},\n",
              "              'mode': 'lines',\n",
              "              'name': 'Linear layer 2',\n",
              "              'showlegend': True,\n",
              "              'type': 'scatter',\n",
              "              'uid': '8dce5f83-bd9e-4599-901f-0845eac65500',\n",
              "              'xaxis': 'x',\n",
              "              'yaxis': 'y'},\n",
              "             {'line': {'color': 'rgb(171, 99, 250)'},\n",
              "              'mode': 'lines',\n",
              "              'name': 'Linear layer 3',\n",
              "              'showlegend': True,\n",
              "              'type': 'scatter',\n",
              "              'uid': '28a18cda-23cf-4a3d-b640-a7c091672049',\n",
              "              'xaxis': 'x',\n",
              "              'yaxis': 'y'},\n",
              "             {'line': {'color': 'rgb(255, 161, 90)'},\n",
              "              'mode': 'lines',\n",
              "              'name': 'Linear layer 4',\n",
              "              'showlegend': True,\n",
              "              'type': 'scatter',\n",
              "              'uid': 'cd151276-222d-4b24-9894-1996e6d75bb1',\n",
              "              'xaxis': 'x',\n",
              "              'yaxis': 'y'},\n",
              "             {'line': {'color': 'rgb(25, 211, 243)'},\n",
              "              'mode': 'lines',\n",
              "              'name': 'Linear layer 5',\n",
              "              'showlegend': True,\n",
              "              'type': 'scatter',\n",
              "              'uid': 'ab30058d-0a09-42db-acd6-3216fc2ddde1',\n",
              "              'xaxis': 'x',\n",
              "              'yaxis': 'y'},\n",
              "             {'line': {'color': 'rgb(99, 110, 250)'},\n",
              "              'mode': 'lines',\n",
              "              'name': 'Linear layer 0',\n",
              "              'showlegend': False,\n",
              "              'type': 'scatter',\n",
              "              'uid': '154f6b8c-00dc-496f-ad6c-d9883d98d7b2',\n",
              "              'xaxis': 'x2',\n",
              "              'yaxis': 'y2'},\n",
              "             {'line': {'color': 'rgb(239, 85, 59)'},\n",
              "              'mode': 'lines',\n",
              "              'name': 'Linear layer 1',\n",
              "              'showlegend': False,\n",
              "              'type': 'scatter',\n",
              "              'uid': '58314274-1a67-4b59-b85d-b33ab0a676b2',\n",
              "              'xaxis': 'x2',\n",
              "              'yaxis': 'y2'},\n",
              "             {'line': {'color': 'rgb(0, 204, 150)'},\n",
              "              'mode': 'lines',\n",
              "              'name': 'Linear layer 2',\n",
              "              'showlegend': False,\n",
              "              'type': 'scatter',\n",
              "              'uid': '16432490-1fd4-4b29-959e-f6d155906b9c',\n",
              "              'xaxis': 'x2',\n",
              "              'yaxis': 'y2'},\n",
              "             {'line': {'color': 'rgb(171, 99, 250)'},\n",
              "              'mode': 'lines',\n",
              "              'name': 'Linear layer 3',\n",
              "              'showlegend': False,\n",
              "              'type': 'scatter',\n",
              "              'uid': '573404a7-5a0e-43a6-b71d-ebd8e578c515',\n",
              "              'xaxis': 'x2',\n",
              "              'yaxis': 'y2'},\n",
              "             {'line': {'color': 'rgb(255, 161, 90)'},\n",
              "              'mode': 'lines',\n",
              "              'name': 'Linear layer 4',\n",
              "              'showlegend': False,\n",
              "              'type': 'scatter',\n",
              "              'uid': '477a3007-ca96-4fd4-a209-cbcf933247b8',\n",
              "              'xaxis': 'x2',\n",
              "              'yaxis': 'y2'},\n",
              "             {'line': {'color': 'rgb(25, 211, 243)'},\n",
              "              'mode': 'lines',\n",
              "              'name': 'Linear layer 5',\n",
              "              'showlegend': False,\n",
              "              'type': 'scatter',\n",
              "              'uid': '26dbe771-3c88-4c40-9b35-31b1568ccdd2',\n",
              "              'xaxis': 'x2',\n",
              "              'yaxis': 'y2'},\n",
              "             {'line': {'color': 'rgb(99, 110, 250)'},\n",
              "              'mode': 'lines',\n",
              "              'name': 'Linear layer 0',\n",
              "              'showlegend': False,\n",
              "              'type': 'scatter',\n",
              "              'uid': 'bfe7eb6d-927f-47d4-97eb-522c0eca72c4',\n",
              "              'xaxis': 'x3',\n",
              "              'yaxis': 'y3'},\n",
              "             {'line': {'color': 'rgb(239, 85, 59)'},\n",
              "              'mode': 'lines',\n",
              "              'name': 'Linear layer 1',\n",
              "              'showlegend': False,\n",
              "              'type': 'scatter',\n",
              "              'uid': '9121fbf6-42db-4d90-b2db-92098199d1fd',\n",
              "              'xaxis': 'x3',\n",
              "              'yaxis': 'y3'},\n",
              "             {'line': {'color': 'rgb(0, 204, 150)'},\n",
              "              'mode': 'lines',\n",
              "              'name': 'Linear layer 2',\n",
              "              'showlegend': False,\n",
              "              'type': 'scatter',\n",
              "              'uid': '9ccb7004-94aa-4366-99a9-920ef54265ab',\n",
              "              'xaxis': 'x3',\n",
              "              'yaxis': 'y3'},\n",
              "             {'line': {'color': 'rgb(171, 99, 250)'},\n",
              "              'mode': 'lines',\n",
              "              'name': 'Linear layer 3',\n",
              "              'showlegend': False,\n",
              "              'type': 'scatter',\n",
              "              'uid': '18b2d4af-597b-4de5-b69f-9ec1ea8b0a71',\n",
              "              'xaxis': 'x3',\n",
              "              'yaxis': 'y3'},\n",
              "             {'line': {'color': 'rgb(255, 161, 90)'},\n",
              "              'mode': 'lines',\n",
              "              'name': 'Linear layer 4',\n",
              "              'showlegend': False,\n",
              "              'type': 'scatter',\n",
              "              'uid': 'c78b376f-93dd-4a75-a13d-3d094b6824e3',\n",
              "              'xaxis': 'x3',\n",
              "              'yaxis': 'y3'},\n",
              "             {'line': {'color': 'rgb(25, 211, 243)'},\n",
              "              'mode': 'lines',\n",
              "              'name': 'Linear layer 5',\n",
              "              'showlegend': False,\n",
              "              'type': 'scatter',\n",
              "              'uid': 'b83b96c0-20f5-4742-b38e-41e4ee26ef97',\n",
              "              'xaxis': 'x3',\n",
              "              'yaxis': 'y3'}],\n",
              "    'layout': {'annotations': [{'font': {'size': 16},\n",
              "                                'showarrow': False,\n",
              "                                'text': 'Epoch 1',\n",
              "                                'x': 0.14444444444444446,\n",
              "                                'xanchor': 'center',\n",
              "                                'xref': 'paper',\n",
              "                                'y': 1.0,\n",
              "                                'yanchor': 'bottom',\n",
              "                                'yref': 'paper'},\n",
              "                               {'font': {'size': 16},\n",
              "                                'showarrow': False,\n",
              "                                'text': 'Epoch 11',\n",
              "                                'x': 0.5,\n",
              "                                'xanchor': 'center',\n",
              "                                'xref': 'paper',\n",
              "                                'y': 1.0,\n",
              "                                'yanchor': 'bottom',\n",
              "                                'yref': 'paper'},\n",
              "                               {'font': {'size': 16},\n",
              "                                'showarrow': False,\n",
              "                                'text': 'Epoch 20',\n",
              "                                'x': 0.8555555555555556,\n",
              "                                'xanchor': 'center',\n",
              "                                'xref': 'paper',\n",
              "                                'y': 1.0,\n",
              "                                'yanchor': 'bottom',\n",
              "                                'yref': 'paper'}],\n",
              "               'height': 400,\n",
              "               'margin': {'b': 10, 't': 60},\n",
              "               'template': '...',\n",
              "               'title': {'text': 'Comparison between layers of gradient distributions at epochs', 'x': 0.5},\n",
              "               'width': 1500,\n",
              "               'xaxis': {'anchor': 'y',\n",
              "                         'domain': [0.0, 0.2888888888888889],\n",
              "                         'range': [-1, 1],\n",
              "                         'title': {'text': 'Gradient value'}},\n",
              "               'xaxis2': {'anchor': 'y2',\n",
              "                          'domain': [0.35555555555555557, 0.6444444444444445],\n",
              "                          'range': [-0.05, 0.05],\n",
              "                          'title': {'text': 'Gradient value'}},\n",
              "               'xaxis3': {'anchor': 'y3',\n",
              "                          'domain': [0.7111111111111111, 1.0],\n",
              "                          'range': [-0.05, 0.05],\n",
              "                          'title': {'text': 'Gradient value'}},\n",
              "               'yaxis': {'anchor': 'x', 'domain': [0.0, 1.0], 'title': {'text': 'Density (log scale)'}, 'type': 'log'},\n",
              "               'yaxis2': {'anchor': 'x2', 'domain': [0.0, 1.0], 'title': {'text': 'Density (log scale)'}, 'type': 'log'},\n",
              "               'yaxis3': {'anchor': 'x3', 'domain': [0.0, 1.0], 'title': {'text': 'Density (log scale)'}, 'type': 'log'}}\n",
              "})"
            ]
          },
          "metadata": {
            "application/vnd.jupyter.widget-view+json": {
              "colab": {
                "custom_widget_manager": {
                  "url": "https://ssl.gstatic.com/colaboratory-static/widgets/colab-cdn-widget-manager/2b70e893a8ba7c0f/manager.min.js"
                }
              }
            }
          }
        }
      ],
      "source": [
        "convnet = ConvNet()\n",
        "conv_gradient_visualizer = GradientVisualizer(net, epochs)"
      ]
    },
    {
      "cell_type": "code",
      "source": [
        "conv_trainer = MnistTrainer(batch_size=128)\n",
        "conv_trainer.train(convnet, conv_gradient_visualizer, epochs=epochs)"
      ],
      "metadata": {
        "colab": {
          "base_uri": "https://localhost:8080/",
          "height": 1000
        },
        "id": "5k-MScoK4tEl",
        "outputId": "4c00e949-0319-41db-f23b-a7356d1e7782"
      },
      "execution_count": null,
      "outputs": [
        {
          "output_type": "stream",
          "name": "stdout",
          "text": [
            "[1,   100] loss: 1.551\n",
            "[1,   200] loss: 0.233\n",
            "[1,   300] loss: 0.136\n",
            "[1,   400] loss: 0.103\n",
            "Accuracy of the network on the 10000 test images: 97.32 %\n",
            "[2,   100] loss: 0.086\n",
            "[2,   200] loss: 0.074\n",
            "[2,   300] loss: 0.067\n",
            "[2,   400] loss: 0.059\n",
            "Accuracy of the network on the 10000 test images: 98.25 %\n",
            "[3,   100] loss: 0.060\n",
            "[3,   200] loss: 0.050\n",
            "[3,   300] loss: 0.052\n",
            "[3,   400] loss: 0.051\n",
            "Accuracy of the network on the 10000 test images: 98.59 %\n",
            "[4,   100] loss: 0.040\n",
            "[4,   200] loss: 0.033\n",
            "[4,   300] loss: 0.045\n",
            "[4,   400] loss: 0.042\n",
            "Accuracy of the network on the 10000 test images: 99.12 %\n",
            "[5,   100] loss: 0.026\n",
            "[5,   200] loss: 0.033\n",
            "[5,   300] loss: 0.029\n",
            "[5,   400] loss: 0.034\n",
            "Accuracy of the network on the 10000 test images: 98.59 %\n",
            "[6,   100] loss: 0.024\n",
            "[6,   200] loss: 0.030\n",
            "[6,   300] loss: 0.027\n",
            "[6,   400] loss: 0.034\n",
            "Accuracy of the network on the 10000 test images: 99.14 %\n",
            "[7,   100] loss: 0.028\n",
            "[7,   200] loss: 0.025\n",
            "[7,   300] loss: 0.023\n",
            "[7,   400] loss: 0.023\n",
            "Accuracy of the network on the 10000 test images: 99.02 %\n",
            "[8,   100] loss: 0.017\n",
            "[8,   200] loss: 0.018\n",
            "[8,   300] loss: 0.021\n",
            "[8,   400] loss: 0.023\n",
            "Accuracy of the network on the 10000 test images: 98.77 %\n",
            "[9,   100] loss: 0.016\n",
            "[9,   200] loss: 0.021\n",
            "[9,   300] loss: 0.019\n",
            "[9,   400] loss: 0.024\n",
            "Accuracy of the network on the 10000 test images: 98.93 %\n",
            "[10,   100] loss: 0.017\n",
            "[10,   200] loss: 0.014\n",
            "[10,   300] loss: 0.031\n",
            "[10,   400] loss: 0.016\n",
            "Accuracy of the network on the 10000 test images: 98.96 %\n",
            "[11,   100] loss: 0.012\n",
            "[11,   200] loss: 0.013\n",
            "[11,   300] loss: 0.017\n",
            "[11,   400] loss: 0.020\n",
            "Accuracy of the network on the 10000 test images: 98.76 %\n",
            "[12,   100] loss: 0.011\n",
            "[12,   200] loss: 0.014\n",
            "[12,   300] loss: 0.015\n",
            "[12,   400] loss: 0.018\n",
            "Accuracy of the network on the 10000 test images: 98.99 %\n",
            "[13,   100] loss: 0.014\n",
            "[13,   200] loss: 0.010\n",
            "[13,   300] loss: 0.015\n",
            "[13,   400] loss: 0.014\n",
            "Accuracy of the network on the 10000 test images: 99.12 %\n",
            "[14,   100] loss: 0.010\n",
            "[14,   200] loss: 0.013\n",
            "[14,   300] loss: 0.008\n",
            "[14,   400] loss: 0.011\n",
            "Accuracy of the network on the 10000 test images: 98.81 %\n",
            "[15,   100] loss: 0.011\n",
            "[15,   200] loss: 0.010\n",
            "[15,   300] loss: 0.012\n",
            "[15,   400] loss: 0.011\n",
            "Accuracy of the network on the 10000 test images: 99.07 %\n",
            "[16,   100] loss: 0.004\n",
            "[16,   200] loss: 0.007\n",
            "[16,   300] loss: 0.007\n",
            "[16,   400] loss: 0.018\n",
            "Accuracy of the network on the 10000 test images: 99.15 %\n",
            "[17,   100] loss: 0.012\n",
            "[17,   200] loss: 0.006\n",
            "[17,   300] loss: 0.014\n",
            "[17,   400] loss: 0.010\n",
            "Accuracy of the network on the 10000 test images: 99.16 %\n",
            "[18,   100] loss: 0.007\n",
            "[18,   200] loss: 0.006\n",
            "[18,   300] loss: 0.006\n",
            "[18,   400] loss: 0.008\n",
            "Accuracy of the network on the 10000 test images: 99.03 %\n",
            "[19,   100] loss: 0.011\n",
            "[19,   200] loss: 0.009\n",
            "[19,   300] loss: 0.016\n",
            "[19,   400] loss: 0.017\n",
            "Accuracy of the network on the 10000 test images: 99.0 %\n",
            "[20,   100] loss: 0.010\n",
            "[20,   200] loss: 0.008\n",
            "[20,   300] loss: 0.008\n",
            "[20,   400] loss: 0.009\n",
            "Accuracy of the network on the 10000 test images: 98.97 %\n"
          ]
        }
      ]
    }
  ],
  "metadata": {
    "colab": {
      "provenance": []
    },
    "kernelspec": {
      "display_name": "Python 3",
      "name": "python3"
    },
    "language_info": {
      "name": "python"
    },
    "widgets": {
      "application/vnd.jupyter.widget-state+json": {
        "bb73a60b774f4758bffdc3ce7bb58432": {
          "model_module": "jupyterlab-plotly",
          "model_name": "FigureModel",
          "model_module_version": "^5.24.1",
          "state": {
            "_config": {
              "plotlyServerURL": "https://plot.ly"
            },
            "_data": [
              {
                "mode": "lines+markers",
                "name": "Linear layer 0",
                "x": [],
                "y": [],
                "type": "scatter",
                "uid": "3592f35f-66df-4a99-8d91-24647fe3dd20"
              },
              {
                "mode": "lines+markers",
                "name": "Linear layer 1",
                "x": [],
                "y": [],
                "type": "scatter",
                "uid": "4d63848f-cf4a-4d79-97b7-0827d50f6aa9"
              },
              {
                "mode": "lines+markers",
                "name": "Linear layer 2",
                "x": [],
                "y": [],
                "type": "scatter",
                "uid": "edf9646c-e3a9-4031-8f2e-178a2a52f2dd"
              },
              {
                "mode": "lines+markers",
                "name": "Linear layer 3",
                "x": [],
                "y": [],
                "type": "scatter",
                "uid": "c7537380-0e8b-47a9-b259-038c4ab306ce"
              },
              {
                "mode": "lines+markers",
                "name": "Linear layer 4",
                "x": [],
                "y": [],
                "type": "scatter",
                "uid": "d3d77afb-3281-41e9-a943-ab5f8371a030"
              },
              {
                "mode": "lines+markers",
                "name": "Linear layer 5",
                "x": [],
                "y": [],
                "type": "scatter",
                "uid": "a5b58ece-a951-48db-9894-439a6c69a6ee"
              }
            ],
            "_dom_classes": [],
            "_js2py_layoutDelta": null,
            "_js2py_pointsCallback": null,
            "_js2py_relayout": {},
            "_js2py_restyle": {},
            "_js2py_traceDeltas": null,
            "_js2py_update": {},
            "_last_layout_edit_id": 240,
            "_last_trace_edit_id": 240,
            "_layout": {
              "height": 400,
              "margin": {
                "b": 10,
                "t": 60
              },
              "template": {
                "data": {
                  "barpolar": [
                    {
                      "marker": {
                        "line": {
                          "color": "#E5ECF6",
                          "width": 0.5
                        },
                        "pattern": {
                          "fillmode": "overlay",
                          "size": 10,
                          "solidity": 0.2
                        }
                      },
                      "type": "barpolar"
                    }
                  ],
                  "bar": [
                    {
                      "error_x": {
                        "color": "#2a3f5f"
                      },
                      "error_y": {
                        "color": "#2a3f5f"
                      },
                      "marker": {
                        "line": {
                          "color": "#E5ECF6",
                          "width": 0.5
                        },
                        "pattern": {
                          "fillmode": "overlay",
                          "size": 10,
                          "solidity": 0.2
                        }
                      },
                      "type": "bar"
                    }
                  ],
                  "carpet": [
                    {
                      "aaxis": {
                        "endlinecolor": "#2a3f5f",
                        "gridcolor": "white",
                        "linecolor": "white",
                        "minorgridcolor": "white",
                        "startlinecolor": "#2a3f5f"
                      },
                      "baxis": {
                        "endlinecolor": "#2a3f5f",
                        "gridcolor": "white",
                        "linecolor": "white",
                        "minorgridcolor": "white",
                        "startlinecolor": "#2a3f5f"
                      },
                      "type": "carpet"
                    }
                  ],
                  "choropleth": [
                    {
                      "colorbar": {
                        "outlinewidth": 0,
                        "ticks": ""
                      },
                      "type": "choropleth"
                    }
                  ],
                  "contourcarpet": [
                    {
                      "colorbar": {
                        "outlinewidth": 0,
                        "ticks": ""
                      },
                      "type": "contourcarpet"
                    }
                  ],
                  "contour": [
                    {
                      "colorbar": {
                        "outlinewidth": 0,
                        "ticks": ""
                      },
                      "colorscale": [
                        [
                          0,
                          "#0d0887"
                        ],
                        [
                          0.1111111111111111,
                          "#46039f"
                        ],
                        [
                          0.2222222222222222,
                          "#7201a8"
                        ],
                        [
                          0.3333333333333333,
                          "#9c179e"
                        ],
                        [
                          0.4444444444444444,
                          "#bd3786"
                        ],
                        [
                          0.5555555555555556,
                          "#d8576b"
                        ],
                        [
                          0.6666666666666666,
                          "#ed7953"
                        ],
                        [
                          0.7777777777777778,
                          "#fb9f3a"
                        ],
                        [
                          0.8888888888888888,
                          "#fdca26"
                        ],
                        [
                          1,
                          "#f0f921"
                        ]
                      ],
                      "type": "contour"
                    }
                  ],
                  "heatmapgl": [
                    {
                      "colorbar": {
                        "outlinewidth": 0,
                        "ticks": ""
                      },
                      "colorscale": [
                        [
                          0,
                          "#0d0887"
                        ],
                        [
                          0.1111111111111111,
                          "#46039f"
                        ],
                        [
                          0.2222222222222222,
                          "#7201a8"
                        ],
                        [
                          0.3333333333333333,
                          "#9c179e"
                        ],
                        [
                          0.4444444444444444,
                          "#bd3786"
                        ],
                        [
                          0.5555555555555556,
                          "#d8576b"
                        ],
                        [
                          0.6666666666666666,
                          "#ed7953"
                        ],
                        [
                          0.7777777777777778,
                          "#fb9f3a"
                        ],
                        [
                          0.8888888888888888,
                          "#fdca26"
                        ],
                        [
                          1,
                          "#f0f921"
                        ]
                      ],
                      "type": "heatmapgl"
                    }
                  ],
                  "heatmap": [
                    {
                      "colorbar": {
                        "outlinewidth": 0,
                        "ticks": ""
                      },
                      "colorscale": [
                        [
                          0,
                          "#0d0887"
                        ],
                        [
                          0.1111111111111111,
                          "#46039f"
                        ],
                        [
                          0.2222222222222222,
                          "#7201a8"
                        ],
                        [
                          0.3333333333333333,
                          "#9c179e"
                        ],
                        [
                          0.4444444444444444,
                          "#bd3786"
                        ],
                        [
                          0.5555555555555556,
                          "#d8576b"
                        ],
                        [
                          0.6666666666666666,
                          "#ed7953"
                        ],
                        [
                          0.7777777777777778,
                          "#fb9f3a"
                        ],
                        [
                          0.8888888888888888,
                          "#fdca26"
                        ],
                        [
                          1,
                          "#f0f921"
                        ]
                      ],
                      "type": "heatmap"
                    }
                  ],
                  "histogram2dcontour": [
                    {
                      "colorbar": {
                        "outlinewidth": 0,
                        "ticks": ""
                      },
                      "colorscale": [
                        [
                          0,
                          "#0d0887"
                        ],
                        [
                          0.1111111111111111,
                          "#46039f"
                        ],
                        [
                          0.2222222222222222,
                          "#7201a8"
                        ],
                        [
                          0.3333333333333333,
                          "#9c179e"
                        ],
                        [
                          0.4444444444444444,
                          "#bd3786"
                        ],
                        [
                          0.5555555555555556,
                          "#d8576b"
                        ],
                        [
                          0.6666666666666666,
                          "#ed7953"
                        ],
                        [
                          0.7777777777777778,
                          "#fb9f3a"
                        ],
                        [
                          0.8888888888888888,
                          "#fdca26"
                        ],
                        [
                          1,
                          "#f0f921"
                        ]
                      ],
                      "type": "histogram2dcontour"
                    }
                  ],
                  "histogram2d": [
                    {
                      "colorbar": {
                        "outlinewidth": 0,
                        "ticks": ""
                      },
                      "colorscale": [
                        [
                          0,
                          "#0d0887"
                        ],
                        [
                          0.1111111111111111,
                          "#46039f"
                        ],
                        [
                          0.2222222222222222,
                          "#7201a8"
                        ],
                        [
                          0.3333333333333333,
                          "#9c179e"
                        ],
                        [
                          0.4444444444444444,
                          "#bd3786"
                        ],
                        [
                          0.5555555555555556,
                          "#d8576b"
                        ],
                        [
                          0.6666666666666666,
                          "#ed7953"
                        ],
                        [
                          0.7777777777777778,
                          "#fb9f3a"
                        ],
                        [
                          0.8888888888888888,
                          "#fdca26"
                        ],
                        [
                          1,
                          "#f0f921"
                        ]
                      ],
                      "type": "histogram2d"
                    }
                  ],
                  "histogram": [
                    {
                      "marker": {
                        "pattern": {
                          "fillmode": "overlay",
                          "size": 10,
                          "solidity": 0.2
                        }
                      },
                      "type": "histogram"
                    }
                  ],
                  "mesh3d": [
                    {
                      "colorbar": {
                        "outlinewidth": 0,
                        "ticks": ""
                      },
                      "type": "mesh3d"
                    }
                  ],
                  "parcoords": [
                    {
                      "line": {
                        "colorbar": {
                          "outlinewidth": 0,
                          "ticks": ""
                        }
                      },
                      "type": "parcoords"
                    }
                  ],
                  "pie": [
                    {
                      "automargin": true,
                      "type": "pie"
                    }
                  ],
                  "scatter3d": [
                    {
                      "line": {
                        "colorbar": {
                          "outlinewidth": 0,
                          "ticks": ""
                        }
                      },
                      "marker": {
                        "colorbar": {
                          "outlinewidth": 0,
                          "ticks": ""
                        }
                      },
                      "type": "scatter3d"
                    }
                  ],
                  "scattercarpet": [
                    {
                      "marker": {
                        "colorbar": {
                          "outlinewidth": 0,
                          "ticks": ""
                        }
                      },
                      "type": "scattercarpet"
                    }
                  ],
                  "scattergeo": [
                    {
                      "marker": {
                        "colorbar": {
                          "outlinewidth": 0,
                          "ticks": ""
                        }
                      },
                      "type": "scattergeo"
                    }
                  ],
                  "scattergl": [
                    {
                      "marker": {
                        "colorbar": {
                          "outlinewidth": 0,
                          "ticks": ""
                        }
                      },
                      "type": "scattergl"
                    }
                  ],
                  "scattermapbox": [
                    {
                      "marker": {
                        "colorbar": {
                          "outlinewidth": 0,
                          "ticks": ""
                        }
                      },
                      "type": "scattermapbox"
                    }
                  ],
                  "scatterpolargl": [
                    {
                      "marker": {
                        "colorbar": {
                          "outlinewidth": 0,
                          "ticks": ""
                        }
                      },
                      "type": "scatterpolargl"
                    }
                  ],
                  "scatterpolar": [
                    {
                      "marker": {
                        "colorbar": {
                          "outlinewidth": 0,
                          "ticks": ""
                        }
                      },
                      "type": "scatterpolar"
                    }
                  ],
                  "scatter": [
                    {
                      "fillpattern": {
                        "fillmode": "overlay",
                        "size": 10,
                        "solidity": 0.2
                      },
                      "type": "scatter"
                    }
                  ],
                  "scatterternary": [
                    {
                      "marker": {
                        "colorbar": {
                          "outlinewidth": 0,
                          "ticks": ""
                        }
                      },
                      "type": "scatterternary"
                    }
                  ],
                  "surface": [
                    {
                      "colorbar": {
                        "outlinewidth": 0,
                        "ticks": ""
                      },
                      "colorscale": [
                        [
                          0,
                          "#0d0887"
                        ],
                        [
                          0.1111111111111111,
                          "#46039f"
                        ],
                        [
                          0.2222222222222222,
                          "#7201a8"
                        ],
                        [
                          0.3333333333333333,
                          "#9c179e"
                        ],
                        [
                          0.4444444444444444,
                          "#bd3786"
                        ],
                        [
                          0.5555555555555556,
                          "#d8576b"
                        ],
                        [
                          0.6666666666666666,
                          "#ed7953"
                        ],
                        [
                          0.7777777777777778,
                          "#fb9f3a"
                        ],
                        [
                          0.8888888888888888,
                          "#fdca26"
                        ],
                        [
                          1,
                          "#f0f921"
                        ]
                      ],
                      "type": "surface"
                    }
                  ],
                  "table": [
                    {
                      "cells": {
                        "fill": {
                          "color": "#EBF0F8"
                        },
                        "line": {
                          "color": "white"
                        }
                      },
                      "header": {
                        "fill": {
                          "color": "#C8D4E3"
                        },
                        "line": {
                          "color": "white"
                        }
                      },
                      "type": "table"
                    }
                  ]
                },
                "layout": {
                  "annotationdefaults": {
                    "arrowcolor": "#2a3f5f",
                    "arrowhead": 0,
                    "arrowwidth": 1
                  },
                  "autotypenumbers": "strict",
                  "coloraxis": {
                    "colorbar": {
                      "outlinewidth": 0,
                      "ticks": ""
                    }
                  },
                  "colorscale": {
                    "diverging": [
                      [
                        0,
                        "#8e0152"
                      ],
                      [
                        0.1,
                        "#c51b7d"
                      ],
                      [
                        0.2,
                        "#de77ae"
                      ],
                      [
                        0.3,
                        "#f1b6da"
                      ],
                      [
                        0.4,
                        "#fde0ef"
                      ],
                      [
                        0.5,
                        "#f7f7f7"
                      ],
                      [
                        0.6,
                        "#e6f5d0"
                      ],
                      [
                        0.7,
                        "#b8e186"
                      ],
                      [
                        0.8,
                        "#7fbc41"
                      ],
                      [
                        0.9,
                        "#4d9221"
                      ],
                      [
                        1,
                        "#276419"
                      ]
                    ],
                    "sequential": [
                      [
                        0,
                        "#0d0887"
                      ],
                      [
                        0.1111111111111111,
                        "#46039f"
                      ],
                      [
                        0.2222222222222222,
                        "#7201a8"
                      ],
                      [
                        0.3333333333333333,
                        "#9c179e"
                      ],
                      [
                        0.4444444444444444,
                        "#bd3786"
                      ],
                      [
                        0.5555555555555556,
                        "#d8576b"
                      ],
                      [
                        0.6666666666666666,
                        "#ed7953"
                      ],
                      [
                        0.7777777777777778,
                        "#fb9f3a"
                      ],
                      [
                        0.8888888888888888,
                        "#fdca26"
                      ],
                      [
                        1,
                        "#f0f921"
                      ]
                    ],
                    "sequentialminus": [
                      [
                        0,
                        "#0d0887"
                      ],
                      [
                        0.1111111111111111,
                        "#46039f"
                      ],
                      [
                        0.2222222222222222,
                        "#7201a8"
                      ],
                      [
                        0.3333333333333333,
                        "#9c179e"
                      ],
                      [
                        0.4444444444444444,
                        "#bd3786"
                      ],
                      [
                        0.5555555555555556,
                        "#d8576b"
                      ],
                      [
                        0.6666666666666666,
                        "#ed7953"
                      ],
                      [
                        0.7777777777777778,
                        "#fb9f3a"
                      ],
                      [
                        0.8888888888888888,
                        "#fdca26"
                      ],
                      [
                        1,
                        "#f0f921"
                      ]
                    ]
                  },
                  "colorway": [
                    "#636efa",
                    "#EF553B",
                    "#00cc96",
                    "#ab63fa",
                    "#FFA15A",
                    "#19d3f3",
                    "#FF6692",
                    "#B6E880",
                    "#FF97FF",
                    "#FECB52"
                  ],
                  "font": {
                    "color": "#2a3f5f"
                  },
                  "geo": {
                    "bgcolor": "white",
                    "lakecolor": "white",
                    "landcolor": "#E5ECF6",
                    "showlakes": true,
                    "showland": true,
                    "subunitcolor": "white"
                  },
                  "hoverlabel": {
                    "align": "left"
                  },
                  "hovermode": "closest",
                  "mapbox": {
                    "style": "light"
                  },
                  "paper_bgcolor": "white",
                  "plot_bgcolor": "#E5ECF6",
                  "polar": {
                    "angularaxis": {
                      "gridcolor": "white",
                      "linecolor": "white",
                      "ticks": ""
                    },
                    "bgcolor": "#E5ECF6",
                    "radialaxis": {
                      "gridcolor": "white",
                      "linecolor": "white",
                      "ticks": ""
                    }
                  },
                  "scene": {
                    "xaxis": {
                      "backgroundcolor": "#E5ECF6",
                      "gridcolor": "white",
                      "gridwidth": 2,
                      "linecolor": "white",
                      "showbackground": true,
                      "ticks": "",
                      "zerolinecolor": "white"
                    },
                    "yaxis": {
                      "backgroundcolor": "#E5ECF6",
                      "gridcolor": "white",
                      "gridwidth": 2,
                      "linecolor": "white",
                      "showbackground": true,
                      "ticks": "",
                      "zerolinecolor": "white"
                    },
                    "zaxis": {
                      "backgroundcolor": "#E5ECF6",
                      "gridcolor": "white",
                      "gridwidth": 2,
                      "linecolor": "white",
                      "showbackground": true,
                      "ticks": "",
                      "zerolinecolor": "white"
                    }
                  },
                  "shapedefaults": {
                    "line": {
                      "color": "#2a3f5f"
                    }
                  },
                  "ternary": {
                    "aaxis": {
                      "gridcolor": "white",
                      "linecolor": "white",
                      "ticks": ""
                    },
                    "baxis": {
                      "gridcolor": "white",
                      "linecolor": "white",
                      "ticks": ""
                    },
                    "bgcolor": "#E5ECF6",
                    "caxis": {
                      "gridcolor": "white",
                      "linecolor": "white",
                      "ticks": ""
                    }
                  },
                  "title": {
                    "x": 0.05
                  },
                  "xaxis": {
                    "automargin": true,
                    "gridcolor": "white",
                    "linecolor": "white",
                    "ticks": "",
                    "title": {
                      "standoff": 15
                    },
                    "zerolinecolor": "white",
                    "zerolinewidth": 2
                  },
                  "yaxis": {
                    "automargin": true,
                    "gridcolor": "white",
                    "linecolor": "white",
                    "ticks": "",
                    "title": {
                      "standoff": 15
                    },
                    "zerolinecolor": "white",
                    "zerolinewidth": 2
                  }
                }
              },
              "title": {
                "text": "Gradient standard deviation to weight standard deviation ratio",
                "x": 0.5
              },
              "width": 1500,
              "xaxis": {
                "title": {
                  "text": "Epoch"
                }
              },
              "yaxis": {
                "title": {
                  "text": "Gradient to weight ratio (log scale)"
                },
                "type": "log"
              }
            },
            "_model_module": "jupyterlab-plotly",
            "_model_module_version": "^5.24.1",
            "_model_name": "FigureModel",
            "_py2js_addTraces": {},
            "_py2js_animate": {},
            "_py2js_deleteTraces": {},
            "_py2js_moveTraces": {},
            "_py2js_relayout": {},
            "_py2js_removeLayoutProps": {},
            "_py2js_removeTraceProps": {},
            "_py2js_restyle": null,
            "_py2js_update": {},
            "_view_count": 1,
            "_view_module": "jupyterlab-plotly",
            "_view_module_version": "^5.24.1",
            "_view_name": "FigureView"
          }
        },
        "c3b240a557dc4086a178c869d7de4d10": {
          "model_module": "jupyterlab-plotly",
          "model_name": "FigureModel",
          "model_module_version": "^5.24.1",
          "state": {
            "_config": {
              "plotlyServerURL": "https://plot.ly"
            },
            "_data": [
              {
                "legendgroup": "0",
                "line": {
                  "color": "rgba(99, 110, 250,0.18)"
                },
                "mode": "lines",
                "name": "Epoch 1",
                "xaxis": "x",
                "yaxis": "y",
                "type": "scatter",
                "uid": "08436b51-75f8-46f5-bcdc-0254aad25407"
              },
              {
                "legendgroup": "0",
                "line": {
                  "color": "rgba(99, 110, 250,0.27)"
                },
                "mode": "lines",
                "name": "Epoch 4",
                "xaxis": "x",
                "yaxis": "y",
                "type": "scatter",
                "uid": "07002b8b-0682-451a-b203-6d62f762703d"
              },
              {
                "legendgroup": "0",
                "line": {
                  "color": "rgba(99, 110, 250,0.36)"
                },
                "mode": "lines",
                "name": "Epoch 7",
                "xaxis": "x",
                "yaxis": "y",
                "type": "scatter",
                "uid": "dcfe53a3-bccb-4b48-8512-fdda058dd0aa"
              },
              {
                "legendgroup": "0",
                "line": {
                  "color": "rgba(99, 110, 250,0.44999999999999996)"
                },
                "mode": "lines",
                "name": "Epoch 10",
                "xaxis": "x",
                "yaxis": "y",
                "type": "scatter",
                "uid": "49a962ee-3298-4ecd-9d36-a4fe6d0ee8f5"
              },
              {
                "legendgroup": "0",
                "line": {
                  "color": "rgba(99, 110, 250,0.54)"
                },
                "mode": "lines",
                "name": "Epoch 13",
                "xaxis": "x",
                "yaxis": "y",
                "type": "scatter",
                "uid": "5324b73c-77c6-4769-bc1d-1b0ede9ebf33"
              },
              {
                "legendgroup": "0",
                "line": {
                  "color": "rgba(99, 110, 250,0.63)"
                },
                "mode": "lines",
                "name": "Epoch 16",
                "xaxis": "x",
                "yaxis": "y",
                "type": "scatter",
                "uid": "b7b6b9bf-11d1-4a04-8a91-acb71d674560"
              },
              {
                "legendgroup": "0",
                "line": {
                  "color": "rgba(99, 110, 250,0.75)"
                },
                "mode": "lines",
                "name": "Epoch 20",
                "xaxis": "x",
                "yaxis": "y",
                "type": "scatter",
                "uid": "70183598-31a9-4e3a-8a0c-2689cca971d8"
              },
              {
                "legendgroup": "1",
                "line": {
                  "color": "rgba(239, 85, 59,0.18)"
                },
                "mode": "lines",
                "name": "Epoch 1",
                "xaxis": "x2",
                "yaxis": "y2",
                "type": "scatter",
                "uid": "7923921c-5b57-44cc-a430-c3351b104e55"
              },
              {
                "legendgroup": "1",
                "line": {
                  "color": "rgba(239, 85, 59,0.27)"
                },
                "mode": "lines",
                "name": "Epoch 4",
                "xaxis": "x2",
                "yaxis": "y2",
                "type": "scatter",
                "uid": "7f268893-91b7-45fe-956d-bfffa3709e64"
              },
              {
                "legendgroup": "1",
                "line": {
                  "color": "rgba(239, 85, 59,0.36)"
                },
                "mode": "lines",
                "name": "Epoch 7",
                "xaxis": "x2",
                "yaxis": "y2",
                "type": "scatter",
                "uid": "26b3340d-f83a-4348-8de5-88e3013868d1"
              },
              {
                "legendgroup": "1",
                "line": {
                  "color": "rgba(239, 85, 59,0.44999999999999996)"
                },
                "mode": "lines",
                "name": "Epoch 10",
                "xaxis": "x2",
                "yaxis": "y2",
                "type": "scatter",
                "uid": "46c4bb49-1ba5-43ce-b7c4-2eae24fc8953"
              },
              {
                "legendgroup": "1",
                "line": {
                  "color": "rgba(239, 85, 59,0.54)"
                },
                "mode": "lines",
                "name": "Epoch 13",
                "xaxis": "x2",
                "yaxis": "y2",
                "type": "scatter",
                "uid": "9de932b3-fc33-4f23-919c-e77308296213"
              },
              {
                "legendgroup": "1",
                "line": {
                  "color": "rgba(239, 85, 59,0.63)"
                },
                "mode": "lines",
                "name": "Epoch 16",
                "xaxis": "x2",
                "yaxis": "y2",
                "type": "scatter",
                "uid": "471627a6-07bc-4e31-bbee-b65143049357"
              },
              {
                "legendgroup": "1",
                "line": {
                  "color": "rgba(239, 85, 59,0.75)"
                },
                "mode": "lines",
                "name": "Epoch 20",
                "xaxis": "x2",
                "yaxis": "y2",
                "type": "scatter",
                "uid": "3053b36f-5131-4771-899e-d33cd4584206"
              },
              {
                "legendgroup": "2",
                "line": {
                  "color": "rgba(0, 204, 150,0.18)"
                },
                "mode": "lines",
                "name": "Epoch 1",
                "xaxis": "x3",
                "yaxis": "y3",
                "type": "scatter",
                "uid": "6ba80dc0-48ed-4775-9ea5-19a8fe6be616"
              },
              {
                "legendgroup": "2",
                "line": {
                  "color": "rgba(0, 204, 150,0.27)"
                },
                "mode": "lines",
                "name": "Epoch 4",
                "xaxis": "x3",
                "yaxis": "y3",
                "type": "scatter",
                "uid": "10602652-1e15-46f0-a740-daaf3f13412a"
              },
              {
                "legendgroup": "2",
                "line": {
                  "color": "rgba(0, 204, 150,0.36)"
                },
                "mode": "lines",
                "name": "Epoch 7",
                "xaxis": "x3",
                "yaxis": "y3",
                "type": "scatter",
                "uid": "59acb612-85df-47b5-9da6-2128db07fd51"
              },
              {
                "legendgroup": "2",
                "line": {
                  "color": "rgba(0, 204, 150,0.44999999999999996)"
                },
                "mode": "lines",
                "name": "Epoch 10",
                "xaxis": "x3",
                "yaxis": "y3",
                "type": "scatter",
                "uid": "b1fd6487-e578-4976-976f-5636c57c6c52"
              },
              {
                "legendgroup": "2",
                "line": {
                  "color": "rgba(0, 204, 150,0.54)"
                },
                "mode": "lines",
                "name": "Epoch 13",
                "xaxis": "x3",
                "yaxis": "y3",
                "type": "scatter",
                "uid": "41b1d7fd-d0f0-4c19-8a7f-35d5b87349de"
              },
              {
                "legendgroup": "2",
                "line": {
                  "color": "rgba(0, 204, 150,0.63)"
                },
                "mode": "lines",
                "name": "Epoch 16",
                "xaxis": "x3",
                "yaxis": "y3",
                "type": "scatter",
                "uid": "3722c5f1-bf47-45f4-85ce-eb007f8898b8"
              },
              {
                "legendgroup": "2",
                "line": {
                  "color": "rgba(0, 204, 150,0.75)"
                },
                "mode": "lines",
                "name": "Epoch 20",
                "xaxis": "x3",
                "yaxis": "y3",
                "type": "scatter",
                "uid": "5dd59013-4a8d-4652-bf37-750984357120"
              },
              {
                "legendgroup": "3",
                "line": {
                  "color": "rgba(171, 99, 250,0.18)"
                },
                "mode": "lines",
                "name": "Epoch 1",
                "xaxis": "x4",
                "yaxis": "y4",
                "type": "scatter",
                "uid": "544ff558-072e-4512-b3aa-fb7c53186358"
              },
              {
                "legendgroup": "3",
                "line": {
                  "color": "rgba(171, 99, 250,0.27)"
                },
                "mode": "lines",
                "name": "Epoch 4",
                "xaxis": "x4",
                "yaxis": "y4",
                "type": "scatter",
                "uid": "19155e63-6323-4248-984e-ea28ebcb7f70"
              },
              {
                "legendgroup": "3",
                "line": {
                  "color": "rgba(171, 99, 250,0.36)"
                },
                "mode": "lines",
                "name": "Epoch 7",
                "xaxis": "x4",
                "yaxis": "y4",
                "type": "scatter",
                "uid": "392a9b6b-fabd-4775-b896-ea3d6c54a978"
              },
              {
                "legendgroup": "3",
                "line": {
                  "color": "rgba(171, 99, 250,0.44999999999999996)"
                },
                "mode": "lines",
                "name": "Epoch 10",
                "xaxis": "x4",
                "yaxis": "y4",
                "type": "scatter",
                "uid": "a5d442c8-2f3a-4f16-b97a-cfd835f22de3"
              },
              {
                "legendgroup": "3",
                "line": {
                  "color": "rgba(171, 99, 250,0.54)"
                },
                "mode": "lines",
                "name": "Epoch 13",
                "xaxis": "x4",
                "yaxis": "y4",
                "type": "scatter",
                "uid": "d9c3b64e-bb01-463a-860a-8d0c12bb26ab"
              },
              {
                "legendgroup": "3",
                "line": {
                  "color": "rgba(171, 99, 250,0.63)"
                },
                "mode": "lines",
                "name": "Epoch 16",
                "xaxis": "x4",
                "yaxis": "y4",
                "type": "scatter",
                "uid": "7b953387-050f-447d-b9aa-a5570fddac8a"
              },
              {
                "legendgroup": "3",
                "line": {
                  "color": "rgba(171, 99, 250,0.75)"
                },
                "mode": "lines",
                "name": "Epoch 20",
                "xaxis": "x4",
                "yaxis": "y4",
                "type": "scatter",
                "uid": "e5cf9517-4920-4bb4-b976-e26f8853d482"
              },
              {
                "legendgroup": "4",
                "line": {
                  "color": "rgba(255, 161, 90,0.18)"
                },
                "mode": "lines",
                "name": "Epoch 1",
                "xaxis": "x5",
                "yaxis": "y5",
                "type": "scatter",
                "uid": "5e674012-4902-4a0e-8f50-61e98e3fcbb1"
              },
              {
                "legendgroup": "4",
                "line": {
                  "color": "rgba(255, 161, 90,0.27)"
                },
                "mode": "lines",
                "name": "Epoch 4",
                "xaxis": "x5",
                "yaxis": "y5",
                "type": "scatter",
                "uid": "622d5ba5-8bfb-45eb-b0f7-596a905cb335"
              },
              {
                "legendgroup": "4",
                "line": {
                  "color": "rgba(255, 161, 90,0.36)"
                },
                "mode": "lines",
                "name": "Epoch 7",
                "xaxis": "x5",
                "yaxis": "y5",
                "type": "scatter",
                "uid": "b8bad435-6164-40e9-9bcc-e493f0ff2a53"
              },
              {
                "legendgroup": "4",
                "line": {
                  "color": "rgba(255, 161, 90,0.44999999999999996)"
                },
                "mode": "lines",
                "name": "Epoch 10",
                "xaxis": "x5",
                "yaxis": "y5",
                "type": "scatter",
                "uid": "a82730a1-ac7f-4de6-a2d7-6a99dbf6af6f"
              },
              {
                "legendgroup": "4",
                "line": {
                  "color": "rgba(255, 161, 90,0.54)"
                },
                "mode": "lines",
                "name": "Epoch 13",
                "xaxis": "x5",
                "yaxis": "y5",
                "type": "scatter",
                "uid": "63484deb-e426-42ac-9ff4-d6e46b1cccb4"
              },
              {
                "legendgroup": "4",
                "line": {
                  "color": "rgba(255, 161, 90,0.63)"
                },
                "mode": "lines",
                "name": "Epoch 16",
                "xaxis": "x5",
                "yaxis": "y5",
                "type": "scatter",
                "uid": "b3fd3194-2562-4171-8f27-0a2e6224b0a1"
              },
              {
                "legendgroup": "4",
                "line": {
                  "color": "rgba(255, 161, 90,0.75)"
                },
                "mode": "lines",
                "name": "Epoch 20",
                "xaxis": "x5",
                "yaxis": "y5",
                "type": "scatter",
                "uid": "35532ee5-3c08-4e65-8940-32d8b33ec07d"
              },
              {
                "legendgroup": "5",
                "line": {
                  "color": "rgba(25, 211, 243,0.18)"
                },
                "mode": "lines",
                "name": "Epoch 1",
                "xaxis": "x6",
                "yaxis": "y6",
                "type": "scatter",
                "uid": "11cf5502-c000-4f4b-9fa3-31f46056a023"
              },
              {
                "legendgroup": "5",
                "line": {
                  "color": "rgba(25, 211, 243,0.27)"
                },
                "mode": "lines",
                "name": "Epoch 4",
                "xaxis": "x6",
                "yaxis": "y6",
                "type": "scatter",
                "uid": "48657053-4eda-456d-9ce2-84618299424a"
              },
              {
                "legendgroup": "5",
                "line": {
                  "color": "rgba(25, 211, 243,0.36)"
                },
                "mode": "lines",
                "name": "Epoch 7",
                "xaxis": "x6",
                "yaxis": "y6",
                "type": "scatter",
                "uid": "ecfc79e4-0ca5-40d0-93ba-99adbca39d54"
              },
              {
                "legendgroup": "5",
                "line": {
                  "color": "rgba(25, 211, 243,0.44999999999999996)"
                },
                "mode": "lines",
                "name": "Epoch 10",
                "xaxis": "x6",
                "yaxis": "y6",
                "type": "scatter",
                "uid": "2f0b0ef9-812a-460d-a215-32b38ed20ddc"
              },
              {
                "legendgroup": "5",
                "line": {
                  "color": "rgba(25, 211, 243,0.54)"
                },
                "mode": "lines",
                "name": "Epoch 13",
                "xaxis": "x6",
                "yaxis": "y6",
                "type": "scatter",
                "uid": "50a2f8bd-b686-42ea-98ef-9c9b28b162fd"
              },
              {
                "legendgroup": "5",
                "line": {
                  "color": "rgba(25, 211, 243,0.63)"
                },
                "mode": "lines",
                "name": "Epoch 16",
                "xaxis": "x6",
                "yaxis": "y6",
                "type": "scatter",
                "uid": "7bbfa75c-f63c-48bd-a0fc-90d7287f65a0"
              },
              {
                "legendgroup": "5",
                "line": {
                  "color": "rgba(25, 211, 243,0.75)"
                },
                "mode": "lines",
                "name": "Epoch 20",
                "xaxis": "x6",
                "yaxis": "y6",
                "type": "scatter",
                "uid": "102c6ea3-9d76-4db7-9bc3-a47a0f9cc0b9"
              }
            ],
            "_dom_classes": [],
            "_js2py_layoutDelta": null,
            "_js2py_pointsCallback": null,
            "_js2py_relayout": {},
            "_js2py_restyle": {},
            "_js2py_traceDeltas": null,
            "_js2py_update": {},
            "_last_layout_edit_id": 84,
            "_last_trace_edit_id": 84,
            "_layout": {
              "annotations": [
                {
                  "font": {
                    "size": 16
                  },
                  "showarrow": false,
                  "text": "Linear layer 0",
                  "x": 0.14444444444444446,
                  "xanchor": "center",
                  "xref": "paper",
                  "y": 1,
                  "yanchor": "bottom",
                  "yref": "paper"
                },
                {
                  "font": {
                    "size": 16
                  },
                  "showarrow": false,
                  "text": "Linear layer 1",
                  "x": 0.5,
                  "xanchor": "center",
                  "xref": "paper",
                  "y": 1,
                  "yanchor": "bottom",
                  "yref": "paper"
                },
                {
                  "font": {
                    "size": 16
                  },
                  "showarrow": false,
                  "text": "Linear layer 2",
                  "x": 0.8555555555555556,
                  "xanchor": "center",
                  "xref": "paper",
                  "y": 1,
                  "yanchor": "bottom",
                  "yref": "paper"
                },
                {
                  "font": {
                    "size": 16
                  },
                  "showarrow": false,
                  "text": "Linear layer 3",
                  "x": 0.14444444444444446,
                  "xanchor": "center",
                  "xref": "paper",
                  "y": 0.45,
                  "yanchor": "bottom",
                  "yref": "paper"
                },
                {
                  "font": {
                    "size": 16
                  },
                  "showarrow": false,
                  "text": "Linear layer 4",
                  "x": 0.5,
                  "xanchor": "center",
                  "xref": "paper",
                  "y": 0.45,
                  "yanchor": "bottom",
                  "yref": "paper"
                },
                {
                  "font": {
                    "size": 16
                  },
                  "showarrow": false,
                  "text": "Linear layer 5",
                  "x": 0.8555555555555556,
                  "xanchor": "center",
                  "xref": "paper",
                  "y": 0.45,
                  "yanchor": "bottom",
                  "yref": "paper"
                }
              ],
              "height": 800,
              "margin": {
                "b": 10,
                "t": 60
              },
              "template": {
                "data": {
                  "barpolar": [
                    {
                      "marker": {
                        "line": {
                          "color": "#E5ECF6",
                          "width": 0.5
                        },
                        "pattern": {
                          "fillmode": "overlay",
                          "size": 10,
                          "solidity": 0.2
                        }
                      },
                      "type": "barpolar"
                    }
                  ],
                  "bar": [
                    {
                      "error_x": {
                        "color": "#2a3f5f"
                      },
                      "error_y": {
                        "color": "#2a3f5f"
                      },
                      "marker": {
                        "line": {
                          "color": "#E5ECF6",
                          "width": 0.5
                        },
                        "pattern": {
                          "fillmode": "overlay",
                          "size": 10,
                          "solidity": 0.2
                        }
                      },
                      "type": "bar"
                    }
                  ],
                  "carpet": [
                    {
                      "aaxis": {
                        "endlinecolor": "#2a3f5f",
                        "gridcolor": "white",
                        "linecolor": "white",
                        "minorgridcolor": "white",
                        "startlinecolor": "#2a3f5f"
                      },
                      "baxis": {
                        "endlinecolor": "#2a3f5f",
                        "gridcolor": "white",
                        "linecolor": "white",
                        "minorgridcolor": "white",
                        "startlinecolor": "#2a3f5f"
                      },
                      "type": "carpet"
                    }
                  ],
                  "choropleth": [
                    {
                      "colorbar": {
                        "outlinewidth": 0,
                        "ticks": ""
                      },
                      "type": "choropleth"
                    }
                  ],
                  "contourcarpet": [
                    {
                      "colorbar": {
                        "outlinewidth": 0,
                        "ticks": ""
                      },
                      "type": "contourcarpet"
                    }
                  ],
                  "contour": [
                    {
                      "colorbar": {
                        "outlinewidth": 0,
                        "ticks": ""
                      },
                      "colorscale": [
                        [
                          0,
                          "#0d0887"
                        ],
                        [
                          0.1111111111111111,
                          "#46039f"
                        ],
                        [
                          0.2222222222222222,
                          "#7201a8"
                        ],
                        [
                          0.3333333333333333,
                          "#9c179e"
                        ],
                        [
                          0.4444444444444444,
                          "#bd3786"
                        ],
                        [
                          0.5555555555555556,
                          "#d8576b"
                        ],
                        [
                          0.6666666666666666,
                          "#ed7953"
                        ],
                        [
                          0.7777777777777778,
                          "#fb9f3a"
                        ],
                        [
                          0.8888888888888888,
                          "#fdca26"
                        ],
                        [
                          1,
                          "#f0f921"
                        ]
                      ],
                      "type": "contour"
                    }
                  ],
                  "heatmapgl": [
                    {
                      "colorbar": {
                        "outlinewidth": 0,
                        "ticks": ""
                      },
                      "colorscale": [
                        [
                          0,
                          "#0d0887"
                        ],
                        [
                          0.1111111111111111,
                          "#46039f"
                        ],
                        [
                          0.2222222222222222,
                          "#7201a8"
                        ],
                        [
                          0.3333333333333333,
                          "#9c179e"
                        ],
                        [
                          0.4444444444444444,
                          "#bd3786"
                        ],
                        [
                          0.5555555555555556,
                          "#d8576b"
                        ],
                        [
                          0.6666666666666666,
                          "#ed7953"
                        ],
                        [
                          0.7777777777777778,
                          "#fb9f3a"
                        ],
                        [
                          0.8888888888888888,
                          "#fdca26"
                        ],
                        [
                          1,
                          "#f0f921"
                        ]
                      ],
                      "type": "heatmapgl"
                    }
                  ],
                  "heatmap": [
                    {
                      "colorbar": {
                        "outlinewidth": 0,
                        "ticks": ""
                      },
                      "colorscale": [
                        [
                          0,
                          "#0d0887"
                        ],
                        [
                          0.1111111111111111,
                          "#46039f"
                        ],
                        [
                          0.2222222222222222,
                          "#7201a8"
                        ],
                        [
                          0.3333333333333333,
                          "#9c179e"
                        ],
                        [
                          0.4444444444444444,
                          "#bd3786"
                        ],
                        [
                          0.5555555555555556,
                          "#d8576b"
                        ],
                        [
                          0.6666666666666666,
                          "#ed7953"
                        ],
                        [
                          0.7777777777777778,
                          "#fb9f3a"
                        ],
                        [
                          0.8888888888888888,
                          "#fdca26"
                        ],
                        [
                          1,
                          "#f0f921"
                        ]
                      ],
                      "type": "heatmap"
                    }
                  ],
                  "histogram2dcontour": [
                    {
                      "colorbar": {
                        "outlinewidth": 0,
                        "ticks": ""
                      },
                      "colorscale": [
                        [
                          0,
                          "#0d0887"
                        ],
                        [
                          0.1111111111111111,
                          "#46039f"
                        ],
                        [
                          0.2222222222222222,
                          "#7201a8"
                        ],
                        [
                          0.3333333333333333,
                          "#9c179e"
                        ],
                        [
                          0.4444444444444444,
                          "#bd3786"
                        ],
                        [
                          0.5555555555555556,
                          "#d8576b"
                        ],
                        [
                          0.6666666666666666,
                          "#ed7953"
                        ],
                        [
                          0.7777777777777778,
                          "#fb9f3a"
                        ],
                        [
                          0.8888888888888888,
                          "#fdca26"
                        ],
                        [
                          1,
                          "#f0f921"
                        ]
                      ],
                      "type": "histogram2dcontour"
                    }
                  ],
                  "histogram2d": [
                    {
                      "colorbar": {
                        "outlinewidth": 0,
                        "ticks": ""
                      },
                      "colorscale": [
                        [
                          0,
                          "#0d0887"
                        ],
                        [
                          0.1111111111111111,
                          "#46039f"
                        ],
                        [
                          0.2222222222222222,
                          "#7201a8"
                        ],
                        [
                          0.3333333333333333,
                          "#9c179e"
                        ],
                        [
                          0.4444444444444444,
                          "#bd3786"
                        ],
                        [
                          0.5555555555555556,
                          "#d8576b"
                        ],
                        [
                          0.6666666666666666,
                          "#ed7953"
                        ],
                        [
                          0.7777777777777778,
                          "#fb9f3a"
                        ],
                        [
                          0.8888888888888888,
                          "#fdca26"
                        ],
                        [
                          1,
                          "#f0f921"
                        ]
                      ],
                      "type": "histogram2d"
                    }
                  ],
                  "histogram": [
                    {
                      "marker": {
                        "pattern": {
                          "fillmode": "overlay",
                          "size": 10,
                          "solidity": 0.2
                        }
                      },
                      "type": "histogram"
                    }
                  ],
                  "mesh3d": [
                    {
                      "colorbar": {
                        "outlinewidth": 0,
                        "ticks": ""
                      },
                      "type": "mesh3d"
                    }
                  ],
                  "parcoords": [
                    {
                      "line": {
                        "colorbar": {
                          "outlinewidth": 0,
                          "ticks": ""
                        }
                      },
                      "type": "parcoords"
                    }
                  ],
                  "pie": [
                    {
                      "automargin": true,
                      "type": "pie"
                    }
                  ],
                  "scatter3d": [
                    {
                      "line": {
                        "colorbar": {
                          "outlinewidth": 0,
                          "ticks": ""
                        }
                      },
                      "marker": {
                        "colorbar": {
                          "outlinewidth": 0,
                          "ticks": ""
                        }
                      },
                      "type": "scatter3d"
                    }
                  ],
                  "scattercarpet": [
                    {
                      "marker": {
                        "colorbar": {
                          "outlinewidth": 0,
                          "ticks": ""
                        }
                      },
                      "type": "scattercarpet"
                    }
                  ],
                  "scattergeo": [
                    {
                      "marker": {
                        "colorbar": {
                          "outlinewidth": 0,
                          "ticks": ""
                        }
                      },
                      "type": "scattergeo"
                    }
                  ],
                  "scattergl": [
                    {
                      "marker": {
                        "colorbar": {
                          "outlinewidth": 0,
                          "ticks": ""
                        }
                      },
                      "type": "scattergl"
                    }
                  ],
                  "scattermapbox": [
                    {
                      "marker": {
                        "colorbar": {
                          "outlinewidth": 0,
                          "ticks": ""
                        }
                      },
                      "type": "scattermapbox"
                    }
                  ],
                  "scatterpolargl": [
                    {
                      "marker": {
                        "colorbar": {
                          "outlinewidth": 0,
                          "ticks": ""
                        }
                      },
                      "type": "scatterpolargl"
                    }
                  ],
                  "scatterpolar": [
                    {
                      "marker": {
                        "colorbar": {
                          "outlinewidth": 0,
                          "ticks": ""
                        }
                      },
                      "type": "scatterpolar"
                    }
                  ],
                  "scatter": [
                    {
                      "fillpattern": {
                        "fillmode": "overlay",
                        "size": 10,
                        "solidity": 0.2
                      },
                      "type": "scatter"
                    }
                  ],
                  "scatterternary": [
                    {
                      "marker": {
                        "colorbar": {
                          "outlinewidth": 0,
                          "ticks": ""
                        }
                      },
                      "type": "scatterternary"
                    }
                  ],
                  "surface": [
                    {
                      "colorbar": {
                        "outlinewidth": 0,
                        "ticks": ""
                      },
                      "colorscale": [
                        [
                          0,
                          "#0d0887"
                        ],
                        [
                          0.1111111111111111,
                          "#46039f"
                        ],
                        [
                          0.2222222222222222,
                          "#7201a8"
                        ],
                        [
                          0.3333333333333333,
                          "#9c179e"
                        ],
                        [
                          0.4444444444444444,
                          "#bd3786"
                        ],
                        [
                          0.5555555555555556,
                          "#d8576b"
                        ],
                        [
                          0.6666666666666666,
                          "#ed7953"
                        ],
                        [
                          0.7777777777777778,
                          "#fb9f3a"
                        ],
                        [
                          0.8888888888888888,
                          "#fdca26"
                        ],
                        [
                          1,
                          "#f0f921"
                        ]
                      ],
                      "type": "surface"
                    }
                  ],
                  "table": [
                    {
                      "cells": {
                        "fill": {
                          "color": "#EBF0F8"
                        },
                        "line": {
                          "color": "white"
                        }
                      },
                      "header": {
                        "fill": {
                          "color": "#C8D4E3"
                        },
                        "line": {
                          "color": "white"
                        }
                      },
                      "type": "table"
                    }
                  ]
                },
                "layout": {
                  "annotationdefaults": {
                    "arrowcolor": "#2a3f5f",
                    "arrowhead": 0,
                    "arrowwidth": 1
                  },
                  "autotypenumbers": "strict",
                  "coloraxis": {
                    "colorbar": {
                      "outlinewidth": 0,
                      "ticks": ""
                    }
                  },
                  "colorscale": {
                    "diverging": [
                      [
                        0,
                        "#8e0152"
                      ],
                      [
                        0.1,
                        "#c51b7d"
                      ],
                      [
                        0.2,
                        "#de77ae"
                      ],
                      [
                        0.3,
                        "#f1b6da"
                      ],
                      [
                        0.4,
                        "#fde0ef"
                      ],
                      [
                        0.5,
                        "#f7f7f7"
                      ],
                      [
                        0.6,
                        "#e6f5d0"
                      ],
                      [
                        0.7,
                        "#b8e186"
                      ],
                      [
                        0.8,
                        "#7fbc41"
                      ],
                      [
                        0.9,
                        "#4d9221"
                      ],
                      [
                        1,
                        "#276419"
                      ]
                    ],
                    "sequential": [
                      [
                        0,
                        "#0d0887"
                      ],
                      [
                        0.1111111111111111,
                        "#46039f"
                      ],
                      [
                        0.2222222222222222,
                        "#7201a8"
                      ],
                      [
                        0.3333333333333333,
                        "#9c179e"
                      ],
                      [
                        0.4444444444444444,
                        "#bd3786"
                      ],
                      [
                        0.5555555555555556,
                        "#d8576b"
                      ],
                      [
                        0.6666666666666666,
                        "#ed7953"
                      ],
                      [
                        0.7777777777777778,
                        "#fb9f3a"
                      ],
                      [
                        0.8888888888888888,
                        "#fdca26"
                      ],
                      [
                        1,
                        "#f0f921"
                      ]
                    ],
                    "sequentialminus": [
                      [
                        0,
                        "#0d0887"
                      ],
                      [
                        0.1111111111111111,
                        "#46039f"
                      ],
                      [
                        0.2222222222222222,
                        "#7201a8"
                      ],
                      [
                        0.3333333333333333,
                        "#9c179e"
                      ],
                      [
                        0.4444444444444444,
                        "#bd3786"
                      ],
                      [
                        0.5555555555555556,
                        "#d8576b"
                      ],
                      [
                        0.6666666666666666,
                        "#ed7953"
                      ],
                      [
                        0.7777777777777778,
                        "#fb9f3a"
                      ],
                      [
                        0.8888888888888888,
                        "#fdca26"
                      ],
                      [
                        1,
                        "#f0f921"
                      ]
                    ]
                  },
                  "colorway": [
                    "#636efa",
                    "#EF553B",
                    "#00cc96",
                    "#ab63fa",
                    "#FFA15A",
                    "#19d3f3",
                    "#FF6692",
                    "#B6E880",
                    "#FF97FF",
                    "#FECB52"
                  ],
                  "font": {
                    "color": "#2a3f5f"
                  },
                  "geo": {
                    "bgcolor": "white",
                    "lakecolor": "white",
                    "landcolor": "#E5ECF6",
                    "showlakes": true,
                    "showland": true,
                    "subunitcolor": "white"
                  },
                  "hoverlabel": {
                    "align": "left"
                  },
                  "hovermode": "closest",
                  "mapbox": {
                    "style": "light"
                  },
                  "paper_bgcolor": "white",
                  "plot_bgcolor": "#E5ECF6",
                  "polar": {
                    "angularaxis": {
                      "gridcolor": "white",
                      "linecolor": "white",
                      "ticks": ""
                    },
                    "bgcolor": "#E5ECF6",
                    "radialaxis": {
                      "gridcolor": "white",
                      "linecolor": "white",
                      "ticks": ""
                    }
                  },
                  "scene": {
                    "xaxis": {
                      "backgroundcolor": "#E5ECF6",
                      "gridcolor": "white",
                      "gridwidth": 2,
                      "linecolor": "white",
                      "showbackground": true,
                      "ticks": "",
                      "zerolinecolor": "white"
                    },
                    "yaxis": {
                      "backgroundcolor": "#E5ECF6",
                      "gridcolor": "white",
                      "gridwidth": 2,
                      "linecolor": "white",
                      "showbackground": true,
                      "ticks": "",
                      "zerolinecolor": "white"
                    },
                    "zaxis": {
                      "backgroundcolor": "#E5ECF6",
                      "gridcolor": "white",
                      "gridwidth": 2,
                      "linecolor": "white",
                      "showbackground": true,
                      "ticks": "",
                      "zerolinecolor": "white"
                    }
                  },
                  "shapedefaults": {
                    "line": {
                      "color": "#2a3f5f"
                    }
                  },
                  "ternary": {
                    "aaxis": {
                      "gridcolor": "white",
                      "linecolor": "white",
                      "ticks": ""
                    },
                    "baxis": {
                      "gridcolor": "white",
                      "linecolor": "white",
                      "ticks": ""
                    },
                    "bgcolor": "#E5ECF6",
                    "caxis": {
                      "gridcolor": "white",
                      "linecolor": "white",
                      "ticks": ""
                    }
                  },
                  "title": {
                    "x": 0.05
                  },
                  "xaxis": {
                    "automargin": true,
                    "gridcolor": "white",
                    "linecolor": "white",
                    "ticks": "",
                    "title": {
                      "standoff": 15
                    },
                    "zerolinecolor": "white",
                    "zerolinewidth": 2
                  },
                  "yaxis": {
                    "automargin": true,
                    "gridcolor": "white",
                    "linecolor": "white",
                    "ticks": "",
                    "title": {
                      "standoff": 15
                    },
                    "zerolinecolor": "white",
                    "zerolinewidth": 2
                  }
                }
              },
              "title": {
                "text": "Comparison between epochs of gradient distributions in layers",
                "x": 0.5
              },
              "width": 1500,
              "xaxis": {
                "anchor": "y",
                "domain": [
                  0,
                  0.2888888888888889
                ],
                "range": [
                  -0.1,
                  0.1
                ],
                "title": {
                  "text": "Gradient value"
                }
              },
              "yaxis": {
                "anchor": "x",
                "domain": [
                  0.55,
                  1
                ],
                "title": {
                  "text": "Density (log scale)"
                },
                "type": "log"
              },
              "xaxis2": {
                "anchor": "y2",
                "domain": [
                  0.35555555555555557,
                  0.6444444444444445
                ],
                "range": [
                  -0.1,
                  0.1
                ],
                "title": {
                  "text": "Gradient value"
                }
              },
              "yaxis2": {
                "anchor": "x2",
                "domain": [
                  0.55,
                  1
                ],
                "title": {
                  "text": "Density (log scale)"
                },
                "type": "log"
              },
              "xaxis3": {
                "anchor": "y3",
                "domain": [
                  0.7111111111111111,
                  1
                ],
                "range": [
                  -0.1,
                  0.1
                ],
                "title": {
                  "text": "Gradient value"
                }
              },
              "yaxis3": {
                "anchor": "x3",
                "domain": [
                  0.55,
                  1
                ],
                "title": {
                  "text": "Density (log scale)"
                },
                "type": "log"
              },
              "xaxis4": {
                "anchor": "y4",
                "domain": [
                  0,
                  0.2888888888888889
                ],
                "range": [
                  -0.1,
                  0.1
                ],
                "title": {
                  "text": "Gradient value"
                }
              },
              "yaxis4": {
                "anchor": "x4",
                "domain": [
                  0,
                  0.45
                ],
                "title": {
                  "text": "Density (log scale)"
                },
                "type": "log"
              },
              "xaxis5": {
                "anchor": "y5",
                "domain": [
                  0.35555555555555557,
                  0.6444444444444445
                ],
                "range": [
                  -0.1,
                  0.1
                ],
                "title": {
                  "text": "Gradient value"
                }
              },
              "yaxis5": {
                "anchor": "x5",
                "domain": [
                  0,
                  0.45
                ],
                "title": {
                  "text": "Density (log scale)"
                },
                "type": "log"
              },
              "xaxis6": {
                "anchor": "y6",
                "domain": [
                  0.7111111111111111,
                  1
                ],
                "range": [
                  -0.1,
                  0.1
                ],
                "title": {
                  "text": "Gradient value"
                }
              },
              "yaxis6": {
                "anchor": "x6",
                "domain": [
                  0,
                  0.45
                ],
                "title": {
                  "text": "Density (log scale)"
                },
                "type": "log"
              }
            },
            "_model_module": "jupyterlab-plotly",
            "_model_module_version": "^5.24.1",
            "_model_name": "FigureModel",
            "_py2js_addTraces": {},
            "_py2js_animate": {},
            "_py2js_deleteTraces": {},
            "_py2js_moveTraces": {},
            "_py2js_relayout": {},
            "_py2js_removeLayoutProps": {},
            "_py2js_removeTraceProps": {},
            "_py2js_restyle": null,
            "_py2js_update": {},
            "_view_count": 1,
            "_view_module": "jupyterlab-plotly",
            "_view_module_version": "^5.24.1",
            "_view_name": "FigureView"
          }
        },
        "e37638a91f8d4754992d3c6015c09eaa": {
          "model_module": "jupyterlab-plotly",
          "model_name": "FigureModel",
          "model_module_version": "^5.24.1",
          "state": {
            "_config": {
              "plotlyServerURL": "https://plot.ly"
            },
            "_data": [
              {
                "line": {
                  "color": "rgb(99, 110, 250)"
                },
                "mode": "lines",
                "name": "Linear layer 0",
                "showlegend": true,
                "xaxis": "x",
                "yaxis": "y",
                "type": "scatter",
                "uid": "c30dbd0d-99d9-4ee2-bd2f-67d81f26eecb"
              },
              {
                "line": {
                  "color": "rgb(239, 85, 59)"
                },
                "mode": "lines",
                "name": "Linear layer 1",
                "showlegend": true,
                "xaxis": "x",
                "yaxis": "y",
                "type": "scatter",
                "uid": "d666699d-1dbf-45e0-905b-fa81ddaf9c22"
              },
              {
                "line": {
                  "color": "rgb(0, 204, 150)"
                },
                "mode": "lines",
                "name": "Linear layer 2",
                "showlegend": true,
                "xaxis": "x",
                "yaxis": "y",
                "type": "scatter",
                "uid": "bcc4a21e-eca2-40c2-937b-cb4af26bfadd"
              },
              {
                "line": {
                  "color": "rgb(171, 99, 250)"
                },
                "mode": "lines",
                "name": "Linear layer 3",
                "showlegend": true,
                "xaxis": "x",
                "yaxis": "y",
                "type": "scatter",
                "uid": "743b3aee-2fb1-4270-840e-3d03e895ee34"
              },
              {
                "line": {
                  "color": "rgb(255, 161, 90)"
                },
                "mode": "lines",
                "name": "Linear layer 4",
                "showlegend": true,
                "xaxis": "x",
                "yaxis": "y",
                "type": "scatter",
                "uid": "2679b6fe-943d-400b-ac51-63b41824132a"
              },
              {
                "line": {
                  "color": "rgb(25, 211, 243)"
                },
                "mode": "lines",
                "name": "Linear layer 5",
                "showlegend": true,
                "xaxis": "x",
                "yaxis": "y",
                "type": "scatter",
                "uid": "61e784ef-9342-44d7-9334-33ca8d87555c"
              },
              {
                "line": {
                  "color": "rgb(99, 110, 250)"
                },
                "mode": "lines",
                "name": "Linear layer 0",
                "showlegend": false,
                "xaxis": "x2",
                "yaxis": "y2",
                "type": "scatter",
                "uid": "d1a83b74-4e05-4e46-bb6e-61ed58312429"
              },
              {
                "line": {
                  "color": "rgb(239, 85, 59)"
                },
                "mode": "lines",
                "name": "Linear layer 1",
                "showlegend": false,
                "xaxis": "x2",
                "yaxis": "y2",
                "type": "scatter",
                "uid": "dfea586e-467e-4a22-aff3-cdc013ebb0a6"
              },
              {
                "line": {
                  "color": "rgb(0, 204, 150)"
                },
                "mode": "lines",
                "name": "Linear layer 2",
                "showlegend": false,
                "xaxis": "x2",
                "yaxis": "y2",
                "type": "scatter",
                "uid": "69a89f42-ba21-439b-ae46-970627dcda3f"
              },
              {
                "line": {
                  "color": "rgb(171, 99, 250)"
                },
                "mode": "lines",
                "name": "Linear layer 3",
                "showlegend": false,
                "xaxis": "x2",
                "yaxis": "y2",
                "type": "scatter",
                "uid": "14d50256-b244-4f1a-b0b3-7848030a6091"
              },
              {
                "line": {
                  "color": "rgb(255, 161, 90)"
                },
                "mode": "lines",
                "name": "Linear layer 4",
                "showlegend": false,
                "xaxis": "x2",
                "yaxis": "y2",
                "type": "scatter",
                "uid": "3b2204e1-75a3-4412-9386-29c46b0cbc2f"
              },
              {
                "line": {
                  "color": "rgb(25, 211, 243)"
                },
                "mode": "lines",
                "name": "Linear layer 5",
                "showlegend": false,
                "xaxis": "x2",
                "yaxis": "y2",
                "type": "scatter",
                "uid": "0cb158e6-788c-4b32-bc78-f09d06f13cf1"
              },
              {
                "line": {
                  "color": "rgb(99, 110, 250)"
                },
                "mode": "lines",
                "name": "Linear layer 0",
                "showlegend": false,
                "xaxis": "x3",
                "yaxis": "y3",
                "type": "scatter",
                "uid": "40916a37-5e8e-419e-8ff8-7eee6450b533"
              },
              {
                "line": {
                  "color": "rgb(239, 85, 59)"
                },
                "mode": "lines",
                "name": "Linear layer 1",
                "showlegend": false,
                "xaxis": "x3",
                "yaxis": "y3",
                "type": "scatter",
                "uid": "c0783c5f-f18f-40b7-8776-077e0cba3c2a"
              },
              {
                "line": {
                  "color": "rgb(0, 204, 150)"
                },
                "mode": "lines",
                "name": "Linear layer 2",
                "showlegend": false,
                "xaxis": "x3",
                "yaxis": "y3",
                "type": "scatter",
                "uid": "56d86ed4-55b3-456e-9768-924c6bafb488"
              },
              {
                "line": {
                  "color": "rgb(171, 99, 250)"
                },
                "mode": "lines",
                "name": "Linear layer 3",
                "showlegend": false,
                "xaxis": "x3",
                "yaxis": "y3",
                "type": "scatter",
                "uid": "c8a8a1bd-8420-4bab-b7a2-1767c877a3b0"
              },
              {
                "line": {
                  "color": "rgb(255, 161, 90)"
                },
                "mode": "lines",
                "name": "Linear layer 4",
                "showlegend": false,
                "xaxis": "x3",
                "yaxis": "y3",
                "type": "scatter",
                "uid": "6bb1c649-36c5-480b-a611-5cb8899e67aa"
              },
              {
                "line": {
                  "color": "rgb(25, 211, 243)"
                },
                "mode": "lines",
                "name": "Linear layer 5",
                "showlegend": false,
                "xaxis": "x3",
                "yaxis": "y3",
                "type": "scatter",
                "uid": "086a8a5b-0fd2-4beb-b877-76426b8cac91"
              }
            ],
            "_dom_classes": [],
            "_js2py_layoutDelta": null,
            "_js2py_pointsCallback": {},
            "_js2py_relayout": {},
            "_js2py_restyle": {},
            "_js2py_traceDeltas": null,
            "_js2py_update": {},
            "_last_layout_edit_id": 36,
            "_last_trace_edit_id": 36,
            "_layout": {
              "annotations": [
                {
                  "font": {
                    "size": 16
                  },
                  "showarrow": false,
                  "text": "Epoch 1",
                  "x": 0.14444444444444446,
                  "xanchor": "center",
                  "xref": "paper",
                  "y": 1,
                  "yanchor": "bottom",
                  "yref": "paper"
                },
                {
                  "font": {
                    "size": 16
                  },
                  "showarrow": false,
                  "text": "Epoch 11",
                  "x": 0.5,
                  "xanchor": "center",
                  "xref": "paper",
                  "y": 1,
                  "yanchor": "bottom",
                  "yref": "paper"
                },
                {
                  "font": {
                    "size": 16
                  },
                  "showarrow": false,
                  "text": "Epoch 20",
                  "x": 0.8555555555555556,
                  "xanchor": "center",
                  "xref": "paper",
                  "y": 1,
                  "yanchor": "bottom",
                  "yref": "paper"
                }
              ],
              "height": 400,
              "margin": {
                "b": 10,
                "t": 60
              },
              "template": {
                "data": {
                  "barpolar": [
                    {
                      "marker": {
                        "line": {
                          "color": "#E5ECF6",
                          "width": 0.5
                        },
                        "pattern": {
                          "fillmode": "overlay",
                          "size": 10,
                          "solidity": 0.2
                        }
                      },
                      "type": "barpolar"
                    }
                  ],
                  "bar": [
                    {
                      "error_x": {
                        "color": "#2a3f5f"
                      },
                      "error_y": {
                        "color": "#2a3f5f"
                      },
                      "marker": {
                        "line": {
                          "color": "#E5ECF6",
                          "width": 0.5
                        },
                        "pattern": {
                          "fillmode": "overlay",
                          "size": 10,
                          "solidity": 0.2
                        }
                      },
                      "type": "bar"
                    }
                  ],
                  "carpet": [
                    {
                      "aaxis": {
                        "endlinecolor": "#2a3f5f",
                        "gridcolor": "white",
                        "linecolor": "white",
                        "minorgridcolor": "white",
                        "startlinecolor": "#2a3f5f"
                      },
                      "baxis": {
                        "endlinecolor": "#2a3f5f",
                        "gridcolor": "white",
                        "linecolor": "white",
                        "minorgridcolor": "white",
                        "startlinecolor": "#2a3f5f"
                      },
                      "type": "carpet"
                    }
                  ],
                  "choropleth": [
                    {
                      "colorbar": {
                        "outlinewidth": 0,
                        "ticks": ""
                      },
                      "type": "choropleth"
                    }
                  ],
                  "contourcarpet": [
                    {
                      "colorbar": {
                        "outlinewidth": 0,
                        "ticks": ""
                      },
                      "type": "contourcarpet"
                    }
                  ],
                  "contour": [
                    {
                      "colorbar": {
                        "outlinewidth": 0,
                        "ticks": ""
                      },
                      "colorscale": [
                        [
                          0,
                          "#0d0887"
                        ],
                        [
                          0.1111111111111111,
                          "#46039f"
                        ],
                        [
                          0.2222222222222222,
                          "#7201a8"
                        ],
                        [
                          0.3333333333333333,
                          "#9c179e"
                        ],
                        [
                          0.4444444444444444,
                          "#bd3786"
                        ],
                        [
                          0.5555555555555556,
                          "#d8576b"
                        ],
                        [
                          0.6666666666666666,
                          "#ed7953"
                        ],
                        [
                          0.7777777777777778,
                          "#fb9f3a"
                        ],
                        [
                          0.8888888888888888,
                          "#fdca26"
                        ],
                        [
                          1,
                          "#f0f921"
                        ]
                      ],
                      "type": "contour"
                    }
                  ],
                  "heatmapgl": [
                    {
                      "colorbar": {
                        "outlinewidth": 0,
                        "ticks": ""
                      },
                      "colorscale": [
                        [
                          0,
                          "#0d0887"
                        ],
                        [
                          0.1111111111111111,
                          "#46039f"
                        ],
                        [
                          0.2222222222222222,
                          "#7201a8"
                        ],
                        [
                          0.3333333333333333,
                          "#9c179e"
                        ],
                        [
                          0.4444444444444444,
                          "#bd3786"
                        ],
                        [
                          0.5555555555555556,
                          "#d8576b"
                        ],
                        [
                          0.6666666666666666,
                          "#ed7953"
                        ],
                        [
                          0.7777777777777778,
                          "#fb9f3a"
                        ],
                        [
                          0.8888888888888888,
                          "#fdca26"
                        ],
                        [
                          1,
                          "#f0f921"
                        ]
                      ],
                      "type": "heatmapgl"
                    }
                  ],
                  "heatmap": [
                    {
                      "colorbar": {
                        "outlinewidth": 0,
                        "ticks": ""
                      },
                      "colorscale": [
                        [
                          0,
                          "#0d0887"
                        ],
                        [
                          0.1111111111111111,
                          "#46039f"
                        ],
                        [
                          0.2222222222222222,
                          "#7201a8"
                        ],
                        [
                          0.3333333333333333,
                          "#9c179e"
                        ],
                        [
                          0.4444444444444444,
                          "#bd3786"
                        ],
                        [
                          0.5555555555555556,
                          "#d8576b"
                        ],
                        [
                          0.6666666666666666,
                          "#ed7953"
                        ],
                        [
                          0.7777777777777778,
                          "#fb9f3a"
                        ],
                        [
                          0.8888888888888888,
                          "#fdca26"
                        ],
                        [
                          1,
                          "#f0f921"
                        ]
                      ],
                      "type": "heatmap"
                    }
                  ],
                  "histogram2dcontour": [
                    {
                      "colorbar": {
                        "outlinewidth": 0,
                        "ticks": ""
                      },
                      "colorscale": [
                        [
                          0,
                          "#0d0887"
                        ],
                        [
                          0.1111111111111111,
                          "#46039f"
                        ],
                        [
                          0.2222222222222222,
                          "#7201a8"
                        ],
                        [
                          0.3333333333333333,
                          "#9c179e"
                        ],
                        [
                          0.4444444444444444,
                          "#bd3786"
                        ],
                        [
                          0.5555555555555556,
                          "#d8576b"
                        ],
                        [
                          0.6666666666666666,
                          "#ed7953"
                        ],
                        [
                          0.7777777777777778,
                          "#fb9f3a"
                        ],
                        [
                          0.8888888888888888,
                          "#fdca26"
                        ],
                        [
                          1,
                          "#f0f921"
                        ]
                      ],
                      "type": "histogram2dcontour"
                    }
                  ],
                  "histogram2d": [
                    {
                      "colorbar": {
                        "outlinewidth": 0,
                        "ticks": ""
                      },
                      "colorscale": [
                        [
                          0,
                          "#0d0887"
                        ],
                        [
                          0.1111111111111111,
                          "#46039f"
                        ],
                        [
                          0.2222222222222222,
                          "#7201a8"
                        ],
                        [
                          0.3333333333333333,
                          "#9c179e"
                        ],
                        [
                          0.4444444444444444,
                          "#bd3786"
                        ],
                        [
                          0.5555555555555556,
                          "#d8576b"
                        ],
                        [
                          0.6666666666666666,
                          "#ed7953"
                        ],
                        [
                          0.7777777777777778,
                          "#fb9f3a"
                        ],
                        [
                          0.8888888888888888,
                          "#fdca26"
                        ],
                        [
                          1,
                          "#f0f921"
                        ]
                      ],
                      "type": "histogram2d"
                    }
                  ],
                  "histogram": [
                    {
                      "marker": {
                        "pattern": {
                          "fillmode": "overlay",
                          "size": 10,
                          "solidity": 0.2
                        }
                      },
                      "type": "histogram"
                    }
                  ],
                  "mesh3d": [
                    {
                      "colorbar": {
                        "outlinewidth": 0,
                        "ticks": ""
                      },
                      "type": "mesh3d"
                    }
                  ],
                  "parcoords": [
                    {
                      "line": {
                        "colorbar": {
                          "outlinewidth": 0,
                          "ticks": ""
                        }
                      },
                      "type": "parcoords"
                    }
                  ],
                  "pie": [
                    {
                      "automargin": true,
                      "type": "pie"
                    }
                  ],
                  "scatter3d": [
                    {
                      "line": {
                        "colorbar": {
                          "outlinewidth": 0,
                          "ticks": ""
                        }
                      },
                      "marker": {
                        "colorbar": {
                          "outlinewidth": 0,
                          "ticks": ""
                        }
                      },
                      "type": "scatter3d"
                    }
                  ],
                  "scattercarpet": [
                    {
                      "marker": {
                        "colorbar": {
                          "outlinewidth": 0,
                          "ticks": ""
                        }
                      },
                      "type": "scattercarpet"
                    }
                  ],
                  "scattergeo": [
                    {
                      "marker": {
                        "colorbar": {
                          "outlinewidth": 0,
                          "ticks": ""
                        }
                      },
                      "type": "scattergeo"
                    }
                  ],
                  "scattergl": [
                    {
                      "marker": {
                        "colorbar": {
                          "outlinewidth": 0,
                          "ticks": ""
                        }
                      },
                      "type": "scattergl"
                    }
                  ],
                  "scattermapbox": [
                    {
                      "marker": {
                        "colorbar": {
                          "outlinewidth": 0,
                          "ticks": ""
                        }
                      },
                      "type": "scattermapbox"
                    }
                  ],
                  "scatterpolargl": [
                    {
                      "marker": {
                        "colorbar": {
                          "outlinewidth": 0,
                          "ticks": ""
                        }
                      },
                      "type": "scatterpolargl"
                    }
                  ],
                  "scatterpolar": [
                    {
                      "marker": {
                        "colorbar": {
                          "outlinewidth": 0,
                          "ticks": ""
                        }
                      },
                      "type": "scatterpolar"
                    }
                  ],
                  "scatter": [
                    {
                      "fillpattern": {
                        "fillmode": "overlay",
                        "size": 10,
                        "solidity": 0.2
                      },
                      "type": "scatter"
                    }
                  ],
                  "scatterternary": [
                    {
                      "marker": {
                        "colorbar": {
                          "outlinewidth": 0,
                          "ticks": ""
                        }
                      },
                      "type": "scatterternary"
                    }
                  ],
                  "surface": [
                    {
                      "colorbar": {
                        "outlinewidth": 0,
                        "ticks": ""
                      },
                      "colorscale": [
                        [
                          0,
                          "#0d0887"
                        ],
                        [
                          0.1111111111111111,
                          "#46039f"
                        ],
                        [
                          0.2222222222222222,
                          "#7201a8"
                        ],
                        [
                          0.3333333333333333,
                          "#9c179e"
                        ],
                        [
                          0.4444444444444444,
                          "#bd3786"
                        ],
                        [
                          0.5555555555555556,
                          "#d8576b"
                        ],
                        [
                          0.6666666666666666,
                          "#ed7953"
                        ],
                        [
                          0.7777777777777778,
                          "#fb9f3a"
                        ],
                        [
                          0.8888888888888888,
                          "#fdca26"
                        ],
                        [
                          1,
                          "#f0f921"
                        ]
                      ],
                      "type": "surface"
                    }
                  ],
                  "table": [
                    {
                      "cells": {
                        "fill": {
                          "color": "#EBF0F8"
                        },
                        "line": {
                          "color": "white"
                        }
                      },
                      "header": {
                        "fill": {
                          "color": "#C8D4E3"
                        },
                        "line": {
                          "color": "white"
                        }
                      },
                      "type": "table"
                    }
                  ]
                },
                "layout": {
                  "annotationdefaults": {
                    "arrowcolor": "#2a3f5f",
                    "arrowhead": 0,
                    "arrowwidth": 1
                  },
                  "autotypenumbers": "strict",
                  "coloraxis": {
                    "colorbar": {
                      "outlinewidth": 0,
                      "ticks": ""
                    }
                  },
                  "colorscale": {
                    "diverging": [
                      [
                        0,
                        "#8e0152"
                      ],
                      [
                        0.1,
                        "#c51b7d"
                      ],
                      [
                        0.2,
                        "#de77ae"
                      ],
                      [
                        0.3,
                        "#f1b6da"
                      ],
                      [
                        0.4,
                        "#fde0ef"
                      ],
                      [
                        0.5,
                        "#f7f7f7"
                      ],
                      [
                        0.6,
                        "#e6f5d0"
                      ],
                      [
                        0.7,
                        "#b8e186"
                      ],
                      [
                        0.8,
                        "#7fbc41"
                      ],
                      [
                        0.9,
                        "#4d9221"
                      ],
                      [
                        1,
                        "#276419"
                      ]
                    ],
                    "sequential": [
                      [
                        0,
                        "#0d0887"
                      ],
                      [
                        0.1111111111111111,
                        "#46039f"
                      ],
                      [
                        0.2222222222222222,
                        "#7201a8"
                      ],
                      [
                        0.3333333333333333,
                        "#9c179e"
                      ],
                      [
                        0.4444444444444444,
                        "#bd3786"
                      ],
                      [
                        0.5555555555555556,
                        "#d8576b"
                      ],
                      [
                        0.6666666666666666,
                        "#ed7953"
                      ],
                      [
                        0.7777777777777778,
                        "#fb9f3a"
                      ],
                      [
                        0.8888888888888888,
                        "#fdca26"
                      ],
                      [
                        1,
                        "#f0f921"
                      ]
                    ],
                    "sequentialminus": [
                      [
                        0,
                        "#0d0887"
                      ],
                      [
                        0.1111111111111111,
                        "#46039f"
                      ],
                      [
                        0.2222222222222222,
                        "#7201a8"
                      ],
                      [
                        0.3333333333333333,
                        "#9c179e"
                      ],
                      [
                        0.4444444444444444,
                        "#bd3786"
                      ],
                      [
                        0.5555555555555556,
                        "#d8576b"
                      ],
                      [
                        0.6666666666666666,
                        "#ed7953"
                      ],
                      [
                        0.7777777777777778,
                        "#fb9f3a"
                      ],
                      [
                        0.8888888888888888,
                        "#fdca26"
                      ],
                      [
                        1,
                        "#f0f921"
                      ]
                    ]
                  },
                  "colorway": [
                    "#636efa",
                    "#EF553B",
                    "#00cc96",
                    "#ab63fa",
                    "#FFA15A",
                    "#19d3f3",
                    "#FF6692",
                    "#B6E880",
                    "#FF97FF",
                    "#FECB52"
                  ],
                  "font": {
                    "color": "#2a3f5f"
                  },
                  "geo": {
                    "bgcolor": "white",
                    "lakecolor": "white",
                    "landcolor": "#E5ECF6",
                    "showlakes": true,
                    "showland": true,
                    "subunitcolor": "white"
                  },
                  "hoverlabel": {
                    "align": "left"
                  },
                  "hovermode": "closest",
                  "mapbox": {
                    "style": "light"
                  },
                  "paper_bgcolor": "white",
                  "plot_bgcolor": "#E5ECF6",
                  "polar": {
                    "angularaxis": {
                      "gridcolor": "white",
                      "linecolor": "white",
                      "ticks": ""
                    },
                    "bgcolor": "#E5ECF6",
                    "radialaxis": {
                      "gridcolor": "white",
                      "linecolor": "white",
                      "ticks": ""
                    }
                  },
                  "scene": {
                    "xaxis": {
                      "backgroundcolor": "#E5ECF6",
                      "gridcolor": "white",
                      "gridwidth": 2,
                      "linecolor": "white",
                      "showbackground": true,
                      "ticks": "",
                      "zerolinecolor": "white"
                    },
                    "yaxis": {
                      "backgroundcolor": "#E5ECF6",
                      "gridcolor": "white",
                      "gridwidth": 2,
                      "linecolor": "white",
                      "showbackground": true,
                      "ticks": "",
                      "zerolinecolor": "white"
                    },
                    "zaxis": {
                      "backgroundcolor": "#E5ECF6",
                      "gridcolor": "white",
                      "gridwidth": 2,
                      "linecolor": "white",
                      "showbackground": true,
                      "ticks": "",
                      "zerolinecolor": "white"
                    }
                  },
                  "shapedefaults": {
                    "line": {
                      "color": "#2a3f5f"
                    }
                  },
                  "ternary": {
                    "aaxis": {
                      "gridcolor": "white",
                      "linecolor": "white",
                      "ticks": ""
                    },
                    "baxis": {
                      "gridcolor": "white",
                      "linecolor": "white",
                      "ticks": ""
                    },
                    "bgcolor": "#E5ECF6",
                    "caxis": {
                      "gridcolor": "white",
                      "linecolor": "white",
                      "ticks": ""
                    }
                  },
                  "title": {
                    "x": 0.05
                  },
                  "xaxis": {
                    "automargin": true,
                    "gridcolor": "white",
                    "linecolor": "white",
                    "ticks": "",
                    "title": {
                      "standoff": 15
                    },
                    "zerolinecolor": "white",
                    "zerolinewidth": 2
                  },
                  "yaxis": {
                    "automargin": true,
                    "gridcolor": "white",
                    "linecolor": "white",
                    "ticks": "",
                    "title": {
                      "standoff": 15
                    },
                    "zerolinecolor": "white",
                    "zerolinewidth": 2
                  }
                }
              },
              "title": {
                "text": "Comparison between layers of gradient distributions at epochs",
                "x": 0.5
              },
              "width": 1500,
              "xaxis": {
                "anchor": "y",
                "domain": [
                  0,
                  0.2888888888888889
                ],
                "range": [
                  -1,
                  1
                ],
                "title": {
                  "text": "Gradient value"
                }
              },
              "yaxis": {
                "anchor": "x",
                "domain": [
                  0,
                  1
                ],
                "title": {
                  "text": "Density (log scale)"
                },
                "type": "log"
              },
              "xaxis2": {
                "anchor": "y2",
                "domain": [
                  0.35555555555555557,
                  0.6444444444444445
                ],
                "range": [
                  -0.05,
                  0.05
                ],
                "title": {
                  "text": "Gradient value"
                }
              },
              "yaxis2": {
                "anchor": "x2",
                "domain": [
                  0,
                  1
                ],
                "title": {
                  "text": "Density (log scale)"
                },
                "type": "log"
              },
              "xaxis3": {
                "anchor": "y3",
                "domain": [
                  0.7111111111111111,
                  1
                ],
                "range": [
                  -0.05,
                  0.05
                ],
                "title": {
                  "text": "Gradient value"
                }
              },
              "yaxis3": {
                "anchor": "x3",
                "domain": [
                  0,
                  1
                ],
                "title": {
                  "text": "Density (log scale)"
                },
                "type": "log"
              }
            },
            "_model_module": "jupyterlab-plotly",
            "_model_module_version": "^5.24.1",
            "_model_name": "FigureModel",
            "_py2js_addTraces": {},
            "_py2js_animate": {},
            "_py2js_deleteTraces": {},
            "_py2js_moveTraces": {},
            "_py2js_relayout": {},
            "_py2js_removeLayoutProps": {},
            "_py2js_removeTraceProps": {},
            "_py2js_restyle": null,
            "_py2js_update": {},
            "_view_count": 1,
            "_view_module": "jupyterlab-plotly",
            "_view_module_version": "^5.24.1",
            "_view_name": "FigureView"
          }
        },
        "a49b768c4c514ffaa68b95d229e049d5": {
          "model_module": "jupyterlab-plotly",
          "model_name": "FigureModel",
          "model_module_version": "^5.24.1",
          "state": {
            "_config": {
              "plotlyServerURL": "https://plot.ly"
            },
            "_data": [
              {
                "mode": "lines+markers",
                "name": "Linear layer 0",
                "x": [],
                "y": [],
                "type": "scatter",
                "uid": "48ddff38-e0d8-422a-b10e-8f8c13880df1"
              },
              {
                "mode": "lines+markers",
                "name": "Linear layer 1",
                "x": [],
                "y": [],
                "type": "scatter",
                "uid": "5eda1f6d-4f5c-41b7-9673-7656750cae05"
              },
              {
                "mode": "lines+markers",
                "name": "Linear layer 2",
                "x": [],
                "y": [],
                "type": "scatter",
                "uid": "e57943ed-3e39-42d9-bb40-8a3c695f605c"
              },
              {
                "mode": "lines+markers",
                "name": "Linear layer 3",
                "x": [],
                "y": [],
                "type": "scatter",
                "uid": "9d700a81-925e-4e4e-be72-1100b56414fb"
              },
              {
                "mode": "lines+markers",
                "name": "Linear layer 4",
                "x": [],
                "y": [],
                "type": "scatter",
                "uid": "542893a5-2c0b-4f3c-9738-2524c5ee1d8c"
              },
              {
                "mode": "lines+markers",
                "name": "Linear layer 5",
                "x": [],
                "y": [],
                "type": "scatter",
                "uid": "62e1cd50-d833-4c3f-ba94-086c8f665352"
              }
            ],
            "_dom_classes": [],
            "_js2py_layoutDelta": null,
            "_js2py_pointsCallback": {},
            "_js2py_relayout": {},
            "_js2py_restyle": {},
            "_js2py_traceDeltas": null,
            "_js2py_update": {},
            "_last_layout_edit_id": 240,
            "_last_trace_edit_id": 240,
            "_layout": {
              "height": 400,
              "margin": {
                "b": 10,
                "t": 60
              },
              "template": {
                "data": {
                  "barpolar": [
                    {
                      "marker": {
                        "line": {
                          "color": "#E5ECF6",
                          "width": 0.5
                        },
                        "pattern": {
                          "fillmode": "overlay",
                          "size": 10,
                          "solidity": 0.2
                        }
                      },
                      "type": "barpolar"
                    }
                  ],
                  "bar": [
                    {
                      "error_x": {
                        "color": "#2a3f5f"
                      },
                      "error_y": {
                        "color": "#2a3f5f"
                      },
                      "marker": {
                        "line": {
                          "color": "#E5ECF6",
                          "width": 0.5
                        },
                        "pattern": {
                          "fillmode": "overlay",
                          "size": 10,
                          "solidity": 0.2
                        }
                      },
                      "type": "bar"
                    }
                  ],
                  "carpet": [
                    {
                      "aaxis": {
                        "endlinecolor": "#2a3f5f",
                        "gridcolor": "white",
                        "linecolor": "white",
                        "minorgridcolor": "white",
                        "startlinecolor": "#2a3f5f"
                      },
                      "baxis": {
                        "endlinecolor": "#2a3f5f",
                        "gridcolor": "white",
                        "linecolor": "white",
                        "minorgridcolor": "white",
                        "startlinecolor": "#2a3f5f"
                      },
                      "type": "carpet"
                    }
                  ],
                  "choropleth": [
                    {
                      "colorbar": {
                        "outlinewidth": 0,
                        "ticks": ""
                      },
                      "type": "choropleth"
                    }
                  ],
                  "contourcarpet": [
                    {
                      "colorbar": {
                        "outlinewidth": 0,
                        "ticks": ""
                      },
                      "type": "contourcarpet"
                    }
                  ],
                  "contour": [
                    {
                      "colorbar": {
                        "outlinewidth": 0,
                        "ticks": ""
                      },
                      "colorscale": [
                        [
                          0,
                          "#0d0887"
                        ],
                        [
                          0.1111111111111111,
                          "#46039f"
                        ],
                        [
                          0.2222222222222222,
                          "#7201a8"
                        ],
                        [
                          0.3333333333333333,
                          "#9c179e"
                        ],
                        [
                          0.4444444444444444,
                          "#bd3786"
                        ],
                        [
                          0.5555555555555556,
                          "#d8576b"
                        ],
                        [
                          0.6666666666666666,
                          "#ed7953"
                        ],
                        [
                          0.7777777777777778,
                          "#fb9f3a"
                        ],
                        [
                          0.8888888888888888,
                          "#fdca26"
                        ],
                        [
                          1,
                          "#f0f921"
                        ]
                      ],
                      "type": "contour"
                    }
                  ],
                  "heatmapgl": [
                    {
                      "colorbar": {
                        "outlinewidth": 0,
                        "ticks": ""
                      },
                      "colorscale": [
                        [
                          0,
                          "#0d0887"
                        ],
                        [
                          0.1111111111111111,
                          "#46039f"
                        ],
                        [
                          0.2222222222222222,
                          "#7201a8"
                        ],
                        [
                          0.3333333333333333,
                          "#9c179e"
                        ],
                        [
                          0.4444444444444444,
                          "#bd3786"
                        ],
                        [
                          0.5555555555555556,
                          "#d8576b"
                        ],
                        [
                          0.6666666666666666,
                          "#ed7953"
                        ],
                        [
                          0.7777777777777778,
                          "#fb9f3a"
                        ],
                        [
                          0.8888888888888888,
                          "#fdca26"
                        ],
                        [
                          1,
                          "#f0f921"
                        ]
                      ],
                      "type": "heatmapgl"
                    }
                  ],
                  "heatmap": [
                    {
                      "colorbar": {
                        "outlinewidth": 0,
                        "ticks": ""
                      },
                      "colorscale": [
                        [
                          0,
                          "#0d0887"
                        ],
                        [
                          0.1111111111111111,
                          "#46039f"
                        ],
                        [
                          0.2222222222222222,
                          "#7201a8"
                        ],
                        [
                          0.3333333333333333,
                          "#9c179e"
                        ],
                        [
                          0.4444444444444444,
                          "#bd3786"
                        ],
                        [
                          0.5555555555555556,
                          "#d8576b"
                        ],
                        [
                          0.6666666666666666,
                          "#ed7953"
                        ],
                        [
                          0.7777777777777778,
                          "#fb9f3a"
                        ],
                        [
                          0.8888888888888888,
                          "#fdca26"
                        ],
                        [
                          1,
                          "#f0f921"
                        ]
                      ],
                      "type": "heatmap"
                    }
                  ],
                  "histogram2dcontour": [
                    {
                      "colorbar": {
                        "outlinewidth": 0,
                        "ticks": ""
                      },
                      "colorscale": [
                        [
                          0,
                          "#0d0887"
                        ],
                        [
                          0.1111111111111111,
                          "#46039f"
                        ],
                        [
                          0.2222222222222222,
                          "#7201a8"
                        ],
                        [
                          0.3333333333333333,
                          "#9c179e"
                        ],
                        [
                          0.4444444444444444,
                          "#bd3786"
                        ],
                        [
                          0.5555555555555556,
                          "#d8576b"
                        ],
                        [
                          0.6666666666666666,
                          "#ed7953"
                        ],
                        [
                          0.7777777777777778,
                          "#fb9f3a"
                        ],
                        [
                          0.8888888888888888,
                          "#fdca26"
                        ],
                        [
                          1,
                          "#f0f921"
                        ]
                      ],
                      "type": "histogram2dcontour"
                    }
                  ],
                  "histogram2d": [
                    {
                      "colorbar": {
                        "outlinewidth": 0,
                        "ticks": ""
                      },
                      "colorscale": [
                        [
                          0,
                          "#0d0887"
                        ],
                        [
                          0.1111111111111111,
                          "#46039f"
                        ],
                        [
                          0.2222222222222222,
                          "#7201a8"
                        ],
                        [
                          0.3333333333333333,
                          "#9c179e"
                        ],
                        [
                          0.4444444444444444,
                          "#bd3786"
                        ],
                        [
                          0.5555555555555556,
                          "#d8576b"
                        ],
                        [
                          0.6666666666666666,
                          "#ed7953"
                        ],
                        [
                          0.7777777777777778,
                          "#fb9f3a"
                        ],
                        [
                          0.8888888888888888,
                          "#fdca26"
                        ],
                        [
                          1,
                          "#f0f921"
                        ]
                      ],
                      "type": "histogram2d"
                    }
                  ],
                  "histogram": [
                    {
                      "marker": {
                        "pattern": {
                          "fillmode": "overlay",
                          "size": 10,
                          "solidity": 0.2
                        }
                      },
                      "type": "histogram"
                    }
                  ],
                  "mesh3d": [
                    {
                      "colorbar": {
                        "outlinewidth": 0,
                        "ticks": ""
                      },
                      "type": "mesh3d"
                    }
                  ],
                  "parcoords": [
                    {
                      "line": {
                        "colorbar": {
                          "outlinewidth": 0,
                          "ticks": ""
                        }
                      },
                      "type": "parcoords"
                    }
                  ],
                  "pie": [
                    {
                      "automargin": true,
                      "type": "pie"
                    }
                  ],
                  "scatter3d": [
                    {
                      "line": {
                        "colorbar": {
                          "outlinewidth": 0,
                          "ticks": ""
                        }
                      },
                      "marker": {
                        "colorbar": {
                          "outlinewidth": 0,
                          "ticks": ""
                        }
                      },
                      "type": "scatter3d"
                    }
                  ],
                  "scattercarpet": [
                    {
                      "marker": {
                        "colorbar": {
                          "outlinewidth": 0,
                          "ticks": ""
                        }
                      },
                      "type": "scattercarpet"
                    }
                  ],
                  "scattergeo": [
                    {
                      "marker": {
                        "colorbar": {
                          "outlinewidth": 0,
                          "ticks": ""
                        }
                      },
                      "type": "scattergeo"
                    }
                  ],
                  "scattergl": [
                    {
                      "marker": {
                        "colorbar": {
                          "outlinewidth": 0,
                          "ticks": ""
                        }
                      },
                      "type": "scattergl"
                    }
                  ],
                  "scattermapbox": [
                    {
                      "marker": {
                        "colorbar": {
                          "outlinewidth": 0,
                          "ticks": ""
                        }
                      },
                      "type": "scattermapbox"
                    }
                  ],
                  "scatterpolargl": [
                    {
                      "marker": {
                        "colorbar": {
                          "outlinewidth": 0,
                          "ticks": ""
                        }
                      },
                      "type": "scatterpolargl"
                    }
                  ],
                  "scatterpolar": [
                    {
                      "marker": {
                        "colorbar": {
                          "outlinewidth": 0,
                          "ticks": ""
                        }
                      },
                      "type": "scatterpolar"
                    }
                  ],
                  "scatter": [
                    {
                      "fillpattern": {
                        "fillmode": "overlay",
                        "size": 10,
                        "solidity": 0.2
                      },
                      "type": "scatter"
                    }
                  ],
                  "scatterternary": [
                    {
                      "marker": {
                        "colorbar": {
                          "outlinewidth": 0,
                          "ticks": ""
                        }
                      },
                      "type": "scatterternary"
                    }
                  ],
                  "surface": [
                    {
                      "colorbar": {
                        "outlinewidth": 0,
                        "ticks": ""
                      },
                      "colorscale": [
                        [
                          0,
                          "#0d0887"
                        ],
                        [
                          0.1111111111111111,
                          "#46039f"
                        ],
                        [
                          0.2222222222222222,
                          "#7201a8"
                        ],
                        [
                          0.3333333333333333,
                          "#9c179e"
                        ],
                        [
                          0.4444444444444444,
                          "#bd3786"
                        ],
                        [
                          0.5555555555555556,
                          "#d8576b"
                        ],
                        [
                          0.6666666666666666,
                          "#ed7953"
                        ],
                        [
                          0.7777777777777778,
                          "#fb9f3a"
                        ],
                        [
                          0.8888888888888888,
                          "#fdca26"
                        ],
                        [
                          1,
                          "#f0f921"
                        ]
                      ],
                      "type": "surface"
                    }
                  ],
                  "table": [
                    {
                      "cells": {
                        "fill": {
                          "color": "#EBF0F8"
                        },
                        "line": {
                          "color": "white"
                        }
                      },
                      "header": {
                        "fill": {
                          "color": "#C8D4E3"
                        },
                        "line": {
                          "color": "white"
                        }
                      },
                      "type": "table"
                    }
                  ]
                },
                "layout": {
                  "annotationdefaults": {
                    "arrowcolor": "#2a3f5f",
                    "arrowhead": 0,
                    "arrowwidth": 1
                  },
                  "autotypenumbers": "strict",
                  "coloraxis": {
                    "colorbar": {
                      "outlinewidth": 0,
                      "ticks": ""
                    }
                  },
                  "colorscale": {
                    "diverging": [
                      [
                        0,
                        "#8e0152"
                      ],
                      [
                        0.1,
                        "#c51b7d"
                      ],
                      [
                        0.2,
                        "#de77ae"
                      ],
                      [
                        0.3,
                        "#f1b6da"
                      ],
                      [
                        0.4,
                        "#fde0ef"
                      ],
                      [
                        0.5,
                        "#f7f7f7"
                      ],
                      [
                        0.6,
                        "#e6f5d0"
                      ],
                      [
                        0.7,
                        "#b8e186"
                      ],
                      [
                        0.8,
                        "#7fbc41"
                      ],
                      [
                        0.9,
                        "#4d9221"
                      ],
                      [
                        1,
                        "#276419"
                      ]
                    ],
                    "sequential": [
                      [
                        0,
                        "#0d0887"
                      ],
                      [
                        0.1111111111111111,
                        "#46039f"
                      ],
                      [
                        0.2222222222222222,
                        "#7201a8"
                      ],
                      [
                        0.3333333333333333,
                        "#9c179e"
                      ],
                      [
                        0.4444444444444444,
                        "#bd3786"
                      ],
                      [
                        0.5555555555555556,
                        "#d8576b"
                      ],
                      [
                        0.6666666666666666,
                        "#ed7953"
                      ],
                      [
                        0.7777777777777778,
                        "#fb9f3a"
                      ],
                      [
                        0.8888888888888888,
                        "#fdca26"
                      ],
                      [
                        1,
                        "#f0f921"
                      ]
                    ],
                    "sequentialminus": [
                      [
                        0,
                        "#0d0887"
                      ],
                      [
                        0.1111111111111111,
                        "#46039f"
                      ],
                      [
                        0.2222222222222222,
                        "#7201a8"
                      ],
                      [
                        0.3333333333333333,
                        "#9c179e"
                      ],
                      [
                        0.4444444444444444,
                        "#bd3786"
                      ],
                      [
                        0.5555555555555556,
                        "#d8576b"
                      ],
                      [
                        0.6666666666666666,
                        "#ed7953"
                      ],
                      [
                        0.7777777777777778,
                        "#fb9f3a"
                      ],
                      [
                        0.8888888888888888,
                        "#fdca26"
                      ],
                      [
                        1,
                        "#f0f921"
                      ]
                    ]
                  },
                  "colorway": [
                    "#636efa",
                    "#EF553B",
                    "#00cc96",
                    "#ab63fa",
                    "#FFA15A",
                    "#19d3f3",
                    "#FF6692",
                    "#B6E880",
                    "#FF97FF",
                    "#FECB52"
                  ],
                  "font": {
                    "color": "#2a3f5f"
                  },
                  "geo": {
                    "bgcolor": "white",
                    "lakecolor": "white",
                    "landcolor": "#E5ECF6",
                    "showlakes": true,
                    "showland": true,
                    "subunitcolor": "white"
                  },
                  "hoverlabel": {
                    "align": "left"
                  },
                  "hovermode": "closest",
                  "mapbox": {
                    "style": "light"
                  },
                  "paper_bgcolor": "white",
                  "plot_bgcolor": "#E5ECF6",
                  "polar": {
                    "angularaxis": {
                      "gridcolor": "white",
                      "linecolor": "white",
                      "ticks": ""
                    },
                    "bgcolor": "#E5ECF6",
                    "radialaxis": {
                      "gridcolor": "white",
                      "linecolor": "white",
                      "ticks": ""
                    }
                  },
                  "scene": {
                    "xaxis": {
                      "backgroundcolor": "#E5ECF6",
                      "gridcolor": "white",
                      "gridwidth": 2,
                      "linecolor": "white",
                      "showbackground": true,
                      "ticks": "",
                      "zerolinecolor": "white"
                    },
                    "yaxis": {
                      "backgroundcolor": "#E5ECF6",
                      "gridcolor": "white",
                      "gridwidth": 2,
                      "linecolor": "white",
                      "showbackground": true,
                      "ticks": "",
                      "zerolinecolor": "white"
                    },
                    "zaxis": {
                      "backgroundcolor": "#E5ECF6",
                      "gridcolor": "white",
                      "gridwidth": 2,
                      "linecolor": "white",
                      "showbackground": true,
                      "ticks": "",
                      "zerolinecolor": "white"
                    }
                  },
                  "shapedefaults": {
                    "line": {
                      "color": "#2a3f5f"
                    }
                  },
                  "ternary": {
                    "aaxis": {
                      "gridcolor": "white",
                      "linecolor": "white",
                      "ticks": ""
                    },
                    "baxis": {
                      "gridcolor": "white",
                      "linecolor": "white",
                      "ticks": ""
                    },
                    "bgcolor": "#E5ECF6",
                    "caxis": {
                      "gridcolor": "white",
                      "linecolor": "white",
                      "ticks": ""
                    }
                  },
                  "title": {
                    "x": 0.05
                  },
                  "xaxis": {
                    "automargin": true,
                    "gridcolor": "white",
                    "linecolor": "white",
                    "ticks": "",
                    "title": {
                      "standoff": 15
                    },
                    "zerolinecolor": "white",
                    "zerolinewidth": 2
                  },
                  "yaxis": {
                    "automargin": true,
                    "gridcolor": "white",
                    "linecolor": "white",
                    "ticks": "",
                    "title": {
                      "standoff": 15
                    },
                    "zerolinecolor": "white",
                    "zerolinewidth": 2
                  }
                }
              },
              "title": {
                "text": "Gradient standard deviation to weight standard deviation ratio",
                "x": 0.5
              },
              "width": 1500,
              "xaxis": {
                "title": {
                  "text": "Epoch"
                }
              },
              "yaxis": {
                "title": {
                  "text": "Gradient to weight ratio (log scale)"
                },
                "type": "log"
              }
            },
            "_model_module": "jupyterlab-plotly",
            "_model_module_version": "^5.24.1",
            "_model_name": "FigureModel",
            "_py2js_addTraces": {},
            "_py2js_animate": {},
            "_py2js_deleteTraces": {},
            "_py2js_moveTraces": {},
            "_py2js_relayout": {},
            "_py2js_removeLayoutProps": {},
            "_py2js_removeTraceProps": {},
            "_py2js_restyle": null,
            "_py2js_update": {},
            "_view_count": 1,
            "_view_module": "jupyterlab-plotly",
            "_view_module_version": "^5.24.1",
            "_view_name": "FigureView"
          }
        },
        "414a9261d1044f8ba38d54b5c731e8c5": {
          "model_module": "jupyterlab-plotly",
          "model_name": "FigureModel",
          "model_module_version": "^5.24.1",
          "state": {
            "_config": {
              "plotlyServerURL": "https://plot.ly"
            },
            "_data": [
              {
                "legendgroup": "0",
                "line": {
                  "color": "rgba(99, 110, 250,0.18)"
                },
                "mode": "lines",
                "name": "Epoch 1",
                "xaxis": "x",
                "yaxis": "y",
                "type": "scatter",
                "uid": "ee3a4cc1-be7c-4b98-b74f-4e951a4e9dc3"
              },
              {
                "legendgroup": "0",
                "line": {
                  "color": "rgba(99, 110, 250,0.27)"
                },
                "mode": "lines",
                "name": "Epoch 4",
                "xaxis": "x",
                "yaxis": "y",
                "type": "scatter",
                "uid": "0b524203-5545-4e14-90e5-fc73e5f0366b"
              },
              {
                "legendgroup": "0",
                "line": {
                  "color": "rgba(99, 110, 250,0.36)"
                },
                "mode": "lines",
                "name": "Epoch 7",
                "xaxis": "x",
                "yaxis": "y",
                "type": "scatter",
                "uid": "8655bcc4-5584-465f-8f3d-0fd403815401"
              },
              {
                "legendgroup": "0",
                "line": {
                  "color": "rgba(99, 110, 250,0.44999999999999996)"
                },
                "mode": "lines",
                "name": "Epoch 10",
                "xaxis": "x",
                "yaxis": "y",
                "type": "scatter",
                "uid": "b7df41f3-611b-488f-8995-afbd808bcabb"
              },
              {
                "legendgroup": "0",
                "line": {
                  "color": "rgba(99, 110, 250,0.54)"
                },
                "mode": "lines",
                "name": "Epoch 13",
                "xaxis": "x",
                "yaxis": "y",
                "type": "scatter",
                "uid": "6e3ecada-fc91-4628-b60e-d2c9a97b6753"
              },
              {
                "legendgroup": "0",
                "line": {
                  "color": "rgba(99, 110, 250,0.63)"
                },
                "mode": "lines",
                "name": "Epoch 16",
                "xaxis": "x",
                "yaxis": "y",
                "type": "scatter",
                "uid": "c5fee7f3-1430-4697-a903-c82a3fa15170"
              },
              {
                "legendgroup": "0",
                "line": {
                  "color": "rgba(99, 110, 250,0.75)"
                },
                "mode": "lines",
                "name": "Epoch 20",
                "xaxis": "x",
                "yaxis": "y",
                "type": "scatter",
                "uid": "c63d6012-dd20-4b11-b461-f1709da63eec"
              },
              {
                "legendgroup": "1",
                "line": {
                  "color": "rgba(239, 85, 59,0.18)"
                },
                "mode": "lines",
                "name": "Epoch 1",
                "xaxis": "x2",
                "yaxis": "y2",
                "type": "scatter",
                "uid": "0ec1388a-493e-42d6-8643-ea390d62e02d"
              },
              {
                "legendgroup": "1",
                "line": {
                  "color": "rgba(239, 85, 59,0.27)"
                },
                "mode": "lines",
                "name": "Epoch 4",
                "xaxis": "x2",
                "yaxis": "y2",
                "type": "scatter",
                "uid": "879521f0-6793-4f8a-9a9e-59e4142afb7e"
              },
              {
                "legendgroup": "1",
                "line": {
                  "color": "rgba(239, 85, 59,0.36)"
                },
                "mode": "lines",
                "name": "Epoch 7",
                "xaxis": "x2",
                "yaxis": "y2",
                "type": "scatter",
                "uid": "75b15f6d-793c-4b53-8bd8-1c54fa00efdf"
              },
              {
                "legendgroup": "1",
                "line": {
                  "color": "rgba(239, 85, 59,0.44999999999999996)"
                },
                "mode": "lines",
                "name": "Epoch 10",
                "xaxis": "x2",
                "yaxis": "y2",
                "type": "scatter",
                "uid": "67d1a646-b5c2-4ca2-ba9c-7c879286d371"
              },
              {
                "legendgroup": "1",
                "line": {
                  "color": "rgba(239, 85, 59,0.54)"
                },
                "mode": "lines",
                "name": "Epoch 13",
                "xaxis": "x2",
                "yaxis": "y2",
                "type": "scatter",
                "uid": "1a12ff05-d839-40b9-90a1-614a6ebb2b16"
              },
              {
                "legendgroup": "1",
                "line": {
                  "color": "rgba(239, 85, 59,0.63)"
                },
                "mode": "lines",
                "name": "Epoch 16",
                "xaxis": "x2",
                "yaxis": "y2",
                "type": "scatter",
                "uid": "9d087c77-d8ed-4dfa-8d64-b8a2f773396b"
              },
              {
                "legendgroup": "1",
                "line": {
                  "color": "rgba(239, 85, 59,0.75)"
                },
                "mode": "lines",
                "name": "Epoch 20",
                "xaxis": "x2",
                "yaxis": "y2",
                "type": "scatter",
                "uid": "5ba5c824-5890-4ad3-a5ae-fde619974bca"
              },
              {
                "legendgroup": "2",
                "line": {
                  "color": "rgba(0, 204, 150,0.18)"
                },
                "mode": "lines",
                "name": "Epoch 1",
                "xaxis": "x3",
                "yaxis": "y3",
                "type": "scatter",
                "uid": "a41bdc09-2fb3-4744-81c6-79a316a52e77"
              },
              {
                "legendgroup": "2",
                "line": {
                  "color": "rgba(0, 204, 150,0.27)"
                },
                "mode": "lines",
                "name": "Epoch 4",
                "xaxis": "x3",
                "yaxis": "y3",
                "type": "scatter",
                "uid": "2f56b678-083c-4799-a269-2c19f4f72e94"
              },
              {
                "legendgroup": "2",
                "line": {
                  "color": "rgba(0, 204, 150,0.36)"
                },
                "mode": "lines",
                "name": "Epoch 7",
                "xaxis": "x3",
                "yaxis": "y3",
                "type": "scatter",
                "uid": "f7755643-c4e6-4d39-b994-ef4d59eb2a26"
              },
              {
                "legendgroup": "2",
                "line": {
                  "color": "rgba(0, 204, 150,0.44999999999999996)"
                },
                "mode": "lines",
                "name": "Epoch 10",
                "xaxis": "x3",
                "yaxis": "y3",
                "type": "scatter",
                "uid": "775c4d1d-f5a5-43fb-975a-40d349f56133"
              },
              {
                "legendgroup": "2",
                "line": {
                  "color": "rgba(0, 204, 150,0.54)"
                },
                "mode": "lines",
                "name": "Epoch 13",
                "xaxis": "x3",
                "yaxis": "y3",
                "type": "scatter",
                "uid": "6803ee64-1056-4030-81ba-e0202f01a05d"
              },
              {
                "legendgroup": "2",
                "line": {
                  "color": "rgba(0, 204, 150,0.63)"
                },
                "mode": "lines",
                "name": "Epoch 16",
                "xaxis": "x3",
                "yaxis": "y3",
                "type": "scatter",
                "uid": "1ae37c91-59a9-4ddc-8615-eac41339a424"
              },
              {
                "legendgroup": "2",
                "line": {
                  "color": "rgba(0, 204, 150,0.75)"
                },
                "mode": "lines",
                "name": "Epoch 20",
                "xaxis": "x3",
                "yaxis": "y3",
                "type": "scatter",
                "uid": "a7e89304-85a9-425c-8be0-4ecfc02c5ead"
              },
              {
                "legendgroup": "3",
                "line": {
                  "color": "rgba(171, 99, 250,0.18)"
                },
                "mode": "lines",
                "name": "Epoch 1",
                "xaxis": "x4",
                "yaxis": "y4",
                "type": "scatter",
                "uid": "1e4486ec-cd39-4d6f-b186-cf09ee77b6ee"
              },
              {
                "legendgroup": "3",
                "line": {
                  "color": "rgba(171, 99, 250,0.27)"
                },
                "mode": "lines",
                "name": "Epoch 4",
                "xaxis": "x4",
                "yaxis": "y4",
                "type": "scatter",
                "uid": "f4aa117f-3764-4902-b2f3-8f55e734fb06"
              },
              {
                "legendgroup": "3",
                "line": {
                  "color": "rgba(171, 99, 250,0.36)"
                },
                "mode": "lines",
                "name": "Epoch 7",
                "xaxis": "x4",
                "yaxis": "y4",
                "type": "scatter",
                "uid": "e04f1aea-990f-42f1-92c4-74a5bcf4b630"
              },
              {
                "legendgroup": "3",
                "line": {
                  "color": "rgba(171, 99, 250,0.44999999999999996)"
                },
                "mode": "lines",
                "name": "Epoch 10",
                "xaxis": "x4",
                "yaxis": "y4",
                "type": "scatter",
                "uid": "be7c79ad-e24b-48c2-986a-a540be001ac4"
              },
              {
                "legendgroup": "3",
                "line": {
                  "color": "rgba(171, 99, 250,0.54)"
                },
                "mode": "lines",
                "name": "Epoch 13",
                "xaxis": "x4",
                "yaxis": "y4",
                "type": "scatter",
                "uid": "96b86a0f-8c09-49bc-ad10-2b4377adb47a"
              },
              {
                "legendgroup": "3",
                "line": {
                  "color": "rgba(171, 99, 250,0.63)"
                },
                "mode": "lines",
                "name": "Epoch 16",
                "xaxis": "x4",
                "yaxis": "y4",
                "type": "scatter",
                "uid": "f9fc2bf7-dbc3-4b1a-8d21-114311abd768"
              },
              {
                "legendgroup": "3",
                "line": {
                  "color": "rgba(171, 99, 250,0.75)"
                },
                "mode": "lines",
                "name": "Epoch 20",
                "xaxis": "x4",
                "yaxis": "y4",
                "type": "scatter",
                "uid": "400dd6ed-f02d-4bea-a9aa-7e352126eaf0"
              },
              {
                "legendgroup": "4",
                "line": {
                  "color": "rgba(255, 161, 90,0.18)"
                },
                "mode": "lines",
                "name": "Epoch 1",
                "xaxis": "x5",
                "yaxis": "y5",
                "type": "scatter",
                "uid": "78d7e32b-59a2-4105-a98f-5ffff2a518b0"
              },
              {
                "legendgroup": "4",
                "line": {
                  "color": "rgba(255, 161, 90,0.27)"
                },
                "mode": "lines",
                "name": "Epoch 4",
                "xaxis": "x5",
                "yaxis": "y5",
                "type": "scatter",
                "uid": "d14dbea1-7fa9-4ed1-9f2c-bf52293352ae"
              },
              {
                "legendgroup": "4",
                "line": {
                  "color": "rgba(255, 161, 90,0.36)"
                },
                "mode": "lines",
                "name": "Epoch 7",
                "xaxis": "x5",
                "yaxis": "y5",
                "type": "scatter",
                "uid": "90fc5382-d12b-4a2b-a5f2-65aed1ffdb44"
              },
              {
                "legendgroup": "4",
                "line": {
                  "color": "rgba(255, 161, 90,0.44999999999999996)"
                },
                "mode": "lines",
                "name": "Epoch 10",
                "xaxis": "x5",
                "yaxis": "y5",
                "type": "scatter",
                "uid": "eba8237d-8a07-419d-851c-524b73506a8e"
              },
              {
                "legendgroup": "4",
                "line": {
                  "color": "rgba(255, 161, 90,0.54)"
                },
                "mode": "lines",
                "name": "Epoch 13",
                "xaxis": "x5",
                "yaxis": "y5",
                "type": "scatter",
                "uid": "0b9e3291-b7d0-4cc1-963b-acc07f6fcd30"
              },
              {
                "legendgroup": "4",
                "line": {
                  "color": "rgba(255, 161, 90,0.63)"
                },
                "mode": "lines",
                "name": "Epoch 16",
                "xaxis": "x5",
                "yaxis": "y5",
                "type": "scatter",
                "uid": "aeda19c3-13b0-43dd-9b45-43c397f7546e"
              },
              {
                "legendgroup": "4",
                "line": {
                  "color": "rgba(255, 161, 90,0.75)"
                },
                "mode": "lines",
                "name": "Epoch 20",
                "xaxis": "x5",
                "yaxis": "y5",
                "type": "scatter",
                "uid": "8154c500-68ab-425a-b00b-e76ccfd03f43"
              },
              {
                "legendgroup": "5",
                "line": {
                  "color": "rgba(25, 211, 243,0.18)"
                },
                "mode": "lines",
                "name": "Epoch 1",
                "xaxis": "x6",
                "yaxis": "y6",
                "type": "scatter",
                "uid": "e95fa705-6f75-4f3f-8211-c7984df55b67"
              },
              {
                "legendgroup": "5",
                "line": {
                  "color": "rgba(25, 211, 243,0.27)"
                },
                "mode": "lines",
                "name": "Epoch 4",
                "xaxis": "x6",
                "yaxis": "y6",
                "type": "scatter",
                "uid": "cb91f00b-10de-4dc8-9dc3-922c83330736"
              },
              {
                "legendgroup": "5",
                "line": {
                  "color": "rgba(25, 211, 243,0.36)"
                },
                "mode": "lines",
                "name": "Epoch 7",
                "xaxis": "x6",
                "yaxis": "y6",
                "type": "scatter",
                "uid": "31c835e8-6978-4831-88bf-0fb28e24705d"
              },
              {
                "legendgroup": "5",
                "line": {
                  "color": "rgba(25, 211, 243,0.44999999999999996)"
                },
                "mode": "lines",
                "name": "Epoch 10",
                "xaxis": "x6",
                "yaxis": "y6",
                "type": "scatter",
                "uid": "193909a2-4fbc-4d6a-b706-b7dfc810d906"
              },
              {
                "legendgroup": "5",
                "line": {
                  "color": "rgba(25, 211, 243,0.54)"
                },
                "mode": "lines",
                "name": "Epoch 13",
                "xaxis": "x6",
                "yaxis": "y6",
                "type": "scatter",
                "uid": "9f9969d1-45bf-436c-9efc-d5ee5a8cb27f"
              },
              {
                "legendgroup": "5",
                "line": {
                  "color": "rgba(25, 211, 243,0.63)"
                },
                "mode": "lines",
                "name": "Epoch 16",
                "xaxis": "x6",
                "yaxis": "y6",
                "type": "scatter",
                "uid": "dfce3998-6d1a-489f-b7da-b840dccd6240"
              },
              {
                "legendgroup": "5",
                "line": {
                  "color": "rgba(25, 211, 243,0.75)"
                },
                "mode": "lines",
                "name": "Epoch 20",
                "xaxis": "x6",
                "yaxis": "y6",
                "type": "scatter",
                "uid": "e1c55eb0-b13b-484c-a592-0125d2bf78e1"
              }
            ],
            "_dom_classes": [],
            "_js2py_layoutDelta": null,
            "_js2py_pointsCallback": {},
            "_js2py_relayout": {},
            "_js2py_restyle": {},
            "_js2py_traceDeltas": null,
            "_js2py_update": {},
            "_last_layout_edit_id": 84,
            "_last_trace_edit_id": 84,
            "_layout": {
              "annotations": [
                {
                  "font": {
                    "size": 16
                  },
                  "showarrow": false,
                  "text": "Linear layer 0",
                  "x": 0.14444444444444446,
                  "xanchor": "center",
                  "xref": "paper",
                  "y": 1,
                  "yanchor": "bottom",
                  "yref": "paper"
                },
                {
                  "font": {
                    "size": 16
                  },
                  "showarrow": false,
                  "text": "Linear layer 1",
                  "x": 0.5,
                  "xanchor": "center",
                  "xref": "paper",
                  "y": 1,
                  "yanchor": "bottom",
                  "yref": "paper"
                },
                {
                  "font": {
                    "size": 16
                  },
                  "showarrow": false,
                  "text": "Linear layer 2",
                  "x": 0.8555555555555556,
                  "xanchor": "center",
                  "xref": "paper",
                  "y": 1,
                  "yanchor": "bottom",
                  "yref": "paper"
                },
                {
                  "font": {
                    "size": 16
                  },
                  "showarrow": false,
                  "text": "Linear layer 3",
                  "x": 0.14444444444444446,
                  "xanchor": "center",
                  "xref": "paper",
                  "y": 0.45,
                  "yanchor": "bottom",
                  "yref": "paper"
                },
                {
                  "font": {
                    "size": 16
                  },
                  "showarrow": false,
                  "text": "Linear layer 4",
                  "x": 0.5,
                  "xanchor": "center",
                  "xref": "paper",
                  "y": 0.45,
                  "yanchor": "bottom",
                  "yref": "paper"
                },
                {
                  "font": {
                    "size": 16
                  },
                  "showarrow": false,
                  "text": "Linear layer 5",
                  "x": 0.8555555555555556,
                  "xanchor": "center",
                  "xref": "paper",
                  "y": 0.45,
                  "yanchor": "bottom",
                  "yref": "paper"
                }
              ],
              "height": 800,
              "margin": {
                "b": 10,
                "t": 60
              },
              "template": {
                "data": {
                  "barpolar": [
                    {
                      "marker": {
                        "line": {
                          "color": "#E5ECF6",
                          "width": 0.5
                        },
                        "pattern": {
                          "fillmode": "overlay",
                          "size": 10,
                          "solidity": 0.2
                        }
                      },
                      "type": "barpolar"
                    }
                  ],
                  "bar": [
                    {
                      "error_x": {
                        "color": "#2a3f5f"
                      },
                      "error_y": {
                        "color": "#2a3f5f"
                      },
                      "marker": {
                        "line": {
                          "color": "#E5ECF6",
                          "width": 0.5
                        },
                        "pattern": {
                          "fillmode": "overlay",
                          "size": 10,
                          "solidity": 0.2
                        }
                      },
                      "type": "bar"
                    }
                  ],
                  "carpet": [
                    {
                      "aaxis": {
                        "endlinecolor": "#2a3f5f",
                        "gridcolor": "white",
                        "linecolor": "white",
                        "minorgridcolor": "white",
                        "startlinecolor": "#2a3f5f"
                      },
                      "baxis": {
                        "endlinecolor": "#2a3f5f",
                        "gridcolor": "white",
                        "linecolor": "white",
                        "minorgridcolor": "white",
                        "startlinecolor": "#2a3f5f"
                      },
                      "type": "carpet"
                    }
                  ],
                  "choropleth": [
                    {
                      "colorbar": {
                        "outlinewidth": 0,
                        "ticks": ""
                      },
                      "type": "choropleth"
                    }
                  ],
                  "contourcarpet": [
                    {
                      "colorbar": {
                        "outlinewidth": 0,
                        "ticks": ""
                      },
                      "type": "contourcarpet"
                    }
                  ],
                  "contour": [
                    {
                      "colorbar": {
                        "outlinewidth": 0,
                        "ticks": ""
                      },
                      "colorscale": [
                        [
                          0,
                          "#0d0887"
                        ],
                        [
                          0.1111111111111111,
                          "#46039f"
                        ],
                        [
                          0.2222222222222222,
                          "#7201a8"
                        ],
                        [
                          0.3333333333333333,
                          "#9c179e"
                        ],
                        [
                          0.4444444444444444,
                          "#bd3786"
                        ],
                        [
                          0.5555555555555556,
                          "#d8576b"
                        ],
                        [
                          0.6666666666666666,
                          "#ed7953"
                        ],
                        [
                          0.7777777777777778,
                          "#fb9f3a"
                        ],
                        [
                          0.8888888888888888,
                          "#fdca26"
                        ],
                        [
                          1,
                          "#f0f921"
                        ]
                      ],
                      "type": "contour"
                    }
                  ],
                  "heatmapgl": [
                    {
                      "colorbar": {
                        "outlinewidth": 0,
                        "ticks": ""
                      },
                      "colorscale": [
                        [
                          0,
                          "#0d0887"
                        ],
                        [
                          0.1111111111111111,
                          "#46039f"
                        ],
                        [
                          0.2222222222222222,
                          "#7201a8"
                        ],
                        [
                          0.3333333333333333,
                          "#9c179e"
                        ],
                        [
                          0.4444444444444444,
                          "#bd3786"
                        ],
                        [
                          0.5555555555555556,
                          "#d8576b"
                        ],
                        [
                          0.6666666666666666,
                          "#ed7953"
                        ],
                        [
                          0.7777777777777778,
                          "#fb9f3a"
                        ],
                        [
                          0.8888888888888888,
                          "#fdca26"
                        ],
                        [
                          1,
                          "#f0f921"
                        ]
                      ],
                      "type": "heatmapgl"
                    }
                  ],
                  "heatmap": [
                    {
                      "colorbar": {
                        "outlinewidth": 0,
                        "ticks": ""
                      },
                      "colorscale": [
                        [
                          0,
                          "#0d0887"
                        ],
                        [
                          0.1111111111111111,
                          "#46039f"
                        ],
                        [
                          0.2222222222222222,
                          "#7201a8"
                        ],
                        [
                          0.3333333333333333,
                          "#9c179e"
                        ],
                        [
                          0.4444444444444444,
                          "#bd3786"
                        ],
                        [
                          0.5555555555555556,
                          "#d8576b"
                        ],
                        [
                          0.6666666666666666,
                          "#ed7953"
                        ],
                        [
                          0.7777777777777778,
                          "#fb9f3a"
                        ],
                        [
                          0.8888888888888888,
                          "#fdca26"
                        ],
                        [
                          1,
                          "#f0f921"
                        ]
                      ],
                      "type": "heatmap"
                    }
                  ],
                  "histogram2dcontour": [
                    {
                      "colorbar": {
                        "outlinewidth": 0,
                        "ticks": ""
                      },
                      "colorscale": [
                        [
                          0,
                          "#0d0887"
                        ],
                        [
                          0.1111111111111111,
                          "#46039f"
                        ],
                        [
                          0.2222222222222222,
                          "#7201a8"
                        ],
                        [
                          0.3333333333333333,
                          "#9c179e"
                        ],
                        [
                          0.4444444444444444,
                          "#bd3786"
                        ],
                        [
                          0.5555555555555556,
                          "#d8576b"
                        ],
                        [
                          0.6666666666666666,
                          "#ed7953"
                        ],
                        [
                          0.7777777777777778,
                          "#fb9f3a"
                        ],
                        [
                          0.8888888888888888,
                          "#fdca26"
                        ],
                        [
                          1,
                          "#f0f921"
                        ]
                      ],
                      "type": "histogram2dcontour"
                    }
                  ],
                  "histogram2d": [
                    {
                      "colorbar": {
                        "outlinewidth": 0,
                        "ticks": ""
                      },
                      "colorscale": [
                        [
                          0,
                          "#0d0887"
                        ],
                        [
                          0.1111111111111111,
                          "#46039f"
                        ],
                        [
                          0.2222222222222222,
                          "#7201a8"
                        ],
                        [
                          0.3333333333333333,
                          "#9c179e"
                        ],
                        [
                          0.4444444444444444,
                          "#bd3786"
                        ],
                        [
                          0.5555555555555556,
                          "#d8576b"
                        ],
                        [
                          0.6666666666666666,
                          "#ed7953"
                        ],
                        [
                          0.7777777777777778,
                          "#fb9f3a"
                        ],
                        [
                          0.8888888888888888,
                          "#fdca26"
                        ],
                        [
                          1,
                          "#f0f921"
                        ]
                      ],
                      "type": "histogram2d"
                    }
                  ],
                  "histogram": [
                    {
                      "marker": {
                        "pattern": {
                          "fillmode": "overlay",
                          "size": 10,
                          "solidity": 0.2
                        }
                      },
                      "type": "histogram"
                    }
                  ],
                  "mesh3d": [
                    {
                      "colorbar": {
                        "outlinewidth": 0,
                        "ticks": ""
                      },
                      "type": "mesh3d"
                    }
                  ],
                  "parcoords": [
                    {
                      "line": {
                        "colorbar": {
                          "outlinewidth": 0,
                          "ticks": ""
                        }
                      },
                      "type": "parcoords"
                    }
                  ],
                  "pie": [
                    {
                      "automargin": true,
                      "type": "pie"
                    }
                  ],
                  "scatter3d": [
                    {
                      "line": {
                        "colorbar": {
                          "outlinewidth": 0,
                          "ticks": ""
                        }
                      },
                      "marker": {
                        "colorbar": {
                          "outlinewidth": 0,
                          "ticks": ""
                        }
                      },
                      "type": "scatter3d"
                    }
                  ],
                  "scattercarpet": [
                    {
                      "marker": {
                        "colorbar": {
                          "outlinewidth": 0,
                          "ticks": ""
                        }
                      },
                      "type": "scattercarpet"
                    }
                  ],
                  "scattergeo": [
                    {
                      "marker": {
                        "colorbar": {
                          "outlinewidth": 0,
                          "ticks": ""
                        }
                      },
                      "type": "scattergeo"
                    }
                  ],
                  "scattergl": [
                    {
                      "marker": {
                        "colorbar": {
                          "outlinewidth": 0,
                          "ticks": ""
                        }
                      },
                      "type": "scattergl"
                    }
                  ],
                  "scattermapbox": [
                    {
                      "marker": {
                        "colorbar": {
                          "outlinewidth": 0,
                          "ticks": ""
                        }
                      },
                      "type": "scattermapbox"
                    }
                  ],
                  "scatterpolargl": [
                    {
                      "marker": {
                        "colorbar": {
                          "outlinewidth": 0,
                          "ticks": ""
                        }
                      },
                      "type": "scatterpolargl"
                    }
                  ],
                  "scatterpolar": [
                    {
                      "marker": {
                        "colorbar": {
                          "outlinewidth": 0,
                          "ticks": ""
                        }
                      },
                      "type": "scatterpolar"
                    }
                  ],
                  "scatter": [
                    {
                      "fillpattern": {
                        "fillmode": "overlay",
                        "size": 10,
                        "solidity": 0.2
                      },
                      "type": "scatter"
                    }
                  ],
                  "scatterternary": [
                    {
                      "marker": {
                        "colorbar": {
                          "outlinewidth": 0,
                          "ticks": ""
                        }
                      },
                      "type": "scatterternary"
                    }
                  ],
                  "surface": [
                    {
                      "colorbar": {
                        "outlinewidth": 0,
                        "ticks": ""
                      },
                      "colorscale": [
                        [
                          0,
                          "#0d0887"
                        ],
                        [
                          0.1111111111111111,
                          "#46039f"
                        ],
                        [
                          0.2222222222222222,
                          "#7201a8"
                        ],
                        [
                          0.3333333333333333,
                          "#9c179e"
                        ],
                        [
                          0.4444444444444444,
                          "#bd3786"
                        ],
                        [
                          0.5555555555555556,
                          "#d8576b"
                        ],
                        [
                          0.6666666666666666,
                          "#ed7953"
                        ],
                        [
                          0.7777777777777778,
                          "#fb9f3a"
                        ],
                        [
                          0.8888888888888888,
                          "#fdca26"
                        ],
                        [
                          1,
                          "#f0f921"
                        ]
                      ],
                      "type": "surface"
                    }
                  ],
                  "table": [
                    {
                      "cells": {
                        "fill": {
                          "color": "#EBF0F8"
                        },
                        "line": {
                          "color": "white"
                        }
                      },
                      "header": {
                        "fill": {
                          "color": "#C8D4E3"
                        },
                        "line": {
                          "color": "white"
                        }
                      },
                      "type": "table"
                    }
                  ]
                },
                "layout": {
                  "annotationdefaults": {
                    "arrowcolor": "#2a3f5f",
                    "arrowhead": 0,
                    "arrowwidth": 1
                  },
                  "autotypenumbers": "strict",
                  "coloraxis": {
                    "colorbar": {
                      "outlinewidth": 0,
                      "ticks": ""
                    }
                  },
                  "colorscale": {
                    "diverging": [
                      [
                        0,
                        "#8e0152"
                      ],
                      [
                        0.1,
                        "#c51b7d"
                      ],
                      [
                        0.2,
                        "#de77ae"
                      ],
                      [
                        0.3,
                        "#f1b6da"
                      ],
                      [
                        0.4,
                        "#fde0ef"
                      ],
                      [
                        0.5,
                        "#f7f7f7"
                      ],
                      [
                        0.6,
                        "#e6f5d0"
                      ],
                      [
                        0.7,
                        "#b8e186"
                      ],
                      [
                        0.8,
                        "#7fbc41"
                      ],
                      [
                        0.9,
                        "#4d9221"
                      ],
                      [
                        1,
                        "#276419"
                      ]
                    ],
                    "sequential": [
                      [
                        0,
                        "#0d0887"
                      ],
                      [
                        0.1111111111111111,
                        "#46039f"
                      ],
                      [
                        0.2222222222222222,
                        "#7201a8"
                      ],
                      [
                        0.3333333333333333,
                        "#9c179e"
                      ],
                      [
                        0.4444444444444444,
                        "#bd3786"
                      ],
                      [
                        0.5555555555555556,
                        "#d8576b"
                      ],
                      [
                        0.6666666666666666,
                        "#ed7953"
                      ],
                      [
                        0.7777777777777778,
                        "#fb9f3a"
                      ],
                      [
                        0.8888888888888888,
                        "#fdca26"
                      ],
                      [
                        1,
                        "#f0f921"
                      ]
                    ],
                    "sequentialminus": [
                      [
                        0,
                        "#0d0887"
                      ],
                      [
                        0.1111111111111111,
                        "#46039f"
                      ],
                      [
                        0.2222222222222222,
                        "#7201a8"
                      ],
                      [
                        0.3333333333333333,
                        "#9c179e"
                      ],
                      [
                        0.4444444444444444,
                        "#bd3786"
                      ],
                      [
                        0.5555555555555556,
                        "#d8576b"
                      ],
                      [
                        0.6666666666666666,
                        "#ed7953"
                      ],
                      [
                        0.7777777777777778,
                        "#fb9f3a"
                      ],
                      [
                        0.8888888888888888,
                        "#fdca26"
                      ],
                      [
                        1,
                        "#f0f921"
                      ]
                    ]
                  },
                  "colorway": [
                    "#636efa",
                    "#EF553B",
                    "#00cc96",
                    "#ab63fa",
                    "#FFA15A",
                    "#19d3f3",
                    "#FF6692",
                    "#B6E880",
                    "#FF97FF",
                    "#FECB52"
                  ],
                  "font": {
                    "color": "#2a3f5f"
                  },
                  "geo": {
                    "bgcolor": "white",
                    "lakecolor": "white",
                    "landcolor": "#E5ECF6",
                    "showlakes": true,
                    "showland": true,
                    "subunitcolor": "white"
                  },
                  "hoverlabel": {
                    "align": "left"
                  },
                  "hovermode": "closest",
                  "mapbox": {
                    "style": "light"
                  },
                  "paper_bgcolor": "white",
                  "plot_bgcolor": "#E5ECF6",
                  "polar": {
                    "angularaxis": {
                      "gridcolor": "white",
                      "linecolor": "white",
                      "ticks": ""
                    },
                    "bgcolor": "#E5ECF6",
                    "radialaxis": {
                      "gridcolor": "white",
                      "linecolor": "white",
                      "ticks": ""
                    }
                  },
                  "scene": {
                    "xaxis": {
                      "backgroundcolor": "#E5ECF6",
                      "gridcolor": "white",
                      "gridwidth": 2,
                      "linecolor": "white",
                      "showbackground": true,
                      "ticks": "",
                      "zerolinecolor": "white"
                    },
                    "yaxis": {
                      "backgroundcolor": "#E5ECF6",
                      "gridcolor": "white",
                      "gridwidth": 2,
                      "linecolor": "white",
                      "showbackground": true,
                      "ticks": "",
                      "zerolinecolor": "white"
                    },
                    "zaxis": {
                      "backgroundcolor": "#E5ECF6",
                      "gridcolor": "white",
                      "gridwidth": 2,
                      "linecolor": "white",
                      "showbackground": true,
                      "ticks": "",
                      "zerolinecolor": "white"
                    }
                  },
                  "shapedefaults": {
                    "line": {
                      "color": "#2a3f5f"
                    }
                  },
                  "ternary": {
                    "aaxis": {
                      "gridcolor": "white",
                      "linecolor": "white",
                      "ticks": ""
                    },
                    "baxis": {
                      "gridcolor": "white",
                      "linecolor": "white",
                      "ticks": ""
                    },
                    "bgcolor": "#E5ECF6",
                    "caxis": {
                      "gridcolor": "white",
                      "linecolor": "white",
                      "ticks": ""
                    }
                  },
                  "title": {
                    "x": 0.05
                  },
                  "xaxis": {
                    "automargin": true,
                    "gridcolor": "white",
                    "linecolor": "white",
                    "ticks": "",
                    "title": {
                      "standoff": 15
                    },
                    "zerolinecolor": "white",
                    "zerolinewidth": 2
                  },
                  "yaxis": {
                    "automargin": true,
                    "gridcolor": "white",
                    "linecolor": "white",
                    "ticks": "",
                    "title": {
                      "standoff": 15
                    },
                    "zerolinecolor": "white",
                    "zerolinewidth": 2
                  }
                }
              },
              "title": {
                "text": "Comparison between epochs of gradient distributions in layers",
                "x": 0.5
              },
              "width": 1500,
              "xaxis": {
                "anchor": "y",
                "domain": [
                  0,
                  0.2888888888888889
                ],
                "range": [
                  -0.1,
                  0.1
                ],
                "title": {
                  "text": "Gradient value"
                }
              },
              "yaxis": {
                "anchor": "x",
                "domain": [
                  0.55,
                  1
                ],
                "title": {
                  "text": "Density (log scale)"
                },
                "type": "log"
              },
              "xaxis2": {
                "anchor": "y2",
                "domain": [
                  0.35555555555555557,
                  0.6444444444444445
                ],
                "range": [
                  -0.1,
                  0.1
                ],
                "title": {
                  "text": "Gradient value"
                }
              },
              "yaxis2": {
                "anchor": "x2",
                "domain": [
                  0.55,
                  1
                ],
                "title": {
                  "text": "Density (log scale)"
                },
                "type": "log"
              },
              "xaxis3": {
                "anchor": "y3",
                "domain": [
                  0.7111111111111111,
                  1
                ],
                "range": [
                  -0.1,
                  0.1
                ],
                "title": {
                  "text": "Gradient value"
                }
              },
              "yaxis3": {
                "anchor": "x3",
                "domain": [
                  0.55,
                  1
                ],
                "title": {
                  "text": "Density (log scale)"
                },
                "type": "log"
              },
              "xaxis4": {
                "anchor": "y4",
                "domain": [
                  0,
                  0.2888888888888889
                ],
                "range": [
                  -0.1,
                  0.1
                ],
                "title": {
                  "text": "Gradient value"
                }
              },
              "yaxis4": {
                "anchor": "x4",
                "domain": [
                  0,
                  0.45
                ],
                "title": {
                  "text": "Density (log scale)"
                },
                "type": "log"
              },
              "xaxis5": {
                "anchor": "y5",
                "domain": [
                  0.35555555555555557,
                  0.6444444444444445
                ],
                "range": [
                  -0.1,
                  0.1
                ],
                "title": {
                  "text": "Gradient value"
                }
              },
              "yaxis5": {
                "anchor": "x5",
                "domain": [
                  0,
                  0.45
                ],
                "title": {
                  "text": "Density (log scale)"
                },
                "type": "log"
              },
              "xaxis6": {
                "anchor": "y6",
                "domain": [
                  0.7111111111111111,
                  1
                ],
                "range": [
                  -0.1,
                  0.1
                ],
                "title": {
                  "text": "Gradient value"
                }
              },
              "yaxis6": {
                "anchor": "x6",
                "domain": [
                  0,
                  0.45
                ],
                "title": {
                  "text": "Density (log scale)"
                },
                "type": "log"
              }
            },
            "_model_module": "jupyterlab-plotly",
            "_model_module_version": "^5.24.1",
            "_model_name": "FigureModel",
            "_py2js_addTraces": {},
            "_py2js_animate": {},
            "_py2js_deleteTraces": {},
            "_py2js_moveTraces": {},
            "_py2js_relayout": {},
            "_py2js_removeLayoutProps": {},
            "_py2js_removeTraceProps": {},
            "_py2js_restyle": null,
            "_py2js_update": {},
            "_view_count": 1,
            "_view_module": "jupyterlab-plotly",
            "_view_module_version": "^5.24.1",
            "_view_name": "FigureView"
          }
        },
        "aa232a6cfb0d4a448682fca3ded60bd1": {
          "model_module": "jupyterlab-plotly",
          "model_name": "FigureModel",
          "model_module_version": "^5.24.1",
          "state": {
            "_config": {
              "plotlyServerURL": "https://plot.ly"
            },
            "_data": [
              {
                "line": {
                  "color": "rgb(99, 110, 250)"
                },
                "mode": "lines",
                "name": "Linear layer 0",
                "showlegend": true,
                "xaxis": "x",
                "yaxis": "y",
                "type": "scatter",
                "uid": "53103ee9-14a3-4fff-89af-3891c1bd69f5"
              },
              {
                "line": {
                  "color": "rgb(239, 85, 59)"
                },
                "mode": "lines",
                "name": "Linear layer 1",
                "showlegend": true,
                "xaxis": "x",
                "yaxis": "y",
                "type": "scatter",
                "uid": "295260a8-5255-40cf-991d-1efe9c790e4b"
              },
              {
                "line": {
                  "color": "rgb(0, 204, 150)"
                },
                "mode": "lines",
                "name": "Linear layer 2",
                "showlegend": true,
                "xaxis": "x",
                "yaxis": "y",
                "type": "scatter",
                "uid": "8dce5f83-bd9e-4599-901f-0845eac65500"
              },
              {
                "line": {
                  "color": "rgb(171, 99, 250)"
                },
                "mode": "lines",
                "name": "Linear layer 3",
                "showlegend": true,
                "xaxis": "x",
                "yaxis": "y",
                "type": "scatter",
                "uid": "28a18cda-23cf-4a3d-b640-a7c091672049"
              },
              {
                "line": {
                  "color": "rgb(255, 161, 90)"
                },
                "mode": "lines",
                "name": "Linear layer 4",
                "showlegend": true,
                "xaxis": "x",
                "yaxis": "y",
                "type": "scatter",
                "uid": "cd151276-222d-4b24-9894-1996e6d75bb1"
              },
              {
                "line": {
                  "color": "rgb(25, 211, 243)"
                },
                "mode": "lines",
                "name": "Linear layer 5",
                "showlegend": true,
                "xaxis": "x",
                "yaxis": "y",
                "type": "scatter",
                "uid": "ab30058d-0a09-42db-acd6-3216fc2ddde1"
              },
              {
                "line": {
                  "color": "rgb(99, 110, 250)"
                },
                "mode": "lines",
                "name": "Linear layer 0",
                "showlegend": false,
                "xaxis": "x2",
                "yaxis": "y2",
                "type": "scatter",
                "uid": "154f6b8c-00dc-496f-ad6c-d9883d98d7b2"
              },
              {
                "line": {
                  "color": "rgb(239, 85, 59)"
                },
                "mode": "lines",
                "name": "Linear layer 1",
                "showlegend": false,
                "xaxis": "x2",
                "yaxis": "y2",
                "type": "scatter",
                "uid": "58314274-1a67-4b59-b85d-b33ab0a676b2"
              },
              {
                "line": {
                  "color": "rgb(0, 204, 150)"
                },
                "mode": "lines",
                "name": "Linear layer 2",
                "showlegend": false,
                "xaxis": "x2",
                "yaxis": "y2",
                "type": "scatter",
                "uid": "16432490-1fd4-4b29-959e-f6d155906b9c"
              },
              {
                "line": {
                  "color": "rgb(171, 99, 250)"
                },
                "mode": "lines",
                "name": "Linear layer 3",
                "showlegend": false,
                "xaxis": "x2",
                "yaxis": "y2",
                "type": "scatter",
                "uid": "573404a7-5a0e-43a6-b71d-ebd8e578c515"
              },
              {
                "line": {
                  "color": "rgb(255, 161, 90)"
                },
                "mode": "lines",
                "name": "Linear layer 4",
                "showlegend": false,
                "xaxis": "x2",
                "yaxis": "y2",
                "type": "scatter",
                "uid": "477a3007-ca96-4fd4-a209-cbcf933247b8"
              },
              {
                "line": {
                  "color": "rgb(25, 211, 243)"
                },
                "mode": "lines",
                "name": "Linear layer 5",
                "showlegend": false,
                "xaxis": "x2",
                "yaxis": "y2",
                "type": "scatter",
                "uid": "26dbe771-3c88-4c40-9b35-31b1568ccdd2"
              },
              {
                "line": {
                  "color": "rgb(99, 110, 250)"
                },
                "mode": "lines",
                "name": "Linear layer 0",
                "showlegend": false,
                "xaxis": "x3",
                "yaxis": "y3",
                "type": "scatter",
                "uid": "bfe7eb6d-927f-47d4-97eb-522c0eca72c4"
              },
              {
                "line": {
                  "color": "rgb(239, 85, 59)"
                },
                "mode": "lines",
                "name": "Linear layer 1",
                "showlegend": false,
                "xaxis": "x3",
                "yaxis": "y3",
                "type": "scatter",
                "uid": "9121fbf6-42db-4d90-b2db-92098199d1fd"
              },
              {
                "line": {
                  "color": "rgb(0, 204, 150)"
                },
                "mode": "lines",
                "name": "Linear layer 2",
                "showlegend": false,
                "xaxis": "x3",
                "yaxis": "y3",
                "type": "scatter",
                "uid": "9ccb7004-94aa-4366-99a9-920ef54265ab"
              },
              {
                "line": {
                  "color": "rgb(171, 99, 250)"
                },
                "mode": "lines",
                "name": "Linear layer 3",
                "showlegend": false,
                "xaxis": "x3",
                "yaxis": "y3",
                "type": "scatter",
                "uid": "18b2d4af-597b-4de5-b69f-9ec1ea8b0a71"
              },
              {
                "line": {
                  "color": "rgb(255, 161, 90)"
                },
                "mode": "lines",
                "name": "Linear layer 4",
                "showlegend": false,
                "xaxis": "x3",
                "yaxis": "y3",
                "type": "scatter",
                "uid": "c78b376f-93dd-4a75-a13d-3d094b6824e3"
              },
              {
                "line": {
                  "color": "rgb(25, 211, 243)"
                },
                "mode": "lines",
                "name": "Linear layer 5",
                "showlegend": false,
                "xaxis": "x3",
                "yaxis": "y3",
                "type": "scatter",
                "uid": "b83b96c0-20f5-4742-b38e-41e4ee26ef97"
              }
            ],
            "_dom_classes": [],
            "_js2py_layoutDelta": null,
            "_js2py_pointsCallback": null,
            "_js2py_relayout": {},
            "_js2py_restyle": {},
            "_js2py_traceDeltas": null,
            "_js2py_update": {},
            "_last_layout_edit_id": 36,
            "_last_trace_edit_id": 36,
            "_layout": {
              "annotations": [
                {
                  "font": {
                    "size": 16
                  },
                  "showarrow": false,
                  "text": "Epoch 1",
                  "x": 0.14444444444444446,
                  "xanchor": "center",
                  "xref": "paper",
                  "y": 1,
                  "yanchor": "bottom",
                  "yref": "paper"
                },
                {
                  "font": {
                    "size": 16
                  },
                  "showarrow": false,
                  "text": "Epoch 11",
                  "x": 0.5,
                  "xanchor": "center",
                  "xref": "paper",
                  "y": 1,
                  "yanchor": "bottom",
                  "yref": "paper"
                },
                {
                  "font": {
                    "size": 16
                  },
                  "showarrow": false,
                  "text": "Epoch 20",
                  "x": 0.8555555555555556,
                  "xanchor": "center",
                  "xref": "paper",
                  "y": 1,
                  "yanchor": "bottom",
                  "yref": "paper"
                }
              ],
              "height": 400,
              "margin": {
                "b": 10,
                "t": 60
              },
              "template": {
                "data": {
                  "barpolar": [
                    {
                      "marker": {
                        "line": {
                          "color": "#E5ECF6",
                          "width": 0.5
                        },
                        "pattern": {
                          "fillmode": "overlay",
                          "size": 10,
                          "solidity": 0.2
                        }
                      },
                      "type": "barpolar"
                    }
                  ],
                  "bar": [
                    {
                      "error_x": {
                        "color": "#2a3f5f"
                      },
                      "error_y": {
                        "color": "#2a3f5f"
                      },
                      "marker": {
                        "line": {
                          "color": "#E5ECF6",
                          "width": 0.5
                        },
                        "pattern": {
                          "fillmode": "overlay",
                          "size": 10,
                          "solidity": 0.2
                        }
                      },
                      "type": "bar"
                    }
                  ],
                  "carpet": [
                    {
                      "aaxis": {
                        "endlinecolor": "#2a3f5f",
                        "gridcolor": "white",
                        "linecolor": "white",
                        "minorgridcolor": "white",
                        "startlinecolor": "#2a3f5f"
                      },
                      "baxis": {
                        "endlinecolor": "#2a3f5f",
                        "gridcolor": "white",
                        "linecolor": "white",
                        "minorgridcolor": "white",
                        "startlinecolor": "#2a3f5f"
                      },
                      "type": "carpet"
                    }
                  ],
                  "choropleth": [
                    {
                      "colorbar": {
                        "outlinewidth": 0,
                        "ticks": ""
                      },
                      "type": "choropleth"
                    }
                  ],
                  "contourcarpet": [
                    {
                      "colorbar": {
                        "outlinewidth": 0,
                        "ticks": ""
                      },
                      "type": "contourcarpet"
                    }
                  ],
                  "contour": [
                    {
                      "colorbar": {
                        "outlinewidth": 0,
                        "ticks": ""
                      },
                      "colorscale": [
                        [
                          0,
                          "#0d0887"
                        ],
                        [
                          0.1111111111111111,
                          "#46039f"
                        ],
                        [
                          0.2222222222222222,
                          "#7201a8"
                        ],
                        [
                          0.3333333333333333,
                          "#9c179e"
                        ],
                        [
                          0.4444444444444444,
                          "#bd3786"
                        ],
                        [
                          0.5555555555555556,
                          "#d8576b"
                        ],
                        [
                          0.6666666666666666,
                          "#ed7953"
                        ],
                        [
                          0.7777777777777778,
                          "#fb9f3a"
                        ],
                        [
                          0.8888888888888888,
                          "#fdca26"
                        ],
                        [
                          1,
                          "#f0f921"
                        ]
                      ],
                      "type": "contour"
                    }
                  ],
                  "heatmapgl": [
                    {
                      "colorbar": {
                        "outlinewidth": 0,
                        "ticks": ""
                      },
                      "colorscale": [
                        [
                          0,
                          "#0d0887"
                        ],
                        [
                          0.1111111111111111,
                          "#46039f"
                        ],
                        [
                          0.2222222222222222,
                          "#7201a8"
                        ],
                        [
                          0.3333333333333333,
                          "#9c179e"
                        ],
                        [
                          0.4444444444444444,
                          "#bd3786"
                        ],
                        [
                          0.5555555555555556,
                          "#d8576b"
                        ],
                        [
                          0.6666666666666666,
                          "#ed7953"
                        ],
                        [
                          0.7777777777777778,
                          "#fb9f3a"
                        ],
                        [
                          0.8888888888888888,
                          "#fdca26"
                        ],
                        [
                          1,
                          "#f0f921"
                        ]
                      ],
                      "type": "heatmapgl"
                    }
                  ],
                  "heatmap": [
                    {
                      "colorbar": {
                        "outlinewidth": 0,
                        "ticks": ""
                      },
                      "colorscale": [
                        [
                          0,
                          "#0d0887"
                        ],
                        [
                          0.1111111111111111,
                          "#46039f"
                        ],
                        [
                          0.2222222222222222,
                          "#7201a8"
                        ],
                        [
                          0.3333333333333333,
                          "#9c179e"
                        ],
                        [
                          0.4444444444444444,
                          "#bd3786"
                        ],
                        [
                          0.5555555555555556,
                          "#d8576b"
                        ],
                        [
                          0.6666666666666666,
                          "#ed7953"
                        ],
                        [
                          0.7777777777777778,
                          "#fb9f3a"
                        ],
                        [
                          0.8888888888888888,
                          "#fdca26"
                        ],
                        [
                          1,
                          "#f0f921"
                        ]
                      ],
                      "type": "heatmap"
                    }
                  ],
                  "histogram2dcontour": [
                    {
                      "colorbar": {
                        "outlinewidth": 0,
                        "ticks": ""
                      },
                      "colorscale": [
                        [
                          0,
                          "#0d0887"
                        ],
                        [
                          0.1111111111111111,
                          "#46039f"
                        ],
                        [
                          0.2222222222222222,
                          "#7201a8"
                        ],
                        [
                          0.3333333333333333,
                          "#9c179e"
                        ],
                        [
                          0.4444444444444444,
                          "#bd3786"
                        ],
                        [
                          0.5555555555555556,
                          "#d8576b"
                        ],
                        [
                          0.6666666666666666,
                          "#ed7953"
                        ],
                        [
                          0.7777777777777778,
                          "#fb9f3a"
                        ],
                        [
                          0.8888888888888888,
                          "#fdca26"
                        ],
                        [
                          1,
                          "#f0f921"
                        ]
                      ],
                      "type": "histogram2dcontour"
                    }
                  ],
                  "histogram2d": [
                    {
                      "colorbar": {
                        "outlinewidth": 0,
                        "ticks": ""
                      },
                      "colorscale": [
                        [
                          0,
                          "#0d0887"
                        ],
                        [
                          0.1111111111111111,
                          "#46039f"
                        ],
                        [
                          0.2222222222222222,
                          "#7201a8"
                        ],
                        [
                          0.3333333333333333,
                          "#9c179e"
                        ],
                        [
                          0.4444444444444444,
                          "#bd3786"
                        ],
                        [
                          0.5555555555555556,
                          "#d8576b"
                        ],
                        [
                          0.6666666666666666,
                          "#ed7953"
                        ],
                        [
                          0.7777777777777778,
                          "#fb9f3a"
                        ],
                        [
                          0.8888888888888888,
                          "#fdca26"
                        ],
                        [
                          1,
                          "#f0f921"
                        ]
                      ],
                      "type": "histogram2d"
                    }
                  ],
                  "histogram": [
                    {
                      "marker": {
                        "pattern": {
                          "fillmode": "overlay",
                          "size": 10,
                          "solidity": 0.2
                        }
                      },
                      "type": "histogram"
                    }
                  ],
                  "mesh3d": [
                    {
                      "colorbar": {
                        "outlinewidth": 0,
                        "ticks": ""
                      },
                      "type": "mesh3d"
                    }
                  ],
                  "parcoords": [
                    {
                      "line": {
                        "colorbar": {
                          "outlinewidth": 0,
                          "ticks": ""
                        }
                      },
                      "type": "parcoords"
                    }
                  ],
                  "pie": [
                    {
                      "automargin": true,
                      "type": "pie"
                    }
                  ],
                  "scatter3d": [
                    {
                      "line": {
                        "colorbar": {
                          "outlinewidth": 0,
                          "ticks": ""
                        }
                      },
                      "marker": {
                        "colorbar": {
                          "outlinewidth": 0,
                          "ticks": ""
                        }
                      },
                      "type": "scatter3d"
                    }
                  ],
                  "scattercarpet": [
                    {
                      "marker": {
                        "colorbar": {
                          "outlinewidth": 0,
                          "ticks": ""
                        }
                      },
                      "type": "scattercarpet"
                    }
                  ],
                  "scattergeo": [
                    {
                      "marker": {
                        "colorbar": {
                          "outlinewidth": 0,
                          "ticks": ""
                        }
                      },
                      "type": "scattergeo"
                    }
                  ],
                  "scattergl": [
                    {
                      "marker": {
                        "colorbar": {
                          "outlinewidth": 0,
                          "ticks": ""
                        }
                      },
                      "type": "scattergl"
                    }
                  ],
                  "scattermapbox": [
                    {
                      "marker": {
                        "colorbar": {
                          "outlinewidth": 0,
                          "ticks": ""
                        }
                      },
                      "type": "scattermapbox"
                    }
                  ],
                  "scatterpolargl": [
                    {
                      "marker": {
                        "colorbar": {
                          "outlinewidth": 0,
                          "ticks": ""
                        }
                      },
                      "type": "scatterpolargl"
                    }
                  ],
                  "scatterpolar": [
                    {
                      "marker": {
                        "colorbar": {
                          "outlinewidth": 0,
                          "ticks": ""
                        }
                      },
                      "type": "scatterpolar"
                    }
                  ],
                  "scatter": [
                    {
                      "fillpattern": {
                        "fillmode": "overlay",
                        "size": 10,
                        "solidity": 0.2
                      },
                      "type": "scatter"
                    }
                  ],
                  "scatterternary": [
                    {
                      "marker": {
                        "colorbar": {
                          "outlinewidth": 0,
                          "ticks": ""
                        }
                      },
                      "type": "scatterternary"
                    }
                  ],
                  "surface": [
                    {
                      "colorbar": {
                        "outlinewidth": 0,
                        "ticks": ""
                      },
                      "colorscale": [
                        [
                          0,
                          "#0d0887"
                        ],
                        [
                          0.1111111111111111,
                          "#46039f"
                        ],
                        [
                          0.2222222222222222,
                          "#7201a8"
                        ],
                        [
                          0.3333333333333333,
                          "#9c179e"
                        ],
                        [
                          0.4444444444444444,
                          "#bd3786"
                        ],
                        [
                          0.5555555555555556,
                          "#d8576b"
                        ],
                        [
                          0.6666666666666666,
                          "#ed7953"
                        ],
                        [
                          0.7777777777777778,
                          "#fb9f3a"
                        ],
                        [
                          0.8888888888888888,
                          "#fdca26"
                        ],
                        [
                          1,
                          "#f0f921"
                        ]
                      ],
                      "type": "surface"
                    }
                  ],
                  "table": [
                    {
                      "cells": {
                        "fill": {
                          "color": "#EBF0F8"
                        },
                        "line": {
                          "color": "white"
                        }
                      },
                      "header": {
                        "fill": {
                          "color": "#C8D4E3"
                        },
                        "line": {
                          "color": "white"
                        }
                      },
                      "type": "table"
                    }
                  ]
                },
                "layout": {
                  "annotationdefaults": {
                    "arrowcolor": "#2a3f5f",
                    "arrowhead": 0,
                    "arrowwidth": 1
                  },
                  "autotypenumbers": "strict",
                  "coloraxis": {
                    "colorbar": {
                      "outlinewidth": 0,
                      "ticks": ""
                    }
                  },
                  "colorscale": {
                    "diverging": [
                      [
                        0,
                        "#8e0152"
                      ],
                      [
                        0.1,
                        "#c51b7d"
                      ],
                      [
                        0.2,
                        "#de77ae"
                      ],
                      [
                        0.3,
                        "#f1b6da"
                      ],
                      [
                        0.4,
                        "#fde0ef"
                      ],
                      [
                        0.5,
                        "#f7f7f7"
                      ],
                      [
                        0.6,
                        "#e6f5d0"
                      ],
                      [
                        0.7,
                        "#b8e186"
                      ],
                      [
                        0.8,
                        "#7fbc41"
                      ],
                      [
                        0.9,
                        "#4d9221"
                      ],
                      [
                        1,
                        "#276419"
                      ]
                    ],
                    "sequential": [
                      [
                        0,
                        "#0d0887"
                      ],
                      [
                        0.1111111111111111,
                        "#46039f"
                      ],
                      [
                        0.2222222222222222,
                        "#7201a8"
                      ],
                      [
                        0.3333333333333333,
                        "#9c179e"
                      ],
                      [
                        0.4444444444444444,
                        "#bd3786"
                      ],
                      [
                        0.5555555555555556,
                        "#d8576b"
                      ],
                      [
                        0.6666666666666666,
                        "#ed7953"
                      ],
                      [
                        0.7777777777777778,
                        "#fb9f3a"
                      ],
                      [
                        0.8888888888888888,
                        "#fdca26"
                      ],
                      [
                        1,
                        "#f0f921"
                      ]
                    ],
                    "sequentialminus": [
                      [
                        0,
                        "#0d0887"
                      ],
                      [
                        0.1111111111111111,
                        "#46039f"
                      ],
                      [
                        0.2222222222222222,
                        "#7201a8"
                      ],
                      [
                        0.3333333333333333,
                        "#9c179e"
                      ],
                      [
                        0.4444444444444444,
                        "#bd3786"
                      ],
                      [
                        0.5555555555555556,
                        "#d8576b"
                      ],
                      [
                        0.6666666666666666,
                        "#ed7953"
                      ],
                      [
                        0.7777777777777778,
                        "#fb9f3a"
                      ],
                      [
                        0.8888888888888888,
                        "#fdca26"
                      ],
                      [
                        1,
                        "#f0f921"
                      ]
                    ]
                  },
                  "colorway": [
                    "#636efa",
                    "#EF553B",
                    "#00cc96",
                    "#ab63fa",
                    "#FFA15A",
                    "#19d3f3",
                    "#FF6692",
                    "#B6E880",
                    "#FF97FF",
                    "#FECB52"
                  ],
                  "font": {
                    "color": "#2a3f5f"
                  },
                  "geo": {
                    "bgcolor": "white",
                    "lakecolor": "white",
                    "landcolor": "#E5ECF6",
                    "showlakes": true,
                    "showland": true,
                    "subunitcolor": "white"
                  },
                  "hoverlabel": {
                    "align": "left"
                  },
                  "hovermode": "closest",
                  "mapbox": {
                    "style": "light"
                  },
                  "paper_bgcolor": "white",
                  "plot_bgcolor": "#E5ECF6",
                  "polar": {
                    "angularaxis": {
                      "gridcolor": "white",
                      "linecolor": "white",
                      "ticks": ""
                    },
                    "bgcolor": "#E5ECF6",
                    "radialaxis": {
                      "gridcolor": "white",
                      "linecolor": "white",
                      "ticks": ""
                    }
                  },
                  "scene": {
                    "xaxis": {
                      "backgroundcolor": "#E5ECF6",
                      "gridcolor": "white",
                      "gridwidth": 2,
                      "linecolor": "white",
                      "showbackground": true,
                      "ticks": "",
                      "zerolinecolor": "white"
                    },
                    "yaxis": {
                      "backgroundcolor": "#E5ECF6",
                      "gridcolor": "white",
                      "gridwidth": 2,
                      "linecolor": "white",
                      "showbackground": true,
                      "ticks": "",
                      "zerolinecolor": "white"
                    },
                    "zaxis": {
                      "backgroundcolor": "#E5ECF6",
                      "gridcolor": "white",
                      "gridwidth": 2,
                      "linecolor": "white",
                      "showbackground": true,
                      "ticks": "",
                      "zerolinecolor": "white"
                    }
                  },
                  "shapedefaults": {
                    "line": {
                      "color": "#2a3f5f"
                    }
                  },
                  "ternary": {
                    "aaxis": {
                      "gridcolor": "white",
                      "linecolor": "white",
                      "ticks": ""
                    },
                    "baxis": {
                      "gridcolor": "white",
                      "linecolor": "white",
                      "ticks": ""
                    },
                    "bgcolor": "#E5ECF6",
                    "caxis": {
                      "gridcolor": "white",
                      "linecolor": "white",
                      "ticks": ""
                    }
                  },
                  "title": {
                    "x": 0.05
                  },
                  "xaxis": {
                    "automargin": true,
                    "gridcolor": "white",
                    "linecolor": "white",
                    "ticks": "",
                    "title": {
                      "standoff": 15
                    },
                    "zerolinecolor": "white",
                    "zerolinewidth": 2
                  },
                  "yaxis": {
                    "automargin": true,
                    "gridcolor": "white",
                    "linecolor": "white",
                    "ticks": "",
                    "title": {
                      "standoff": 15
                    },
                    "zerolinecolor": "white",
                    "zerolinewidth": 2
                  }
                }
              },
              "title": {
                "text": "Comparison between layers of gradient distributions at epochs",
                "x": 0.5
              },
              "width": 1500,
              "xaxis": {
                "anchor": "y",
                "domain": [
                  0,
                  0.2888888888888889
                ],
                "range": [
                  -1,
                  1
                ],
                "title": {
                  "text": "Gradient value"
                }
              },
              "yaxis": {
                "anchor": "x",
                "domain": [
                  0,
                  1
                ],
                "title": {
                  "text": "Density (log scale)"
                },
                "type": "log"
              },
              "xaxis2": {
                "anchor": "y2",
                "domain": [
                  0.35555555555555557,
                  0.6444444444444445
                ],
                "range": [
                  -0.05,
                  0.05
                ],
                "title": {
                  "text": "Gradient value"
                }
              },
              "yaxis2": {
                "anchor": "x2",
                "domain": [
                  0,
                  1
                ],
                "title": {
                  "text": "Density (log scale)"
                },
                "type": "log"
              },
              "xaxis3": {
                "anchor": "y3",
                "domain": [
                  0.7111111111111111,
                  1
                ],
                "range": [
                  -0.05,
                  0.05
                ],
                "title": {
                  "text": "Gradient value"
                }
              },
              "yaxis3": {
                "anchor": "x3",
                "domain": [
                  0,
                  1
                ],
                "title": {
                  "text": "Density (log scale)"
                },
                "type": "log"
              }
            },
            "_model_module": "jupyterlab-plotly",
            "_model_module_version": "^5.24.1",
            "_model_name": "FigureModel",
            "_py2js_addTraces": {},
            "_py2js_animate": {},
            "_py2js_deleteTraces": {},
            "_py2js_moveTraces": {},
            "_py2js_relayout": {},
            "_py2js_removeLayoutProps": {},
            "_py2js_removeTraceProps": {},
            "_py2js_restyle": null,
            "_py2js_update": {},
            "_view_count": 1,
            "_view_module": "jupyterlab-plotly",
            "_view_module_version": "^5.24.1",
            "_view_name": "FigureView"
          }
        }
      }
    }
  },
  "nbformat": 4,
  "nbformat_minor": 0
}