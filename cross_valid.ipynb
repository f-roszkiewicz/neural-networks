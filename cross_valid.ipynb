{
  "nbformat": 4,
  "nbformat_minor": 0,
  "metadata": {
    "kernelspec": {
      "name": "python3",
      "display_name": "Python 3"
    },
    "colab": {
      "provenance": []
    }
  },
  "cells": [
    {
      "cell_type": "markdown",
      "source": [
        "<center><img src='https://drive.google.com/uc?id=1_utx_ZGclmCwNttSe40kYA6VHzNocdET' height=\"60\"></center>\n",
        "\n",
        "AI TECH - Akademia Innowacyjnych Zastosowań Technologii Cyfrowych. Program Operacyjny Polska Cyfrowa na lata 2014-2020\n",
        "<hr>\n",
        "\n",
        "<center><img src='https://drive.google.com/uc?id=1BXZ0u3562N_MqCLcekI-Ens77Kk4LpPm'></center>\n",
        "\n",
        "<center>\n",
        "Projekt współfinansowany ze środków Unii Europejskiej w ramach Europejskiego Funduszu Rozwoju Regionalnego\n",
        "Program Operacyjny Polska Cyfrowa na lata 2014-2020,\n",
        "Oś Priorytetowa nr 3 \"Cyfrowe kompetencje społeczeństwa\" Działanie  nr 3.2 \"Innowacyjne rozwiązania na rzecz aktywizacji cyfrowej\"\n",
        "Tytuł projektu:  „Akademia Innowacyjnych Zastosowań Technologii Cyfrowych (AI Tech)”\n",
        "    </center>"
      ],
      "metadata": {
        "id": "Jrz1Kic6-keH"
      }
    },
    {
      "cell_type": "markdown",
      "metadata": {
        "id": "qMeI3m9u-ZBN"
      },
      "source": [
        "# Validation and cross-validation\n",
        "\n",
        "In this exercise you will implement a validation pipeline.\n",
        "\n",
        "At the end of the MSLE exercise you tested your model against the training and test datasets. As you should observe, there's a gap between the results. By validating your model, not only should you be able to anticipate the test time performance, but also have a method to compare different models.\n",
        "\n",
        "Implement the basic validation method, i.e. a random split. Test it with your model from Exercise MSLE."
      ]
    },
    {
      "cell_type": "code",
      "source": [
        "%matplotlib inline\n",
        "\n",
        "!wget -O mieszkania.csv https://www.dropbox.com/s/zey0gx91pna8irj/mieszkania.csv?dl=1\n",
        "!wget -O mieszkania_test.csv https://www.dropbox.com/s/dbrj6sbxb4ayqjz/mieszkania_test.csv?dl=1"
      ],
      "metadata": {
        "colab": {
          "base_uri": "https://localhost:8080/"
        },
        "id": "tMxpoCCqXXWZ",
        "outputId": "132c2034-1cdd-4b62-be95-923e5f039c2f"
      },
      "execution_count": null,
      "outputs": [
        {
          "output_type": "stream",
          "name": "stdout",
          "text": [
            "--2024-11-03 18:31:28--  https://www.dropbox.com/s/zey0gx91pna8irj/mieszkania.csv?dl=1\n",
            "Resolving www.dropbox.com (www.dropbox.com)... 162.125.5.18, 2620:100:601d:18::a27d:512\n",
            "Connecting to www.dropbox.com (www.dropbox.com)|162.125.5.18|:443... connected.\n",
            "HTTP request sent, awaiting response... 302 Found\n",
            "Location: https://www.dropbox.com/scl/fi/3x5umw93vtxvmp037wczv/mieszkania.csv?rlkey=dmvzaueu361g7s2w6ui6m9ryb&dl=1 [following]\n",
            "--2024-11-03 18:31:29--  https://www.dropbox.com/scl/fi/3x5umw93vtxvmp037wczv/mieszkania.csv?rlkey=dmvzaueu361g7s2w6ui6m9ryb&dl=1\n",
            "Reusing existing connection to www.dropbox.com:443.\n",
            "HTTP request sent, awaiting response... 302 Found\n",
            "Location: https://ucb827ad5fff8446feb31506b301.dl.dropboxusercontent.com/cd/0/inline/CduCQfcTJUi0g5-gHhFvwc1whXy_Rix5MIswDAP6dHkWEUL5VsL_YOjYFJlkUNmMPZkyyAANG8WzNw2McoDu3hhQh7aSMEF3qmMoUa_kE50_fSwBzX3NqDqqh7SYa5fUsdM/file?dl=1# [following]\n",
            "--2024-11-03 18:31:29--  https://ucb827ad5fff8446feb31506b301.dl.dropboxusercontent.com/cd/0/inline/CduCQfcTJUi0g5-gHhFvwc1whXy_Rix5MIswDAP6dHkWEUL5VsL_YOjYFJlkUNmMPZkyyAANG8WzNw2McoDu3hhQh7aSMEF3qmMoUa_kE50_fSwBzX3NqDqqh7SYa5fUsdM/file?dl=1\n",
            "Resolving ucb827ad5fff8446feb31506b301.dl.dropboxusercontent.com (ucb827ad5fff8446feb31506b301.dl.dropboxusercontent.com)... 162.125.5.15, 2620:100:601d:15::a27d:50f\n",
            "Connecting to ucb827ad5fff8446feb31506b301.dl.dropboxusercontent.com (ucb827ad5fff8446feb31506b301.dl.dropboxusercontent.com)|162.125.5.15|:443... connected.\n",
            "HTTP request sent, awaiting response... 200 OK\n",
            "Length: 6211 (6.1K) [application/binary]\n",
            "Saving to: ‘mieszkania.csv’\n",
            "\n",
            "mieszkania.csv      100%[===================>]   6.07K  --.-KB/s    in 0s      \n",
            "\n",
            "2024-11-03 18:31:30 (1.22 GB/s) - ‘mieszkania.csv’ saved [6211/6211]\n",
            "\n",
            "--2024-11-03 18:31:30--  https://www.dropbox.com/s/dbrj6sbxb4ayqjz/mieszkania_test.csv?dl=1\n",
            "Resolving www.dropbox.com (www.dropbox.com)... 162.125.5.18, 2620:100:601d:18::a27d:512\n",
            "Connecting to www.dropbox.com (www.dropbox.com)|162.125.5.18|:443... connected.\n",
            "HTTP request sent, awaiting response... 302 Found\n",
            "Location: https://www.dropbox.com/scl/fi/s7lkqoxzh65w72xl7gh7g/mieszkania_test.csv?rlkey=xn2h80n4zabryg5zfn4si52gf&dl=1 [following]\n",
            "--2024-11-03 18:31:30--  https://www.dropbox.com/scl/fi/s7lkqoxzh65w72xl7gh7g/mieszkania_test.csv?rlkey=xn2h80n4zabryg5zfn4si52gf&dl=1\n",
            "Reusing existing connection to www.dropbox.com:443.\n",
            "HTTP request sent, awaiting response... 302 Found\n",
            "Location: https://uca0268f9f911327334007061a7d.dl.dropboxusercontent.com/cd/0/inline/CdtS8h35g_swmCxQYCVIPxTF0HAZAGDgTA0MIWOq3-obEmh_CeAOsmkIMqG7EJAuitHwVQf8GQvCocYlCpLr_MMkFX2g9M_cgBIbvwqc2HcDDEM0k_EyYhtLU0fXKM6aOVs/file?dl=1# [following]\n",
            "--2024-11-03 18:31:30--  https://uca0268f9f911327334007061a7d.dl.dropboxusercontent.com/cd/0/inline/CdtS8h35g_swmCxQYCVIPxTF0HAZAGDgTA0MIWOq3-obEmh_CeAOsmkIMqG7EJAuitHwVQf8GQvCocYlCpLr_MMkFX2g9M_cgBIbvwqc2HcDDEM0k_EyYhtLU0fXKM6aOVs/file?dl=1\n",
            "Resolving uca0268f9f911327334007061a7d.dl.dropboxusercontent.com (uca0268f9f911327334007061a7d.dl.dropboxusercontent.com)... 162.125.5.15, 2620:100:601d:15::a27d:50f\n",
            "Connecting to uca0268f9f911327334007061a7d.dl.dropboxusercontent.com (uca0268f9f911327334007061a7d.dl.dropboxusercontent.com)|162.125.5.15|:443... connected.\n",
            "HTTP request sent, awaiting response... 200 OK\n",
            "Length: 6247 (6.1K) [application/binary]\n",
            "Saving to: ‘mieszkania_test.csv’\n",
            "\n",
            "mieszkania_test.csv 100%[===================>]   6.10K  --.-KB/s    in 0s      \n",
            "\n",
            "2024-11-03 18:31:31 (1.23 GB/s) - ‘mieszkania_test.csv’ saved [6247/6247]\n",
            "\n"
          ]
        }
      ]
    },
    {
      "cell_type": "code",
      "source": [
        "from typing import Tuple\n",
        "\n",
        "import numpy as np\n",
        "import pandas as pd\n",
        "from sklearn import preprocessing\n",
        "\n",
        "np.random.seed(357)"
      ],
      "metadata": {
        "id": "N-c841bp9InV"
      },
      "execution_count": null,
      "outputs": []
    },
    {
      "cell_type": "code",
      "source": [
        "def load(name: str) -> Tuple[np.ndarray, np.array]:\n",
        "    data = pd.read_csv(name)\n",
        "    x = data.loc[:, data.columns != 'cena'].to_numpy()\n",
        "    y = data['cena'].to_numpy()\n",
        "\n",
        "    return x, y"
      ],
      "metadata": {
        "id": "MNjo9j9EXD84"
      },
      "execution_count": null,
      "outputs": []
    },
    {
      "cell_type": "code",
      "source": [
        "x_train, y_train = load('mieszkania.csv')\n",
        "x_test, y_test = load('mieszkania_test.csv')"
      ],
      "metadata": {
        "id": "uoYy1AU5XD_e"
      },
      "execution_count": null,
      "outputs": []
    },
    {
      "cell_type": "code",
      "source": [
        "labelencoder = preprocessing.LabelEncoder()\n",
        "labelencoder.fit(x_train[:, 1])\n",
        "x_train[:, 1] = labelencoder.transform(x_train[:, 1])\n",
        "x_test[:, 1] = labelencoder.transform(x_test[:, 1])\n",
        "\n",
        "x_train = x_train.astype(np.float64)\n",
        "x_test = x_test.astype(np.float64)"
      ],
      "metadata": {
        "id": "qX2qTiVdXEEb"
      },
      "execution_count": null,
      "outputs": []
    },
    {
      "cell_type": "code",
      "metadata": {
        "id": "Ca0nRHYL-ZBR",
        "colab": {
          "base_uri": "https://localhost:8080/",
          "height": 502
        },
        "outputId": "f2112a44-b0f4-4db7-d765-2989523d6233"
      },
      "source": [
        "import matplotlib.pyplot as plt\n",
        "import random\n",
        "\n",
        "def get_features(dataset):\n",
        "    columns = []\n",
        "\n",
        "    for i in range(6):\n",
        "        for j in range(i, 6):\n",
        "            if i != j:\n",
        "                columns.append([elem[i] * elem[j] for elem in dataset])\n",
        "\n",
        "    columns.append([1 for elem in dataset])\n",
        "\n",
        "    return np.stack(columns, axis=1)\n",
        "\n",
        "x_train_extended = get_features(x_train)\n",
        "x_test_extended = get_features(x_test)\n",
        "\n",
        "def msle(ys, ps):\n",
        "    assert len(ys) == len(ps)\n",
        "\n",
        "    np_ys = np.array(ys)\n",
        "    np_ps = np.array(ps)\n",
        "\n",
        "    return np.mean((np.log(1 + np_ys) - np.log(1 + np_ps))**2)\n",
        "\n",
        "def predict(ws, xs):\n",
        "    return xs @ ws\n",
        "\n",
        "def gradient(ps, xs, ys):\n",
        "    return ((2 * (np.log(1 + ps) - np.log(1 + ys)) / (1 + ps)) @ xs) / np.size(ps)\n",
        "\n",
        "def evaluate(ws, xs, ys):\n",
        "    return msle(ys, predict(ws, xs))\n",
        "\n",
        "def linear_regression(ws, lr, epochs, xs, ys):\n",
        "    subset = random.randint(0, 9)\n",
        "    eval_xs = xs[subset * 20 : (subset + 1) * 20]\n",
        "    eval_ys = ys[subset * 20 : (subset + 1) * 20]\n",
        "    xs = np.delete(xs, np.s_[subset * 20 : (subset + 1) * 20], 0)\n",
        "    ys = np.delete(ys, np.s_[subset * 20 : (subset + 1) * 20], 0)\n",
        "\n",
        "    losses = []\n",
        "\n",
        "    for i in range(epochs):\n",
        "        ws = ws - lr * gradient(predict(ws, xs), xs, ys)\n",
        "        losses.append(evaluate(ws, eval_xs, eval_ys))\n",
        "\n",
        "    return ws, losses\n",
        "\n",
        "weights = np.ones(16)\n",
        "lr = 10\n",
        "n_epochs = 1000\n",
        "\n",
        "trained_weights, losses = linear_regression(weights, lr, n_epochs, x_train_extended, y_train)\n",
        "print(losses[-1])\n",
        "print(evaluate(trained_weights, x_test_extended, y_test))\n",
        "plt.plot(losses)"
      ],
      "execution_count": null,
      "outputs": [
        {
          "output_type": "stream",
          "name": "stdout",
          "text": [
            "0.05551395772848335\n",
            "0.07099902437670695\n"
          ]
        },
        {
          "output_type": "execute_result",
          "data": {
            "text/plain": [
              "[<matplotlib.lines.Line2D at 0x7a512ac503d0>]"
            ]
          },
          "metadata": {},
          "execution_count": 242
        },
        {
          "output_type": "display_data",
          "data": {
            "text/plain": [
              "<Figure size 640x480 with 1 Axes>"
            ],
            "image/png": "[encoded data removed]"
          },
          "metadata": {}
        }
      ]
    },
    {
      "cell_type": "markdown",
      "metadata": {
        "id": "tnnf-KvC-ZBW"
      },
      "source": [
        "To make the random split validation reliable, a huge chunk of training data may be needed. To get over this problem, one may apply cross-validaiton.\n",
        "\n",
        "![alt-text](https://chrisjmccormick.files.wordpress.com/2013/07/10_fold_cv.png)"
      ]
    },
    {
      "cell_type": "markdown",
      "metadata": {
        "id": "sbu4F_h9-ZBX"
      },
      "source": [
        "Let's now implement the method. Make sure that:\n",
        "* number of partitions is a parameter,\n",
        "* the method is not limited to `mieszkania.csv`,\n",
        "* the method is not limited to one specific model."
      ]
    },
    {
      "cell_type": "code",
      "metadata": {
        "id": "dbfmYPOh-ZBY"
      },
      "source": [
        "def gradient_descent(ws, lr, epochs, partition, gradient, predict, loss, xs, ys):\n",
        "    assert len(xs) == len(ys)\n",
        "\n",
        "    fold_size = int(len(xs) / partition)\n",
        "    losses = []\n",
        "    final_loss = 0\n",
        "\n",
        "    for i in range(partition):\n",
        "        eval_xs = xs[i * fold_size : (i + 1) * fold_size]\n",
        "        eval_ys = ys[i * fold_size : (i + 1) * fold_size]\n",
        "        train_xs = np.delete(xs, np.s_[i * fold_size : (i + 1) * fold_size], 0)\n",
        "        train_ys = np.delete(ys, np.s_[i * fold_size : (i + 1) * fold_size], 0)\n",
        "\n",
        "        for j in range(epochs):\n",
        "            ws = ws - lr * gradient(predict(ws, train_xs), train_xs, train_ys)\n",
        "            losses.append(loss(eval_ys, predict(ws, eval_xs)))\n",
        "\n",
        "        final_loss += losses[-1]\n",
        "\n",
        "    final_loss /= partition\n",
        "    losses.append(final_loss)\n",
        "\n",
        "    return ws, losses"
      ],
      "execution_count": null,
      "outputs": []
    },
    {
      "cell_type": "markdown",
      "metadata": {
        "id": "sF2-UXXR-ZBc"
      },
      "source": [
        "Recall that sometimes validation may be tricky, e.g. significant class imbalance, having a small number of subjects, geographically clustered instances...\n",
        "\n",
        "What could in theory go wrong here with random, unstratified partitions? Think about potential solutions and investigate the data in order to check whether these problems arise here."
      ]
    },
    {
      "cell_type": "code",
      "metadata": {
        "id": "bt-y3kUy-ZBe",
        "colab": {
          "base_uri": "https://localhost:8080/",
          "height": 502
        },
        "outputId": "c0dd152f-9205-403a-be4c-040c05cd1981"
      },
      "source": [
        "weights = np.ones(16)\n",
        "lr = 10\n",
        "epochs = 50\n",
        "partitions = 20\n",
        "\n",
        "trained_ws, losses = gradient_descent(weights, lr, epochs, partitions, gradient, predict, msle, x_train_extended, y_train)\n",
        "print(losses[-1])\n",
        "print(evaluate(trained_ws, x_test_extended, y_test))\n",
        "plt.plot(losses)"
      ],
      "execution_count": null,
      "outputs": [
        {
          "output_type": "stream",
          "name": "stdout",
          "text": [
            "0.0489286662698117\n",
            "0.07090298438404707\n"
          ]
        },
        {
          "output_type": "execute_result",
          "data": {
            "text/plain": [
              "[<matplotlib.lines.Line2D at 0x7a51285b5c00>]"
            ]
          },
          "metadata": {},
          "execution_count": 276
        },
        {
          "output_type": "display_data",
          "data": {
            "text/plain": [
              "<Figure size 640x480 with 1 Axes>"
            ],
            "image/png": "[encoded data removed]"
          },
          "metadata": {}
        }
      ]
    },
    {
      "cell_type": "code",
      "source": [],
      "metadata": {
        "id": "tgavgEK4YZkr"
      },
      "execution_count": null,
      "outputs": []
    }
  ]
}