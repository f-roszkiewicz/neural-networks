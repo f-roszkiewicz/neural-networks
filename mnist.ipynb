{
  "cells": [
    {
      "cell_type": "markdown",
      "metadata": {
        "id": "MxW4dJFDfX_a"
      },
      "source": [
        "<center><img src='https://drive.google.com/uc?id=1_utx_ZGclmCwNttSe40kYA6VHzNocdET' height=\"60\"></center>\n",
        "\n",
        "AI TECH - Akademia Innowacyjnych Zastosowań Technologii Cyfrowych. Program Operacyjny Polska Cyfrowa na lata 2014-2020\n",
        "<hr>\n",
        "\n",
        "<center><img src='https://drive.google.com/uc?id=1BXZ0u3562N_MqCLcekI-Ens77Kk4LpPm'></center>\n",
        "\n",
        "<center>\n",
        "Projekt współfinansowany ze środków Unii Europejskiej w ramach Europejskiego Funduszu Rozwoju Regionalnego\n",
        "Program Operacyjny Polska Cyfrowa na lata 2014-2020,\n",
        "Oś Priorytetowa nr 3 \"Cyfrowe kompetencje społeczeństwa\" Działanie  nr 3.2 \"Innowacyjne rozwiązania na rzecz aktywizacji cyfrowej\"\n",
        "Tytuł projektu:  „Akademia Innowacyjnych Zastosowań Technologii Cyfrowych (AI Tech)”\n",
        "    </center>"
      ]
    },
    {
      "cell_type": "markdown",
      "metadata": {
        "id": "gcTwzhX8fBqs"
      },
      "source": [
        "Code based on https://github.com/pytorch/examples/blob/master/mnist/main.py\n",
        "\n",
        "In this exercise, we are using high-level abstractions from torch.nn like nn.Linear.\n",
        "Note: during the next lab session we will go one level deeper and implement more things\n",
        "with bare hands.\n",
        "\n",
        "Tasks:\n",
        "\n",
        " 1. Read the code.\n",
        "\n",
        " 2. Check that the given implementation reaches 95% test accuracy for architecture input-128-128-10 after few epochs.\n",
        "\n",
        " 3. Add the option to use SGD with momentum instead of ADAM.\n",
        "\n",
        " 4. Experiment with different learning rates. Use the provided TrainingVisualizer\n",
        " to plot the learning curves and gradient-to-weight ratios. Compare visualizations\n",
        " for different learning rates for both ADAM and SGD with momentum.\n",
        "\n",
        " 5. Parameterize the constructor by a list of sizes of hidden layers of the MLP.\n",
        " Note that this requires creating a list of layers as an attribute of the Net class,\n",
        " and one can't use a standard Python list containing nn.Modules (why?).\n",
        " Check torch.nn.ModuleList.\n",
        "\n",
        "If you run this notebook locally then you may need to install some packages.\n",
        "It may be achieved by adding the following code cell to the notebook and running it:\n",
        "```\n",
        "!pip install torch torchvision plotly ipywidgets\n",
        "```\n",
        "This notebook can also utilize Colab GPU. However, remember to kill your GPU session after classes as otherwise, you may use all your free GPU time for this week."
      ]
    },
    {
      "cell_type": "code",
      "execution_count": null,
      "metadata": {
        "id": "IYAsziKffBFV"
      },
      "outputs": [],
      "source": [
        "import torch\n",
        "import torch.nn as nn\n",
        "import torch.nn.functional as F\n",
        "import torch.optim as optim\n",
        "from torchvision import datasets, transforms\n",
        "import plotly.graph_objects as go\n",
        "import sys\n",
        "from typing import List\n",
        "\n",
        "if \"google.colab\" in sys.modules:\n",
        "    from google.colab import output\n",
        "\n",
        "    output.enable_custom_widget_manager()"
      ]
    },
    {
      "cell_type": "code",
      "execution_count": null,
      "metadata": {
        "collapsed": true,
        "id": "ThUOOE4c8lAz",
        "cellView": "form"
      },
      "outputs": [],
      "source": [
        "# @title Visualize gradients\n",
        "\n",
        "\n",
        "class TrainingVisualizer:\n",
        "    def __init__(self, log_interval: int = 10):\n",
        "        self.log_interval = log_interval\n",
        "        self.train_loss_fig = self.init_line_plot(\n",
        "            title=\"Training loss\", xaxis_title=\"Step\"\n",
        "        )\n",
        "        self.grad_to_weight_fig = self.init_line_plot(\n",
        "            title=\"Gradient standard deviation to weight standard deviation ratio at 1st layer\",\n",
        "            xaxis_title=\"Step\",\n",
        "            yaxis_title=\"Gradient to weight ratio (log scale)\",\n",
        "            yaxis_type=\"log\",\n",
        "        )\n",
        "        self.test_acc_fig = self.init_line_plot(\n",
        "            title=\"Test accuracy\", x=[], xaxis_title=\"Epoch\", mode=\"lines+markers\"\n",
        "        )\n",
        "\n",
        "        # Parameters related to current tracked model and its training\n",
        "        self.first_linear_layer = None\n",
        "        self.lr = None\n",
        "        self.trace_idx = -1\n",
        "\n",
        "    def init_line_plot(\n",
        "        self,\n",
        "        title: str,\n",
        "        x=None,\n",
        "        xaxis_title: str = None,\n",
        "        yaxis_title: str = None,\n",
        "        yaxis_type: str = \"linear\",\n",
        "        mode: str = \"lines\",\n",
        "    ):\n",
        "        fig = go.Figure()\n",
        "        fig.update_layout(\n",
        "            title=title,\n",
        "            title_x=0.5,\n",
        "            xaxis_title=xaxis_title,\n",
        "            yaxis_title=yaxis_title,\n",
        "            height=400,\n",
        "            width=1500,\n",
        "            margin=dict(b=10, t=60),\n",
        "        )\n",
        "        fig.update_yaxes(type=yaxis_type)\n",
        "        # We cannot add new traces dynamically because Colab has a problem with widgets\n",
        "        # from plotly (traces added dynamically are rendered twice).\n",
        "        # As an ugly workaround we create a lot of empty traces and update them later\n",
        "        # with actual data. Empty traces are not plotted.\n",
        "        for _ in range(25):\n",
        "            fig.add_trace(go.Scatter(x=x, y=[], showlegend=True, mode=mode))\n",
        "\n",
        "        fig_widget = go.FigureWidget(fig)\n",
        "        display(fig_widget)\n",
        "        return fig_widget\n",
        "\n",
        "    def track_model(\n",
        "        self, model: torch.nn.Module, optimizer: torch.optim.Optimizer, lr: float\n",
        "    ):\n",
        "        \"\"\"\n",
        "        Start tracking training metrics for a new model.\n",
        "        \"\"\"\n",
        "\n",
        "        for field in model.__dict__[\"_modules\"].values():\n",
        "            if isinstance(field, nn.Linear):\n",
        "                self.first_linear_layer = field\n",
        "                break\n",
        "            elif isinstance(field, nn.ModuleList):\n",
        "                self.first_linear_layer = field[0]\n",
        "                break\n",
        "\n",
        "        self.lr = lr\n",
        "        self.trace_idx += 1\n",
        "\n",
        "        optim_name = type(optimizer).__name__\n",
        "        self.train_loss_fig.data[self.trace_idx].name = f\"{optim_name}, {lr}\"\n",
        "        self.grad_to_weight_fig.data[self.trace_idx].name = f\"{optim_name}, {lr}\"\n",
        "        self.test_acc_fig.data[self.trace_idx].name = f\"{optim_name}, {lr}\"\n",
        "\n",
        "    def plot_gradients_and_loss(self, batch_idx: int, loss: float):\n",
        "        if batch_idx % self.log_interval == 0:\n",
        "            self.train_loss_fig.data[self.trace_idx].y += (loss,)\n",
        "\n",
        "            layer = self.first_linear_layer\n",
        "            grad_to_weight_ratio = (\n",
        "                self.lr * layer.weight.grad.std() / layer.weight.std()\n",
        "            ).item()\n",
        "\n",
        "            self.grad_to_weight_fig.data[self.trace_idx].y += (grad_to_weight_ratio,)\n",
        "\n",
        "    def plot_accuracy(self, epoch: int, accuracy: float):\n",
        "        self.test_acc_fig.data[self.trace_idx].x += (epoch,)\n",
        "        self.test_acc_fig.data[self.trace_idx].y += (accuracy,)"
      ]
    },
    {
      "cell_type": "code",
      "execution_count": null,
      "metadata": {
        "id": "DMtap4QCfBH8"
      },
      "outputs": [],
      "source": [
        "class Net(nn.Module):\n",
        "    def __init__(self, sizes: List[int]):\n",
        "        super(Net, self).__init__()\n",
        "        # After flattening an image of size 28x28 we have 784 inputs\n",
        "        self.fcs = nn.ModuleList([nn.Linear(x, y) for x, y in zip(sizes[:-1], sizes[1:])])\n",
        "\n",
        "    def forward(self, x: torch.Tensor):\n",
        "        x = torch.flatten(x, 1)\n",
        "        for fc in self.fcs[:-1]:\n",
        "            x = fc(x)\n",
        "            x = F.relu(x)\n",
        "        x = self.fcs[-1](x)\n",
        "        output = F.log_softmax(x, dim=1)\n",
        "        return output\n",
        "\n",
        "\n",
        "def train(\n",
        "    model: torch.nn.Module,\n",
        "    device: torch.device,\n",
        "    train_loader: torch.utils.data.DataLoader,\n",
        "    optimizer: torch.optim.Optimizer,\n",
        "    epoch: int,\n",
        "    log_interval: int,\n",
        "    visualizer: TrainingVisualizer,\n",
        "    verbose: bool = False,\n",
        "):\n",
        "    # Setting the model to train mode makes model.training True.\n",
        "    # This can alter the behavior of modules like Dropout.\n",
        "    # This also applies to sub-modules if they are properly set\n",
        "    # Consider print(model.fc2.training)\n",
        "    # and then\n",
        "    # model.eval() or model.training()\n",
        "    # print(model.fc2.training)\n",
        "    model.train()\n",
        "    assert model.training\n",
        "    for batch_idx, (data, target) in enumerate(train_loader):\n",
        "        # PyTorch will return an error if the model and data are on different devices.\n",
        "        # The two most popular devices are cpu and cuda.\n",
        "        # You can also use .to(torch_tyoe) to change type.\n",
        "        # For example consider data = data.to(torch.float32)\n",
        "        # For more, see https://pytorch.org/docs/stable/tensors.html\n",
        "        data, target = data.to(device), target.to(device)\n",
        "        # Let p be a parameter of our model.\n",
        "        # Initially p.grad should be None.\n",
        "        # After we call loss.backward()\n",
        "        # p.grad() should be populated with (d loss)/(d p)\n",
        "        # optimizer.step() applies the gradient and updates optimizer stats.\n",
        "        # Whereas optimizer.zero_grad() clears the p.grad attribute.\n",
        "        # If we do not call  optimizer.zero_grad() then\n",
        "        # we will accumulate gradients from previous\n",
        "        # calls of loss.backward()\n",
        "        optimizer.zero_grad()\n",
        "        output = model(data)\n",
        "        loss = F.nll_loss(output, target)\n",
        "        loss.backward()\n",
        "        visualizer.plot_gradients_and_loss(batch_idx, loss.item())\n",
        "        optimizer.step()\n",
        "        if batch_idx % log_interval == 0:\n",
        "            if verbose:\n",
        "                print(\n",
        "                    \"Train Epoch: {} [{}/{} ({:.0f}%)]\\tLoss: {:.6f}\".format(\n",
        "                        epoch,\n",
        "                        batch_idx * len(data),\n",
        "                        len(train_loader.dataset),\n",
        "                        100.0 * batch_idx / len(train_loader),\n",
        "                        loss.item(),\n",
        "                    )\n",
        "                )\n",
        "\n",
        "\n",
        "def test(\n",
        "    model: torch.nn.Module,\n",
        "    device: torch.device,\n",
        "    test_loader: torch.utils.data.DataLoader,\n",
        "    epoch: int,\n",
        "    visualizer: TrainingVisualizer,\n",
        "    verbose: bool = False,\n",
        "):\n",
        "    # This makes model.training False\n",
        "    # What alters the behaviour of (sub)modules like Dropout\n",
        "    model.eval()\n",
        "    assert not model.training\n",
        "    test_loss = 0\n",
        "    correct = 0\n",
        "    # This disables gradient calculation.\n",
        "    # By default torch starts tracking calculations (what uses memory)\n",
        "    # for later backpropagation when it comes across a variable\n",
        "    # with requires_grad set to True.\n",
        "    # torch.no_grad prevents this\n",
        "    with torch.no_grad():\n",
        "        for data, target in test_loader:\n",
        "            data, target = data.to(device), target.to(device)\n",
        "            output = model(data)\n",
        "\n",
        "            test_loss += F.nll_loss(\n",
        "                output, target, reduction=\"sum\"\n",
        "            ).item()  # this sum up batch loss, however usually we prefer a mean reduction\n",
        "            pred = output.argmax(\n",
        "                dim=1, keepdim=True\n",
        "            )  # get the index of the max log-probability\n",
        "            correct += pred.eq(target.view_as(pred)).sum().item()\n",
        "\n",
        "    test_loss /= len(test_loader.dataset)\n",
        "\n",
        "    if verbose:\n",
        "        print(\n",
        "            \"\\nTest set: Average loss: {:.4f}, Accuracy: {}/{} ({:.0f}%)\\n\".format(\n",
        "                test_loss,\n",
        "                correct,\n",
        "                len(test_loader.dataset),\n",
        "                100.0 * correct / len(test_loader.dataset),\n",
        "            )\n",
        "        )\n",
        "    visualizer.plot_accuracy(epoch, 100.0 * correct / len(test_loader.dataset))"
      ]
    },
    {
      "cell_type": "code",
      "execution_count": null,
      "metadata": {
        "id": "K5GlMs1-fBKP"
      },
      "outputs": [],
      "source": [
        "# training uses more memory than test due to gradient computation\n",
        "# therefore we can set test_batch_size to be larger\n",
        "batch_size = 256\n",
        "test_batch_size = 1000\n",
        "epochs = 5\n",
        "lr = 1e-2\n",
        "seed = 1\n",
        "log_interval = 10\n",
        "# to check whether a cuda device is available\n",
        "use_cuda = torch.cuda.is_available()"
      ]
    },
    {
      "cell_type": "code",
      "execution_count": null,
      "metadata": {
        "id": "WgfUP23AfBMd"
      },
      "outputs": [],
      "source": [
        "# for reproductibility\n",
        "torch.manual_seed(seed)\n",
        "# if we have cuda capable device (ex, nvidia GPU) then we use it\n",
        "# otherwise we use cpu, there are also other devices like mps,\n",
        "# but their support for operations may be limited\n",
        "device = torch.device(\"cuda\" if use_cuda else \"cpu\")\n",
        "\n",
        "train_kwargs = {\"batch_size\": batch_size}\n",
        "test_kwargs = {\"batch_size\": test_batch_size}\n",
        "if use_cuda:\n",
        "    cuda_kwargs = {\"num_workers\": 1, \"pin_memory\": True, \"shuffle\": True}\n",
        "    train_kwargs.update(cuda_kwargs)\n",
        "    test_kwargs.update(cuda_kwargs)"
      ]
    },
    {
      "cell_type": "code",
      "execution_count": null,
      "metadata": {
        "id": "o0KPoUtsfBOs"
      },
      "outputs": [],
      "source": [
        "# data loader preparation\n",
        "transform = transforms.Compose(\n",
        "    [transforms.ToTensor(), transforms.Normalize((0.1307,), (0.3081,))]\n",
        ")\n",
        "dataset1 = datasets.MNIST(\"../data\", train=True, download=True, transform=transform)\n",
        "dataset2 = datasets.MNIST(\"../data\", train=False, transform=transform)\n",
        "train_loader = torch.utils.data.DataLoader(dataset1, **train_kwargs)\n",
        "test_loader = torch.utils.data.DataLoader(dataset2, **test_kwargs)"
      ]
    },
    {
      "cell_type": "code",
      "execution_count": null,
      "metadata": {
        "id": "5NtsESKX8XrT",
        "colab": {
          "base_uri": "https://localhost:8080/",
          "height": 1000,
          "referenced_widgets": [
            "7a420eb5d8ee41e98ac6a94a45e9069a",
            "776c7ba9039049ec92f7a417c1bf371e",
            "c62be8d716c349bb9f9fc9cde76dc8da"
          ]
        },
        "outputId": "efdd5f66-b977-42ac-ecce-d3bbe46008e9"
      },
      "outputs": [
        {
          "output_type": "display_data",
          "data": {
            "application/vnd.jupyter.widget-view+json": {
              "version_major": 2,
              "version_minor": 0,
              "model_id": "7a420eb5d8ee41e98ac6a94a45e9069a"
            },
            "text/plain": [
              "FigureWidget({\n",
              "    'data': [{'mode': 'lines',\n",
              "              'showlegend': True,\n",
              "              'type': 'scatter',\n",
              "              'uid': '3846d7bb-e0a9-4271-9549-0180a0d1f8bc',\n",
              "              'y': []},\n",
              "             {'mode': 'lines',\n",
              "              'showlegend': True,\n",
              "              'type': 'scatter',\n",
              "              'uid': 'e5132966-7bc3-48c9-8749-b94b139a93ec',\n",
              "              'y': []},\n",
              "             {'mode': 'lines',\n",
              "              'showlegend': True,\n",
              "              'type': 'scatter',\n",
              "              'uid': 'd961eada-6359-455e-ba5b-9ade25a64d0e',\n",
              "              'y': []},\n",
              "             {'mode': 'lines',\n",
              "              'showlegend': True,\n",
              "              'type': 'scatter',\n",
              "              'uid': 'a73814e3-3fc2-4b6d-bac4-9ccc2d1805fe',\n",
              "              'y': []},\n",
              "             {'mode': 'lines',\n",
              "              'showlegend': True,\n",
              "              'type': 'scatter',\n",
              "              'uid': '7b78944c-dff9-428f-bd81-056aa154cb29',\n",
              "              'y': []},\n",
              "             {'mode': 'lines',\n",
              "              'showlegend': True,\n",
              "              'type': 'scatter',\n",
              "              'uid': 'f9ed79af-8f8a-4ab1-8b2a-4e291181a2cb',\n",
              "              'y': []},\n",
              "             {'mode': 'lines',\n",
              "              'showlegend': True,\n",
              "              'type': 'scatter',\n",
              "              'uid': '398e3d28-008e-44da-85e1-1a17e461f17c',\n",
              "              'y': []},\n",
              "             {'mode': 'lines',\n",
              "              'showlegend': True,\n",
              "              'type': 'scatter',\n",
              "              'uid': '0051e576-e620-4248-9c66-4bc85b1edf50',\n",
              "              'y': []},\n",
              "             {'mode': 'lines',\n",
              "              'showlegend': True,\n",
              "              'type': 'scatter',\n",
              "              'uid': '9ec62d8b-0973-476c-b90d-f7fe0b4216c5',\n",
              "              'y': []},\n",
              "             {'mode': 'lines',\n",
              "              'showlegend': True,\n",
              "              'type': 'scatter',\n",
              "              'uid': '5bd95fbc-ebd4-45f6-9c16-edef829fc235',\n",
              "              'y': []},\n",
              "             {'mode': 'lines',\n",
              "              'showlegend': True,\n",
              "              'type': 'scatter',\n",
              "              'uid': '1c590ce3-8855-4dd0-8dd9-52ebfc43cd3d',\n",
              "              'y': []},\n",
              "             {'mode': 'lines',\n",
              "              'showlegend': True,\n",
              "              'type': 'scatter',\n",
              "              'uid': '77afd93b-6e46-4996-b636-59f7d6c01af3',\n",
              "              'y': []},\n",
              "             {'mode': 'lines',\n",
              "              'showlegend': True,\n",
              "              'type': 'scatter',\n",
              "              'uid': '8419399f-46d6-4537-850e-991ea2cb8632',\n",
              "              'y': []},\n",
              "             {'mode': 'lines',\n",
              "              'showlegend': True,\n",
              "              'type': 'scatter',\n",
              "              'uid': 'f3c3db0e-6c20-44fa-87a3-076264c328b5',\n",
              "              'y': []},\n",
              "             {'mode': 'lines',\n",
              "              'showlegend': True,\n",
              "              'type': 'scatter',\n",
              "              'uid': 'e2a472bb-3fbf-47c1-9145-266c7d9b14bb',\n",
              "              'y': []},\n",
              "             {'mode': 'lines',\n",
              "              'showlegend': True,\n",
              "              'type': 'scatter',\n",
              "              'uid': '1ab88cab-f3f3-49ea-b588-4f3af61c958b',\n",
              "              'y': []},\n",
              "             {'mode': 'lines',\n",
              "              'showlegend': True,\n",
              "              'type': 'scatter',\n",
              "              'uid': '0ce9248d-25ae-49fd-beec-fd76ecf1dbe3',\n",
              "              'y': []},\n",
              "             {'mode': 'lines',\n",
              "              'showlegend': True,\n",
              "              'type': 'scatter',\n",
              "              'uid': '066266a9-08f3-42ac-be5e-29481c7bac8a',\n",
              "              'y': []},\n",
              "             {'mode': 'lines',\n",
              "              'showlegend': True,\n",
              "              'type': 'scatter',\n",
              "              'uid': 'ccd45f44-7e99-4577-8ef8-fab20daff59d',\n",
              "              'y': []},\n",
              "             {'mode': 'lines',\n",
              "              'showlegend': True,\n",
              "              'type': 'scatter',\n",
              "              'uid': '31b715f2-4bdc-437f-aeae-4da926b8959d',\n",
              "              'y': []},\n",
              "             {'mode': 'lines',\n",
              "              'showlegend': True,\n",
              "              'type': 'scatter',\n",
              "              'uid': '4311c445-2e58-4534-8018-27dbe189ccf9',\n",
              "              'y': []},\n",
              "             {'mode': 'lines',\n",
              "              'showlegend': True,\n",
              "              'type': 'scatter',\n",
              "              'uid': '2426919b-446f-4b22-b861-e8015b4fa0ad',\n",
              "              'y': []},\n",
              "             {'mode': 'lines',\n",
              "              'showlegend': True,\n",
              "              'type': 'scatter',\n",
              "              'uid': '1a54e371-4e61-47d8-9376-e97e3a07d32c',\n",
              "              'y': []},\n",
              "             {'mode': 'lines',\n",
              "              'showlegend': True,\n",
              "              'type': 'scatter',\n",
              "              'uid': '347465c8-e7ec-4f3c-8c52-74772880be5b',\n",
              "              'y': []},\n",
              "             {'mode': 'lines',\n",
              "              'showlegend': True,\n",
              "              'type': 'scatter',\n",
              "              'uid': '29b923f1-7a06-42eb-a492-f0e543766946',\n",
              "              'y': []}],\n",
              "    'layout': {'height': 400,\n",
              "               'margin': {'b': 10, 't': 60},\n",
              "               'template': '...',\n",
              "               'title': {'text': 'Training loss', 'x': 0.5},\n",
              "               'width': 1500,\n",
              "               'xaxis': {'title': {'text': 'Step'}},\n",
              "               'yaxis': {'type': 'linear'}}\n",
              "})"
            ]
          },
          "metadata": {
            "application/vnd.jupyter.widget-view+json": {
              "colab": {
                "custom_widget_manager": {
                  "url": "https://ssl.gstatic.com/colaboratory-static/widgets/colab-cdn-widget-manager/2b70e893a8ba7c0f/manager.min.js"
                }
              }
            }
          }
        },
        {
          "output_type": "display_data",
          "data": {
            "application/vnd.jupyter.widget-view+json": {
              "version_major": 2,
              "version_minor": 0,
              "model_id": "776c7ba9039049ec92f7a417c1bf371e"
            },
            "text/plain": [
              "FigureWidget({\n",
              "    'data': [{'mode': 'lines',\n",
              "              'showlegend': True,\n",
              "              'type': 'scatter',\n",
              "              'uid': '9deadf1b-6740-4c7d-ba2f-1e4d5c02d602',\n",
              "              'y': []},\n",
              "             {'mode': 'lines',\n",
              "              'showlegend': True,\n",
              "              'type': 'scatter',\n",
              "              'uid': '2f05e8ef-a360-401c-a5f7-371ffd360c06',\n",
              "              'y': []},\n",
              "             {'mode': 'lines',\n",
              "              'showlegend': True,\n",
              "              'type': 'scatter',\n",
              "              'uid': 'f203c359-444e-4d61-b39d-943cfa5f2d5d',\n",
              "              'y': []},\n",
              "             {'mode': 'lines',\n",
              "              'showlegend': True,\n",
              "              'type': 'scatter',\n",
              "              'uid': '1aa1f278-0b01-4345-b595-6856d4a4dd1a',\n",
              "              'y': []},\n",
              "             {'mode': 'lines',\n",
              "              'showlegend': True,\n",
              "              'type': 'scatter',\n",
              "              'uid': '884b3034-ab1b-47a4-a2af-309d87566416',\n",
              "              'y': []},\n",
              "             {'mode': 'lines',\n",
              "              'showlegend': True,\n",
              "              'type': 'scatter',\n",
              "              'uid': 'e78e29fa-b626-40d8-9662-29b0e52a4522',\n",
              "              'y': []},\n",
              "             {'mode': 'lines',\n",
              "              'showlegend': True,\n",
              "              'type': 'scatter',\n",
              "              'uid': '1e8e2790-132b-4fa1-9b28-8122647fe945',\n",
              "              'y': []},\n",
              "             {'mode': 'lines',\n",
              "              'showlegend': True,\n",
              "              'type': 'scatter',\n",
              "              'uid': 'edf6df51-0fbe-4a2c-92e6-a9e53814cb5b',\n",
              "              'y': []},\n",
              "             {'mode': 'lines',\n",
              "              'showlegend': True,\n",
              "              'type': 'scatter',\n",
              "              'uid': '0da68f36-34d4-46ee-877a-25caa1f9e438',\n",
              "              'y': []},\n",
              "             {'mode': 'lines',\n",
              "              'showlegend': True,\n",
              "              'type': 'scatter',\n",
              "              'uid': '0383c7cc-b7a5-404c-b371-4a7a76ed0067',\n",
              "              'y': []},\n",
              "             {'mode': 'lines',\n",
              "              'showlegend': True,\n",
              "              'type': 'scatter',\n",
              "              'uid': '6741610b-9127-4aef-b6db-e326dea7da19',\n",
              "              'y': []},\n",
              "             {'mode': 'lines',\n",
              "              'showlegend': True,\n",
              "              'type': 'scatter',\n",
              "              'uid': 'e2f7328b-fa63-4003-a048-386397a39072',\n",
              "              'y': []},\n",
              "             {'mode': 'lines',\n",
              "              'showlegend': True,\n",
              "              'type': 'scatter',\n",
              "              'uid': '34231cd2-8669-41ec-995a-7c9cf66a2d7d',\n",
              "              'y': []},\n",
              "             {'mode': 'lines',\n",
              "              'showlegend': True,\n",
              "              'type': 'scatter',\n",
              "              'uid': '5b771e40-d0c1-4b7f-9caf-84d67fc36ee2',\n",
              "              'y': []},\n",
              "             {'mode': 'lines',\n",
              "              'showlegend': True,\n",
              "              'type': 'scatter',\n",
              "              'uid': 'd9d5b0b4-e909-4de1-9058-8b9f6eadd955',\n",
              "              'y': []},\n",
              "             {'mode': 'lines',\n",
              "              'showlegend': True,\n",
              "              'type': 'scatter',\n",
              "              'uid': 'f40b4a15-bc23-406e-8ab4-3d7b62554ff8',\n",
              "              'y': []},\n",
              "             {'mode': 'lines',\n",
              "              'showlegend': True,\n",
              "              'type': 'scatter',\n",
              "              'uid': '3fbcb259-b71a-4ae3-92d4-a8fcddafe85b',\n",
              "              'y': []},\n",
              "             {'mode': 'lines',\n",
              "              'showlegend': True,\n",
              "              'type': 'scatter',\n",
              "              'uid': '2d9a9e89-f9d5-4a84-97b1-56af09e45ca8',\n",
              "              'y': []},\n",
              "             {'mode': 'lines',\n",
              "              'showlegend': True,\n",
              "              'type': 'scatter',\n",
              "              'uid': '7b528b9c-f8e7-4da2-a15c-16283e7dd7ba',\n",
              "              'y': []},\n",
              "             {'mode': 'lines',\n",
              "              'showlegend': True,\n",
              "              'type': 'scatter',\n",
              "              'uid': '96b0f2ef-5dd7-4083-a81c-74bdb0b8b3a3',\n",
              "              'y': []},\n",
              "             {'mode': 'lines',\n",
              "              'showlegend': True,\n",
              "              'type': 'scatter',\n",
              "              'uid': '381dfd3d-11a8-49e9-89d6-f0827e52b618',\n",
              "              'y': []},\n",
              "             {'mode': 'lines',\n",
              "              'showlegend': True,\n",
              "              'type': 'scatter',\n",
              "              'uid': '4eae20c8-d59a-4577-af4c-2af22f009b9a',\n",
              "              'y': []},\n",
              "             {'mode': 'lines',\n",
              "              'showlegend': True,\n",
              "              'type': 'scatter',\n",
              "              'uid': 'b39ef9fe-1b10-4a6f-ac71-0c17bb220cd1',\n",
              "              'y': []},\n",
              "             {'mode': 'lines',\n",
              "              'showlegend': True,\n",
              "              'type': 'scatter',\n",
              "              'uid': '1e3f0cef-ce17-4edb-97c2-4bb555388ccc',\n",
              "              'y': []},\n",
              "             {'mode': 'lines',\n",
              "              'showlegend': True,\n",
              "              'type': 'scatter',\n",
              "              'uid': 'b48a525f-0f32-49be-8c54-c45474297bd7',\n",
              "              'y': []}],\n",
              "    'layout': {'height': 400,\n",
              "               'margin': {'b': 10, 't': 60},\n",
              "               'template': '...',\n",
              "               'title': {'text': 'Gradient standard deviation to weight standard deviation ratio at 1st layer', 'x': 0.5},\n",
              "               'width': 1500,\n",
              "               'xaxis': {'title': {'text': 'Step'}},\n",
              "               'yaxis': {'title': {'text': 'Gradient to weight ratio (log scale)'}, 'type': 'log'}}\n",
              "})"
            ]
          },
          "metadata": {
            "application/vnd.jupyter.widget-view+json": {
              "colab": {
                "custom_widget_manager": {
                  "url": "https://ssl.gstatic.com/colaboratory-static/widgets/colab-cdn-widget-manager/2b70e893a8ba7c0f/manager.min.js"
                }
              }
            }
          }
        },
        {
          "output_type": "display_data",
          "data": {
            "application/vnd.jupyter.widget-view+json": {
              "version_major": 2,
              "version_minor": 0,
              "model_id": "c62be8d716c349bb9f9fc9cde76dc8da"
            },
            "text/plain": [
              "FigureWidget({\n",
              "    'data': [{'mode': 'lines+markers',\n",
              "              'showlegend': True,\n",
              "              'type': 'scatter',\n",
              "              'uid': '499e693c-debf-4906-a650-c602b34ff3c8',\n",
              "              'x': [],\n",
              "              'y': []},\n",
              "             {'mode': 'lines+markers',\n",
              "              'showlegend': True,\n",
              "              'type': 'scatter',\n",
              "              'uid': '0a1ce9df-d553-40a7-94d3-bbf56537c7d9',\n",
              "              'x': [],\n",
              "              'y': []},\n",
              "             {'mode': 'lines+markers',\n",
              "              'showlegend': True,\n",
              "              'type': 'scatter',\n",
              "              'uid': '2e2bc30a-a848-4369-9007-c93159ffb2e8',\n",
              "              'x': [],\n",
              "              'y': []},\n",
              "             {'mode': 'lines+markers',\n",
              "              'showlegend': True,\n",
              "              'type': 'scatter',\n",
              "              'uid': '329162bf-38c6-48ba-aa6b-afa0b706032b',\n",
              "              'x': [],\n",
              "              'y': []},\n",
              "             {'mode': 'lines+markers',\n",
              "              'showlegend': True,\n",
              "              'type': 'scatter',\n",
              "              'uid': 'ed2353d2-2e1d-4bfd-8b96-ddf165bcd891',\n",
              "              'x': [],\n",
              "              'y': []},\n",
              "             {'mode': 'lines+markers',\n",
              "              'showlegend': True,\n",
              "              'type': 'scatter',\n",
              "              'uid': '8fc8fed9-dda5-46b7-b4c3-c48caaade77f',\n",
              "              'x': [],\n",
              "              'y': []},\n",
              "             {'mode': 'lines+markers',\n",
              "              'showlegend': True,\n",
              "              'type': 'scatter',\n",
              "              'uid': 'bd97ff02-899d-4444-a683-eb73776d9dd3',\n",
              "              'x': [],\n",
              "              'y': []},\n",
              "             {'mode': 'lines+markers',\n",
              "              'showlegend': True,\n",
              "              'type': 'scatter',\n",
              "              'uid': '40230c72-eb51-4041-a67a-0a8801def310',\n",
              "              'x': [],\n",
              "              'y': []},\n",
              "             {'mode': 'lines+markers',\n",
              "              'showlegend': True,\n",
              "              'type': 'scatter',\n",
              "              'uid': 'a6324827-0fc8-4550-bf7b-faef0b7f7b98',\n",
              "              'x': [],\n",
              "              'y': []},\n",
              "             {'mode': 'lines+markers',\n",
              "              'showlegend': True,\n",
              "              'type': 'scatter',\n",
              "              'uid': '5df44d09-6ffe-4d24-8b80-5ec05bb1be4a',\n",
              "              'x': [],\n",
              "              'y': []},\n",
              "             {'mode': 'lines+markers',\n",
              "              'showlegend': True,\n",
              "              'type': 'scatter',\n",
              "              'uid': '380a9fae-5974-486b-a21a-d5eca6ac4f36',\n",
              "              'x': [],\n",
              "              'y': []},\n",
              "             {'mode': 'lines+markers',\n",
              "              'showlegend': True,\n",
              "              'type': 'scatter',\n",
              "              'uid': 'e8ce5778-2545-456a-acc6-13acaa41f5b3',\n",
              "              'x': [],\n",
              "              'y': []},\n",
              "             {'mode': 'lines+markers',\n",
              "              'showlegend': True,\n",
              "              'type': 'scatter',\n",
              "              'uid': '2f84beb4-882a-47c1-92b7-6352d0f1efb7',\n",
              "              'x': [],\n",
              "              'y': []},\n",
              "             {'mode': 'lines+markers',\n",
              "              'showlegend': True,\n",
              "              'type': 'scatter',\n",
              "              'uid': '10d7a653-be30-4ab1-b206-39921c2322e4',\n",
              "              'x': [],\n",
              "              'y': []},\n",
              "             {'mode': 'lines+markers',\n",
              "              'showlegend': True,\n",
              "              'type': 'scatter',\n",
              "              'uid': '18610655-fe51-4c4d-b4fa-91aad962f1bd',\n",
              "              'x': [],\n",
              "              'y': []},\n",
              "             {'mode': 'lines+markers',\n",
              "              'showlegend': True,\n",
              "              'type': 'scatter',\n",
              "              'uid': 'ed5835e6-5068-4235-b471-370569b6d9fa',\n",
              "              'x': [],\n",
              "              'y': []},\n",
              "             {'mode': 'lines+markers',\n",
              "              'showlegend': True,\n",
              "              'type': 'scatter',\n",
              "              'uid': 'c5c4e23d-35a6-485e-9bb4-fc416e9d5377',\n",
              "              'x': [],\n",
              "              'y': []},\n",
              "             {'mode': 'lines+markers',\n",
              "              'showlegend': True,\n",
              "              'type': 'scatter',\n",
              "              'uid': '60e9f223-cb1b-4f01-a099-9a8054512383',\n",
              "              'x': [],\n",
              "              'y': []},\n",
              "             {'mode': 'lines+markers',\n",
              "              'showlegend': True,\n",
              "              'type': 'scatter',\n",
              "              'uid': '17936f51-fc38-47f6-8d0f-4c8ba72a695f',\n",
              "              'x': [],\n",
              "              'y': []},\n",
              "             {'mode': 'lines+markers',\n",
              "              'showlegend': True,\n",
              "              'type': 'scatter',\n",
              "              'uid': 'bda0b4f8-e97c-429e-96d0-1707a0ff770e',\n",
              "              'x': [],\n",
              "              'y': []},\n",
              "             {'mode': 'lines+markers',\n",
              "              'showlegend': True,\n",
              "              'type': 'scatter',\n",
              "              'uid': '227e5c97-4d04-4b3d-96c8-84231a1e8e6e',\n",
              "              'x': [],\n",
              "              'y': []},\n",
              "             {'mode': 'lines+markers',\n",
              "              'showlegend': True,\n",
              "              'type': 'scatter',\n",
              "              'uid': '5fa6bfeb-41b5-4289-bfa8-59b6833138ce',\n",
              "              'x': [],\n",
              "              'y': []},\n",
              "             {'mode': 'lines+markers',\n",
              "              'showlegend': True,\n",
              "              'type': 'scatter',\n",
              "              'uid': '924796f2-084f-4c31-ab82-086bd816e4f7',\n",
              "              'x': [],\n",
              "              'y': []},\n",
              "             {'mode': 'lines+markers',\n",
              "              'showlegend': True,\n",
              "              'type': 'scatter',\n",
              "              'uid': '89f85839-ddf7-446a-bbd2-6dfefb8a0832',\n",
              "              'x': [],\n",
              "              'y': []},\n",
              "             {'mode': 'lines+markers',\n",
              "              'showlegend': True,\n",
              "              'type': 'scatter',\n",
              "              'uid': 'cea6e00e-4c7a-46a2-90a1-b76de4c5adc8',\n",
              "              'x': [],\n",
              "              'y': []}],\n",
              "    'layout': {'height': 400,\n",
              "               'margin': {'b': 10, 't': 60},\n",
              "               'template': '...',\n",
              "               'title': {'text': 'Test accuracy', 'x': 0.5},\n",
              "               'width': 1500,\n",
              "               'xaxis': {'title': {'text': 'Epoch'}},\n",
              "               'yaxis': {'type': 'linear'}}\n",
              "})"
            ]
          },
          "metadata": {
            "application/vnd.jupyter.widget-view+json": {
              "colab": {
                "custom_widget_manager": {
                  "url": "https://ssl.gstatic.com/colaboratory-static/widgets/colab-cdn-widget-manager/2b70e893a8ba7c0f/manager.min.js"
                }
              }
            }
          }
        }
      ],
      "source": [
        "visualizer = TrainingVisualizer(log_interval=log_interval)"
      ]
    },
    {
      "cell_type": "code",
      "execution_count": null,
      "metadata": {
        "id": "ezvIQbgsfBRT"
      },
      "outputs": [],
      "source": [
        "# Note that there is a difference between taking tensor to device and model to device.\n",
        "# Consider writing model.to(torch.device(\"cpu\")) and some_tesnor.to(torch.device(\"cpu\"))\n",
        "# What seems to be happening in-place?\n",
        "model = Net([784, 128, 128, 10]).to(device)\n",
        "# Look at the output of list(model.parameters()) as you add new parameters to the model\n",
        "# What happens when the parameters are inside the standard list instead of torch.nn.ModuleList?\n",
        "optimizer = optim.Adam(model.parameters(), lr=0.001)\n",
        "optimizer = optim.SGD(model.parameters(), lr=0.1, momentum=0.9)\n",
        "visualizer.track_model(model, optimizer, lr)\n",
        "\n",
        "print_details = False  # change if you want additional output\n",
        "\n",
        "for epoch in range(1, epochs + 1):\n",
        "    train(\n",
        "        model,\n",
        "        device,\n",
        "        train_loader,\n",
        "        optimizer,\n",
        "        epoch,\n",
        "        log_interval,\n",
        "        visualizer,\n",
        "        verbose=print_details,\n",
        "    )\n",
        "    test(model, device, test_loader, epoch, visualizer, verbose=print_details)\n",
        "\n",
        "# investigate the results, what is the shape of test accuracy curve? Try to explain it."
      ]
    }
  ],
  "metadata": {
    "colab": {
      "provenance": [],
      "gpuType": "T4"
    },
    "kernelspec": {
      "display_name": "Python 3",
      "name": "python3"
    },
    "language_info": {
      "codemirror_mode": {
        "name": "ipython",
        "version": 3
      },
      "file_extension": ".py",
      "mimetype": "text/x-python",
      "name": "python",
      "nbconvert_exporter": "python",
      "pygments_lexer": "ipython3",
      "version": "3.12.3"
    },
    "accelerator": "GPU",
    "widgets": {
      "application/vnd.jupyter.widget-state+json": {
        "7a420eb5d8ee41e98ac6a94a45e9069a": {
          "model_module": "jupyterlab-plotly",
          "model_name": "FigureModel",
          "model_module_version": "^5.24.1",
          "state": {
            "_config": {
              "plotlyServerURL": "https://plot.ly"
            },
            "_data": [
              {
                "mode": "lines",
                "showlegend": true,
                "y": [],
                "type": "scatter",
                "uid": "3846d7bb-e0a9-4271-9549-0180a0d1f8bc"
              },
              {
                "mode": "lines",
                "showlegend": true,
                "y": [],
                "type": "scatter",
                "uid": "e5132966-7bc3-48c9-8749-b94b139a93ec"
              },
              {
                "mode": "lines",
                "showlegend": true,
                "y": [],
                "type": "scatter",
                "uid": "d961eada-6359-455e-ba5b-9ade25a64d0e"
              },
              {
                "mode": "lines",
                "showlegend": true,
                "y": [],
                "type": "scatter",
                "uid": "a73814e3-3fc2-4b6d-bac4-9ccc2d1805fe"
              },
              {
                "mode": "lines",
                "showlegend": true,
                "y": [],
                "type": "scatter",
                "uid": "7b78944c-dff9-428f-bd81-056aa154cb29"
              },
              {
                "mode": "lines",
                "showlegend": true,
                "y": [],
                "type": "scatter",
                "uid": "f9ed79af-8f8a-4ab1-8b2a-4e291181a2cb"
              },
              {
                "mode": "lines",
                "showlegend": true,
                "y": [],
                "type": "scatter",
                "uid": "398e3d28-008e-44da-85e1-1a17e461f17c"
              },
              {
                "mode": "lines",
                "showlegend": true,
                "y": [],
                "type": "scatter",
                "uid": "0051e576-e620-4248-9c66-4bc85b1edf50"
              },
              {
                "mode": "lines",
                "showlegend": true,
                "y": [],
                "type": "scatter",
                "uid": "9ec62d8b-0973-476c-b90d-f7fe0b4216c5"
              },
              {
                "mode": "lines",
                "showlegend": true,
                "y": [],
                "type": "scatter",
                "uid": "5bd95fbc-ebd4-45f6-9c16-edef829fc235"
              },
              {
                "mode": "lines",
                "showlegend": true,
                "y": [],
                "type": "scatter",
                "uid": "1c590ce3-8855-4dd0-8dd9-52ebfc43cd3d"
              },
              {
                "mode": "lines",
                "showlegend": true,
                "y": [],
                "type": "scatter",
                "uid": "77afd93b-6e46-4996-b636-59f7d6c01af3"
              },
              {
                "mode": "lines",
                "showlegend": true,
                "y": [],
                "type": "scatter",
                "uid": "8419399f-46d6-4537-850e-991ea2cb8632"
              },
              {
                "mode": "lines",
                "showlegend": true,
                "y": [],
                "type": "scatter",
                "uid": "f3c3db0e-6c20-44fa-87a3-076264c328b5"
              },
              {
                "mode": "lines",
                "showlegend": true,
                "y": [],
                "type": "scatter",
                "uid": "e2a472bb-3fbf-47c1-9145-266c7d9b14bb"
              },
              {
                "mode": "lines",
                "showlegend": true,
                "y": [],
                "type": "scatter",
                "uid": "1ab88cab-f3f3-49ea-b588-4f3af61c958b"
              },
              {
                "mode": "lines",
                "showlegend": true,
                "y": [],
                "type": "scatter",
                "uid": "0ce9248d-25ae-49fd-beec-fd76ecf1dbe3"
              },
              {
                "mode": "lines",
                "showlegend": true,
                "y": [],
                "type": "scatter",
                "uid": "066266a9-08f3-42ac-be5e-29481c7bac8a"
              },
              {
                "mode": "lines",
                "showlegend": true,
                "y": [],
                "type": "scatter",
                "uid": "ccd45f44-7e99-4577-8ef8-fab20daff59d"
              },
              {
                "mode": "lines",
                "showlegend": true,
                "y": [],
                "type": "scatter",
                "uid": "31b715f2-4bdc-437f-aeae-4da926b8959d"
              },
              {
                "mode": "lines",
                "showlegend": true,
                "y": [],
                "type": "scatter",
                "uid": "4311c445-2e58-4534-8018-27dbe189ccf9"
              },
              {
                "mode": "lines",
                "showlegend": true,
                "y": [],
                "type": "scatter",
                "uid": "2426919b-446f-4b22-b861-e8015b4fa0ad"
              },
              {
                "mode": "lines",
                "showlegend": true,
                "y": [],
                "type": "scatter",
                "uid": "1a54e371-4e61-47d8-9376-e97e3a07d32c"
              },
              {
                "mode": "lines",
                "showlegend": true,
                "y": [],
                "type": "scatter",
                "uid": "347465c8-e7ec-4f3c-8c52-74772880be5b"
              },
              {
                "mode": "lines",
                "showlegend": true,
                "y": [],
                "type": "scatter",
                "uid": "29b923f1-7a06-42eb-a492-f0e543766946"
              }
            ],
            "_dom_classes": [],
            "_js2py_layoutDelta": null,
            "_js2py_pointsCallback": {},
            "_js2py_relayout": {},
            "_js2py_restyle": {},
            "_js2py_traceDeltas": null,
            "_js2py_update": {},
            "_last_layout_edit_id": 121,
            "_last_trace_edit_id": 121,
            "_layout": {
              "height": 400,
              "margin": {
                "b": 10,
                "t": 60
              },
              "template": {
                "data": {
                  "barpolar": [
                    {
                      "marker": {
                        "line": {
                          "color": "#E5ECF6",
                          "width": 0.5
                        },
                        "pattern": {
                          "fillmode": "overlay",
                          "size": 10,
                          "solidity": 0.2
                        }
                      },
                      "type": "barpolar"
                    }
                  ],
                  "bar": [
                    {
                      "error_x": {
                        "color": "#2a3f5f"
                      },
                      "error_y": {
                        "color": "#2a3f5f"
                      },
                      "marker": {
                        "line": {
                          "color": "#E5ECF6",
                          "width": 0.5
                        },
                        "pattern": {
                          "fillmode": "overlay",
                          "size": 10,
                          "solidity": 0.2
                        }
                      },
                      "type": "bar"
                    }
                  ],
                  "carpet": [
                    {
                      "aaxis": {
                        "endlinecolor": "#2a3f5f",
                        "gridcolor": "white",
                        "linecolor": "white",
                        "minorgridcolor": "white",
                        "startlinecolor": "#2a3f5f"
                      },
                      "baxis": {
                        "endlinecolor": "#2a3f5f",
                        "gridcolor": "white",
                        "linecolor": "white",
                        "minorgridcolor": "white",
                        "startlinecolor": "#2a3f5f"
                      },
                      "type": "carpet"
                    }
                  ],
                  "choropleth": [
                    {
                      "colorbar": {
                        "outlinewidth": 0,
                        "ticks": ""
                      },
                      "type": "choropleth"
                    }
                  ],
                  "contourcarpet": [
                    {
                      "colorbar": {
                        "outlinewidth": 0,
                        "ticks": ""
                      },
                      "type": "contourcarpet"
                    }
                  ],
                  "contour": [
                    {
                      "colorbar": {
                        "outlinewidth": 0,
                        "ticks": ""
                      },
                      "colorscale": [
                        [
                          0,
                          "#0d0887"
                        ],
                        [
                          0.1111111111111111,
                          "#46039f"
                        ],
                        [
                          0.2222222222222222,
                          "#7201a8"
                        ],
                        [
                          0.3333333333333333,
                          "#9c179e"
                        ],
                        [
                          0.4444444444444444,
                          "#bd3786"
                        ],
                        [
                          0.5555555555555556,
                          "#d8576b"
                        ],
                        [
                          0.6666666666666666,
                          "#ed7953"
                        ],
                        [
                          0.7777777777777778,
                          "#fb9f3a"
                        ],
                        [
                          0.8888888888888888,
                          "#fdca26"
                        ],
                        [
                          1,
                          "#f0f921"
                        ]
                      ],
                      "type": "contour"
                    }
                  ],
                  "heatmapgl": [
                    {
                      "colorbar": {
                        "outlinewidth": 0,
                        "ticks": ""
                      },
                      "colorscale": [
                        [
                          0,
                          "#0d0887"
                        ],
                        [
                          0.1111111111111111,
                          "#46039f"
                        ],
                        [
                          0.2222222222222222,
                          "#7201a8"
                        ],
                        [
                          0.3333333333333333,
                          "#9c179e"
                        ],
                        [
                          0.4444444444444444,
                          "#bd3786"
                        ],
                        [
                          0.5555555555555556,
                          "#d8576b"
                        ],
                        [
                          0.6666666666666666,
                          "#ed7953"
                        ],
                        [
                          0.7777777777777778,
                          "#fb9f3a"
                        ],
                        [
                          0.8888888888888888,
                          "#fdca26"
                        ],
                        [
                          1,
                          "#f0f921"
                        ]
                      ],
                      "type": "heatmapgl"
                    }
                  ],
                  "heatmap": [
                    {
                      "colorbar": {
                        "outlinewidth": 0,
                        "ticks": ""
                      },
                      "colorscale": [
                        [
                          0,
                          "#0d0887"
                        ],
                        [
                          0.1111111111111111,
                          "#46039f"
                        ],
                        [
                          0.2222222222222222,
                          "#7201a8"
                        ],
                        [
                          0.3333333333333333,
                          "#9c179e"
                        ],
                        [
                          0.4444444444444444,
                          "#bd3786"
                        ],
                        [
                          0.5555555555555556,
                          "#d8576b"
                        ],
                        [
                          0.6666666666666666,
                          "#ed7953"
                        ],
                        [
                          0.7777777777777778,
                          "#fb9f3a"
                        ],
                        [
                          0.8888888888888888,
                          "#fdca26"
                        ],
                        [
                          1,
                          "#f0f921"
                        ]
                      ],
                      "type": "heatmap"
                    }
                  ],
                  "histogram2dcontour": [
                    {
                      "colorbar": {
                        "outlinewidth": 0,
                        "ticks": ""
                      },
                      "colorscale": [
                        [
                          0,
                          "#0d0887"
                        ],
                        [
                          0.1111111111111111,
                          "#46039f"
                        ],
                        [
                          0.2222222222222222,
                          "#7201a8"
                        ],
                        [
                          0.3333333333333333,
                          "#9c179e"
                        ],
                        [
                          0.4444444444444444,
                          "#bd3786"
                        ],
                        [
                          0.5555555555555556,
                          "#d8576b"
                        ],
                        [
                          0.6666666666666666,
                          "#ed7953"
                        ],
                        [
                          0.7777777777777778,
                          "#fb9f3a"
                        ],
                        [
                          0.8888888888888888,
                          "#fdca26"
                        ],
                        [
                          1,
                          "#f0f921"
                        ]
                      ],
                      "type": "histogram2dcontour"
                    }
                  ],
                  "histogram2d": [
                    {
                      "colorbar": {
                        "outlinewidth": 0,
                        "ticks": ""
                      },
                      "colorscale": [
                        [
                          0,
                          "#0d0887"
                        ],
                        [
                          0.1111111111111111,
                          "#46039f"
                        ],
                        [
                          0.2222222222222222,
                          "#7201a8"
                        ],
                        [
                          0.3333333333333333,
                          "#9c179e"
                        ],
                        [
                          0.4444444444444444,
                          "#bd3786"
                        ],
                        [
                          0.5555555555555556,
                          "#d8576b"
                        ],
                        [
                          0.6666666666666666,
                          "#ed7953"
                        ],
                        [
                          0.7777777777777778,
                          "#fb9f3a"
                        ],
                        [
                          0.8888888888888888,
                          "#fdca26"
                        ],
                        [
                          1,
                          "#f0f921"
                        ]
                      ],
                      "type": "histogram2d"
                    }
                  ],
                  "histogram": [
                    {
                      "marker": {
                        "pattern": {
                          "fillmode": "overlay",
                          "size": 10,
                          "solidity": 0.2
                        }
                      },
                      "type": "histogram"
                    }
                  ],
                  "mesh3d": [
                    {
                      "colorbar": {
                        "outlinewidth": 0,
                        "ticks": ""
                      },
                      "type": "mesh3d"
                    }
                  ],
                  "parcoords": [
                    {
                      "line": {
                        "colorbar": {
                          "outlinewidth": 0,
                          "ticks": ""
                        }
                      },
                      "type": "parcoords"
                    }
                  ],
                  "pie": [
                    {
                      "automargin": true,
                      "type": "pie"
                    }
                  ],
                  "scatter3d": [
                    {
                      "line": {
                        "colorbar": {
                          "outlinewidth": 0,
                          "ticks": ""
                        }
                      },
                      "marker": {
                        "colorbar": {
                          "outlinewidth": 0,
                          "ticks": ""
                        }
                      },
                      "type": "scatter3d"
                    }
                  ],
                  "scattercarpet": [
                    {
                      "marker": {
                        "colorbar": {
                          "outlinewidth": 0,
                          "ticks": ""
                        }
                      },
                      "type": "scattercarpet"
                    }
                  ],
                  "scattergeo": [
                    {
                      "marker": {
                        "colorbar": {
                          "outlinewidth": 0,
                          "ticks": ""
                        }
                      },
                      "type": "scattergeo"
                    }
                  ],
                  "scattergl": [
                    {
                      "marker": {
                        "colorbar": {
                          "outlinewidth": 0,
                          "ticks": ""
                        }
                      },
                      "type": "scattergl"
                    }
                  ],
                  "scattermapbox": [
                    {
                      "marker": {
                        "colorbar": {
                          "outlinewidth": 0,
                          "ticks": ""
                        }
                      },
                      "type": "scattermapbox"
                    }
                  ],
                  "scatterpolargl": [
                    {
                      "marker": {
                        "colorbar": {
                          "outlinewidth": 0,
                          "ticks": ""
                        }
                      },
                      "type": "scatterpolargl"
                    }
                  ],
                  "scatterpolar": [
                    {
                      "marker": {
                        "colorbar": {
                          "outlinewidth": 0,
                          "ticks": ""
                        }
                      },
                      "type": "scatterpolar"
                    }
                  ],
                  "scatter": [
                    {
                      "fillpattern": {
                        "fillmode": "overlay",
                        "size": 10,
                        "solidity": 0.2
                      },
                      "type": "scatter"
                    }
                  ],
                  "scatterternary": [
                    {
                      "marker": {
                        "colorbar": {
                          "outlinewidth": 0,
                          "ticks": ""
                        }
                      },
                      "type": "scatterternary"
                    }
                  ],
                  "surface": [
                    {
                      "colorbar": {
                        "outlinewidth": 0,
                        "ticks": ""
                      },
                      "colorscale": [
                        [
                          0,
                          "#0d0887"
                        ],
                        [
                          0.1111111111111111,
                          "#46039f"
                        ],
                        [
                          0.2222222222222222,
                          "#7201a8"
                        ],
                        [
                          0.3333333333333333,
                          "#9c179e"
                        ],
                        [
                          0.4444444444444444,
                          "#bd3786"
                        ],
                        [
                          0.5555555555555556,
                          "#d8576b"
                        ],
                        [
                          0.6666666666666666,
                          "#ed7953"
                        ],
                        [
                          0.7777777777777778,
                          "#fb9f3a"
                        ],
                        [
                          0.8888888888888888,
                          "#fdca26"
                        ],
                        [
                          1,
                          "#f0f921"
                        ]
                      ],
                      "type": "surface"
                    }
                  ],
                  "table": [
                    {
                      "cells": {
                        "fill": {
                          "color": "#EBF0F8"
                        },
                        "line": {
                          "color": "white"
                        }
                      },
                      "header": {
                        "fill": {
                          "color": "#C8D4E3"
                        },
                        "line": {
                          "color": "white"
                        }
                      },
                      "type": "table"
                    }
                  ]
                },
                "layout": {
                  "annotationdefaults": {
                    "arrowcolor": "#2a3f5f",
                    "arrowhead": 0,
                    "arrowwidth": 1
                  },
                  "autotypenumbers": "strict",
                  "coloraxis": {
                    "colorbar": {
                      "outlinewidth": 0,
                      "ticks": ""
                    }
                  },
                  "colorscale": {
                    "diverging": [
                      [
                        0,
                        "#8e0152"
                      ],
                      [
                        0.1,
                        "#c51b7d"
                      ],
                      [
                        0.2,
                        "#de77ae"
                      ],
                      [
                        0.3,
                        "#f1b6da"
                      ],
                      [
                        0.4,
                        "#fde0ef"
                      ],
                      [
                        0.5,
                        "#f7f7f7"
                      ],
                      [
                        0.6,
                        "#e6f5d0"
                      ],
                      [
                        0.7,
                        "#b8e186"
                      ],
                      [
                        0.8,
                        "#7fbc41"
                      ],
                      [
                        0.9,
                        "#4d9221"
                      ],
                      [
                        1,
                        "#276419"
                      ]
                    ],
                    "sequential": [
                      [
                        0,
                        "#0d0887"
                      ],
                      [
                        0.1111111111111111,
                        "#46039f"
                      ],
                      [
                        0.2222222222222222,
                        "#7201a8"
                      ],
                      [
                        0.3333333333333333,
                        "#9c179e"
                      ],
                      [
                        0.4444444444444444,
                        "#bd3786"
                      ],
                      [
                        0.5555555555555556,
                        "#d8576b"
                      ],
                      [
                        0.6666666666666666,
                        "#ed7953"
                      ],
                      [
                        0.7777777777777778,
                        "#fb9f3a"
                      ],
                      [
                        0.8888888888888888,
                        "#fdca26"
                      ],
                      [
                        1,
                        "#f0f921"
                      ]
                    ],
                    "sequentialminus": [
                      [
                        0,
                        "#0d0887"
                      ],
                      [
                        0.1111111111111111,
                        "#46039f"
                      ],
                      [
                        0.2222222222222222,
                        "#7201a8"
                      ],
                      [
                        0.3333333333333333,
                        "#9c179e"
                      ],
                      [
                        0.4444444444444444,
                        "#bd3786"
                      ],
                      [
                        0.5555555555555556,
                        "#d8576b"
                      ],
                      [
                        0.6666666666666666,
                        "#ed7953"
                      ],
                      [
                        0.7777777777777778,
                        "#fb9f3a"
                      ],
                      [
                        0.8888888888888888,
                        "#fdca26"
                      ],
                      [
                        1,
                        "#f0f921"
                      ]
                    ]
                  },
                  "colorway": [
                    "#636efa",
                    "#EF553B",
                    "#00cc96",
                    "#ab63fa",
                    "#FFA15A",
                    "#19d3f3",
                    "#FF6692",
                    "#B6E880",
                    "#FF97FF",
                    "#FECB52"
                  ],
                  "font": {
                    "color": "#2a3f5f"
                  },
                  "geo": {
                    "bgcolor": "white",
                    "lakecolor": "white",
                    "landcolor": "#E5ECF6",
                    "showlakes": true,
                    "showland": true,
                    "subunitcolor": "white"
                  },
                  "hoverlabel": {
                    "align": "left"
                  },
                  "hovermode": "closest",
                  "mapbox": {
                    "style": "light"
                  },
                  "paper_bgcolor": "white",
                  "plot_bgcolor": "#E5ECF6",
                  "polar": {
                    "angularaxis": {
                      "gridcolor": "white",
                      "linecolor": "white",
                      "ticks": ""
                    },
                    "bgcolor": "#E5ECF6",
                    "radialaxis": {
                      "gridcolor": "white",
                      "linecolor": "white",
                      "ticks": ""
                    }
                  },
                  "scene": {
                    "xaxis": {
                      "backgroundcolor": "#E5ECF6",
                      "gridcolor": "white",
                      "gridwidth": 2,
                      "linecolor": "white",
                      "showbackground": true,
                      "ticks": "",
                      "zerolinecolor": "white"
                    },
                    "yaxis": {
                      "backgroundcolor": "#E5ECF6",
                      "gridcolor": "white",
                      "gridwidth": 2,
                      "linecolor": "white",
                      "showbackground": true,
                      "ticks": "",
                      "zerolinecolor": "white"
                    },
                    "zaxis": {
                      "backgroundcolor": "#E5ECF6",
                      "gridcolor": "white",
                      "gridwidth": 2,
                      "linecolor": "white",
                      "showbackground": true,
                      "ticks": "",
                      "zerolinecolor": "white"
                    }
                  },
                  "shapedefaults": {
                    "line": {
                      "color": "#2a3f5f"
                    }
                  },
                  "ternary": {
                    "aaxis": {
                      "gridcolor": "white",
                      "linecolor": "white",
                      "ticks": ""
                    },
                    "baxis": {
                      "gridcolor": "white",
                      "linecolor": "white",
                      "ticks": ""
                    },
                    "bgcolor": "#E5ECF6",
                    "caxis": {
                      "gridcolor": "white",
                      "linecolor": "white",
                      "ticks": ""
                    }
                  },
                  "title": {
                    "x": 0.05
                  },
                  "xaxis": {
                    "automargin": true,
                    "gridcolor": "white",
                    "linecolor": "white",
                    "ticks": "",
                    "title": {
                      "standoff": 15
                    },
                    "zerolinecolor": "white",
                    "zerolinewidth": 2
                  },
                  "yaxis": {
                    "automargin": true,
                    "gridcolor": "white",
                    "linecolor": "white",
                    "ticks": "",
                    "title": {
                      "standoff": 15
                    },
                    "zerolinecolor": "white",
                    "zerolinewidth": 2
                  }
                }
              },
              "title": {
                "text": "Training loss",
                "x": 0.5
              },
              "width": 1500,
              "xaxis": {
                "title": {
                  "text": "Step"
                }
              },
              "yaxis": {
                "type": "linear"
              }
            },
            "_model_module": "jupyterlab-plotly",
            "_model_module_version": "^5.24.1",
            "_model_name": "FigureModel",
            "_py2js_addTraces": {},
            "_py2js_animate": {},
            "_py2js_deleteTraces": {},
            "_py2js_moveTraces": {},
            "_py2js_relayout": {},
            "_py2js_removeLayoutProps": {},
            "_py2js_removeTraceProps": {},
            "_py2js_restyle": null,
            "_py2js_update": {},
            "_view_count": 1,
            "_view_module": "jupyterlab-plotly",
            "_view_module_version": "^5.24.1",
            "_view_name": "FigureView"
          }
        },
        "776c7ba9039049ec92f7a417c1bf371e": {
          "model_module": "jupyterlab-plotly",
          "model_name": "FigureModel",
          "model_module_version": "^5.24.1",
          "state": {
            "_config": {
              "plotlyServerURL": "https://plot.ly"
            },
            "_data": [
              {
                "mode": "lines",
                "showlegend": true,
                "y": [],
                "type": "scatter",
                "uid": "9deadf1b-6740-4c7d-ba2f-1e4d5c02d602"
              },
              {
                "mode": "lines",
                "showlegend": true,
                "y": [],
                "type": "scatter",
                "uid": "2f05e8ef-a360-401c-a5f7-371ffd360c06"
              },
              {
                "mode": "lines",
                "showlegend": true,
                "y": [],
                "type": "scatter",
                "uid": "f203c359-444e-4d61-b39d-943cfa5f2d5d"
              },
              {
                "mode": "lines",
                "showlegend": true,
                "y": [],
                "type": "scatter",
                "uid": "1aa1f278-0b01-4345-b595-6856d4a4dd1a"
              },
              {
                "mode": "lines",
                "showlegend": true,
                "y": [],
                "type": "scatter",
                "uid": "884b3034-ab1b-47a4-a2af-309d87566416"
              },
              {
                "mode": "lines",
                "showlegend": true,
                "y": [],
                "type": "scatter",
                "uid": "e78e29fa-b626-40d8-9662-29b0e52a4522"
              },
              {
                "mode": "lines",
                "showlegend": true,
                "y": [],
                "type": "scatter",
                "uid": "1e8e2790-132b-4fa1-9b28-8122647fe945"
              },
              {
                "mode": "lines",
                "showlegend": true,
                "y": [],
                "type": "scatter",
                "uid": "edf6df51-0fbe-4a2c-92e6-a9e53814cb5b"
              },
              {
                "mode": "lines",
                "showlegend": true,
                "y": [],
                "type": "scatter",
                "uid": "0da68f36-34d4-46ee-877a-25caa1f9e438"
              },
              {
                "mode": "lines",
                "showlegend": true,
                "y": [],
                "type": "scatter",
                "uid": "0383c7cc-b7a5-404c-b371-4a7a76ed0067"
              },
              {
                "mode": "lines",
                "showlegend": true,
                "y": [],
                "type": "scatter",
                "uid": "6741610b-9127-4aef-b6db-e326dea7da19"
              },
              {
                "mode": "lines",
                "showlegend": true,
                "y": [],
                "type": "scatter",
                "uid": "e2f7328b-fa63-4003-a048-386397a39072"
              },
              {
                "mode": "lines",
                "showlegend": true,
                "y": [],
                "type": "scatter",
                "uid": "34231cd2-8669-41ec-995a-7c9cf66a2d7d"
              },
              {
                "mode": "lines",
                "showlegend": true,
                "y": [],
                "type": "scatter",
                "uid": "5b771e40-d0c1-4b7f-9caf-84d67fc36ee2"
              },
              {
                "mode": "lines",
                "showlegend": true,
                "y": [],
                "type": "scatter",
                "uid": "d9d5b0b4-e909-4de1-9058-8b9f6eadd955"
              },
              {
                "mode": "lines",
                "showlegend": true,
                "y": [],
                "type": "scatter",
                "uid": "f40b4a15-bc23-406e-8ab4-3d7b62554ff8"
              },
              {
                "mode": "lines",
                "showlegend": true,
                "y": [],
                "type": "scatter",
                "uid": "3fbcb259-b71a-4ae3-92d4-a8fcddafe85b"
              },
              {
                "mode": "lines",
                "showlegend": true,
                "y": [],
                "type": "scatter",
                "uid": "2d9a9e89-f9d5-4a84-97b1-56af09e45ca8"
              },
              {
                "mode": "lines",
                "showlegend": true,
                "y": [],
                "type": "scatter",
                "uid": "7b528b9c-f8e7-4da2-a15c-16283e7dd7ba"
              },
              {
                "mode": "lines",
                "showlegend": true,
                "y": [],
                "type": "scatter",
                "uid": "96b0f2ef-5dd7-4083-a81c-74bdb0b8b3a3"
              },
              {
                "mode": "lines",
                "showlegend": true,
                "y": [],
                "type": "scatter",
                "uid": "381dfd3d-11a8-49e9-89d6-f0827e52b618"
              },
              {
                "mode": "lines",
                "showlegend": true,
                "y": [],
                "type": "scatter",
                "uid": "4eae20c8-d59a-4577-af4c-2af22f009b9a"
              },
              {
                "mode": "lines",
                "showlegend": true,
                "y": [],
                "type": "scatter",
                "uid": "b39ef9fe-1b10-4a6f-ac71-0c17bb220cd1"
              },
              {
                "mode": "lines",
                "showlegend": true,
                "y": [],
                "type": "scatter",
                "uid": "1e3f0cef-ce17-4edb-97c2-4bb555388ccc"
              },
              {
                "mode": "lines",
                "showlegend": true,
                "y": [],
                "type": "scatter",
                "uid": "b48a525f-0f32-49be-8c54-c45474297bd7"
              }
            ],
            "_dom_classes": [],
            "_js2py_layoutDelta": null,
            "_js2py_pointsCallback": {},
            "_js2py_relayout": {},
            "_js2py_restyle": {},
            "_js2py_traceDeltas": null,
            "_js2py_update": {},
            "_last_layout_edit_id": 121,
            "_last_trace_edit_id": 121,
            "_layout": {
              "height": 400,
              "margin": {
                "b": 10,
                "t": 60
              },
              "template": {
                "data": {
                  "barpolar": [
                    {
                      "marker": {
                        "line": {
                          "color": "#E5ECF6",
                          "width": 0.5
                        },
                        "pattern": {
                          "fillmode": "overlay",
                          "size": 10,
                          "solidity": 0.2
                        }
                      },
                      "type": "barpolar"
                    }
                  ],
                  "bar": [
                    {
                      "error_x": {
                        "color": "#2a3f5f"
                      },
                      "error_y": {
                        "color": "#2a3f5f"
                      },
                      "marker": {
                        "line": {
                          "color": "#E5ECF6",
                          "width": 0.5
                        },
                        "pattern": {
                          "fillmode": "overlay",
                          "size": 10,
                          "solidity": 0.2
                        }
                      },
                      "type": "bar"
                    }
                  ],
                  "carpet": [
                    {
                      "aaxis": {
                        "endlinecolor": "#2a3f5f",
                        "gridcolor": "white",
                        "linecolor": "white",
                        "minorgridcolor": "white",
                        "startlinecolor": "#2a3f5f"
                      },
                      "baxis": {
                        "endlinecolor": "#2a3f5f",
                        "gridcolor": "white",
                        "linecolor": "white",
                        "minorgridcolor": "white",
                        "startlinecolor": "#2a3f5f"
                      },
                      "type": "carpet"
                    }
                  ],
                  "choropleth": [
                    {
                      "colorbar": {
                        "outlinewidth": 0,
                        "ticks": ""
                      },
                      "type": "choropleth"
                    }
                  ],
                  "contourcarpet": [
                    {
                      "colorbar": {
                        "outlinewidth": 0,
                        "ticks": ""
                      },
                      "type": "contourcarpet"
                    }
                  ],
                  "contour": [
                    {
                      "colorbar": {
                        "outlinewidth": 0,
                        "ticks": ""
                      },
                      "colorscale": [
                        [
                          0,
                          "#0d0887"
                        ],
                        [
                          0.1111111111111111,
                          "#46039f"
                        ],
                        [
                          0.2222222222222222,
                          "#7201a8"
                        ],
                        [
                          0.3333333333333333,
                          "#9c179e"
                        ],
                        [
                          0.4444444444444444,
                          "#bd3786"
                        ],
                        [
                          0.5555555555555556,
                          "#d8576b"
                        ],
                        [
                          0.6666666666666666,
                          "#ed7953"
                        ],
                        [
                          0.7777777777777778,
                          "#fb9f3a"
                        ],
                        [
                          0.8888888888888888,
                          "#fdca26"
                        ],
                        [
                          1,
                          "#f0f921"
                        ]
                      ],
                      "type": "contour"
                    }
                  ],
                  "heatmapgl": [
                    {
                      "colorbar": {
                        "outlinewidth": 0,
                        "ticks": ""
                      },
                      "colorscale": [
                        [
                          0,
                          "#0d0887"
                        ],
                        [
                          0.1111111111111111,
                          "#46039f"
                        ],
                        [
                          0.2222222222222222,
                          "#7201a8"
                        ],
                        [
                          0.3333333333333333,
                          "#9c179e"
                        ],
                        [
                          0.4444444444444444,
                          "#bd3786"
                        ],
                        [
                          0.5555555555555556,
                          "#d8576b"
                        ],
                        [
                          0.6666666666666666,
                          "#ed7953"
                        ],
                        [
                          0.7777777777777778,
                          "#fb9f3a"
                        ],
                        [
                          0.8888888888888888,
                          "#fdca26"
                        ],
                        [
                          1,
                          "#f0f921"
                        ]
                      ],
                      "type": "heatmapgl"
                    }
                  ],
                  "heatmap": [
                    {
                      "colorbar": {
                        "outlinewidth": 0,
                        "ticks": ""
                      },
                      "colorscale": [
                        [
                          0,
                          "#0d0887"
                        ],
                        [
                          0.1111111111111111,
                          "#46039f"
                        ],
                        [
                          0.2222222222222222,
                          "#7201a8"
                        ],
                        [
                          0.3333333333333333,
                          "#9c179e"
                        ],
                        [
                          0.4444444444444444,
                          "#bd3786"
                        ],
                        [
                          0.5555555555555556,
                          "#d8576b"
                        ],
                        [
                          0.6666666666666666,
                          "#ed7953"
                        ],
                        [
                          0.7777777777777778,
                          "#fb9f3a"
                        ],
                        [
                          0.8888888888888888,
                          "#fdca26"
                        ],
                        [
                          1,
                          "#f0f921"
                        ]
                      ],
                      "type": "heatmap"
                    }
                  ],
                  "histogram2dcontour": [
                    {
                      "colorbar": {
                        "outlinewidth": 0,
                        "ticks": ""
                      },
                      "colorscale": [
                        [
                          0,
                          "#0d0887"
                        ],
                        [
                          0.1111111111111111,
                          "#46039f"
                        ],
                        [
                          0.2222222222222222,
                          "#7201a8"
                        ],
                        [
                          0.3333333333333333,
                          "#9c179e"
                        ],
                        [
                          0.4444444444444444,
                          "#bd3786"
                        ],
                        [
                          0.5555555555555556,
                          "#d8576b"
                        ],
                        [
                          0.6666666666666666,
                          "#ed7953"
                        ],
                        [
                          0.7777777777777778,
                          "#fb9f3a"
                        ],
                        [
                          0.8888888888888888,
                          "#fdca26"
                        ],
                        [
                          1,
                          "#f0f921"
                        ]
                      ],
                      "type": "histogram2dcontour"
                    }
                  ],
                  "histogram2d": [
                    {
                      "colorbar": {
                        "outlinewidth": 0,
                        "ticks": ""
                      },
                      "colorscale": [
                        [
                          0,
                          "#0d0887"
                        ],
                        [
                          0.1111111111111111,
                          "#46039f"
                        ],
                        [
                          0.2222222222222222,
                          "#7201a8"
                        ],
                        [
                          0.3333333333333333,
                          "#9c179e"
                        ],
                        [
                          0.4444444444444444,
                          "#bd3786"
                        ],
                        [
                          0.5555555555555556,
                          "#d8576b"
                        ],
                        [
                          0.6666666666666666,
                          "#ed7953"
                        ],
                        [
                          0.7777777777777778,
                          "#fb9f3a"
                        ],
                        [
                          0.8888888888888888,
                          "#fdca26"
                        ],
                        [
                          1,
                          "#f0f921"
                        ]
                      ],
                      "type": "histogram2d"
                    }
                  ],
                  "histogram": [
                    {
                      "marker": {
                        "pattern": {
                          "fillmode": "overlay",
                          "size": 10,
                          "solidity": 0.2
                        }
                      },
                      "type": "histogram"
                    }
                  ],
                  "mesh3d": [
                    {
                      "colorbar": {
                        "outlinewidth": 0,
                        "ticks": ""
                      },
                      "type": "mesh3d"
                    }
                  ],
                  "parcoords": [
                    {
                      "line": {
                        "colorbar": {
                          "outlinewidth": 0,
                          "ticks": ""
                        }
                      },
                      "type": "parcoords"
                    }
                  ],
                  "pie": [
                    {
                      "automargin": true,
                      "type": "pie"
                    }
                  ],
                  "scatter3d": [
                    {
                      "line": {
                        "colorbar": {
                          "outlinewidth": 0,
                          "ticks": ""
                        }
                      },
                      "marker": {
                        "colorbar": {
                          "outlinewidth": 0,
                          "ticks": ""
                        }
                      },
                      "type": "scatter3d"
                    }
                  ],
                  "scattercarpet": [
                    {
                      "marker": {
                        "colorbar": {
                          "outlinewidth": 0,
                          "ticks": ""
                        }
                      },
                      "type": "scattercarpet"
                    }
                  ],
                  "scattergeo": [
                    {
                      "marker": {
                        "colorbar": {
                          "outlinewidth": 0,
                          "ticks": ""
                        }
                      },
                      "type": "scattergeo"
                    }
                  ],
                  "scattergl": [
                    {
                      "marker": {
                        "colorbar": {
                          "outlinewidth": 0,
                          "ticks": ""
                        }
                      },
                      "type": "scattergl"
                    }
                  ],
                  "scattermapbox": [
                    {
                      "marker": {
                        "colorbar": {
                          "outlinewidth": 0,
                          "ticks": ""
                        }
                      },
                      "type": "scattermapbox"
                    }
                  ],
                  "scatterpolargl": [
                    {
                      "marker": {
                        "colorbar": {
                          "outlinewidth": 0,
                          "ticks": ""
                        }
                      },
                      "type": "scatterpolargl"
                    }
                  ],
                  "scatterpolar": [
                    {
                      "marker": {
                        "colorbar": {
                          "outlinewidth": 0,
                          "ticks": ""
                        }
                      },
                      "type": "scatterpolar"
                    }
                  ],
                  "scatter": [
                    {
                      "fillpattern": {
                        "fillmode": "overlay",
                        "size": 10,
                        "solidity": 0.2
                      },
                      "type": "scatter"
                    }
                  ],
                  "scatterternary": [
                    {
                      "marker": {
                        "colorbar": {
                          "outlinewidth": 0,
                          "ticks": ""
                        }
                      },
                      "type": "scatterternary"
                    }
                  ],
                  "surface": [
                    {
                      "colorbar": {
                        "outlinewidth": 0,
                        "ticks": ""
                      },
                      "colorscale": [
                        [
                          0,
                          "#0d0887"
                        ],
                        [
                          0.1111111111111111,
                          "#46039f"
                        ],
                        [
                          0.2222222222222222,
                          "#7201a8"
                        ],
                        [
                          0.3333333333333333,
                          "#9c179e"
                        ],
                        [
                          0.4444444444444444,
                          "#bd3786"
                        ],
                        [
                          0.5555555555555556,
                          "#d8576b"
                        ],
                        [
                          0.6666666666666666,
                          "#ed7953"
                        ],
                        [
                          0.7777777777777778,
                          "#fb9f3a"
                        ],
                        [
                          0.8888888888888888,
                          "#fdca26"
                        ],
                        [
                          1,
                          "#f0f921"
                        ]
                      ],
                      "type": "surface"
                    }
                  ],
                  "table": [
                    {
                      "cells": {
                        "fill": {
                          "color": "#EBF0F8"
                        },
                        "line": {
                          "color": "white"
                        }
                      },
                      "header": {
                        "fill": {
                          "color": "#C8D4E3"
                        },
                        "line": {
                          "color": "white"
                        }
                      },
                      "type": "table"
                    }
                  ]
                },
                "layout": {
                  "annotationdefaults": {
                    "arrowcolor": "#2a3f5f",
                    "arrowhead": 0,
                    "arrowwidth": 1
                  },
                  "autotypenumbers": "strict",
                  "coloraxis": {
                    "colorbar": {
                      "outlinewidth": 0,
                      "ticks": ""
                    }
                  },
                  "colorscale": {
                    "diverging": [
                      [
                        0,
                        "#8e0152"
                      ],
                      [
                        0.1,
                        "#c51b7d"
                      ],
                      [
                        0.2,
                        "#de77ae"
                      ],
                      [
                        0.3,
                        "#f1b6da"
                      ],
                      [
                        0.4,
                        "#fde0ef"
                      ],
                      [
                        0.5,
                        "#f7f7f7"
                      ],
                      [
                        0.6,
                        "#e6f5d0"
                      ],
                      [
                        0.7,
                        "#b8e186"
                      ],
                      [
                        0.8,
                        "#7fbc41"
                      ],
                      [
                        0.9,
                        "#4d9221"
                      ],
                      [
                        1,
                        "#276419"
                      ]
                    ],
                    "sequential": [
                      [
                        0,
                        "#0d0887"
                      ],
                      [
                        0.1111111111111111,
                        "#46039f"
                      ],
                      [
                        0.2222222222222222,
                        "#7201a8"
                      ],
                      [
                        0.3333333333333333,
                        "#9c179e"
                      ],
                      [
                        0.4444444444444444,
                        "#bd3786"
                      ],
                      [
                        0.5555555555555556,
                        "#d8576b"
                      ],
                      [
                        0.6666666666666666,
                        "#ed7953"
                      ],
                      [
                        0.7777777777777778,
                        "#fb9f3a"
                      ],
                      [
                        0.8888888888888888,
                        "#fdca26"
                      ],
                      [
                        1,
                        "#f0f921"
                      ]
                    ],
                    "sequentialminus": [
                      [
                        0,
                        "#0d0887"
                      ],
                      [
                        0.1111111111111111,
                        "#46039f"
                      ],
                      [
                        0.2222222222222222,
                        "#7201a8"
                      ],
                      [
                        0.3333333333333333,
                        "#9c179e"
                      ],
                      [
                        0.4444444444444444,
                        "#bd3786"
                      ],
                      [
                        0.5555555555555556,
                        "#d8576b"
                      ],
                      [
                        0.6666666666666666,
                        "#ed7953"
                      ],
                      [
                        0.7777777777777778,
                        "#fb9f3a"
                      ],
                      [
                        0.8888888888888888,
                        "#fdca26"
                      ],
                      [
                        1,
                        "#f0f921"
                      ]
                    ]
                  },
                  "colorway": [
                    "#636efa",
                    "#EF553B",
                    "#00cc96",
                    "#ab63fa",
                    "#FFA15A",
                    "#19d3f3",
                    "#FF6692",
                    "#B6E880",
                    "#FF97FF",
                    "#FECB52"
                  ],
                  "font": {
                    "color": "#2a3f5f"
                  },
                  "geo": {
                    "bgcolor": "white",
                    "lakecolor": "white",
                    "landcolor": "#E5ECF6",
                    "showlakes": true,
                    "showland": true,
                    "subunitcolor": "white"
                  },
                  "hoverlabel": {
                    "align": "left"
                  },
                  "hovermode": "closest",
                  "mapbox": {
                    "style": "light"
                  },
                  "paper_bgcolor": "white",
                  "plot_bgcolor": "#E5ECF6",
                  "polar": {
                    "angularaxis": {
                      "gridcolor": "white",
                      "linecolor": "white",
                      "ticks": ""
                    },
                    "bgcolor": "#E5ECF6",
                    "radialaxis": {
                      "gridcolor": "white",
                      "linecolor": "white",
                      "ticks": ""
                    }
                  },
                  "scene": {
                    "xaxis": {
                      "backgroundcolor": "#E5ECF6",
                      "gridcolor": "white",
                      "gridwidth": 2,
                      "linecolor": "white",
                      "showbackground": true,
                      "ticks": "",
                      "zerolinecolor": "white"
                    },
                    "yaxis": {
                      "backgroundcolor": "#E5ECF6",
                      "gridcolor": "white",
                      "gridwidth": 2,
                      "linecolor": "white",
                      "showbackground": true,
                      "ticks": "",
                      "zerolinecolor": "white"
                    },
                    "zaxis": {
                      "backgroundcolor": "#E5ECF6",
                      "gridcolor": "white",
                      "gridwidth": 2,
                      "linecolor": "white",
                      "showbackground": true,
                      "ticks": "",
                      "zerolinecolor": "white"
                    }
                  },
                  "shapedefaults": {
                    "line": {
                      "color": "#2a3f5f"
                    }
                  },
                  "ternary": {
                    "aaxis": {
                      "gridcolor": "white",
                      "linecolor": "white",
                      "ticks": ""
                    },
                    "baxis": {
                      "gridcolor": "white",
                      "linecolor": "white",
                      "ticks": ""
                    },
                    "bgcolor": "#E5ECF6",
                    "caxis": {
                      "gridcolor": "white",
                      "linecolor": "white",
                      "ticks": ""
                    }
                  },
                  "title": {
                    "x": 0.05
                  },
                  "xaxis": {
                    "automargin": true,
                    "gridcolor": "white",
                    "linecolor": "white",
                    "ticks": "",
                    "title": {
                      "standoff": 15
                    },
                    "zerolinecolor": "white",
                    "zerolinewidth": 2
                  },
                  "yaxis": {
                    "automargin": true,
                    "gridcolor": "white",
                    "linecolor": "white",
                    "ticks": "",
                    "title": {
                      "standoff": 15
                    },
                    "zerolinecolor": "white",
                    "zerolinewidth": 2
                  }
                }
              },
              "title": {
                "text": "Gradient standard deviation to weight standard deviation ratio at 1st layer",
                "x": 0.5
              },
              "width": 1500,
              "xaxis": {
                "title": {
                  "text": "Step"
                }
              },
              "yaxis": {
                "title": {
                  "text": "Gradient to weight ratio (log scale)"
                },
                "type": "log"
              }
            },
            "_model_module": "jupyterlab-plotly",
            "_model_module_version": "^5.24.1",
            "_model_name": "FigureModel",
            "_py2js_addTraces": {},
            "_py2js_animate": {},
            "_py2js_deleteTraces": {},
            "_py2js_moveTraces": {},
            "_py2js_relayout": {},
            "_py2js_removeLayoutProps": {},
            "_py2js_removeTraceProps": {},
            "_py2js_restyle": null,
            "_py2js_update": {},
            "_view_count": 1,
            "_view_module": "jupyterlab-plotly",
            "_view_module_version": "^5.24.1",
            "_view_name": "FigureView"
          }
        },
        "c62be8d716c349bb9f9fc9cde76dc8da": {
          "model_module": "jupyterlab-plotly",
          "model_name": "FigureModel",
          "model_module_version": "^5.24.1",
          "state": {
            "_config": {
              "plotlyServerURL": "https://plot.ly"
            },
            "_data": [
              {
                "mode": "lines+markers",
                "showlegend": true,
                "x": [],
                "y": [],
                "type": "scatter",
                "uid": "499e693c-debf-4906-a650-c602b34ff3c8"
              },
              {
                "mode": "lines+markers",
                "showlegend": true,
                "x": [],
                "y": [],
                "type": "scatter",
                "uid": "0a1ce9df-d553-40a7-94d3-bbf56537c7d9"
              },
              {
                "mode": "lines+markers",
                "showlegend": true,
                "x": [],
                "y": [],
                "type": "scatter",
                "uid": "2e2bc30a-a848-4369-9007-c93159ffb2e8"
              },
              {
                "mode": "lines+markers",
                "showlegend": true,
                "x": [],
                "y": [],
                "type": "scatter",
                "uid": "329162bf-38c6-48ba-aa6b-afa0b706032b"
              },
              {
                "mode": "lines+markers",
                "showlegend": true,
                "x": [],
                "y": [],
                "type": "scatter",
                "uid": "ed2353d2-2e1d-4bfd-8b96-ddf165bcd891"
              },
              {
                "mode": "lines+markers",
                "showlegend": true,
                "x": [],
                "y": [],
                "type": "scatter",
                "uid": "8fc8fed9-dda5-46b7-b4c3-c48caaade77f"
              },
              {
                "mode": "lines+markers",
                "showlegend": true,
                "x": [],
                "y": [],
                "type": "scatter",
                "uid": "bd97ff02-899d-4444-a683-eb73776d9dd3"
              },
              {
                "mode": "lines+markers",
                "showlegend": true,
                "x": [],
                "y": [],
                "type": "scatter",
                "uid": "40230c72-eb51-4041-a67a-0a8801def310"
              },
              {
                "mode": "lines+markers",
                "showlegend": true,
                "x": [],
                "y": [],
                "type": "scatter",
                "uid": "a6324827-0fc8-4550-bf7b-faef0b7f7b98"
              },
              {
                "mode": "lines+markers",
                "showlegend": true,
                "x": [],
                "y": [],
                "type": "scatter",
                "uid": "5df44d09-6ffe-4d24-8b80-5ec05bb1be4a"
              },
              {
                "mode": "lines+markers",
                "showlegend": true,
                "x": [],
                "y": [],
                "type": "scatter",
                "uid": "380a9fae-5974-486b-a21a-d5eca6ac4f36"
              },
              {
                "mode": "lines+markers",
                "showlegend": true,
                "x": [],
                "y": [],
                "type": "scatter",
                "uid": "e8ce5778-2545-456a-acc6-13acaa41f5b3"
              },
              {
                "mode": "lines+markers",
                "showlegend": true,
                "x": [],
                "y": [],
                "type": "scatter",
                "uid": "2f84beb4-882a-47c1-92b7-6352d0f1efb7"
              },
              {
                "mode": "lines+markers",
                "showlegend": true,
                "x": [],
                "y": [],
                "type": "scatter",
                "uid": "10d7a653-be30-4ab1-b206-39921c2322e4"
              },
              {
                "mode": "lines+markers",
                "showlegend": true,
                "x": [],
                "y": [],
                "type": "scatter",
                "uid": "18610655-fe51-4c4d-b4fa-91aad962f1bd"
              },
              {
                "mode": "lines+markers",
                "showlegend": true,
                "x": [],
                "y": [],
                "type": "scatter",
                "uid": "ed5835e6-5068-4235-b471-370569b6d9fa"
              },
              {
                "mode": "lines+markers",
                "showlegend": true,
                "x": [],
                "y": [],
                "type": "scatter",
                "uid": "c5c4e23d-35a6-485e-9bb4-fc416e9d5377"
              },
              {
                "mode": "lines+markers",
                "showlegend": true,
                "x": [],
                "y": [],
                "type": "scatter",
                "uid": "60e9f223-cb1b-4f01-a099-9a8054512383"
              },
              {
                "mode": "lines+markers",
                "showlegend": true,
                "x": [],
                "y": [],
                "type": "scatter",
                "uid": "17936f51-fc38-47f6-8d0f-4c8ba72a695f"
              },
              {
                "mode": "lines+markers",
                "showlegend": true,
                "x": [],
                "y": [],
                "type": "scatter",
                "uid": "bda0b4f8-e97c-429e-96d0-1707a0ff770e"
              },
              {
                "mode": "lines+markers",
                "showlegend": true,
                "x": [],
                "y": [],
                "type": "scatter",
                "uid": "227e5c97-4d04-4b3d-96c8-84231a1e8e6e"
              },
              {
                "mode": "lines+markers",
                "showlegend": true,
                "x": [],
                "y": [],
                "type": "scatter",
                "uid": "5fa6bfeb-41b5-4289-bfa8-59b6833138ce"
              },
              {
                "mode": "lines+markers",
                "showlegend": true,
                "x": [],
                "y": [],
                "type": "scatter",
                "uid": "924796f2-084f-4c31-ab82-086bd816e4f7"
              },
              {
                "mode": "lines+markers",
                "showlegend": true,
                "x": [],
                "y": [],
                "type": "scatter",
                "uid": "89f85839-ddf7-446a-bbd2-6dfefb8a0832"
              },
              {
                "mode": "lines+markers",
                "showlegend": true,
                "x": [],
                "y": [],
                "type": "scatter",
                "uid": "cea6e00e-4c7a-46a2-90a1-b76de4c5adc8"
              }
            ],
            "_dom_classes": [],
            "_js2py_layoutDelta": null,
            "_js2py_pointsCallback": {},
            "_js2py_relayout": {},
            "_js2py_restyle": {},
            "_js2py_traceDeltas": null,
            "_js2py_update": {},
            "_last_layout_edit_id": 11,
            "_last_trace_edit_id": 11,
            "_layout": {
              "height": 400,
              "margin": {
                "b": 10,
                "t": 60
              },
              "template": {
                "data": {
                  "barpolar": [
                    {
                      "marker": {
                        "line": {
                          "color": "#E5ECF6",
                          "width": 0.5
                        },
                        "pattern": {
                          "fillmode": "overlay",
                          "size": 10,
                          "solidity": 0.2
                        }
                      },
                      "type": "barpolar"
                    }
                  ],
                  "bar": [
                    {
                      "error_x": {
                        "color": "#2a3f5f"
                      },
                      "error_y": {
                        "color": "#2a3f5f"
                      },
                      "marker": {
                        "line": {
                          "color": "#E5ECF6",
                          "width": 0.5
                        },
                        "pattern": {
                          "fillmode": "overlay",
                          "size": 10,
                          "solidity": 0.2
                        }
                      },
                      "type": "bar"
                    }
                  ],
                  "carpet": [
                    {
                      "aaxis": {
                        "endlinecolor": "#2a3f5f",
                        "gridcolor": "white",
                        "linecolor": "white",
                        "minorgridcolor": "white",
                        "startlinecolor": "#2a3f5f"
                      },
                      "baxis": {
                        "endlinecolor": "#2a3f5f",
                        "gridcolor": "white",
                        "linecolor": "white",
                        "minorgridcolor": "white",
                        "startlinecolor": "#2a3f5f"
                      },
                      "type": "carpet"
                    }
                  ],
                  "choropleth": [
                    {
                      "colorbar": {
                        "outlinewidth": 0,
                        "ticks": ""
                      },
                      "type": "choropleth"
                    }
                  ],
                  "contourcarpet": [
                    {
                      "colorbar": {
                        "outlinewidth": 0,
                        "ticks": ""
                      },
                      "type": "contourcarpet"
                    }
                  ],
                  "contour": [
                    {
                      "colorbar": {
                        "outlinewidth": 0,
                        "ticks": ""
                      },
                      "colorscale": [
                        [
                          0,
                          "#0d0887"
                        ],
                        [
                          0.1111111111111111,
                          "#46039f"
                        ],
                        [
                          0.2222222222222222,
                          "#7201a8"
                        ],
                        [
                          0.3333333333333333,
                          "#9c179e"
                        ],
                        [
                          0.4444444444444444,
                          "#bd3786"
                        ],
                        [
                          0.5555555555555556,
                          "#d8576b"
                        ],
                        [
                          0.6666666666666666,
                          "#ed7953"
                        ],
                        [
                          0.7777777777777778,
                          "#fb9f3a"
                        ],
                        [
                          0.8888888888888888,
                          "#fdca26"
                        ],
                        [
                          1,
                          "#f0f921"
                        ]
                      ],
                      "type": "contour"
                    }
                  ],
                  "heatmapgl": [
                    {
                      "colorbar": {
                        "outlinewidth": 0,
                        "ticks": ""
                      },
                      "colorscale": [
                        [
                          0,
                          "#0d0887"
                        ],
                        [
                          0.1111111111111111,
                          "#46039f"
                        ],
                        [
                          0.2222222222222222,
                          "#7201a8"
                        ],
                        [
                          0.3333333333333333,
                          "#9c179e"
                        ],
                        [
                          0.4444444444444444,
                          "#bd3786"
                        ],
                        [
                          0.5555555555555556,
                          "#d8576b"
                        ],
                        [
                          0.6666666666666666,
                          "#ed7953"
                        ],
                        [
                          0.7777777777777778,
                          "#fb9f3a"
                        ],
                        [
                          0.8888888888888888,
                          "#fdca26"
                        ],
                        [
                          1,
                          "#f0f921"
                        ]
                      ],
                      "type": "heatmapgl"
                    }
                  ],
                  "heatmap": [
                    {
                      "colorbar": {
                        "outlinewidth": 0,
                        "ticks": ""
                      },
                      "colorscale": [
                        [
                          0,
                          "#0d0887"
                        ],
                        [
                          0.1111111111111111,
                          "#46039f"
                        ],
                        [
                          0.2222222222222222,
                          "#7201a8"
                        ],
                        [
                          0.3333333333333333,
                          "#9c179e"
                        ],
                        [
                          0.4444444444444444,
                          "#bd3786"
                        ],
                        [
                          0.5555555555555556,
                          "#d8576b"
                        ],
                        [
                          0.6666666666666666,
                          "#ed7953"
                        ],
                        [
                          0.7777777777777778,
                          "#fb9f3a"
                        ],
                        [
                          0.8888888888888888,
                          "#fdca26"
                        ],
                        [
                          1,
                          "#f0f921"
                        ]
                      ],
                      "type": "heatmap"
                    }
                  ],
                  "histogram2dcontour": [
                    {
                      "colorbar": {
                        "outlinewidth": 0,
                        "ticks": ""
                      },
                      "colorscale": [
                        [
                          0,
                          "#0d0887"
                        ],
                        [
                          0.1111111111111111,
                          "#46039f"
                        ],
                        [
                          0.2222222222222222,
                          "#7201a8"
                        ],
                        [
                          0.3333333333333333,
                          "#9c179e"
                        ],
                        [
                          0.4444444444444444,
                          "#bd3786"
                        ],
                        [
                          0.5555555555555556,
                          "#d8576b"
                        ],
                        [
                          0.6666666666666666,
                          "#ed7953"
                        ],
                        [
                          0.7777777777777778,
                          "#fb9f3a"
                        ],
                        [
                          0.8888888888888888,
                          "#fdca26"
                        ],
                        [
                          1,
                          "#f0f921"
                        ]
                      ],
                      "type": "histogram2dcontour"
                    }
                  ],
                  "histogram2d": [
                    {
                      "colorbar": {
                        "outlinewidth": 0,
                        "ticks": ""
                      },
                      "colorscale": [
                        [
                          0,
                          "#0d0887"
                        ],
                        [
                          0.1111111111111111,
                          "#46039f"
                        ],
                        [
                          0.2222222222222222,
                          "#7201a8"
                        ],
                        [
                          0.3333333333333333,
                          "#9c179e"
                        ],
                        [
                          0.4444444444444444,
                          "#bd3786"
                        ],
                        [
                          0.5555555555555556,
                          "#d8576b"
                        ],
                        [
                          0.6666666666666666,
                          "#ed7953"
                        ],
                        [
                          0.7777777777777778,
                          "#fb9f3a"
                        ],
                        [
                          0.8888888888888888,
                          "#fdca26"
                        ],
                        [
                          1,
                          "#f0f921"
                        ]
                      ],
                      "type": "histogram2d"
                    }
                  ],
                  "histogram": [
                    {
                      "marker": {
                        "pattern": {
                          "fillmode": "overlay",
                          "size": 10,
                          "solidity": 0.2
                        }
                      },
                      "type": "histogram"
                    }
                  ],
                  "mesh3d": [
                    {
                      "colorbar": {
                        "outlinewidth": 0,
                        "ticks": ""
                      },
                      "type": "mesh3d"
                    }
                  ],
                  "parcoords": [
                    {
                      "line": {
                        "colorbar": {
                          "outlinewidth": 0,
                          "ticks": ""
                        }
                      },
                      "type": "parcoords"
                    }
                  ],
                  "pie": [
                    {
                      "automargin": true,
                      "type": "pie"
                    }
                  ],
                  "scatter3d": [
                    {
                      "line": {
                        "colorbar": {
                          "outlinewidth": 0,
                          "ticks": ""
                        }
                      },
                      "marker": {
                        "colorbar": {
                          "outlinewidth": 0,
                          "ticks": ""
                        }
                      },
                      "type": "scatter3d"
                    }
                  ],
                  "scattercarpet": [
                    {
                      "marker": {
                        "colorbar": {
                          "outlinewidth": 0,
                          "ticks": ""
                        }
                      },
                      "type": "scattercarpet"
                    }
                  ],
                  "scattergeo": [
                    {
                      "marker": {
                        "colorbar": {
                          "outlinewidth": 0,
                          "ticks": ""
                        }
                      },
                      "type": "scattergeo"
                    }
                  ],
                  "scattergl": [
                    {
                      "marker": {
                        "colorbar": {
                          "outlinewidth": 0,
                          "ticks": ""
                        }
                      },
                      "type": "scattergl"
                    }
                  ],
                  "scattermapbox": [
                    {
                      "marker": {
                        "colorbar": {
                          "outlinewidth": 0,
                          "ticks": ""
                        }
                      },
                      "type": "scattermapbox"
                    }
                  ],
                  "scatterpolargl": [
                    {
                      "marker": {
                        "colorbar": {
                          "outlinewidth": 0,
                          "ticks": ""
                        }
                      },
                      "type": "scatterpolargl"
                    }
                  ],
                  "scatterpolar": [
                    {
                      "marker": {
                        "colorbar": {
                          "outlinewidth": 0,
                          "ticks": ""
                        }
                      },
                      "type": "scatterpolar"
                    }
                  ],
                  "scatter": [
                    {
                      "fillpattern": {
                        "fillmode": "overlay",
                        "size": 10,
                        "solidity": 0.2
                      },
                      "type": "scatter"
                    }
                  ],
                  "scatterternary": [
                    {
                      "marker": {
                        "colorbar": {
                          "outlinewidth": 0,
                          "ticks": ""
                        }
                      },
                      "type": "scatterternary"
                    }
                  ],
                  "surface": [
                    {
                      "colorbar": {
                        "outlinewidth": 0,
                        "ticks": ""
                      },
                      "colorscale": [
                        [
                          0,
                          "#0d0887"
                        ],
                        [
                          0.1111111111111111,
                          "#46039f"
                        ],
                        [
                          0.2222222222222222,
                          "#7201a8"
                        ],
                        [
                          0.3333333333333333,
                          "#9c179e"
                        ],
                        [
                          0.4444444444444444,
                          "#bd3786"
                        ],
                        [
                          0.5555555555555556,
                          "#d8576b"
                        ],
                        [
                          0.6666666666666666,
                          "#ed7953"
                        ],
                        [
                          0.7777777777777778,
                          "#fb9f3a"
                        ],
                        [
                          0.8888888888888888,
                          "#fdca26"
                        ],
                        [
                          1,
                          "#f0f921"
                        ]
                      ],
                      "type": "surface"
                    }
                  ],
                  "table": [
                    {
                      "cells": {
                        "fill": {
                          "color": "#EBF0F8"
                        },
                        "line": {
                          "color": "white"
                        }
                      },
                      "header": {
                        "fill": {
                          "color": "#C8D4E3"
                        },
                        "line": {
                          "color": "white"
                        }
                      },
                      "type": "table"
                    }
                  ]
                },
                "layout": {
                  "annotationdefaults": {
                    "arrowcolor": "#2a3f5f",
                    "arrowhead": 0,
                    "arrowwidth": 1
                  },
                  "autotypenumbers": "strict",
                  "coloraxis": {
                    "colorbar": {
                      "outlinewidth": 0,
                      "ticks": ""
                    }
                  },
                  "colorscale": {
                    "diverging": [
                      [
                        0,
                        "#8e0152"
                      ],
                      [
                        0.1,
                        "#c51b7d"
                      ],
                      [
                        0.2,
                        "#de77ae"
                      ],
                      [
                        0.3,
                        "#f1b6da"
                      ],
                      [
                        0.4,
                        "#fde0ef"
                      ],
                      [
                        0.5,
                        "#f7f7f7"
                      ],
                      [
                        0.6,
                        "#e6f5d0"
                      ],
                      [
                        0.7,
                        "#b8e186"
                      ],
                      [
                        0.8,
                        "#7fbc41"
                      ],
                      [
                        0.9,
                        "#4d9221"
                      ],
                      [
                        1,
                        "#276419"
                      ]
                    ],
                    "sequential": [
                      [
                        0,
                        "#0d0887"
                      ],
                      [
                        0.1111111111111111,
                        "#46039f"
                      ],
                      [
                        0.2222222222222222,
                        "#7201a8"
                      ],
                      [
                        0.3333333333333333,
                        "#9c179e"
                      ],
                      [
                        0.4444444444444444,
                        "#bd3786"
                      ],
                      [
                        0.5555555555555556,
                        "#d8576b"
                      ],
                      [
                        0.6666666666666666,
                        "#ed7953"
                      ],
                      [
                        0.7777777777777778,
                        "#fb9f3a"
                      ],
                      [
                        0.8888888888888888,
                        "#fdca26"
                      ],
                      [
                        1,
                        "#f0f921"
                      ]
                    ],
                    "sequentialminus": [
                      [
                        0,
                        "#0d0887"
                      ],
                      [
                        0.1111111111111111,
                        "#46039f"
                      ],
                      [
                        0.2222222222222222,
                        "#7201a8"
                      ],
                      [
                        0.3333333333333333,
                        "#9c179e"
                      ],
                      [
                        0.4444444444444444,
                        "#bd3786"
                      ],
                      [
                        0.5555555555555556,
                        "#d8576b"
                      ],
                      [
                        0.6666666666666666,
                        "#ed7953"
                      ],
                      [
                        0.7777777777777778,
                        "#fb9f3a"
                      ],
                      [
                        0.8888888888888888,
                        "#fdca26"
                      ],
                      [
                        1,
                        "#f0f921"
                      ]
                    ]
                  },
                  "colorway": [
                    "#636efa",
                    "#EF553B",
                    "#00cc96",
                    "#ab63fa",
                    "#FFA15A",
                    "#19d3f3",
                    "#FF6692",
                    "#B6E880",
                    "#FF97FF",
                    "#FECB52"
                  ],
                  "font": {
                    "color": "#2a3f5f"
                  },
                  "geo": {
                    "bgcolor": "white",
                    "lakecolor": "white",
                    "landcolor": "#E5ECF6",
                    "showlakes": true,
                    "showland": true,
                    "subunitcolor": "white"
                  },
                  "hoverlabel": {
                    "align": "left"
                  },
                  "hovermode": "closest",
                  "mapbox": {
                    "style": "light"
                  },
                  "paper_bgcolor": "white",
                  "plot_bgcolor": "#E5ECF6",
                  "polar": {
                    "angularaxis": {
                      "gridcolor": "white",
                      "linecolor": "white",
                      "ticks": ""
                    },
                    "bgcolor": "#E5ECF6",
                    "radialaxis": {
                      "gridcolor": "white",
                      "linecolor": "white",
                      "ticks": ""
                    }
                  },
                  "scene": {
                    "xaxis": {
                      "backgroundcolor": "#E5ECF6",
                      "gridcolor": "white",
                      "gridwidth": 2,
                      "linecolor": "white",
                      "showbackground": true,
                      "ticks": "",
                      "zerolinecolor": "white"
                    },
                    "yaxis": {
                      "backgroundcolor": "#E5ECF6",
                      "gridcolor": "white",
                      "gridwidth": 2,
                      "linecolor": "white",
                      "showbackground": true,
                      "ticks": "",
                      "zerolinecolor": "white"
                    },
                    "zaxis": {
                      "backgroundcolor": "#E5ECF6",
                      "gridcolor": "white",
                      "gridwidth": 2,
                      "linecolor": "white",
                      "showbackground": true,
                      "ticks": "",
                      "zerolinecolor": "white"
                    }
                  },
                  "shapedefaults": {
                    "line": {
                      "color": "#2a3f5f"
                    }
                  },
                  "ternary": {
                    "aaxis": {
                      "gridcolor": "white",
                      "linecolor": "white",
                      "ticks": ""
                    },
                    "baxis": {
                      "gridcolor": "white",
                      "linecolor": "white",
                      "ticks": ""
                    },
                    "bgcolor": "#E5ECF6",
                    "caxis": {
                      "gridcolor": "white",
                      "linecolor": "white",
                      "ticks": ""
                    }
                  },
                  "title": {
                    "x": 0.05
                  },
                  "xaxis": {
                    "automargin": true,
                    "gridcolor": "white",
                    "linecolor": "white",
                    "ticks": "",
                    "title": {
                      "standoff": 15
                    },
                    "zerolinecolor": "white",
                    "zerolinewidth": 2
                  },
                  "yaxis": {
                    "automargin": true,
                    "gridcolor": "white",
                    "linecolor": "white",
                    "ticks": "",
                    "title": {
                      "standoff": 15
                    },
                    "zerolinecolor": "white",
                    "zerolinewidth": 2
                  }
                }
              },
              "title": {
                "text": "Test accuracy",
                "x": 0.5
              },
              "width": 1500,
              "xaxis": {
                "title": {
                  "text": "Epoch"
                }
              },
              "yaxis": {
                "type": "linear"
              }
            },
            "_model_module": "jupyterlab-plotly",
            "_model_module_version": "^5.24.1",
            "_model_name": "FigureModel",
            "_py2js_addTraces": {},
            "_py2js_animate": {},
            "_py2js_deleteTraces": {},
            "_py2js_moveTraces": {},
            "_py2js_relayout": {},
            "_py2js_removeLayoutProps": {},
            "_py2js_removeTraceProps": {},
            "_py2js_restyle": null,
            "_py2js_update": {},
            "_view_count": 1,
            "_view_module": "jupyterlab-plotly",
            "_view_module_version": "^5.24.1",
            "_view_name": "FigureView"
          }
        }
      }
    }
  },
  "nbformat": 4,
  "nbformat_minor": 0
}